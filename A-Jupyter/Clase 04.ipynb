{
 "cells": [
  {
   "cell_type": "markdown",
   "metadata": {},
   "source": [
    "# Clase 04. Python. Variables, y entrada/salida\n",
    "\n",
    "<p>\n",
    "<font size='5' face='Georgia, Arial'>IIC1103-07 Introducción a la Programación</font><br>\n",
    "<font size='2'>Martes 20-Agosto-2019</font><br>\n",
    "<font size='2'>Contactos: Cristian Ruz, cruz@ing.puc.cl; Raúl Álvarez, rsalvarez@uc.cl</font>\n",
    "</p>\n"
   ]
  },
  {
   "cell_type": "markdown",
   "metadata": {},
   "source": [
    "Conocer los tipos de datos de los valores que utilizamos en un programa es importante para saber qué operaciones podemos efectuar con ellos. Cuando queremos conocer el tipo de datos de un valor, podemos utilizar la función `type` de la siguente manera."
   ]
  },
  {
   "cell_type": "code",
   "execution_count": 1,
   "metadata": {},
   "outputs": [
    {
     "data": {
      "text/plain": [
       "float"
      ]
     },
     "execution_count": 1,
     "metadata": {},
     "output_type": "execute_result"
    }
   ],
   "source": [
    "type(8.0)                    # Este es un float porque tiene un punto"
   ]
  },
  {
   "cell_type": "code",
   "execution_count": 2,
   "metadata": {},
   "outputs": [
    {
     "data": {
      "text/plain": [
       "int"
      ]
     },
     "execution_count": 2,
     "metadata": {},
     "output_type": "execute_result"
    }
   ],
   "source": [
    "type(8)                      # Este es un entero. Sólo tiene dígitos."
   ]
  },
  {
   "cell_type": "code",
   "execution_count": 3,
   "metadata": {},
   "outputs": [
    {
     "data": {
      "text/plain": [
       "float"
      ]
     },
     "execution_count": 3,
     "metadata": {},
     "output_type": "execute_result"
    }
   ],
   "source": [
    "type(15e6)                   # Este es un float, escrito con notación científica. Significa 15 x 10^6"
   ]
  },
  {
   "cell_type": "code",
   "execution_count": 4,
   "metadata": {
    "scrolled": true
   },
   "outputs": [
    {
     "data": {
      "text/plain": [
       "str"
      ]
     },
     "execution_count": 4,
     "metadata": {},
     "output_type": "execute_result"
    }
   ],
   "source": [
    "type(\"8\")                    # Este es un str. Está entre comillas. Todo lo que hay entre comillas es un string."
   ]
  },
  {
   "cell_type": "markdown",
   "metadata": {},
   "source": [
    "## Variables\n",
    "\n",
    "Cuando escribimos algoritmos que manipulan valores, sean ellos texto o números, seguramente tendremos que reutilizar esos valores muchas veces. Los lenguajes de programación utilizan el concepto de **variable** para **recordar valores**, y para luego **recuperar esos valores**. \n",
    "\n",
    "Una **variable** es un _nombre simbólico_ que se le pone a un valor para recordarlo y poder utilizarlo a futuro. Los valores se almacenan en la **memoria** de un programa, y pueden ser recuperados usando el _nombre de variable_ que les fue _asignado_.\n",
    "\n",
    "Para poder **asignar** un nombre de variable a un valor utilizamos el **operador de asignación** `=`. La _sintaxis_ del operador de asignación es `nombre_de_variable = expresión`, donde una `expresión` puede incluir valores, operaciones y otras variables que deben haber sido previamente asignadas."
   ]
  },
  {
   "cell_type": "code",
   "execution_count": 5,
   "metadata": {},
   "outputs": [
    {
     "name": "stdout",
     "output_type": "stream",
     "text": [
      "4\n"
     ]
    }
   ],
   "source": [
    "# En este ejemplo, a la variable 'res' se le ASIGNA inicialmente el valor 5.\n",
    "# En la segunda línea, se RECUPERA el valor de 'res' (5), se multiplica por 2, y el valor 10 se ASIGNA de nuevo a 'res'\n",
    "# En la tercera línea, se RECUPERA el valor de 'res' (10), se eleva a 2, y el resultado 100 se ASIGNA de nuevo a 'res'\n",
    "# En la cuarta línea, se RECUPERA el valor de 'res' (100), se le aplica la operación módulo 6\n",
    "#    (resto de la división por 6), y ese resultado (4) se ASIGNA de nuevo a 'res'\n",
    "# La última línea solo muestra en pantalla el valor final de la variable 'res'.\n",
    "\n",
    "res = 5\n",
    "res = res*2\n",
    "res = res**2\n",
    "res = res%6\n",
    "print(res)"
   ]
  },
  {
   "cell_type": "markdown",
   "metadata": {},
   "source": [
    "Debemos tener **cuidado con confundir los operadores `=` con `==`**. Son operadores **distintos**. \n",
    "\n",
    "El operador `=` se usa para **asignación**, y su sintaxis requiere que haya una variable a la izquierda, y una expresión con un valor a la derecha. Como resultado de una asignación, el valor de la derecha que **asignado** a la variable del lado izquierda.\n",
    "\n",
    "El operador `==`, en cambio, es una **comparación de igualdad**, cuya sintaxis requiere que haya un valor tanto al lado izquierdo como al lado derecho, y que ambos valores sean _comparables_ entre sí. Como resultado de una comparación se obtiene un valor de tipo `bool` que indica si la igualdad es verdadero (`True`) ó falsa (`False`)."
   ]
  },
  {
   "cell_type": "code",
   "execution_count": 6,
   "metadata": {},
   "outputs": [
    {
     "data": {
      "text/plain": [
       "False"
      ]
     },
     "execution_count": 6,
     "metadata": {},
     "output_type": "execute_result"
    }
   ],
   "source": [
    "15 == 8                  # Esto NO es una asignación. Es una operación de COMPARACIÓN cuyo valor es False."
   ]
  },
  {
   "cell_type": "code",
   "execution_count": 7,
   "metadata": {},
   "outputs": [
    {
     "ename": "SyntaxError",
     "evalue": "can't assign to literal (<ipython-input-7-bd154c5263bf>, line 1)",
     "output_type": "error",
     "traceback": [
      "\u001b[0;36m  File \u001b[0;32m\"<ipython-input-7-bd154c5263bf>\"\u001b[0;36m, line \u001b[0;32m1\u001b[0m\n\u001b[0;31m    15 = 8              # Ésta es una operación de asignación mal escrita. No cumple con la sintaxis, porque '15' no puede\u001b[0m\n\u001b[0m                                                                                                                          ^\u001b[0m\n\u001b[0;31mSyntaxError\u001b[0m\u001b[0;31m:\u001b[0m can't assign to literal\n"
     ]
    }
   ],
   "source": [
    "15 = 8              # Ésta es una operación de asignación mal escrita. No cumple con la sintaxis, porque '15' no puede\n",
    "                    # ser un nombre de variable"
   ]
  },
  {
   "cell_type": "code",
   "execution_count": null,
   "metadata": {},
   "outputs": [],
   "source": [
    "quince = 8        # 'quince' sí puede ser un nombre de variable (aunque es mala idea usar ese nombre)\n",
    "quince"
   ]
  },
  {
   "cell_type": "code",
   "execution_count": null,
   "metadata": {},
   "outputs": [],
   "source": [
    "True == False     # Ésta es una comparación, cuyo resultado es False, porque el valor True no es igual a False"
   ]
  },
  {
   "cell_type": "code",
   "execution_count": null,
   "metadata": {},
   "outputs": [],
   "source": [
    "True = False      # Ésta es una operación de asignación errónea. No cumple con la sintaxis.\n",
    "                  # Lo que hay al lado izquierdo es un valor y no un nombre"
   ]
  },
  {
   "cell_type": "markdown",
   "metadata": {},
   "source": [
    "### Nombres de variables\n",
    "\n",
    "Es posible asignar _casi_ cualquier nombre a una variable. Cada lenguaje tiene sus propias reglas para los nombres de las variables. En el caso de Python, la regla es: *una variable puede empezar con el carácter underscore (guión bajo) `_` o con una letra mayúscula o minúscula; a continuación puede haber cualquier cantidad de letras mayúsculas o minúsculas, dígitos o el caracter `_`*.\n",
    "\n",
    "Esto permite que los siguientes nombres de variable sean válidos: `cristian`, `pesos_por_hora`, `CLaRK`, `j0rg3`. Pero no éstos: `12deLaNoche`, `Bruce Wayne`, `Min+Seg`\n",
    "\n",
    "Adicionalmente ninguno de los siguientes 35 nombres puede ser usado como nombre de variable: `and`, `as`, `assert`, `async`, `await`, `break`, `class`, `continue`, `def`, `del`, `elif`, `else`, `except`, `False`, `finally`, `for`, `from`, `global`, `if`, `import`, `in`, `is`, `lambda`, `None`, `nonlocal`, `not`, `or`, `pass`, `raise`, `return`, `True`, `try`, `while`, `with`, `yield`."
   ]
  },
  {
   "cell_type": "code",
   "execution_count": null,
   "metadata": {},
   "outputs": [],
   "source": [
    "true = False      # Esta sí es una asignación. Lo de la izquierda es nombre de variable que se llama 'true'.\n",
    "                  # Funciona. Es correcto. Pero es una mala idea porque se presta para confusión.\n",
    "print(true)"
   ]
  },
  {
   "cell_type": "code",
   "execution_count": null,
   "metadata": {},
   "outputs": [],
   "source": [
    "_ = 13            # '_' también es un nombre de variable. En general queremos nombres que tengan un significado,\n",
    "                  # y que nos ayuden entender qué valor estamos almacenando ahí."
   ]
  },
  {
   "cell_type": "code",
   "execution_count": null,
   "metadata": {},
   "outputs": [],
   "source": [
    "+ = 13            # Ésta es una operación de asignación errónea. '+' no puede ser un nombre de variable."
   ]
  },
  {
   "cell_type": "markdown",
   "metadata": {},
   "source": [
    "### Variables y tipos\n",
    "\n",
    "Las variables no tienen tipos de datos asociados. Sin embargo, sí tienen un valor asociado, los cuales sí tienen un tipo. La función `type` nos permite obtener el tipo de dato del valor asociado a una variable.\n",
    "\n",
    "El operador de asignación nos permite cambiar el valor que está asignado a la variable. Por lo tanto, dependiendo del valor asignado, el tipo de `type` podría cambiar."
   ]
  },
  {
   "cell_type": "code",
   "execution_count": null,
   "metadata": {},
   "outputs": [],
   "source": [
    "x = 3\n",
    "type(x)"
   ]
  },
  {
   "cell_type": "code",
   "execution_count": null,
   "metadata": {},
   "outputs": [],
   "source": [
    "x = 3.0\n",
    "type(x)"
   ]
  },
  {
   "cell_type": "code",
   "execution_count": null,
   "metadata": {},
   "outputs": [],
   "source": [
    "x = \"3.0\"\n",
    "type(x)"
   ]
  },
  {
   "cell_type": "code",
   "execution_count": null,
   "metadata": {},
   "outputs": [],
   "source": [
    "x = True\n",
    "type(x)"
   ]
  },
  {
   "cell_type": "markdown",
   "metadata": {},
   "source": [
    "El tipo del valor es importante porque determinar qué operación se efectuará. Por ejemplo, la operación `*` tiene un comportamiento si se efectúa entre dos números, o si efectúa entre un `str` y un `int`."
   ]
  },
  {
   "cell_type": "code",
   "execution_count": null,
   "metadata": {},
   "outputs": [],
   "source": [
    "x = 4\n",
    "x*3               # Esta es una operación de multiplicación entre un entero '4' y un entero '3'"
   ]
  },
  {
   "cell_type": "code",
   "execution_count": null,
   "metadata": {},
   "outputs": [],
   "source": [
    "x = \"3.0\"\n",
    "x*3               # Esta es una operación de repetición de string entre un 'str' \"3.0\" y un entero '3'\n",
    "                  # El string '3.0' se repite 3 veces"
   ]
  },
  {
   "cell_type": "code",
   "execution_count": 8,
   "metadata": {},
   "outputs": [
    {
     "data": {
      "text/plain": [
       "9.0"
      ]
     },
     "execution_count": 8,
     "metadata": {},
     "output_type": "execute_result"
    }
   ],
   "source": [
    "x = 3.0           # Si volvemos a asignar un 'float', vuelve a ser una operación numérica de multiplicación\n",
    "x*3"
   ]
  },
  {
   "cell_type": "markdown",
   "metadata": {},
   "source": [
    "Podemos _convertir_ un valor de un tipo a otro. Esto es posible con algunas restricciones en cada caso."
   ]
  },
  {
   "cell_type": "code",
   "execution_count": 9,
   "metadata": {},
   "outputs": [
    {
     "data": {
      "text/plain": [
       "3.0"
      ]
     },
     "execution_count": 9,
     "metadata": {},
     "output_type": "execute_result"
    }
   ],
   "source": [
    "x = 3\n",
    "x = float(x)      # x guardaba un 'int', pero ahora guarda una versión 'float' del mismo valor\n",
    "x"
   ]
  },
  {
   "cell_type": "code",
   "execution_count": 10,
   "metadata": {},
   "outputs": [
    {
     "data": {
      "text/plain": [
       "'3'"
      ]
     },
     "execution_count": 10,
     "metadata": {},
     "output_type": "execute_result"
    }
   ],
   "source": [
    "x = 3\n",
    "x = str(x)        # x guardaba un 'int', pero ahora guarda una versión 'str' del mismo valor\n",
    "x"
   ]
  },
  {
   "cell_type": "code",
   "execution_count": 11,
   "metadata": {},
   "outputs": [
    {
     "data": {
      "text/plain": [
       "True"
      ]
     },
     "execution_count": 11,
     "metadata": {},
     "output_type": "execute_result"
    }
   ],
   "source": [
    "x = 3\n",
    "x = bool(x)       # x guardaba un 'int', pero ahora guarda una versión 'bool'.\n",
    "x                 # Cualquier valor distinto a '0' se convierte a 'True'"
   ]
  },
  {
   "cell_type": "code",
   "execution_count": 12,
   "metadata": {},
   "outputs": [
    {
     "data": {
      "text/plain": [
       "False"
      ]
     },
     "execution_count": 12,
     "metadata": {},
     "output_type": "execute_result"
    }
   ],
   "source": [
    "x = 0\n",
    "x = bool(x)       # x guardaba un 'int', pero ahora guarda una versión 'bool'.\n",
    "x                 # Cualquier valor distinto a '0' se convierte a 'True'"
   ]
  },
  {
   "cell_type": "code",
   "execution_count": 13,
   "metadata": {},
   "outputs": [
    {
     "data": {
      "text/plain": [
       "3.0"
      ]
     },
     "execution_count": 13,
     "metadata": {},
     "output_type": "execute_result"
    }
   ],
   "source": [
    "x = \"3.0\"\n",
    "x = float(x)      # También podemos tomar un 'str' y convertirlo a 'float' o a 'int'\n",
    "x"
   ]
  },
  {
   "cell_type": "code",
   "execution_count": 14,
   "metadata": {},
   "outputs": [
    {
     "ename": "ValueError",
     "evalue": "invalid literal for int() with base 10: '3.5'",
     "output_type": "error",
     "traceback": [
      "\u001b[0;31m---------------------------------------------------------------------------\u001b[0m",
      "\u001b[0;31mValueError\u001b[0m                                Traceback (most recent call last)",
      "\u001b[0;32m<ipython-input-14-779355900901>\u001b[0m in \u001b[0;36m<module>\u001b[0;34m\u001b[0m\n\u001b[1;32m      1\u001b[0m \u001b[0mx\u001b[0m \u001b[0;34m=\u001b[0m \u001b[0;34m\"3.5\"\u001b[0m\u001b[0;34m\u001b[0m\u001b[0;34m\u001b[0m\u001b[0m\n\u001b[0;32m----> 2\u001b[0;31m \u001b[0mx\u001b[0m \u001b[0;34m=\u001b[0m \u001b[0mint\u001b[0m\u001b[0;34m(\u001b[0m\u001b[0mx\u001b[0m\u001b[0;34m)\u001b[0m        \u001b[0;31m# Si tratamos de convertir a 'int', el formato del texto debe ser el de un 'int'\u001b[0m\u001b[0;34m\u001b[0m\u001b[0;34m\u001b[0m\u001b[0m\n\u001b[0m\u001b[1;32m      3\u001b[0m \u001b[0mx\u001b[0m\u001b[0;34m\u001b[0m\u001b[0;34m\u001b[0m\u001b[0m\n",
      "\u001b[0;31mValueError\u001b[0m: invalid literal for int() with base 10: '3.5'"
     ]
    }
   ],
   "source": [
    "x = \"3.5\"\n",
    "x = int(x)        # Si tratamos de convertir a 'int', el formato del texto debe ser el de un 'int'\n",
    "x"
   ]
  },
  {
   "cell_type": "code",
   "execution_count": 15,
   "metadata": {},
   "outputs": [
    {
     "ename": "ValueError",
     "evalue": "invalid literal for int() with base 10: '3a5'",
     "output_type": "error",
     "traceback": [
      "\u001b[0;31m---------------------------------------------------------------------------\u001b[0m",
      "\u001b[0;31mValueError\u001b[0m                                Traceback (most recent call last)",
      "\u001b[0;32m<ipython-input-15-dc50e519ec90>\u001b[0m in \u001b[0;36m<module>\u001b[0;34m\u001b[0m\n\u001b[1;32m      1\u001b[0m \u001b[0mx\u001b[0m \u001b[0;34m=\u001b[0m \u001b[0;34m\"3a5\"\u001b[0m\u001b[0;34m\u001b[0m\u001b[0;34m\u001b[0m\u001b[0m\n\u001b[0;32m----> 2\u001b[0;31m \u001b[0mx\u001b[0m \u001b[0;34m=\u001b[0m \u001b[0mint\u001b[0m\u001b[0;34m(\u001b[0m\u001b[0mx\u001b[0m\u001b[0;34m)\u001b[0m        \u001b[0;31m# Si tratamos de convertir a 'int', el formato del texto debe ser el de un 'int'\u001b[0m\u001b[0;34m\u001b[0m\u001b[0;34m\u001b[0m\u001b[0m\n\u001b[0m\u001b[1;32m      3\u001b[0m \u001b[0mx\u001b[0m\u001b[0;34m\u001b[0m\u001b[0;34m\u001b[0m\u001b[0m\n",
      "\u001b[0;31mValueError\u001b[0m: invalid literal for int() with base 10: '3a5'"
     ]
    }
   ],
   "source": [
    "x = \"3a5\"\n",
    "x = int(x)        # Si tratamos de convertir a 'int', el formato del texto debe ser el de un 'int'\n",
    "x"
   ]
  },
  {
   "cell_type": "code",
   "execution_count": 16,
   "metadata": {},
   "outputs": [
    {
     "data": {
      "text/plain": [
       "35"
      ]
     },
     "execution_count": 16,
     "metadata": {},
     "output_type": "execute_result"
    }
   ],
   "source": [
    "x = \"35\"\n",
    "x = int(x)       # Si tratamos de convertir a 'int', el formato del texto debe ser el de un 'int'\n",
    "x"
   ]
  },
  {
   "cell_type": "markdown",
   "metadata": {},
   "source": [
    "#### Ejercicio 1\n",
    "\n",
    "Escriba un código que evalúe el polinomio $x^4 + \\frac{1}{2}x^3 + 2x^2 - x$ para cualquier valor de $x$."
   ]
  },
  {
   "cell_type": "code",
   "execution_count": 17,
   "metadata": {},
   "outputs": [
    {
     "data": {
      "text/plain": [
       "732.5"
      ]
     },
     "execution_count": 17,
     "metadata": {},
     "output_type": "execute_result"
    }
   ],
   "source": [
    "x = 5                                       # Esto funciona para cualquier valor numérico de 'x' que escribamos aquí.\n",
    "resultado = x**4 + 1/2*x**3 + 2*x**2 - x    # Traducción del polinomio a una expresión en Python\n",
    "resultado"
   ]
  },
  {
   "cell_type": "markdown",
   "metadata": {},
   "source": [
    "#### Ejercicio 2\n",
    "\n",
    "Escriba un código que obtenga la unidad (el último dígito) de una variable entera $x$."
   ]
  },
  {
   "cell_type": "code",
   "execution_count": 18,
   "metadata": {},
   "outputs": [
    {
     "data": {
      "text/plain": [
       "6"
      ]
     },
     "execution_count": 18,
     "metadata": {},
     "output_type": "execute_result"
    }
   ],
   "source": [
    "x = 541289312386            # Esto funciona para cualquier valor 'int' de 'x' que escribamos aquí\n",
    "unidad = x % 10             # La operación %10 permite obtener el resto de la división por 10\n",
    "unidad"
   ]
  },
  {
   "cell_type": "markdown",
   "metadata": {},
   "source": [
    "#### Ejercicio 3\n",
    "\n",
    "Escriba un código que obtenga la decena (el penúltimo dígito) de una variable entera $x$."
   ]
  },
  {
   "cell_type": "code",
   "execution_count": 19,
   "metadata": {},
   "outputs": [
    {
     "data": {
      "text/plain": [
       "8"
      ]
     },
     "execution_count": 19,
     "metadata": {},
     "output_type": "execute_result"
    }
   ],
   "source": [
    "x = 541289312386            # Esto funciona para cualquier valor 'int' de 'x' que escribamos aquí\n",
    "decena = x // 10            # Esta división entero por 10, elimina el último dígito de x\n",
    "decena = decena % 10        # La operación %10 permite obtener el último dígito de la variable 'decena'\n",
    "decena"
   ]
  },
  {
   "cell_type": "code",
   "execution_count": 20,
   "metadata": {},
   "outputs": [
    {
     "data": {
      "text/plain": [
       "8"
      ]
     },
     "execution_count": 20,
     "metadata": {},
     "output_type": "execute_result"
    }
   ],
   "source": [
    "x = 541289312386            # Esto funciona para cualquier valor 'int' de 'x' que escribamos aquí\n",
    "decena = (x // 10) % 10     # Es el mismo algoritmo del ejemplo anterior, pero en menos líneas\n",
    "decena"
   ]
  },
  {
   "cell_type": "markdown",
   "metadata": {},
   "source": [
    "Podemos usar la misma idea si quisiéramos obtener las centenas"
   ]
  },
  {
   "cell_type": "code",
   "execution_count": 21,
   "metadata": {},
   "outputs": [
    {
     "data": {
      "text/plain": [
       "3"
      ]
     },
     "execution_count": 21,
     "metadata": {},
     "output_type": "execute_result"
    }
   ],
   "source": [
    "x = 541289312386            # Esto funciona para cualquier valor 'int' de 'x' que escribamos aquí\n",
    "centena = (x // 100) % 10   # La división entera por 100 elimina los últimos dos dígitos,\n",
    "centena                     # y después obtenemos el último dígito de lo que queda."
   ]
  },
  {
   "cell_type": "markdown",
   "metadata": {},
   "source": [
    "## Entrada y salida (*input*/*output*)\n",
    "\n",
    "En todos los ejemplos que hemos ejecutado en este `jupyter-notebook`, el \"resultado\" de la celda es el valor de la expresión que está en la última línea. Sin embargo, si queremos escribir dos valores, por ejemplo el de `x` y el de `centena`, podemos escoger sólo una."
   ]
  },
  {
   "cell_type": "code",
   "execution_count": 22,
   "metadata": {},
   "outputs": [
    {
     "data": {
      "text/plain": [
       "3"
      ]
     },
     "execution_count": 22,
     "metadata": {},
     "output_type": "execute_result"
    }
   ],
   "source": [
    "x = 541289312386            # Esto funciona para cualquier valor 'int' de 'x' que escribamos aquí\n",
    "centena = (x // 100) % 10\n",
    "x                           # Queremos saber cuánto vale 'x', pero, si lo escribimos antes de 'centena', no saldrá\n",
    "centena"
   ]
  },
  {
   "cell_type": "markdown",
   "metadata": {},
   "source": [
    "### Salida de datos: `print()`\n",
    "\n",
    "Para escribir (imprimir) de manera apropiada en la pantalla, Python provee la instrucción (función) `print()`. Esta instrucción puede recibir 0 o más parámetros. Su sintaxis es:\n",
    "```\n",
    "print(expresion1, expresion2, expresion3, ...)\n",
    "```\n",
    "donde cada _expresión_ es algo de lo cual se puede obtener un valor. Puede ser una variable, una operación con valores y variables, o un único valor."
   ]
  },
  {
   "cell_type": "code",
   "execution_count": 23,
   "metadata": {},
   "outputs": [
    {
     "name": "stdout",
     "output_type": "stream",
     "text": [
      "541289312386\n",
      "3\n"
     ]
    }
   ],
   "source": [
    "x = 541289312386            # Esto funciona para cualquier valor 'int' de 'x' que escribamos aquí\n",
    "centena = (x // 100) % 10\n",
    "print(x)                    # Aquí imprime el valor de 'x'\n",
    "print(centena)              # Aquí imprime el valor de 'centena'"
   ]
  },
  {
   "cell_type": "markdown",
   "metadata": {},
   "source": [
    "La instrucción `print()` agrega un espacio entre cada expresión separada por `,`."
   ]
  },
  {
   "cell_type": "code",
   "execution_count": 24,
   "metadata": {},
   "outputs": [
    {
     "name": "stdout",
     "output_type": "stream",
     "text": [
      "Local 1 - 1 Visita\n",
      "Local\n",
      "Local cobreloa\n",
      "Local 1\n",
      "Local 7 - 0 Visita\n"
     ]
    }
   ],
   "source": [
    "# Calculamos algunos valores\n",
    "cobreloa = 0\n",
    "antofagasta = 0\n",
    "cobreloa = cobreloa + 1\n",
    "antofagasta = antofagasta + 1\n",
    "\n",
    "print(\"Local\", cobreloa, \"-\", antofagasta, \"Visita\")    # Un espacio entre cada expresión\n",
    "print(\"Local\")                                          # Imprime un string\n",
    "print(\"Local\",\"cobreloa\")                               # Imprime dos string, separados por un espacio\n",
    "print(\"Local\",cobreloa)                                 # Imprime un string, y el valor de la variable 'cobreloa'\n",
    "print(\"Local\",cobreloa+6,\"-\", antofagasta-1, \"Visita\")  # Imprime tres string, y dos expresiones"
   ]
  },
  {
   "cell_type": "markdown",
   "metadata": {},
   "source": [
    "También podemos crear un `str` mediante concatenación, y luego imprimir ese _string_."
   ]
  },
  {
   "cell_type": "code",
   "execution_count": 25,
   "metadata": {},
   "outputs": [
    {
     "name": "stdout",
     "output_type": "stream",
     "text": [
      "<class 'str'>\n",
      "<class 'int'>\n"
     ]
    },
    {
     "ename": "TypeError",
     "evalue": "can only concatenate str (not \"int\") to str",
     "output_type": "error",
     "traceback": [
      "\u001b[0;31m---------------------------------------------------------------------------\u001b[0m",
      "\u001b[0;31mTypeError\u001b[0m                                 Traceback (most recent call last)",
      "\u001b[0;32m<ipython-input-25-4e84269fbacc>\u001b[0m in \u001b[0;36m<module>\u001b[0;34m\u001b[0m\n\u001b[1;32m      5\u001b[0m \u001b[0mprint\u001b[0m\u001b[0;34m(\u001b[0m\u001b[0mtype\u001b[0m\u001b[0;34m(\u001b[0m\u001b[0;34m\"Local\"\u001b[0m\u001b[0;34m)\u001b[0m\u001b[0;34m)\u001b[0m\u001b[0;34m\u001b[0m\u001b[0;34m\u001b[0m\u001b[0m\n\u001b[1;32m      6\u001b[0m \u001b[0mprint\u001b[0m\u001b[0;34m(\u001b[0m\u001b[0mtype\u001b[0m\u001b[0;34m(\u001b[0m\u001b[0mcobreloa\u001b[0m\u001b[0;34m)\u001b[0m\u001b[0;34m)\u001b[0m\u001b[0;34m\u001b[0m\u001b[0;34m\u001b[0m\u001b[0m\n\u001b[0;32m----> 7\u001b[0;31m \u001b[0mstring_a_imprimir\u001b[0m \u001b[0;34m=\u001b[0m \u001b[0;34m\"Local\"\u001b[0m \u001b[0;34m+\u001b[0m \u001b[0mcobreloa\u001b[0m                     \u001b[0;31m# Esto provoca un error. Se explica a continuación.\u001b[0m\u001b[0;34m\u001b[0m\u001b[0;34m\u001b[0m\u001b[0m\n\u001b[0m",
      "\u001b[0;31mTypeError\u001b[0m: can only concatenate str (not \"int\") to str"
     ]
    }
   ],
   "source": [
    "cobreloa = 0\n",
    "arica = 0\n",
    "cobreloa += 1\n",
    "arica += 1\n",
    "print(type(\"Local\"))\n",
    "print(type(cobreloa))\n",
    "string_a_imprimir = \"Local\" + cobreloa                     # Esto provoca un error. Se explica a continuación."
   ]
  },
  {
   "cell_type": "markdown",
   "metadata": {},
   "source": [
    "Sin embargo no podemos concatenar directamente el `str` `\"Local\"` y el `int` `cobreloa`. Python nos indica que hay un error de tipos (`TypeError`), pues no sabe como hacer la concatenación entre un `str` y un `int`.\n",
    "\n",
    "¿Qué solución puede haber? Sabemos que podemos convertir un tipo de datos a otro. En particular, podemos convertir de un `int` a un `str`. Si aplicamos la conversión al `int` `cobreloa`, podemos tener un concatenación entre dos `str`."
   ]
  },
  {
   "cell_type": "code",
   "execution_count": 26,
   "metadata": {},
   "outputs": [
    {
     "name": "stdout",
     "output_type": "stream",
     "text": [
      "<class 'str'>\n",
      "<class 'int'>\n",
      "Local 1\n",
      "Local 1-1 Visita\n"
     ]
    }
   ],
   "source": [
    "cobreloa = 0\n",
    "arica = 0\n",
    "cobreloa += 1\n",
    "arica += 1\n",
    "print(type(\"Local\"))                            # \"Local\" es un `str`\n",
    "print(type(cobreloa))                           # 'cobreloa' es un 'int'\n",
    "a_imprimir = \"Local \" + str(cobreloa)           # pero podemos concatenar \"Local\" con la versión `str` de 'cobreloa'\n",
    "print(a_imprimir)                               # ahora funciona bien\n",
    "print(\"Local \" + str(cobreloa) + \"-\" + str(arica) + \" Visita\")    # también podemos escribir todo dentro de 'print'"
   ]
  },
  {
   "cell_type": "markdown",
   "metadata": {},
   "source": [
    "### Entrada de datos: `input()`\n",
    "\n",
    "En el ejericio del polinomio, de ls unidades, y de las decenas. El valor de `x` está escrito directamente en el programa. Si queremos cambiarlo, tenemos que editar el código del programa, lo que es bastante engorroso.\n",
    "\n",
    "La instrucción (función) `input()` permite solicitar al usuario que **ingrese** valores. A estos valores les llamamos **datos de entrada**.\n",
    "\n",
    "Dentro de `input()` podemos especificar un texto para indicar al usuario que nuestro programa está _esperando_ que ingrese algo (de lo contrario, el usuario podría no saber que el programa está esperando un dato)."
   ]
  },
  {
   "cell_type": "code",
   "execution_count": 27,
   "metadata": {},
   "outputs": [
    {
     "name": "stdout",
     "output_type": "stream",
     "text": [
      "Ingrese un texto: lo que sea\n"
     ]
    },
    {
     "data": {
      "text/plain": [
       "'lo que sea'"
      ]
     },
     "execution_count": 27,
     "metadata": {},
     "output_type": "execute_result"
    }
   ],
   "source": [
    "input(\"Ingrese un texto: \")"
   ]
  },
  {
   "cell_type": "markdown",
   "metadata": {},
   "source": [
    "Normalmente vamos a querer **recordar** el dato que acabamos de pedir. En ese caso lo guardamos en una variable."
   ]
  },
  {
   "cell_type": "code",
   "execution_count": 28,
   "metadata": {},
   "outputs": [
    {
     "name": "stdout",
     "output_type": "stream",
     "text": [
      "Ingrese un texto: alguien se está yendo...\n",
      "Lo que ingresaste fue ...  alguien se está yendo...\n"
     ]
    }
   ],
   "source": [
    "texto = input(\"Ingrese un texto: \")           # Guardmos el dato en la variable 'texto'\n",
    "print(\"Lo que ingresaste fue ... \",texto)     # y después lo podemos imprimir"
   ]
  },
  {
   "cell_type": "code",
   "execution_count": 29,
   "metadata": {},
   "outputs": [
    {
     "name": "stdout",
     "output_type": "stream",
     "text": [
      "¿Qué nota te sacaste en la I1? 6.8\n",
      "Buena... te felicito por tu  6.8\n"
     ]
    }
   ],
   "source": [
    "nota = input(\"¿Qué nota te sacaste en la I1? \")    # Guardamos el dato en la variable 'nota'\n",
    "print(\"Buena... te felicito por tu \", nota)        # y después lo podemos imprimir"
   ]
  },
  {
   "cell_type": "code",
   "execution_count": 30,
   "metadata": {},
   "outputs": [
    {
     "name": "stdout",
     "output_type": "stream",
     "text": [
      "¿Qué nota te sacaste en la I1? 4.5\n"
     ]
    },
    {
     "ename": "TypeError",
     "evalue": "unsupported operand type(s) for -: 'float' and 'str'",
     "output_type": "error",
     "traceback": [
      "\u001b[0;31m---------------------------------------------------------------------------\u001b[0m",
      "\u001b[0;31mTypeError\u001b[0m                                 Traceback (most recent call last)",
      "\u001b[0;32m<ipython-input-30-5343e2de7118>\u001b[0m in \u001b[0;36m<module>\u001b[0;34m\u001b[0m\n\u001b[1;32m      1\u001b[0m \u001b[0mnota\u001b[0m \u001b[0;34m=\u001b[0m \u001b[0minput\u001b[0m\u001b[0;34m(\u001b[0m\u001b[0;34m\"¿Qué nota te sacaste en la I1? \"\u001b[0m\u001b[0;34m)\u001b[0m       \u001b[0;31m# Guardamos el dato en la variable 'nota'\u001b[0m\u001b[0;34m\u001b[0m\u001b[0;34m\u001b[0m\u001b[0m\n\u001b[0;32m----> 2\u001b[0;31m \u001b[0mprint\u001b[0m\u001b[0;34m(\u001b[0m\u001b[0;34m\"Te faltó\"\u001b[0m\u001b[0;34m,\u001b[0m \u001b[0;36m7.0\u001b[0m \u001b[0;34m-\u001b[0m \u001b[0mnota\u001b[0m\u001b[0;34m,\u001b[0m \u001b[0;34m\"para sacarte un 7.0\"\u001b[0m\u001b[0;34m)\u001b[0m  \u001b[0;31m# pero si queremos calcular algo con él, encontramos un error\u001b[0m\u001b[0;34m\u001b[0m\u001b[0;34m\u001b[0m\u001b[0m\n\u001b[0m",
      "\u001b[0;31mTypeError\u001b[0m: unsupported operand type(s) for -: 'float' and 'str'"
     ]
    }
   ],
   "source": [
    "nota = input(\"¿Qué nota te sacaste en la I1? \")       # Guardamos el dato en la variable 'nota'\n",
    "print(\"Te faltó\", 7.0 - nota, \"para sacarte un 7.0\")  # pero si queremos calcular algo con él, encontramos un error"
   ]
  },
  {
   "cell_type": "markdown",
   "metadata": {},
   "source": [
    "¿Qué pasó? Otra vez hay un `TypeError` que indica que no se puede hacer una resta (`-`) entre un `float` y un `str`. Lo que pasa es que `input` **siempre** entrega como resultado un `str`. Por lo tanto el valor que acabamos de ingresar, si bien tiene forma de `float`, **NO** es un `float`.\n",
    "\n",
    "Dos soluciones: una es convertirlo al momento de calcular la expresión."
   ]
  },
  {
   "cell_type": "code",
   "execution_count": 34,
   "metadata": {},
   "outputs": [
    {
     "name": "stdout",
     "output_type": "stream",
     "text": [
      "¿Qué nota te sacaste en la I1? 5.4\n",
      "Te faltó 1.5999999999999996 para sacarte un 7.0\n",
      "<class 'str'>\n"
     ]
    }
   ],
   "source": [
    "nota = input(\"¿Qué nota te sacaste en la I1? \")\n",
    "print(\"Te faltó\", 7.0 - float(nota), \"para sacarte un 7.0\")   # Convertimos el str 'nota' a float\n",
    "print(type(nota))"
   ]
  },
  {
   "cell_type": "markdown",
   "metadata": {},
   "source": [
    "O bien, una vez que el usuario lo ingrese, lo convertimos a 'float'."
   ]
  },
  {
   "cell_type": "code",
   "execution_count": 36,
   "metadata": {},
   "outputs": [
    {
     "name": "stdout",
     "output_type": "stream",
     "text": [
      "¿Qué nota te sacaste en la I1? 5.0\n",
      "Te faltó 2.0 para sacarte un 7.0\n",
      "<class 'float'>\n"
     ]
    }
   ],
   "source": [
    "nota = float(input(\"¿Qué nota te sacaste en la I1? \"))    # input entrega un 'str', pero lo guardamos como 'float'\n",
    "print(\"Te faltó\", 7.0 - nota, \"para sacarte un 7.0\")      # ahora ejecutamos una resta entre 'float'\n",
    "print(type(nota))"
   ]
  }
 ],
 "metadata": {
  "kernelspec": {
   "display_name": "Python 3",
   "language": "python",
   "name": "python3"
  },
  "language_info": {
   "codemirror_mode": {
    "name": "ipython",
    "version": 3
   },
   "file_extension": ".py",
   "mimetype": "text/x-python",
   "name": "python",
   "nbconvert_exporter": "python",
   "pygments_lexer": "ipython3",
   "version": "3.7.4"
  }
 },
 "nbformat": 4,
 "nbformat_minor": 2
}
