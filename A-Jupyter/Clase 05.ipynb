{
 "cells": [
  {
   "cell_type": "markdown",
   "metadata": {},
   "source": [
    "# Clase 05. Control de flujo condicional\n",
    "\n",
    "<p>\n",
    "<font size='5' face='Georgia, Arial'>IIC1103-07 Introducción a la Programación</font><br>\n",
    "<font size='2'>Jueves 22-Agosto-2019</font><br>\n",
    "<font size='2'>Contactos: Cristian Ruz, cruz@ing.puc.cl; Raúl Álvarez, rsalvarez@uc.cl</font>\n",
    "</p>\n"
   ]
  },
  {
   "cell_type": "markdown",
   "metadata": {},
   "source": [
    "## Recapitulación\n",
    "\n",
    "### Sobre asignaciones\n",
    "\n",
    "¿Cuál(es) de las siguientes expresiones es/son **CORRECTA(S)** en Python?\n",
    "\n",
    "(a) `15 = 15`    \n",
    "(b) `15 = 42`   \n",
    "(c) `15 == 42`  \n",
    "(d) `15 == 15` \n",
    "\n",
    "Recordemos que `=` es el **operador de asignación**: permite asociar el nombre (variable) que está al lado izquierdo, con un valor en la memoria del computador, que se encuentra al lado derecho. Por otro lado, `==` es un **operador de comparación**: compara el valor del lado izquierdo y el valor del lado derecho, y entrega como resultado `True` en caso que sean iguales, o `False` en caso que no lo sean."
   ]
  },
  {
   "cell_type": "code",
   "execution_count": 1,
   "metadata": {},
   "outputs": [
    {
     "data": {
      "text/plain": [
       "False"
      ]
     },
     "execution_count": 1,
     "metadata": {},
     "output_type": "execute_result"
    }
   ],
   "source": [
    "15 == 42            # Esta expresión es válida en Python. Su único efecto es entregar 'False', pero es válida."
   ]
  },
  {
   "cell_type": "code",
   "execution_count": 2,
   "metadata": {},
   "outputs": [
    {
     "ename": "SyntaxError",
     "evalue": "can't assign to literal (<ipython-input-2-0e80750d19bc>, line 1)",
     "output_type": "error",
     "traceback": [
      "\u001b[0;36m  File \u001b[0;32m\"<ipython-input-2-0e80750d19bc>\"\u001b[0;36m, line \u001b[0;32m1\u001b[0m\n\u001b[0;31m    15 = 15                # Pero esta expresión es incorrecta. Es una asignación, pero lo que hay al lado izquierdo\u001b[0m\n\u001b[0m                                                                                                                    ^\u001b[0m\n\u001b[0;31mSyntaxError\u001b[0m\u001b[0;31m:\u001b[0m can't assign to literal\n"
     ]
    }
   ],
   "source": [
    "15 = 15             # Pero esta expresión es incorrecta. Es una asignación, pero lo que hay al lado izquierdo ('15')\n",
    "                    # NO es un nombre de variable válido."
   ]
  },
  {
   "cell_type": "markdown",
   "metadata": {},
   "source": [
    "Las respuestas correcta son (c) y (d)"
   ]
  },
  {
   "cell_type": "markdown",
   "metadata": {},
   "source": [
    "¿Cuál expresión es **INCORRECTA** en Python?\n",
    "\n",
    "(a) `numero8 = 40 * 3 + 7`  \n",
    "(b) `numero8 == 40 * 3 + 7`  \n",
    "(c) `numero8 = 40 == 2`  \n",
    "(d) `8numero = 8`  \n",
    "(e) `_8 = 8`  \n",
    "\n",
    "La alternativa (a) es una **asignación** correcta. Tiene, al lado izquierdo, el nombre de variable `numero8`, y al lado derecho la expresión `40 * 3 + 7`. Esto asigna a `numero8`, el valor `127`. "
   ]
  },
  {
   "cell_type": "code",
   "execution_count": 4,
   "metadata": {},
   "outputs": [],
   "source": [
    "numero8 = 40 * 3 + 7        # Esta instrucción es correcta. \n",
    "                            # No entrega ningún resultado, pero es correcta y tiene un efecto."
   ]
  },
  {
   "cell_type": "markdown",
   "metadata": {},
   "source": [
    "La alternativa (b) es una **comparación**. Tiene, al lado izquierdo, el nombre de variable `numero8`, y al lado derecho la expresión `40 * 3 + 7`. Esto entrega un valor como resultado, que puede ser `True` ó `False`, dependiendo si lo que hay guardado en la variable `numero8` es o no `127`. Si ejecutamos esta instrucción en Python, y no tenemos un valor definido para la variable `numero8`, la instrucción provocará un error. Sin embargo, es una instrucción correctamente escrita en Python."
   ]
  },
  {
   "cell_type": "code",
   "execution_count": 6,
   "metadata": {},
   "outputs": [
    {
     "data": {
      "text/plain": [
       "True"
      ]
     },
     "execution_count": 6,
     "metadata": {},
     "output_type": "execute_result"
    }
   ],
   "source": [
    "numero8 == 40 * 3 + 7      # Esto fallaría si no hubiéses ejecutado la celda anterior.\n",
    "                           # Sin embargo, eso sería un error en la lógica del programa, pero no en la sintaxis.\n",
    "                           # Sigue siendo una instrucción CORRECTA en Python."
   ]
  },
  {
   "cell_type": "markdown",
   "metadata": {},
   "source": [
    "La alternativa (c) es una **asignación**. Tiene, al lado izquierdo, el nombre de variable `numero8`, y al lado derecho una expresión que es una **comparación**. El resultado de esa comparación es `False`, por lo tanto la instrucción completa es equivalente a `numero8 = False`."
   ]
  },
  {
   "cell_type": "code",
   "execution_count": 7,
   "metadata": {},
   "outputs": [],
   "source": [
    "numero8 = 40 == 2         # Esto también es equivalente a: numero8 = (40 == 2)"
   ]
  },
  {
   "cell_type": "markdown",
   "metadata": {},
   "source": [
    "La alternativa (e) es una **asignación**. El nombre de variable del lado izquierdo es `_8`, que es un nombre válido en la sintaxis del lenguaje Python. Al lado derecho hay un valor entero."
   ]
  },
  {
   "cell_type": "code",
   "execution_count": 11,
   "metadata": {},
   "outputs": [],
   "source": [
    "_8 = 45                # Esto asigna el valor entero 45 a la variable _8. Es un mal nombre de variable, en todo caso"
   ]
  },
  {
   "cell_type": "code",
   "execution_count": 12,
   "metadata": {},
   "outputs": [
    {
     "name": "stdout",
     "output_type": "stream",
     "text": [
      "45\n"
     ]
    }
   ],
   "source": [
    "print(_8)"
   ]
  },
  {
   "cell_type": "markdown",
   "metadata": {},
   "source": [
    "La alternativa (d) es una **asignación mal escrita**. El error está en que lo que hay al lado izquierdo: `8numero` **no** es válido como nombre de variable. Los nombres de variable en Python pueden empezar con cualquier letra o con `_`, y a continuación pueden tener más letras, `_`, ó dígitos, pero **no pueden empezar con dígitos**."
   ]
  },
  {
   "cell_type": "code",
   "execution_count": 13,
   "metadata": {},
   "outputs": [
    {
     "ename": "SyntaxError",
     "evalue": "invalid syntax (<ipython-input-13-be80c3bd74ad>, line 1)",
     "output_type": "error",
     "traceback": [
      "\u001b[0;36m  File \u001b[0;32m\"<ipython-input-13-be80c3bd74ad>\"\u001b[0;36m, line \u001b[0;32m1\u001b[0m\n\u001b[0;31m    8numero = 8           # Esto genera un error de sintaxis: SyntaxError. Python no es capaz de entender esta instrucción\u001b[0m\n\u001b[0m          ^\u001b[0m\n\u001b[0;31mSyntaxError\u001b[0m\u001b[0;31m:\u001b[0m invalid syntax\n"
     ]
    }
   ],
   "source": [
    "8numero = 8           # Esto genera un error de sintaxis: SyntaxError. Python no es capaz de entender esta instrucción"
   ]
  },
  {
   "cell_type": "markdown",
   "metadata": {},
   "source": [
    "### Sobre `print`\n",
    "\n",
    "¿Cuál de los siguientes trozos de código es **INCORRECTO** en Python?\n",
    "\n",
    "(a) `edad = 41\n",
    "   print(edad)`\n",
    "    \n",
    "(b) `edad = 41\n",
    "   print(edad - 30)`\n",
    "    \n",
    "(c) `edad = 41\n",
    "   print(\"Tienes \", edad - 30, \"años\")`\n",
    "   \n",
    "(d) `edad = 41\n",
    "   print(\"Tienes\" + (edad - 30) + \"años\")`\n"
   ]
  },
  {
   "cell_type": "markdown",
   "metadata": {},
   "source": [
    "La alternativa (a) contiene una asignación y una impresión en pantalla de un dato de tipo `int`. "
   ]
  },
  {
   "cell_type": "code",
   "execution_count": 15,
   "metadata": {},
   "outputs": [
    {
     "name": "stdout",
     "output_type": "stream",
     "text": [
      "41\n"
     ]
    }
   ],
   "source": [
    "edad = 41\n",
    "print(edad)"
   ]
  },
  {
   "cell_type": "markdown",
   "metadata": {},
   "source": [
    "La alternativa (b) contiene una asignación y una impresión en pantalla de una expresión cuyo resultado es de tipo `int`. La alternativa (c) "
   ]
  },
  {
   "cell_type": "code",
   "execution_count": 16,
   "metadata": {},
   "outputs": [
    {
     "name": "stdout",
     "output_type": "stream",
     "text": [
      "11\n"
     ]
    }
   ],
   "source": [
    "edad = 41\n",
    "print(edad - 30)"
   ]
  },
  {
   "cell_type": "markdown",
   "metadata": {},
   "source": [
    "La alternativa (c) contiene una asignación, y utiliza `print` para escribir en pantalla **tres valores separados por espacios**. El primer y tercer valores son de tipo `str`. El segundo es una expresión de tipo `int`. La instrucción (función) `print` es capaz de escribir cada uno de ellos."
   ]
  },
  {
   "cell_type": "code",
   "execution_count": 18,
   "metadata": {},
   "outputs": [
    {
     "name": "stdout",
     "output_type": "stream",
     "text": [
      "Tienes  11 años\n"
     ]
    }
   ],
   "source": [
    "edad = 41\n",
    "print(\"Tienes \", edad - 30, \"años\")"
   ]
  },
  {
   "cell_type": "markdown",
   "metadata": {},
   "source": [
    "La alternativa (d) contiene una asignación, y utiliza `print` para escribir en pantalla **un valor**. Ese valor es un `str` concatenado. Sin embargo la primera concatenación tiene al lado izquierdo un `str` y al lado derecho la expresión `(edad - 30)` que es de tipo `int`. Por lo tanto se produce un error ya que Python no sabe como aplicar una concatenación entre un `str` y un `int`."
   ]
  },
  {
   "cell_type": "code",
   "execution_count": 21,
   "metadata": {},
   "outputs": [
    {
     "ename": "TypeError",
     "evalue": "can only concatenate str (not \"int\") to str",
     "output_type": "error",
     "traceback": [
      "\u001b[0;31m---------------------------------------------------------------------------\u001b[0m",
      "\u001b[0;31mTypeError\u001b[0m                                 Traceback (most recent call last)",
      "\u001b[0;32m<ipython-input-21-d4c81c0d4d01>\u001b[0m in \u001b[0;36m<module>\u001b[0;34m\u001b[0m\n\u001b[1;32m      1\u001b[0m \u001b[0medad\u001b[0m \u001b[0;34m=\u001b[0m \u001b[0;36m41\u001b[0m\u001b[0;34m\u001b[0m\u001b[0;34m\u001b[0m\u001b[0m\n\u001b[0;32m----> 2\u001b[0;31m \u001b[0mprint\u001b[0m\u001b[0;34m(\u001b[0m\u001b[0;34m\"Tienes\"\u001b[0m \u001b[0;34m+\u001b[0m \u001b[0;34m(\u001b[0m\u001b[0medad\u001b[0m \u001b[0;34m-\u001b[0m \u001b[0;36m30\u001b[0m\u001b[0;34m)\u001b[0m \u001b[0;34m+\u001b[0m \u001b[0;34m\"años\"\u001b[0m\u001b[0;34m)\u001b[0m            \u001b[0;31m# Esto provoca un TypeError. No se puede concatenar `str` e `int`.\u001b[0m\u001b[0;34m\u001b[0m\u001b[0;34m\u001b[0m\u001b[0m\n\u001b[0m",
      "\u001b[0;31mTypeError\u001b[0m: can only concatenate str (not \"int\") to str"
     ]
    }
   ],
   "source": [
    "edad = 41\n",
    "print(\"Tienes\" + (edad - 30) + \"años\")            # Esto provoca un TypeError. No se puede concatenar `str` e `int`."
   ]
  },
  {
   "cell_type": "code",
   "execution_count": 22,
   "metadata": {},
   "outputs": [
    {
     "name": "stdout",
     "output_type": "stream",
     "text": [
      "<class 'int'>\n"
     ]
    }
   ],
   "source": [
    "print(type(edad-30))              # El tipo de datos de (edad-30) es 'int'"
   ]
  },
  {
   "cell_type": "markdown",
   "metadata": {},
   "source": [
    "¿Cómo arreglarlo? Podemos obtener una versión `str` de un valor de tipo `int` de la siguiente manera:"
   ]
  },
  {
   "cell_type": "code",
   "execution_count": 23,
   "metadata": {},
   "outputs": [
    {
     "name": "stdout",
     "output_type": "stream",
     "text": [
      "Tienes 11 años\n"
     ]
    }
   ],
   "source": [
    "edad = 41\n",
    "print(\"Tienes \" + str(edad - 30) + \" años\")"
   ]
  },
  {
   "cell_type": "markdown",
   "metadata": {},
   "source": [
    "### Sobre `input`\n",
    "\n",
    "¿Cuál de los siguientes códigos es **INCORRECTO** en Python?\n",
    "\n",
    "(a) `hoy = input(“¿Qué día es hoy?”)  \n",
    "   print(“Mañana es“, hoy, “+1”)`\n",
    "\n",
    "\n",
    "(b) `hoy = input()  \n",
    "   print(“Mañana es “, int(hoy)+2)`\n",
    "\n",
    "\n",
    "(c) `hoy = input(“Ingrese un int”)  \n",
    "   print(“Mañana es”, hoy+1)`\n",
    "\n",
    "\n",
    "(d) `hoy = int(input(“Ingrese un int”))  \n",
    "   print(“Mañana es “ + str(hoy+1))`\n"
   ]
  },
  {
   "cell_type": "markdown",
   "metadata": {},
   "source": [
    "La alternativa (a) recibe un `str` con `input` y lo guarda en `hoy`. Luego imprime en pantalla tres `str`. Si bien imprime un texto que no nos parece muy interesante (`\"+1\"`), es un código que está correctamente escrito."
   ]
  },
  {
   "cell_type": "code",
   "execution_count": 24,
   "metadata": {},
   "outputs": [
    {
     "name": "stdout",
     "output_type": "stream",
     "text": [
      "¿Qué día es hoy?22\n",
      "Mañana es 22 +1\n"
     ]
    }
   ],
   "source": [
    "hoy = input(\"¿Qué día es hoy?\")\n",
    "print(\"Mañana es\", hoy, \"+1\")"
   ]
  },
  {
   "cell_type": "markdown",
   "metadata": {},
   "source": [
    "La alternativa (b) recibe un `str` con `input` y lo guarda en `hoy`. No es incorrecto que `input` no tenga ningún texto asociado. Lo único que pasa es que el programa no le muestra un texto en pantalla al usuario para que éste sepa que tiene que escribir algo. A continuación, la instrucción (función) `print` muesta en pantalla dos valores separados por espacio. El primero es un `str`, y el segundo es una operación entre dos `int`: el valor ingresado por el usuario \"convertido\" a `int` y el valor 2. Si bien el resultado no corresponde necesariamente al día \"siguiente\", ése sería un error en la lógica del algoritmo, pero no un error del lenguaje Python."
   ]
  },
  {
   "cell_type": "code",
   "execution_count": 25,
   "metadata": {},
   "outputs": [
    {
     "name": "stdout",
     "output_type": "stream",
     "text": [
      "22\n",
      "Mañana es  24\n"
     ]
    }
   ],
   "source": [
    "hoy = input()\n",
    "print(\"Mañana es \", int(hoy)+2)"
   ]
  },
  {
   "cell_type": "markdown",
   "metadata": {},
   "source": [
    "La alternativa (d) recibe un `str` con `input`, y guarda en `hoy` una versión convertida a `int`. Por lo tanto el tipo de dato de `hoy` es `int`. A continuación, con `print` se imprime un `str` concatenado. La suma de `hoy` y `1` funciona porque ambos son de tipo `int`, y antes de concatenarlo con `\"Mañana es\"`, se obtiene la versión `str` de ese valor."
   ]
  },
  {
   "cell_type": "code",
   "execution_count": 26,
   "metadata": {},
   "outputs": [
    {
     "name": "stdout",
     "output_type": "stream",
     "text": [
      "Ingrese un int22\n",
      "Mañana es 23\n"
     ]
    }
   ],
   "source": [
    "hoy = int(input(\"Ingrese un int\"))\n",
    "print(\"Mañana es \" + str(hoy+1))"
   ]
  },
  {
   "cell_type": "markdown",
   "metadata": {},
   "source": [
    "La alternativa (c) recibe un `str` con `input`, y lo guarda en `hoy`. En el `print` se intentan mostrar en pantalla dos valores separados por espacio. El primero es el `str` `\"Mañana es\"`, y el segundo es una suma entre el `str` `hoy` y el `int` `1`. Eso no lo puedo hacer Python. De hecho, ya que `hoy` es un `str`, entonces intenta concatenar ambos valores, y se produce un error. El código es **incorrecto**."
   ]
  },
  {
   "cell_type": "code",
   "execution_count": 27,
   "metadata": {},
   "outputs": [
    {
     "name": "stdout",
     "output_type": "stream",
     "text": [
      "Ingrese un int22\n"
     ]
    },
    {
     "ename": "TypeError",
     "evalue": "can only concatenate str (not \"int\") to str",
     "output_type": "error",
     "traceback": [
      "\u001b[0;31m---------------------------------------------------------------------------\u001b[0m",
      "\u001b[0;31mTypeError\u001b[0m                                 Traceback (most recent call last)",
      "\u001b[0;32m<ipython-input-27-5886cb17b251>\u001b[0m in \u001b[0;36m<module>\u001b[0;34m\u001b[0m\n\u001b[1;32m      1\u001b[0m \u001b[0mhoy\u001b[0m \u001b[0;34m=\u001b[0m \u001b[0minput\u001b[0m\u001b[0;34m(\u001b[0m\u001b[0;34m\"Ingrese un int\"\u001b[0m\u001b[0;34m)\u001b[0m\u001b[0;34m\u001b[0m\u001b[0;34m\u001b[0m\u001b[0m\n\u001b[0;32m----> 2\u001b[0;31m \u001b[0mprint\u001b[0m\u001b[0;34m(\u001b[0m\u001b[0;34m\"Mañana es\"\u001b[0m\u001b[0;34m,\u001b[0m \u001b[0mhoy\u001b[0m\u001b[0;34m+\u001b[0m\u001b[0;36m1\u001b[0m\u001b[0;34m)\u001b[0m\u001b[0;34m\u001b[0m\u001b[0;34m\u001b[0m\u001b[0m\n\u001b[0m",
      "\u001b[0;31mTypeError\u001b[0m: can only concatenate str (not \"int\") to str"
     ]
    }
   ],
   "source": [
    "hoy = input(\"Ingrese un int\")\n",
    "print(\"Mañana es\", hoy+1)"
   ]
  },
  {
   "cell_type": "markdown",
   "metadata": {},
   "source": [
    "Recordemos que para poder convertir un valor de tipo `str` a `int`, el valor debe contenr únicamente dígitos (o un formato que sea interpretable como un `int`). Por ejemplo, si ingresamos el valor `34t`, o `3 4`, no será posible hacer esa conversión."
   ]
  },
  {
   "cell_type": "code",
   "execution_count": 29,
   "metadata": {},
   "outputs": [
    {
     "name": "stdout",
     "output_type": "stream",
     "text": [
      "Ingrese un int: 34t\n"
     ]
    },
    {
     "ename": "ValueError",
     "evalue": "invalid literal for int() with base 10: '34t'",
     "output_type": "error",
     "traceback": [
      "\u001b[0;31m---------------------------------------------------------------------------\u001b[0m",
      "\u001b[0;31mValueError\u001b[0m                                Traceback (most recent call last)",
      "\u001b[0;32m<ipython-input-29-348937395af8>\u001b[0m in \u001b[0;36m<module>\u001b[0;34m\u001b[0m\n\u001b[1;32m      1\u001b[0m \u001b[0;31m# pido un int al usuario\u001b[0m\u001b[0;34m\u001b[0m\u001b[0;34m\u001b[0m\u001b[0;34m\u001b[0m\u001b[0m\n\u001b[0;32m----> 2\u001b[0;31m \u001b[0mb\u001b[0m \u001b[0;34m=\u001b[0m \u001b[0mint\u001b[0m\u001b[0;34m(\u001b[0m\u001b[0minput\u001b[0m\u001b[0;34m(\u001b[0m\u001b[0;34m\"Ingrese un int: \"\u001b[0m\u001b[0;34m)\u001b[0m\u001b[0;34m)\u001b[0m\u001b[0;34m\u001b[0m\u001b[0;34m\u001b[0m\u001b[0m\n\u001b[0m\u001b[1;32m      3\u001b[0m \u001b[0mprint\u001b[0m\u001b[0;34m(\u001b[0m\u001b[0;34m\"Ingresaste\"\u001b[0m\u001b[0;34m,\u001b[0m\u001b[0mb\u001b[0m\u001b[0;34m)\u001b[0m\u001b[0;34m\u001b[0m\u001b[0;34m\u001b[0m\u001b[0m\n",
      "\u001b[0;31mValueError\u001b[0m: invalid literal for int() with base 10: '34t'"
     ]
    }
   ],
   "source": [
    "# pido un int al usuario\n",
    "b = int(input(\"Ingrese un int: \"))\n",
    "print(\"Ingresaste\",b)"
   ]
  },
  {
   "cell_type": "markdown",
   "metadata": {},
   "source": [
    "# Control de flujo condicional\n",
    "\n",
    "En el código del marcador de fútbol, no tenemos una manera de discriminar a quién se le debe sumar el gol. Si al local o a la visita."
   ]
  },
  {
   "cell_type": "code",
   "execution_count": 30,
   "metadata": {},
   "outputs": [
    {
     "name": "stdout",
     "output_type": "stream",
     "text": [
      "¿Qué equipo anotó el gol? [1: local, 2: visita, otro: fin partido]2\n",
      "¡Gol del equipo: 2 !\n",
      "Marcador:  0 - 1\n"
     ]
    }
   ],
   "source": [
    "local = 0        # goles del local\n",
    "visita = 0       # goles de la visita\n",
    "# Guardo el equipo que anotó en variable \"gol\"\n",
    "# [1: local, 2: visita, otro: fin partido]\n",
    "gol = int(input(\"¿Qué equipo anotó el gol? [1: local, 2: visita, otro: fin partido] \"))\n",
    "\n",
    "print(\"¡Gol del equipo:\",gol,\"!\")\n",
    "\n",
    "# Esto funciona solamente si el gol lo convierte la visita\n",
    "visita = visita + 1\n",
    "print(\"Marcador: \", local, \"-\", visita)\n"
   ]
  },
  {
   "cell_type": "code",
   "execution_count": 31,
   "metadata": {},
   "outputs": [
    {
     "name": "stdout",
     "output_type": "stream",
     "text": [
      "¿Qué equipo anotó el gol? [1: local, 2: visita, otro: fin partido] 1\n",
      "¡Gol del equipo: 1 !\n",
      "Marcador:  0 - 1\n"
     ]
    }
   ],
   "source": [
    "local = 0        # goles del local\n",
    "visita = 0       # goles de la visita\n",
    "# Guardo el equipo que anotó en variable \"gol\"\n",
    "# [1: local, 2: visita, otro: fin partido]\n",
    "gol = int(input(\"¿Qué equipo anotó el gol? [1: local, 2: visita, otro: fin partido] \"))\n",
    "\n",
    "print(\"¡Gol del equipo:\",gol,\"!\")\n",
    "\n",
    "# Esto funciona solamente si el gol lo convierte la visita\n",
    "visita = visita + 1\n",
    "print(\"Marcador: \", local, \"-\", visita)\n"
   ]
  },
  {
   "cell_type": "code",
   "execution_count": 32,
   "metadata": {},
   "outputs": [
    {
     "name": "stdout",
     "output_type": "stream",
     "text": [
      "¿Qué equipo anotó el gol? [1: local, 2: visita, otro: fin partido] 1\n",
      "¡Gol del equipo: 1 !\n",
      "Marcador:  1 - 1\n"
     ]
    }
   ],
   "source": [
    "local = 0        # goles del local\n",
    "visita = 0       # goles de la visita\n",
    "# Guardo el equipo que anotó en variable \"gol\"\n",
    "# [1: local, 2: visita, otro: fin partido]\n",
    "gol = int(input(\"¿Qué equipo anotó el gol? [1: local, 2: visita, otro: fin partido] \"))\n",
    "\n",
    "print(\"¡Gol del equipo:\",gol,\"!\")\n",
    "\n",
    "# Esto le suma un gol tanto al local como a la visita\n",
    "local = local + 1\n",
    "visita = visita + 1\n",
    "print(\"Marcador: \", local, \"-\", visita)\n"
   ]
  },
  {
   "cell_type": "markdown",
   "metadata": {},
   "source": [
    "Necesitamos una manera de indicarle al programa que realice algunas acciones solamente si se cumple cierta condición. Ya hemos visto ejemplos en que expresamos condiciones usando operacioens booleanas que entregan como resultado un `bool`: `True` ó `False`."
   ]
  },
  {
   "cell_type": "code",
   "execution_count": 33,
   "metadata": {},
   "outputs": [
    {
     "name": "stdout",
     "output_type": "stream",
     "text": [
      "Ingrese número del 0 al 9: 7\n",
      "True\n"
     ]
    }
   ],
   "source": [
    "a = int(input(\"Ingrese número del 0 al 9: \"))\n",
    "condicion = (0 <= a) and (a <= 9)\n",
    "print(condicion)"
   ]
  },
  {
   "cell_type": "markdown",
   "metadata": {},
   "source": [
    "## Control de flujo condicional: `if`\n",
    "\n",
    "Ahora que sabemos escribir condiciones, tenemos lo necesario para hacer que el programa pueda tomar decisiones.\n",
    "\n",
    "La instrucción `if` tiene la siguiente sintaxis:\n",
    "\n",
    "```\n",
    "if condicion:                    \n",
    "    bloque_de_codigo_if          \n",
    "    bloque_de_codigo_if          \n",
    "    bloque_de_codigo_if\n",
    "    bloque_de_codigo_if\n",
    "bloque_de_codigo_fuera_de_if     \n",
    "bloque_de_codigo_fuera_de_if     \n",
    "```\n",
    "Donde `condicion` es una expresión que debe tener un valor de tipo `bool`. Las instrucciones indicadas como `bloque_de_codigo_if` son **parte del `if`**, y se ejecutan solamente cuando `condicion` es `True`; en caso contrario, _no se ejecutan_. Para indicar las instrucciones que son parte del `if`, las escribimos _desplazadas a la derecha_. Esto se llama **indentación**. Por otro lado, las instrucciones indicadas como `bloque_de_codigo_fuera_de_if`, **no son parte del `if`**; son instrucciones posteriores al `if`, que se ejecutan *siempre*, de manera independiente de la condición del `if`.\n",
    "\n",
    "Ahora podemos hacer que el programa ejecute una acción _dependiendo_ del valor de una condición."
   ]
  },
  {
   "cell_type": "code",
   "execution_count": 34,
   "metadata": {},
   "outputs": [
    {
     "name": "stdout",
     "output_type": "stream",
     "text": [
      "Ingrese número del 0 al 9: 47\n",
      "¡Error! número mal ingresado\n",
      "¡Gracias!\n"
     ]
    }
   ],
   "source": [
    "a = int(input(\"Ingrese número del 0 al 9: \"))\n",
    "condicion = (0 <= a) and (a <= 9)\n",
    "if not(condicion):\n",
    "    print(\"¡Error! número mal ingresado\")\n",
    "print(\"¡Gracias!\")"
   ]
  },
  {
   "cell_type": "code",
   "execution_count": 35,
   "metadata": {},
   "outputs": [
    {
     "name": "stdout",
     "output_type": "stream",
     "text": [
      "Ingrese número del 0 al 9: 3\n",
      "¡Felicitaciones!\n",
      "Seguiste muy bien las instrucciones\n",
      "¡Gracias!\n"
     ]
    }
   ],
   "source": [
    "a = int(input(\"Ingrese número del 0 al 9: \"))\n",
    "condicion = (0 <= a) and (a <= 9)\n",
    "if condicion:\n",
    "    print(\"¡Felicitaciones!\")\n",
    "    print(\"Seguiste muy bien las instrucciones\")\n",
    "print(\"¡Gracias!\")"
   ]
  },
  {
   "cell_type": "markdown",
   "metadata": {},
   "source": [
    "Notemos que la instrucción `print(\"¡Gracias!\")` se ejecuta **siempre**. No es parte del `if`, por lo tanto no está sujeta al valor de `condicion`.\n"
   ]
  },
  {
   "cell_type": "markdown",
   "metadata": {},
   "source": [
    "## Control de flujo condicional: `if`/`else`\n",
    "\n",
    "Cuando la condición del `if` es `False`, el bloque de instrucciones asociado **no se ejecuta**. Podemos agregar otro bloque de instrucciones que se ejecuta cuando la condición del `if` no sea `True`. Esto se consigue mediante la instrucción `if-else`, cuya forma general es:\n",
    "\n",
    "```\n",
    "if condicion:                    \n",
    "    bloque_de_codigo_if        \n",
    "    bloque_de_codigo_if          \n",
    "    ...\n",
    "    bloque_de_codigo_if\n",
    "else: \n",
    "    bloque_de_codigo_else       \n",
    "    bloque_de_codigo_else        \n",
    "    ...\n",
    "    bloque_de_codigo_else\n",
    "bloque_de_codigo_fuera_de_if_else    \n",
    "bloque_de_codigo_fuera_de_if_else\n",
    "```\n",
    "Donde las instrucciones indicadas como `bloque_de_codigo_else` se ejecutan solamente cuando `condicion` **no es True**. Esto significa que cuando tenemos una instrucción de tipo `if-else`, tenemos dos bloques de instrucciones y siempre **se ejecuta solamente uno de ellos**.\n"
   ]
  },
  {
   "cell_type": "code",
   "execution_count": 36,
   "metadata": {},
   "outputs": [
    {
     "name": "stdout",
     "output_type": "stream",
     "text": [
      "Ingrese número del 0 al 9: 4\n",
      "¡Gracias!\n",
      "Lo hiciste muy bien\n",
      "Listo. Hemos terminado nuestra misión.\n"
     ]
    }
   ],
   "source": [
    "a = int(input(\"Ingrese número del 0 al 9: \"))\n",
    "condicion = (0 <= a) and (a <= 9)\n",
    "if condicion:\n",
    "    print(\"¡Gracias!\")\n",
    "    print(\"Lo hiciste muy bien\")\n",
    "else:\n",
    "    print(\"¡Error! Te equivocaste\")\n",
    "    print(\"Eres muy tonto\")\n",
    "    print(\"No sigues las instrucciones\")\n",
    "print(\"Listo. Hemos terminado nuestra misión.\")"
   ]
  },
  {
   "cell_type": "code",
   "execution_count": 37,
   "metadata": {},
   "outputs": [
    {
     "name": "stdout",
     "output_type": "stream",
     "text": [
      "Ingrese número del 0 al 9: 10\n",
      "¡Error! Te equivocaste\n",
      "Eres muy tonto\n",
      "No sigues las instrucciones\n",
      "Listo. Hemos terminado nuestra misión.\n"
     ]
    }
   ],
   "source": [
    "a = int(input(\"Ingrese número del 0 al 9: \"))\n",
    "condicion = (0 <= a) and (a <= 9)\n",
    "if condicion:\n",
    "    print(\"¡Gracias!\")\n",
    "    print(\"Lo hiciste muy bien\")\n",
    "else:\n",
    "    print(\"¡Error! Te equivocaste\")\n",
    "    print(\"Eres muy tonto\")\n",
    "    print(\"No sigues las instrucciones\")\n",
    "print(\"Listo. Hemos terminado nuestra misión.\")"
   ]
  },
  {
   "cell_type": "markdown",
   "metadata": {},
   "source": [
    "Podemos notar que la instrucción `print(\"Listo. Hemos terminado nuestra misión.\")` se ejecuta **siempre**, ya que no es parte del `if`-`else`. Respecto al grupo de instrucciones dentro de `if` o de `else`, siempre se ejecuta **solamente uno de esos bloques**. Nunca los dos."
   ]
  },
  {
   "cell_type": "markdown",
   "metadata": {},
   "source": [
    "## Control de flujo condicional: `if`/`elif`/`else`\n",
    "\n",
    "La instrucción `else` debe interpretarse como _en caso contrario..._. Adicionalmente podemos escribir `if`s que verifiquen múltiples conciones mediante la construcción `if-elif-else`:\n",
    "\n",
    "```\n",
    "if condicion1:                    \n",
    "    bloque_de_codigo_if        \n",
    "    bloque_de_codigo_if          \n",
    "    ...\n",
    "    bloque_de_codigo_if\n",
    "elif condicion2:\n",
    "    bloque_de_codigo_elif2\n",
    "    bloque_de_codigo_elif2\n",
    "    ...\n",
    "    bloque_de_codigo_elif2\n",
    "elif condicion3:\n",
    "    bloque_de_codigo_elif3\n",
    "    bloque_de_codigo_elif3\n",
    "    ...\n",
    "    bloque_de_codigo_elif3\n",
    "...\n",
    "else: \n",
    "    bloque_de_codigo_else       \n",
    "    bloque_de_codigo_else        \n",
    "    ...\n",
    "    bloque_de_codigo_else\n",
    "bloque_de_codigo_fuera_de_if_else    \n",
    "bloque_de_codigo_fuera_de_if_else\n",
    "```\n",
    "\n",
    "Donde cada `elif` posee una condición que se revisa **solamente si las anteriores no son `True`**. En caso que la `condicionX` sea `True`, se ejecuta el `bloque_de_codigo_elif` correspondiente, y **no se revisa ninguno más**.\n",
    "\n",
    "Esta construcción nos permite escribir código que se comporta de manera distinta para cada caso que queramos explicitar."
   ]
  },
  {
   "cell_type": "code",
   "execution_count": 38,
   "metadata": {},
   "outputs": [
    {
     "name": "stdout",
     "output_type": "stream",
     "text": [
      "Ingrese número del 0 al 9: 3\n",
      "¡Gracias!\n"
     ]
    }
   ],
   "source": [
    "a = int(input(\"Ingrese número del 0 al 9: \"))\n",
    "condicion = (0 <= a) and (a <= 9)\n",
    "if not(condicion):                              \n",
    "    print(\"¡Error! número mal ingresado\")\n",
    "    print(\"Eres un idiota\")\n",
    "elif a == 5:\n",
    "    print(\"¡Gracias por escribir un 5!\")\n",
    "elif a > 6:\n",
    "    print(\"¡Gracias por escribir mayor a 6!\")\n",
    "elif a == 9:\n",
    "    print(\"¡Gracias por escribir un 9! Es mi número favorito.\")\n",
    "\n",
    "else:\n",
    "    print(\"¡Gracias!\")\n"
   ]
  },
  {
   "cell_type": "code",
   "execution_count": 39,
   "metadata": {},
   "outputs": [
    {
     "name": "stdout",
     "output_type": "stream",
     "text": [
      "Ingrese número del 0 al 9: 5\n",
      "¡Gracias por escribir un 5!\n"
     ]
    }
   ],
   "source": [
    "a = int(input(\"Ingrese número del 0 al 9: \"))\n",
    "condicion = (0 <= a) and (a <= 9)\n",
    "if not(condicion):                              \n",
    "    print(\"¡Error! número mal ingresado\")\n",
    "    print(\"Eres un idiota\")\n",
    "elif a == 5:\n",
    "    print(\"¡Gracias por escribir un 5!\")\n",
    "elif a > 6:\n",
    "    print(\"¡Gracias por escribir mayor a 6!\")\n",
    "elif a == 9:\n",
    "    print(\"¡Gracias por escribir un 9! Es mi número favorito.\")\n",
    "\n",
    "else:\n",
    "    print(\"¡Gracias!\")\n"
   ]
  },
  {
   "cell_type": "code",
   "execution_count": 40,
   "metadata": {},
   "outputs": [
    {
     "name": "stdout",
     "output_type": "stream",
     "text": [
      "Ingrese número del 0 al 9: 9\n",
      "¡Gracias por escribir mayor a 6!\n"
     ]
    }
   ],
   "source": [
    "a = int(input(\"Ingrese número del 0 al 9: \"))\n",
    "condicion = (0 <= a) and (a <= 9)\n",
    "if not(condicion):                              \n",
    "    print(\"¡Error! número mal ingresado\")\n",
    "    print(\"Eres un idiota\")\n",
    "elif a == 5:\n",
    "    print(\"¡Gracias por escribir un 5!\")\n",
    "elif a > 6:\n",
    "    print(\"¡Gracias por escribir mayor a 6!\")\n",
    "elif a == 9:\n",
    "    print(\"¡Gracias por escribir un 9! Es mi número favorito.\")\n",
    "\n",
    "else:\n",
    "    print(\"¡Gracias!\")\n"
   ]
  },
  {
   "cell_type": "markdown",
   "metadata": {},
   "source": [
    "Hay dos cosas importantes que podemos notar en estos ejemplos.\n",
    "1. Cada condición de un `elif` se revisa únicamente si **ninguna de las anteriores se ha cumplido**. Por ejemplo, si ingresamos un `9`, la primera condición (`not((0<=a)and(a<=9))`) se evalúa como `False`, por lo tanto se revisa la segunda condición (`a==5`), que también resulta ser `False`; a continuación se revisa la tercera condición (`a > 6`), que resulta ser `True` y por lo tanto se ejecuta el bloque asociado.\n",
    "1. No hay manera de ejecutar, en este ejemplo, el código asociado a `elif a==9`. No porque la la condición esté mal escrita sino porque este caso está completamente contenido en el caso `a > 6`. Dado que las condiciones de los `if-elif` se revisan solamente hasta la primera que resulta ser `True`, y la condición `a==9`, cuando es verdadera, también cumple `a > 6`, entonces nunca llegaremos a revisar si `a==9`.\n",
    "\n",
    "Por otro lado, el caso del `else` se ejecuta solamente cuando ninguna de las anteriores se ha cumplido. En este caso, cuando `a` está entre 0 y 9, no es 5, es menor igual a 6, y no es 9. Cada vez que veamos un _else_ debemos interpretarlo como \"*si nada de lo anterior se ha cumplido*\"."
   ]
  },
  {
   "cell_type": "markdown",
   "metadata": {},
   "source": [
    "Volviendo al ejemplo de nuestro marcador de fútbol, ahora podemos hacer que se comporte de manera distinta dependiendo de quién ha marcado el gol."
   ]
  },
  {
   "cell_type": "code",
   "execution_count": 41,
   "metadata": {},
   "outputs": [
    {
     "name": "stdout",
     "output_type": "stream",
     "text": [
      "¿Qué equipo anotó el gol? [1: local, 2: visita, otro: fin partido] 1\n",
      "¡Gol del equipo: 1 !\n",
      "Marcador:  0 - 1\n"
     ]
    }
   ],
   "source": [
    "local = 0        # goles del local\n",
    "visita = 0       # goles de la visita\n",
    "# Guardo el equipo que anotó en variable \"gol\"\n",
    "# [1: local, 2: visita, otro: fin partido]\n",
    "gol = int(input(\"¿Qué equipo anotó el gol? [1: local, 2: visita, otro: fin partido] \"))\n",
    "\n",
    "print(\"¡Gol del equipo:\",gol,\"!\")\n",
    "\n",
    "if gol == local:                # ESTO ES INCORRECTO\n",
    "    local = local + 1\n",
    "else:\n",
    "    visita = visita + 1\n",
    "    \n",
    "print(\"Marcador: \", local, \"-\", visita)"
   ]
  },
  {
   "cell_type": "markdown",
   "metadata": {},
   "source": [
    "Cuidado. La variable `local` en este ejemplo, almacena la cantidad de goles del local. Mientras que la variable `gol` almacena el número que ingreso el usuario. La comparación entre ambas variables no tiene sentido para determinar quién marcó el gol. La comparación debe ser entre lo que ingresó el usuario (`gol`) y uno de los valores posibles (`1`, ó `2`)."
   ]
  },
  {
   "cell_type": "code",
   "execution_count": 43,
   "metadata": {},
   "outputs": [
    {
     "name": "stdout",
     "output_type": "stream",
     "text": [
      "¿Qué equipo anotó el gol? [1: local, 2: visita, otro: fin partido] 1\n",
      "¡Gol del equipo: 1 !\n",
      "Marcador:  1 - 0\n"
     ]
    }
   ],
   "source": [
    "local = 0        # goles del local\n",
    "visita = 0       # goles de la visita\n",
    "# Guardo el equipo que anotó en variable \"gol\"\n",
    "# [1: local, 2: visita, otro: fin partido]\n",
    "gol = int(input(\"¿Qué equipo anotó el gol? [1: local, 2: visita, otro: fin partido] \"))\n",
    "\n",
    "print(\"¡Gol del equipo:\",gol,\"!\")\n",
    "\n",
    "if gol == 1:                \n",
    "    local = local + 1\n",
    "else:\n",
    "    visita = visita + 1\n",
    "    \n",
    "print(\"Marcador: \", local, \"-\", visita)"
   ]
  },
  {
   "cell_type": "code",
   "execution_count": 44,
   "metadata": {},
   "outputs": [
    {
     "name": "stdout",
     "output_type": "stream",
     "text": [
      "¿Qué equipo anotó el gol? [1: local, 2: visita, otro: fin partido] 2\n",
      "¡Gol del equipo: 2 !\n",
      "Marcador:  0 - 1\n"
     ]
    }
   ],
   "source": [
    "local = 0        # goles del local\n",
    "visita = 0       # goles de la visita\n",
    "# Guardo el equipo que anotó en variable \"gol\"\n",
    "# [1: local, 2: visita, otro: fin partido]\n",
    "gol = int(input(\"¿Qué equipo anotó el gol? [1: local, 2: visita, otro: fin partido] \"))\n",
    "\n",
    "print(\"¡Gol del equipo:\",gol,\"!\")\n",
    "\n",
    "if gol == 1:                \n",
    "    local = local + 1\n",
    "else:\n",
    "    visita = visita + 1\n",
    "    \n",
    "print(\"Marcador: \", local, \"-\", visita)"
   ]
  },
  {
   "cell_type": "code",
   "execution_count": 45,
   "metadata": {},
   "outputs": [
    {
     "name": "stdout",
     "output_type": "stream",
     "text": [
      "¿Qué equipo anotó el gol? [1: local, 2: visita, otro: fin partido] 3\n",
      "¡Gol del equipo: 3 !\n",
      "Marcador:  0 - 1\n"
     ]
    }
   ],
   "source": [
    "local = 0        # goles del local\n",
    "visita = 0       # goles de la visita\n",
    "# Guardo el equipo que anotó en variable \"gol\"\n",
    "# [1: local, 2: visita, otro: fin partido]\n",
    "gol = int(input(\"¿Qué equipo anotó el gol? [1: local, 2: visita, otro: fin partido] \"))\n",
    "\n",
    "print(\"¡Gol del equipo:\",gol,\"!\")\n",
    "\n",
    "if gol == 1:                \n",
    "    local = local + 1\n",
    "else:                                # Si el usuario ingresa '3', también entra aquí\n",
    "    visita = visita + 1\n",
    "    \n",
    "print(\"Marcador: \", local, \"-\", visita)"
   ]
  },
  {
   "cell_type": "markdown",
   "metadata": {},
   "source": [
    "En el caso anterior, tenemos una acción en caso que el valor sea `1` (`if`), y una acción en caso que sea el valor no sea `1` (`else`). Para actuar de una manera en caso que el valor sea `1`, y de una manera en caso que el valor sea `2`, podemos usar otro `if`, o podemos usar un `elif`. "
   ]
  },
  {
   "cell_type": "code",
   "execution_count": 46,
   "metadata": {},
   "outputs": [
    {
     "name": "stdout",
     "output_type": "stream",
     "text": [
      "¿Qué equipo anotó el gol? [1: local, 2: visita, otro: fin partido] 3\n",
      "Ingresaste un valor que na'que ver\n",
      "Marcador:  0 - 0\n"
     ]
    }
   ],
   "source": [
    "local = 0        # goles del local\n",
    "visita = 0       # goles de la visita\n",
    "# Guardo el equipo que anotó en variable \"gol\"\n",
    "# [1: local, 2: visita, otro: fin partido]\n",
    "gol = int(input(\"¿Qué equipo anotó el gol? [1: local, 2: visita, otro: fin partido] \"))\n",
    "\n",
    "if gol == 1 or gol == 2:\n",
    "    print(\"¡Gol del equipo:\",gol,\"!\")\n",
    "else:\n",
    "    print(\"Ingresaste un valor que na'que ver\")\n",
    "\n",
    "if gol == 1:                \n",
    "    local = local + 1\n",
    "if gol == 2:\n",
    "    visita = visita + 1\n",
    "    \n",
    "print(\"Marcador: \", local, \"-\", visita)"
   ]
  },
  {
   "cell_type": "code",
   "execution_count": 47,
   "metadata": {},
   "outputs": [
    {
     "name": "stdout",
     "output_type": "stream",
     "text": [
      "¿Qué equipo anotó el gol? [1: local, 2: visita, otro: fin partido] 3\n",
      "Ingresaste un valor que na'que ver\n",
      "Pusiste un número mayor o igual a 3\n",
      "Marcador:  0 - 0\n"
     ]
    }
   ],
   "source": [
    "local = 0        # goles del local\n",
    "visita = 0       # goles de la visita\n",
    "# Guardo el equipo que anotó en variable \"gol\"\n",
    "# [1: local, 2: visita, otro: fin partido]\n",
    "gol = int(input(\"¿Qué equipo anotó el gol? [1: local, 2: visita, otro: fin partido] \"))\n",
    "\n",
    "if gol == 1 or gol == 2:\n",
    "    print(\"¡Gol del equipo: \" + str(gol) + \"!\")\n",
    "else:\n",
    "    print(\"Ingresaste un valor que na'que ver\")\n",
    "\n",
    "if gol == 1:                \n",
    "    local = local + 1\n",
    "elif gol == 2:\n",
    "    visita = visita + 1\n",
    "elif gol >= 3:\n",
    "    print(\"Pusiste un número mayor o igual a 3\")\n",
    "else:\n",
    "    print(\"Nadie ha marcado un gol\")\n",
    "    \n",
    "print(\"Marcador: \", local, \"-\", visita)"
   ]
  },
  {
   "cell_type": "markdown",
   "metadata": {},
   "source": [
    "En este ejemplo tenemos una secuencia de muchos `if`, de los cuales solamente el último tiene un `else`."
   ]
  },
  {
   "cell_type": "code",
   "execution_count": 51,
   "metadata": {},
   "outputs": [
    {
     "name": "stdout",
     "output_type": "stream",
     "text": [
      "Ingresa a: 2\n",
      "1\n",
      "5\n"
     ]
    }
   ],
   "source": [
    "a = int(input(\"Ingresa a: \"))\n",
    "if 0 < a:\n",
    "    print(1)\n",
    "if 5 < a:\n",
    "    print(2)\n",
    "if 10 < a:\n",
    "    print(3)\n",
    "if 15 < a:\n",
    "    print(4)\n",
    "else:\n",
    "    print(5)\n"
   ]
  },
  {
   "cell_type": "markdown",
   "metadata": {},
   "source": [
    "Cuando `a` es 2, se cumple el caso `a > 0`, y por lo tanto se imprime `1`. Como se trata de muchos `if` independientes, cada uno verifica sus condiciones. Cuando `a` es 2, las condiciones `a>5`, `a>10` y `a>15` no se cumplen. Sin embargo, el último `if` tiene un `else` asociado. Eso significa que si su condición `a>15` no es verdadera, entonces se ejecuta el `else`, el cual imprime `5`."
   ]
  },
  {
   "cell_type": "code",
   "execution_count": 52,
   "metadata": {},
   "outputs": [
    {
     "name": "stdout",
     "output_type": "stream",
     "text": [
      "a: 8\n",
      "1\n",
      "2\n",
      "5\n"
     ]
    }
   ],
   "source": [
    "a = int(input(\"a: \"))\n",
    "if 0 < a:\n",
    "    print(1)\n",
    "if 5 < a:\n",
    "    print(2)\n",
    "if 10 < a:\n",
    "    print(3)\n",
    "if 15 < a:\n",
    "    print(4)\n",
    "else:            # este else se ejecuta si a <= 15\n",
    "    print(5)"
   ]
  },
  {
   "cell_type": "markdown",
   "metadata": {},
   "source": [
    "Cuando `a` es 8, se cumplen la primera (`a>0`) y segunda (`a>5`) condiciones, lo que imprime `1` y `2`. La condición `a>10` no se cumple, y `a>15` tampoco, pero esta última está asociada a un `else`, el cual imprime `5`.\n",
    "\n"
   ]
  },
  {
   "cell_type": "code",
   "execution_count": 53,
   "metadata": {},
   "outputs": [
    {
     "name": "stdout",
     "output_type": "stream",
     "text": [
      "a: 12\n",
      "1\n",
      "2\n",
      "3\n",
      "5\n"
     ]
    }
   ],
   "source": [
    "a = int(input(\"a: \"))\n",
    "if 0 < a:\n",
    "    print(1)\n",
    "if 5 < a:\n",
    "    print(2)\n",
    "if 10 < a:\n",
    "    print(3)\n",
    "if 15 < a:\n",
    "    print(4)\n",
    "else:            # este else se ejecuta si a <= 15\n",
    "    print(5)"
   ]
  },
  {
   "cell_type": "code",
   "execution_count": 54,
   "metadata": {},
   "outputs": [
    {
     "name": "stdout",
     "output_type": "stream",
     "text": [
      "a: 20\n",
      "1\n",
      "2\n",
      "3\n",
      "4\n"
     ]
    }
   ],
   "source": [
    "a = int(input(\"a: \"))\n",
    "if 0 < a:\n",
    "    print(1)\n",
    "if 5 < a:\n",
    "    print(2)\n",
    "if 10 < a:\n",
    "    print(3)\n",
    "if 15 < a:\n",
    "    print(4)\n",
    "else:            # este else se ejecuta si a <= 15\n",
    "    print(5)"
   ]
  },
  {
   "cell_type": "code",
   "execution_count": 55,
   "metadata": {},
   "outputs": [
    {
     "name": "stdout",
     "output_type": "stream",
     "text": [
      "a: -45\n",
      "5\n"
     ]
    }
   ],
   "source": [
    "a = int(input(\"a: \"))\n",
    "if 0 < a:\n",
    "    print(1)\n",
    "if 5 < a:\n",
    "    print(2)\n",
    "if 10 < a:\n",
    "    print(3)\n",
    "if 15 < a:\n",
    "    print(4)\n",
    "else:            # este else se ejecuta si a <= 15\n",
    "    print(5)"
   ]
  },
  {
   "cell_type": "markdown",
   "metadata": {},
   "source": [
    "Cuando `a` es un valor negativo o 0, no se cumple ninguna condición. No se ejecuta el código de ningún `if`. Sin embargo, el último `if` tiene asociado un `else`, por lo tanto como no se cumple su condición `a>15`, entonces se ejecuta el `else`."
   ]
  },
  {
   "cell_type": "markdown",
   "metadata": {},
   "source": [
    "El siguiente código es similar, pero utiliza un conjunto de `elif` para verificar las otras condiciones. En este caso no son verificaciones independientes, sino que una sola instrucción `if-elif-else` que ejecuta exactamente uno de los códigos asociados."
   ]
  },
  {
   "cell_type": "code",
   "execution_count": 56,
   "metadata": {},
   "outputs": [
    {
     "name": "stdout",
     "output_type": "stream",
     "text": [
      "a: 2\n",
      "1\n"
     ]
    }
   ],
   "source": [
    "a = int(input(\"a: \"))\n",
    "if 0 < a:\n",
    "    print(1)\n",
    "elif 5 < a:\n",
    "    print(2)\n",
    "elif 10 < a:\n",
    "    print(3)\n",
    "elif 15 < a:\n",
    "    print(4)\n",
    "else:            # este else se ejecuta si ...\n",
    "    print(5)"
   ]
  },
  {
   "cell_type": "markdown",
   "metadata": {},
   "source": [
    "A diferencia del caso con múltiples `if`, esta vez las condiciones se revisan hasta la primera que se cumpla, o bien se ejecuta el `else`. Para este caso, cuando `a` es 2, se cumple la primera condición (`a > 0`), por lo tanto se imprime `1`, y **no se revisan las condiciones siguientes** (aún cuando sean verdaderas). "
   ]
  },
  {
   "cell_type": "code",
   "execution_count": 57,
   "metadata": {},
   "outputs": [
    {
     "name": "stdout",
     "output_type": "stream",
     "text": [
      "a: 8\n",
      "1\n"
     ]
    }
   ],
   "source": [
    "a = int(input(\"a: \"))\n",
    "if 0 < a:\n",
    "    print(1)\n",
    "elif 5 < a:\n",
    "    print(2)\n",
    "elif 10 < a:\n",
    "    print(3)\n",
    "elif 15 < a:\n",
    "    print(4)\n",
    "else:            # este else se ejecuta si ...\n",
    "    print(5)"
   ]
  },
  {
   "cell_type": "code",
   "execution_count": 58,
   "metadata": {},
   "outputs": [
    {
     "name": "stdout",
     "output_type": "stream",
     "text": [
      "a: 12\n",
      "1\n"
     ]
    }
   ],
   "source": [
    "a = int(input(\"a: \"))\n",
    "if 0 < a:\n",
    "    print(1)\n",
    "elif 5 < a:\n",
    "    print(2)\n",
    "elif 10 < a:\n",
    "    print(3)\n",
    "elif 15 < a:\n",
    "    print(4)\n",
    "else:            # este else se ejecuta si ...\n",
    "    print(5)"
   ]
  },
  {
   "cell_type": "code",
   "execution_count": 59,
   "metadata": {},
   "outputs": [
    {
     "name": "stdout",
     "output_type": "stream",
     "text": [
      "a: 20\n",
      "1\n"
     ]
    }
   ],
   "source": [
    "a = int(input(\"a: \"))\n",
    "if 0 < a:\n",
    "    print(1)\n",
    "elif 5 < a:\n",
    "    print(2)\n",
    "elif 10 < a:\n",
    "    print(3)\n",
    "elif 15 < a:\n",
    "    print(4)\n",
    "else:            # este else se ejecuta si ...\n",
    "    print(5)"
   ]
  },
  {
   "cell_type": "code",
   "execution_count": 60,
   "metadata": {},
   "outputs": [
    {
     "name": "stdout",
     "output_type": "stream",
     "text": [
      "a: -45\n",
      "5\n"
     ]
    }
   ],
   "source": [
    "a = int(input(\"a: \"))\n",
    "if 0 < a:\n",
    "    print(1)\n",
    "elif 5 < a:\n",
    "    print(2)\n",
    "elif 10 < a:\n",
    "    print(3)\n",
    "elif 15 < a:\n",
    "    print(4)\n",
    "else:            # este else se ejecuta si ...\n",
    "    print(5)"
   ]
  },
  {
   "cell_type": "markdown",
   "metadata": {},
   "source": [
    "Más allá de los valores `\"1\"` ó `\"5\"`, **no hay manera** de hacer que el código escriba `\"2\"`, `\"3\"` ó `\"4\"`. Esto ocurre porque cualquier valor de `a` que haga que se cumpla `a > 5`, `a > 10` ó `a > 15`, también cumple que `a > 0`. Por lo tanto, el código entrará en el primer `if`, y **no verificará** las demás condiciones.\n",
    "\n",
    "El `else` solamente se ejecuta cuando ninguna condición se cumple, y esto pasa cuando `a <= 0`.\n",
    "\n",
    "Como vemos, el orden y la construcción de las condiciones es importante para construir un algoritmo que haga lo queremos."
   ]
  }
 ],
 "metadata": {
  "kernelspec": {
   "display_name": "Python 3",
   "language": "python",
   "name": "python3"
  },
  "language_info": {
   "codemirror_mode": {
    "name": "ipython",
    "version": 3
   },
   "file_extension": ".py",
   "mimetype": "text/x-python",
   "name": "python",
   "nbconvert_exporter": "python",
   "pygments_lexer": "ipython3",
   "version": "3.7.4"
  }
 },
 "nbformat": 4,
 "nbformat_minor": 2
}
