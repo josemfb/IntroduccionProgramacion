{
 "cells": [
  {
   "cell_type": "markdown",
   "metadata": {},
   "source": [
    "# Clase 14. Strings (I)\n",
    "\n",
    "<p>\n",
    "<font size='5' face='Georgia, Arial'>IIC1103-07 Introducción a la Programación</font><br>\n",
    "<font size='2'>Jueves 26-Septiembre-2019</font><br>\n",
    "<font size='2'>Contactos: Cristian Ruz, cruz@ing.puc.cl; Raúl Álvarez, rsalvarez@uc.cl</font>\n",
    "</p>\n"
   ]
  },
  {
   "cell_type": "markdown",
   "metadata": {},
   "source": [
    "Hasta el momento hemos trabajo principalmente con datos numéricos: `int` y `float`; tipos de datos lógicos: `bool`, y hemos ejecutado acciones básicas con tipos de datos de texto: `str`. En esta semana vamos a aprender más detalles del tipo de datos `str` y funciones predefinidas para manipularlos."
   ]
  },
  {
   "cell_type": "markdown",
   "metadata": {},
   "source": [
    "## Longitud de *strings*: `len()`\n",
    "\n",
    "La función recibe como parámetro un *string* `s` y **retorna** como resultado la **cantidad de caracteres** en `s`. Esto incluye los espacios en blanco."
   ]
  },
  {
   "cell_type": "code",
   "execution_count": 1,
   "metadata": {},
   "outputs": [
    {
     "name": "stdout",
     "output_type": "stream",
     "text": [
      "17\n"
     ]
    }
   ],
   "source": [
    "## Este string tiene longitud 17 (no olvidar que también hay un '.')\n",
    "texto = \"Acá hay largo 17.\"\n",
    "print(len(texto))"
   ]
  },
  {
   "cell_type": "code",
   "execution_count": 3,
   "metadata": {},
   "outputs": [
    {
     "name": "stdout",
     "output_type": "stream",
     "text": [
      "El largo es 40\n"
     ]
    }
   ],
   "source": [
    "## Podemos almacenar el resultado de len() en una variable para usarlo posteriormente\n",
    "texto = \"En la I1 resolví todo menos la recursión\"\n",
    "largo = len(texto)\n",
    "print(\"El largo es\",largo)"
   ]
  },
  {
   "cell_type": "markdown",
   "metadata": {},
   "source": [
    "## Índices: posiciones dentro de un **string**\n",
    "\n",
    "Cada caracter dentro de un _string_ posee una **posición** o **índice** único dentro del *string*. La primera posición de un _string_ `s` tiene el índice `0` y la última posición tiene el índice `len(s)-1`.\n",
    "\n",
    "![alt text](14-fig1.svg \"Title\")\n",
    "\n",
    "Es posible acceder al caracter que está en una posición específica `k` de un  *string* `s` usando la notación `s[k]`."
   ]
  },
  {
   "cell_type": "code",
   "execution_count": 8,
   "metadata": {},
   "outputs": [
    {
     "name": "stdout",
     "output_type": "stream",
     "text": [
      "e\n"
     ]
    }
   ],
   "source": [
    "## Accede al caracter en posición 23 del string\n",
    "print(texto[23])"
   ]
  },
  {
   "cell_type": "markdown",
   "metadata": {},
   "source": [
    "No podemos acceder a una posición que es mayor o igual a la longitud del *string*. De lo contrario es produce un error que indica `string index out of range` y se refiere a que se intentó acceder a un índice que está fuera del rango de índices del *string*."
   ]
  },
  {
   "cell_type": "code",
   "execution_count": 9,
   "metadata": {},
   "outputs": [
    {
     "ename": "IndexError",
     "evalue": "string index out of range",
     "output_type": "error",
     "traceback": [
      "\u001b[0;31m---------------------------------------------------------------------------\u001b[0m",
      "\u001b[0;31mIndexError\u001b[0m                                Traceback (most recent call last)",
      "\u001b[0;32m<ipython-input-9-ec10dd0fe71e>\u001b[0m in \u001b[0;36m<module>\u001b[0;34m\u001b[0m\n\u001b[1;32m      1\u001b[0m \u001b[0;31m## La posición más alta que puedo acceder es la 39.\u001b[0m\u001b[0;34m\u001b[0m\u001b[0;34m\u001b[0m\u001b[0;34m\u001b[0m\u001b[0m\n\u001b[0;32m----> 2\u001b[0;31m \u001b[0mprint\u001b[0m\u001b[0;34m(\u001b[0m\u001b[0mtexto\u001b[0m\u001b[0;34m[\u001b[0m\u001b[0;36m45\u001b[0m\u001b[0;34m]\u001b[0m\u001b[0;34m)\u001b[0m\u001b[0;34m\u001b[0m\u001b[0;34m\u001b[0m\u001b[0m\n\u001b[0m",
      "\u001b[0;31mIndexError\u001b[0m: string index out of range"
     ]
    }
   ],
   "source": [
    "## La posición más alta que puedo acceder es la 39.\n",
    "print(texto[45])"
   ]
  },
  {
   "cell_type": "markdown",
   "metadata": {},
   "source": [
    "Sin embargo sí podemos a acceder a posiciones a partir de la última \"hacia atrás\" usando valores desde `-1` hasta `-len(s)`"
   ]
  },
  {
   "cell_type": "code",
   "execution_count": 13,
   "metadata": {},
   "outputs": [
    {
     "name": "stdout",
     "output_type": "stream",
     "text": [
      "n\n",
      "ó\n",
      "n\n",
      "E\n"
     ]
    }
   ],
   "source": [
    "## La posición más alta que puedo acceder es la 39.\n",
    "print(texto[-1])        # Esto es como acceder a la posición 39\n",
    "print(texto[-2])        # Esto es como acceder a la posición 38\n",
    "print(texto[-39])       # Esto es como acceder a la posición 1\n",
    "print(texto[-40])       # Esto es como acceder a la posición 0"
   ]
  },
  {
   "cell_type": "markdown",
   "metadata": {},
   "source": [
    "Podemos usar la notación `s[k]` y un ciclo `for` para recorrer una porción de un *string*."
   ]
  },
  {
   "cell_type": "code",
   "execution_count": 15,
   "metadata": {},
   "outputs": [
    {
     "name": "stdout",
     "output_type": "stream",
     "text": [
      "r\n",
      "e\n",
      "s\n",
      "o\n",
      "l\n",
      "v\n",
      "í\n"
     ]
    }
   ],
   "source": [
    "## Imprime desde la posición 9 hasta la 15 (justo antes de la 16)\n",
    "for i in range(9,16):\n",
    "    print(texto[i])"
   ]
  },
  {
   "cell_type": "markdown",
   "metadata": {},
   "source": [
    "En el ejemplo anterior, cada caracter aparece en una línea distinta. Si queremos que `print` no cambie en la línea al final de cada ejecución, podemos usar agregar un parámetro especial."
   ]
  },
  {
   "cell_type": "code",
   "execution_count": 16,
   "metadata": {},
   "outputs": [
    {
     "name": "stdout",
     "output_type": "stream",
     "text": [
      "resolví"
     ]
    }
   ],
   "source": [
    "## Imprime desde la posición 9 hasta la 15 (justo antes de la 16), pero no cambia de línea\n",
    "for i in range(9,16):\n",
    "    print(texto[i], end=\"\")"
   ]
  },
  {
   "cell_type": "markdown",
   "metadata": {},
   "source": [
    "## Tomar porciones de un *string*: *slicing*\n",
    "\n",
    "Una manera más conveniente de extraer una porción de un _string_ `s` es usar la notación de *slicing* `s[i:j]`. Esto permite obtener una copia del *string* desde la posición `i` hasta la `j-1`."
   ]
  },
  {
   "cell_type": "code",
   "execution_count": 18,
   "metadata": {},
   "outputs": [
    {
     "name": "stdout",
     "output_type": "stream",
     "text": [
      "resolví\n",
      "En la I1 resolví todo menos la recursión\n"
     ]
    }
   ],
   "source": [
    "texto = \"En la I1 resolví todo menos la recursión\"\n",
    "minitexto = texto[9:16]\n",
    "print(minitexto)\n",
    "print(texto)"
   ]
  },
  {
   "cell_type": "code",
   "execution_count": 19,
   "metadata": {},
   "outputs": [
    {
     "name": "stdout",
     "output_type": "stream",
     "text": [
      "resolví t\n"
     ]
    }
   ],
   "source": [
    "## Desde la posición 9 hasta las 17\n",
    "print(texto[9:18])"
   ]
  },
  {
   "cell_type": "markdown",
   "metadata": {},
   "source": [
    "Si omitimos el segundo índice, considera hasta la última posición del _string_ (`len(s)-1`)"
   ]
  },
  {
   "cell_type": "code",
   "execution_count": 21,
   "metadata": {},
   "outputs": [
    {
     "name": "stdout",
     "output_type": "stream",
     "text": [
      "resolví todo menos la recursión\n"
     ]
    }
   ],
   "source": [
    "## Desde la posición 9 hasta el final\n",
    "print(texto[9:])"
   ]
  },
  {
   "cell_type": "markdown",
   "metadata": {},
   "source": [
    "Si omitimos la primera posición, considera desde el inicio del _string_ (posición `0`)."
   ]
  },
  {
   "cell_type": "code",
   "execution_count": 23,
   "metadata": {},
   "outputs": [
    {
     "name": "stdout",
     "output_type": "stream",
     "text": [
      "En la I1 resolv\n"
     ]
    }
   ],
   "source": [
    "## Desde la posición 0 hasta la 14\n",
    "print(texto[:15])"
   ]
  },
  {
   "cell_type": "markdown",
   "metadata": {},
   "source": [
    "Si no indicamos ninguna posición, es equivalente a tomar el *string* completo."
   ]
  },
  {
   "cell_type": "code",
   "execution_count": 24,
   "metadata": {},
   "outputs": [
    {
     "name": "stdout",
     "output_type": "stream",
     "text": [
      "En la I1 resolví todo menos la recursión\n"
     ]
    }
   ],
   "source": [
    "## Si no indica inicio ni fin, se toma totdo el string\n",
    "print(texto[:])"
   ]
  },
  {
   "cell_type": "markdown",
   "metadata": {},
   "source": [
    "Si indicamos una posición de inicio mayor a la de término, se obtiene un texto vació: `\"\"`"
   ]
  },
  {
   "cell_type": "code",
   "execution_count": 27,
   "metadata": {},
   "outputs": [
    {
     "name": "stdout",
     "output_type": "stream",
     "text": [
      "El minitexto es [], y su largo largo es 0\n"
     ]
    }
   ],
   "source": [
    "## Este minitexto está vacío\n",
    "minitexto = texto[15:9]\n",
    "print(\"El minitexto es [\" + minitexto + \"], y su largo largo es\", len(minitexto))"
   ]
  },
  {
   "cell_type": "markdown",
   "metadata": {},
   "source": [
    "Podemos obtener todas las posiciones, menos la última."
   ]
  },
  {
   "cell_type": "code",
   "execution_count": 30,
   "metadata": {},
   "outputs": [
    {
     "name": "stdout",
     "output_type": "stream",
     "text": [
      "En la I1 resolví todo menos la recursió\n"
     ]
    }
   ],
   "source": [
    "## Desde la posición -40 hasta la -2. Dicho de otra forma, desde la 0 hasta la 38\n",
    "print(texto[:-1])"
   ]
  },
  {
   "cell_type": "markdown",
   "metadata": {},
   "source": [
    "### *Slicing* con saltos\n",
    "\n",
    "Podemos obtener posiciones intercaladas agregando un tercer valor a la notación de *slicing*. Para un *string* `s`, al escribir `s[i:j:k]`. Esto permite obtener una copia del *string* desde la posición `i` hasta la `j-1`, pero avanzado `k` posiciones antes de tomar el siguiente caracter."
   ]
  },
  {
   "cell_type": "code",
   "execution_count": 31,
   "metadata": {},
   "outputs": [
    {
     "name": "stdout",
     "output_type": "stream",
     "text": [
      "resolví\n",
      "rslí\n"
     ]
    }
   ],
   "source": [
    "## Desde la posición 9 hasta la 16\n",
    "print(texto[9:16])\n",
    "\n",
    "## Desde la posición 9 hasta las 16, pero avanzando de a 2\n",
    "print(texto[9:16:2])"
   ]
  },
  {
   "cell_type": "code",
   "execution_count": 32,
   "metadata": {},
   "outputs": [
    {
     "name": "stdout",
     "output_type": "stream",
     "text": [
      "En la I1 resolví todo menos la recursión\n",
      "E aI eov oomnsl eusó\n"
     ]
    }
   ],
   "source": [
    "print(texto)\n",
    "\n",
    "## Desde la posición inicial hasta la final, pero avanzando de a 2\n",
    "print(texto[::2])"
   ]
  },
  {
   "cell_type": "code",
   "execution_count": 33,
   "metadata": {},
   "outputs": [
    {
     "name": "stdout",
     "output_type": "stream",
     "text": [
      "En la I1 resolví todo menos la recursión\n",
      "ElIroío n  csn\n"
     ]
    }
   ],
   "source": [
    "print(texto)\n",
    "\n",
    "## Desde la posición inicial hasta la final, pero avanzando de a 3\n",
    "print(texto[::3])"
   ]
  },
  {
   "cell_type": "markdown",
   "metadata": {},
   "source": [
    "También podemos entregar saltos negativos. En ese caso, el índice retrocede. Podemos aprovechar esto para obtener una copia invertida del _string_"
   ]
  },
  {
   "cell_type": "code",
   "execution_count": 35,
   "metadata": {},
   "outputs": [
    {
     "name": "stdout",
     "output_type": "stream",
     "text": [
      "En la I1 resolví todo menos la recursión\n",
      "nóisrucer al sonem odot ívloser 1I al nE\n",
      "nircra oe dtílsr1 ln\n"
     ]
    }
   ],
   "source": [
    "print(texto)\n",
    "\n",
    "## Desde el inicio hacia \"atrás\" (devolviéndose)\n",
    "print(texto[::-1])\n",
    "print(texto[::-2])"
   ]
  },
  {
   "cell_type": "markdown",
   "metadata": {},
   "source": [
    "## Inmutabilidad de _strings_\n",
    "\n",
    "Notemos que después de todas las operaciones de _slicing_ que hemos probado, el _string_ original sigue siendo el mismo. No cambia."
   ]
  },
  {
   "cell_type": "code",
   "execution_count": 37,
   "metadata": {},
   "outputs": [
    {
     "name": "stdout",
     "output_type": "stream",
     "text": [
      "String original  : En la I1 resolví todo menos la recursión\n",
      "String extraido 1: todo men\n",
      "String extraido 2: la I1\n",
      "String original  : En la I1 resolví todo menos la recursión\n"
     ]
    }
   ],
   "source": [
    "texto = \"En la I1 resolví todo menos la recursión\"\n",
    "print(\"String original  :\", texto)\n",
    "print(\"String extraido 1:\", texto[17:25])\n",
    "minitexto = texto[3:8]\n",
    "print(\"String extraido 2:\", minitexto)\n",
    "\n",
    "## A pesar esta manipulaciones, el string original no ha cambiado\n",
    "print(\"String original  :\", texto)"
   ]
  },
  {
   "cell_type": "markdown",
   "metadata": {},
   "source": [
    "Tratemos de reemplazar `I1` por `I2`. Debería ser cosa de cambiar la posición 7."
   ]
  },
  {
   "cell_type": "code",
   "execution_count": 39,
   "metadata": {},
   "outputs": [
    {
     "name": "stdout",
     "output_type": "stream",
     "text": [
      "1\n"
     ]
    }
   ],
   "source": [
    "## La posición 7 con tiene la el caracter '1'\n",
    "print(texto[7])"
   ]
  },
  {
   "cell_type": "code",
   "execution_count": 40,
   "metadata": {},
   "outputs": [
    {
     "ename": "TypeError",
     "evalue": "'str' object does not support item assignment",
     "output_type": "error",
     "traceback": [
      "\u001b[0;31m---------------------------------------------------------------------------\u001b[0m",
      "\u001b[0;31mTypeError\u001b[0m                                 Traceback (most recent call last)",
      "\u001b[0;32m<ipython-input-40-47afa5879d30>\u001b[0m in \u001b[0;36m<module>\u001b[0;34m\u001b[0m\n\u001b[1;32m      1\u001b[0m \u001b[0;31m## Cambiémoslo por '2'\u001b[0m\u001b[0;34m\u001b[0m\u001b[0;34m\u001b[0m\u001b[0;34m\u001b[0m\u001b[0m\n\u001b[0;32m----> 2\u001b[0;31m \u001b[0mtexto\u001b[0m\u001b[0;34m[\u001b[0m\u001b[0;36m7\u001b[0m\u001b[0;34m]\u001b[0m \u001b[0;34m=\u001b[0m \u001b[0;34m\"2\"\u001b[0m\u001b[0;34m\u001b[0m\u001b[0;34m\u001b[0m\u001b[0m\n\u001b[0m",
      "\u001b[0;31mTypeError\u001b[0m: 'str' object does not support item assignment"
     ]
    }
   ],
   "source": [
    "## Cambiémoslo por '2'\n",
    "texto[7] = \"2\""
   ]
  },
  {
   "cell_type": "markdown",
   "metadata": {},
   "source": [
    "Se produce un error que dice `'str' object does not support item assignment\"`. Esto signifca que los `str` no permiten que se modifique alguna de sus posiciones.\n",
    "\n",
    "Esto ocurre porque, en Python, los _strings_ son **inmutables** esto significa que **no los podemos modificar**.\n",
    "\n",
    "Sin embargo, hay una solución para todo. No podemos modificar lo que hay dentro de un _string_ una vez que lo hemos creado, pero sí podemos **crear una copia**, **construir una copia modificada**, o **reasignar** el nombre de la variable a otro *string*."
   ]
  },
  {
   "cell_type": "code",
   "execution_count": 25,
   "metadata": {},
   "outputs": [
    {
     "name": "stdout",
     "output_type": "stream",
     "text": [
      "En la I1 resolví todo incluso la recursión\n"
     ]
    }
   ],
   "source": [
    "texto = \"En la I1 resolví todo menos la recursión\"\n",
    "\n",
    "## Quiero reemplazar la palabra \"menos\" por la palabra \"incluso\"\n",
    "## Construyo un nuevo string como una concatenación de trozos del texto original, y le pongo otro nombre\n",
    "texto_nuevo = texto[:22] + \"incluso\" + texto[27:]\n",
    "print(texto_nuevo)"
   ]
  },
  {
   "cell_type": "code",
   "execution_count": 41,
   "metadata": {},
   "outputs": [
    {
     "name": "stdout",
     "output_type": "stream",
     "text": [
      "En la I1 resolví todo incluso la recursión\n"
     ]
    }
   ],
   "source": [
    "texto = \"En la I1 resolví todo menos la recursión\"\n",
    "\n",
    "## Quiero reemplazar la palabra \"menos\" por la palabra \"incluso\"\n",
    "## También puedo usar el mismo nombre del string original.\n",
    "## Con esto no estoy modificando el string original, sino que estoy cambiando el string asociado a 'texto'\n",
    "texto = texto[:22] + \"incluso\" + texto[27:]\n",
    "print(texto)"
   ]
  },
  {
   "cell_type": "markdown",
   "metadata": {},
   "source": [
    "## Recorriendo *strings* con ciclos\n",
    "\n",
    "Los ciclos nos permiten recorrer cada una de las posiciones de un _string_ fácilmente conociendo su longitud."
   ]
  },
  {
   "cell_type": "code",
   "execution_count": 43,
   "metadata": {},
   "outputs": [
    {
     "name": "stdout",
     "output_type": "stream",
     "text": [
      "Posición 0 :  E\n",
      "Posición 1 :  n\n",
      "Posición 2 :   \n",
      "Posición 3 :  l\n",
      "Posición 4 :  a\n",
      "Posición 5 :   \n",
      "Posición 6 :  I\n",
      "Posición 7 :  1\n",
      "Posición 8 :   \n",
      "Posición 9 :  r\n",
      "Posición 10 :  e\n",
      "Posición 11 :  s\n",
      "Posición 12 :  o\n",
      "Posición 13 :  l\n",
      "Posición 14 :  v\n",
      "Posición 15 :  í\n",
      "Posición 16 :   \n",
      "Posición 17 :  t\n",
      "Posición 18 :  o\n",
      "Posición 19 :  d\n",
      "Posición 20 :  o\n",
      "Posición 21 :   \n",
      "Posición 22 :  i\n",
      "Posición 23 :  n\n",
      "Posición 24 :  c\n",
      "Posición 25 :  l\n",
      "Posición 26 :  u\n",
      "Posición 27 :  s\n",
      "Posición 28 :  o\n",
      "Posición 29 :   \n",
      "Posición 30 :  l\n",
      "Posición 31 :  a\n",
      "Posición 32 :   \n",
      "Posición 33 :  r\n",
      "Posición 34 :  e\n",
      "Posición 35 :  c\n",
      "Posición 36 :  u\n",
      "Posición 37 :  r\n",
      "Posición 38 :  s\n",
      "Posición 39 :  i\n",
      "Posición 40 :  ó\n",
      "Posición 41 :  n\n"
     ]
    }
   ],
   "source": [
    "largo = len(texto)\n",
    "pos = 0\n",
    "while pos < largo:\n",
    "    print(\"Posición\", pos, \": \", texto[pos])\n",
    "    pos += 1"
   ]
  },
  {
   "cell_type": "markdown",
   "metadata": {},
   "source": [
    "Ya que sabemos exactamente cuántos caracteres hay que imprimir, es más conveniente usar `for` para escribir menos código."
   ]
  },
  {
   "cell_type": "code",
   "execution_count": 44,
   "metadata": {},
   "outputs": [
    {
     "name": "stdout",
     "output_type": "stream",
     "text": [
      "Posición 0 :  E\n",
      "Posición 1 :  n\n",
      "Posición 2 :   \n",
      "Posición 3 :  l\n",
      "Posición 4 :  a\n",
      "Posición 5 :   \n",
      "Posición 6 :  I\n",
      "Posición 7 :  1\n",
      "Posición 8 :   \n",
      "Posición 9 :  r\n",
      "Posición 10 :  e\n",
      "Posición 11 :  s\n",
      "Posición 12 :  o\n",
      "Posición 13 :  l\n",
      "Posición 14 :  v\n",
      "Posición 15 :  í\n",
      "Posición 16 :   \n",
      "Posición 17 :  t\n",
      "Posición 18 :  o\n",
      "Posición 19 :  d\n",
      "Posición 20 :  o\n",
      "Posición 21 :   \n",
      "Posición 22 :  i\n",
      "Posición 23 :  n\n",
      "Posición 24 :  c\n",
      "Posición 25 :  l\n",
      "Posición 26 :  u\n",
      "Posición 27 :  s\n",
      "Posición 28 :  o\n",
      "Posición 29 :   \n",
      "Posición 30 :  l\n",
      "Posición 31 :  a\n",
      "Posición 32 :   \n",
      "Posición 33 :  r\n",
      "Posición 34 :  e\n",
      "Posición 35 :  c\n",
      "Posición 36 :  u\n",
      "Posición 37 :  r\n",
      "Posición 38 :  s\n",
      "Posición 39 :  i\n",
      "Posición 40 :  ó\n",
      "Posición 41 :  n\n"
     ]
    }
   ],
   "source": [
    "for pos in range(len(texto)):\n",
    "    print(\"Posición\", pos, \": \", texto[pos])"
   ]
  },
  {
   "cell_type": "markdown",
   "metadata": {},
   "source": [
    "Sin embargo, si no nos interesa el índice, podemos usar `for` para recorrer cada uno de los caracteres del *string*."
   ]
  },
  {
   "cell_type": "code",
   "execution_count": 45,
   "metadata": {},
   "outputs": [
    {
     "name": "stdout",
     "output_type": "stream",
     "text": [
      "E\n",
      "n\n",
      " \n",
      "l\n",
      "a\n",
      " \n",
      "I\n",
      "1\n",
      " \n",
      "r\n",
      "e\n",
      "s\n",
      "o\n",
      "l\n",
      "v\n",
      "í\n",
      " \n",
      "t\n",
      "o\n",
      "d\n",
      "o\n",
      " \n",
      "i\n",
      "n\n",
      "c\n",
      "l\n",
      "u\n",
      "s\n",
      "o\n",
      " \n",
      "l\n",
      "a\n",
      " \n",
      "r\n",
      "e\n",
      "c\n",
      "u\n",
      "r\n",
      "s\n",
      "i\n",
      "ó\n",
      "n\n"
     ]
    }
   ],
   "source": [
    "## En cada iteración, la variable 'letra' toma el valor del siguiente caracter del string\n",
    "for letra in texto:\n",
    "    print(letra)"
   ]
  },
  {
   "cell_type": "code",
   "execution_count": 46,
   "metadata": {},
   "outputs": [
    {
     "name": "stdout",
     "output_type": "stream",
     "text": [
      "c\n",
      "u\n",
      "a\n",
      "l\n",
      "q\n",
      "u\n",
      "i\n",
      "e\n",
      "r\n",
      " \n",
      "s\n",
      "t\n",
      "r\n",
      "i\n",
      "n\n",
      "g\n"
     ]
    }
   ],
   "source": [
    "for letra in \"cualquier string\":\n",
    "    print(letra)"
   ]
  },
  {
   "cell_type": "markdown",
   "metadata": {},
   "source": [
    "Podemos usar esta idea para recorrer cada una de las letras del alfabeto."
   ]
  },
  {
   "cell_type": "code",
   "execution_count": 47,
   "metadata": {},
   "outputs": [
    {
     "name": "stdout",
     "output_type": "stream",
     "text": [
      "a\n",
      "b\n",
      "c\n",
      "d\n",
      "e\n",
      "f\n",
      "g\n",
      "h\n",
      "i\n",
      "j\n",
      "k\n",
      "l\n",
      "m\n",
      "n\n",
      "o\n",
      "p\n",
      "q\n",
      "r\n",
      "s\n",
      "t\n",
      "u\n",
      "v\n",
      "w\n",
      "x\n",
      "y\n",
      "z\n"
     ]
    }
   ],
   "source": [
    "for letra in \"abcdefghijklmnopqrstuvwxyz\":\n",
    "    print(letra)"
   ]
  },
  {
   "cell_type": "markdown",
   "metadata": {},
   "source": [
    "## Ejercicios\n",
    "\n",
    "### Ejercicio 1: Contar vocales\n",
    "\n",
    "Escriba un programa que cuente cuántas vocales hay en un texto."
   ]
  },
  {
   "cell_type": "code",
   "execution_count": 48,
   "metadata": {},
   "outputs": [
    {
     "name": "stdout",
     "output_type": "stream",
     "text": [
      "Hay 11 vocales en el texto: [En la I1 resolví todo menos la recursión]\n"
     ]
    }
   ],
   "source": [
    "texto = \"En la I1 resolví todo menos la recursión\"\n",
    "\n",
    "#Quiero contar cuantas vocales hay en texto\n",
    "n_vocales = 0\n",
    "for letra in texto:\n",
    "    if letra == \"a\" or letra == \"e\" or letra == \"i\" or letra == \"o\" or letra == \"u\":\n",
    "        n_vocales += 1\n",
    "print(\"Hay\", n_vocales, \"vocales en el texto:\", \"[\"+texto+\"]\")"
   ]
  },
  {
   "cell_type": "markdown",
   "metadata": {},
   "source": [
    "No es claro que esta solución cumpla todos los requisitos. Hemos construido un `if` que solo toma en cuenta letra minúsculas. Estamos ignorando las versiones en mayúsculas y las acentuadas. \n",
    "\n",
    "Si bien podemos hacer varios `if` o un solo `if` más grande, ese código quedaría bastante largo y menos agradable de leer. Podemos usar la notación `for ... in ...` para que Python haga ese trabajo por nosotros."
   ]
  },
  {
   "cell_type": "code",
   "execution_count": 49,
   "metadata": {},
   "outputs": [
    {
     "name": "stdout",
     "output_type": "stream",
     "text": [
      "Hay 15 vocales en [En la I1 resolví todo menos la recursión]\n"
     ]
    }
   ],
   "source": [
    "texto = \"En la I1 resolví todo menos la recursión\"\n",
    "\n",
    "#Quiero contar cuantas vocales hay en texto\n",
    "n_vocales = 0\n",
    "for letra in texto:\n",
    "    if letra in \"aeiouAEIOUáéíóúÁÉÍÓÚü\":\n",
    "        n_vocales += 1\n",
    "print(\"Hay\",n_vocales,\"vocales en\",\"[\"+texto+\"]\")"
   ]
  },
  {
   "cell_type": "markdown",
   "metadata": {},
   "source": [
    "Ahora sí hemos contado todo lo que queríamos. La notación `a in s` es una operación lógica que entrega el booleano `True` si es que el caracter `a` está dentro del _string_ `s`, y entrega `False` en caso contrario."
   ]
  },
  {
   "cell_type": "code",
   "execution_count": 50,
   "metadata": {},
   "outputs": [
    {
     "name": "stdout",
     "output_type": "stream",
     "text": [
      "False\n",
      "True\n"
     ]
    }
   ],
   "source": [
    "print(\"i\" in \"El texto\")\n",
    "print(\"i\" in \"El tixto\")"
   ]
  },
  {
   "cell_type": "markdown",
   "metadata": {},
   "source": [
    "### Ejercicio 2: Función que cuenta vocales\n",
    "\n",
    "Escriba una **función** que reciba como parámetro un _string_ y que **retorne** la cantidad de vocales que hay en ese *string*. "
   ]
  },
  {
   "cell_type": "code",
   "execution_count": 51,
   "metadata": {},
   "outputs": [],
   "source": [
    "## Función que cuenta cuantas vocales hay en texto\n",
    "## Recibe un string como parámetro, que llamaremos 'txt'\n",
    "\n",
    "def cuenta_vocales(txt):\n",
    "    n_vocales = 0\n",
    "    for letra in txt:\n",
    "        if letra in \"aeiouAEIOUáéíóúÁÉÍÓÚü\":\n",
    "            n_vocales += 1\n",
    "\n",
    "    # No olvidar que no nos piden IMPRIMIR (print), sino que RETORNAR (return) un valor\n",
    "    return n_vocales"
   ]
  },
  {
   "cell_type": "markdown",
   "metadata": {},
   "source": [
    "La función definida aquí cumple el objetivo. Si queremos probarla, podemos escribr un programa que la utilice, e imprimir su resultado."
   ]
  },
  {
   "cell_type": "code",
   "execution_count": 52,
   "metadata": {},
   "outputs": [
    {
     "name": "stdout",
     "output_type": "stream",
     "text": [
      "Hay 16 vocales en [En la I1 resolví todo incluso la recursión]\n"
     ]
    }
   ],
   "source": [
    "# Programa para probar la función 'cuenta_vocales'\n",
    "texto = \"En la I1 resolví todo incluso la recursión\"\n",
    "n = cuenta_vocales(texto)\n",
    "print(\"Hay\",n,\"vocales en\",\"[\"+texto+\"]\")"
   ]
  },
  {
   "cell_type": "markdown",
   "metadata": {},
   "source": [
    "### Ejercicio 3: Cambiar vocales\n",
    "\n",
    "Escriba una **función** que reciba dos argumentos: un _string_  `t` y un numero entero `num`. La función debe **retornar** una copia del _string_ `t`, pero con todas las vocales reemplazadas por el entero `num`."
   ]
  },
  {
   "cell_type": "code",
   "execution_count": 54,
   "metadata": {},
   "outputs": [
    {
     "name": "stdout",
     "output_type": "stream",
     "text": [
      "Original  :  En la I1 resolví todo incluso la recursión\n",
      "Modificado:  9n l9 91 r9s9lv9 t9d9 9ncl9s9 l9 r9c9rs99n\n",
      "Modificado:  111n l111 1111 r111s111lv111 t111d111 111ncl111s111 l111 r111c111rs111111n\n",
      "Original  :  En la I1 resolví todo incluso la recursión\n"
     ]
    }
   ],
   "source": [
    "#Función que CAMBIA todas las vocales por numeros\n",
    "def cambia_vocales(txt, num):\n",
    "    texto_nuevo = \"\"                                  # No puedo modificar 'txt', así que creo un string nuevo, vacío\n",
    "    for letra in txt:\n",
    "        if letra in \"aeiouAEIOUáéíóúÁÉÍÓÚü\":          # Si el caracter es vocal, copio el número\n",
    "            texto_nuevo = texto_nuevo + str(num)\n",
    "        else:                                         # Si no es vocal, copio el mismo caracter\n",
    "            texto_nuevo = texto_nuevo + letra\n",
    "    return texto_nuevo\n",
    "\n",
    "texto = \"En la I1 resolví todo incluso la recursión\"\n",
    "nuevo = cambia_vocales(texto, 9)\n",
    "print(\"Original  : \", texto)\n",
    "print(\"Modificado: \", nuevo)\n",
    "nuevonuevo = cambia_vocales(texto, 111)\n",
    "print(\"Modificado: \", nuevonuevo)\n",
    "\n",
    "# Atención que el string original 'text' no ha sido modificado\n",
    "print(\"Original  : \", texto)\n"
   ]
  },
  {
   "cell_type": "markdown",
   "metadata": {},
   "source": [
    "### Ejercicio 4: Encriptación `murcielago`\n",
    "\n",
    "En la encriptación `murcielago`, todas las ocurrencias de `m` se reemplazan por `e`; todas las de `u` por `l`; todas las `r` por `a`; todas las `c` por `g`; y todas las `i` por `o`.\n",
    "\n",
    "Escriba una **función** que **reciba un texto**, y **retorne** una versión encriptada de ese texto, de acuerdo al método `murcielago`"
   ]
  },
  {
   "cell_type": "code",
   "execution_count": 58,
   "metadata": {},
   "outputs": [
    {
     "name": "stdout",
     "output_type": "stream",
     "text": [
      "Original  : En la I1 resolví todo incluso la recursión\n",
      "Modificado: En ur I1 amsiuví tidi ongulsi ur amglasoón\n",
      "Decriptado: En la I1 resolví todo incluso la recursión\n",
      "¿Es igual al texto original?:  True\n"
     ]
    }
   ],
   "source": [
    "def encripta_murci(texto):\n",
    "    \n",
    "    texto_encriptado = \"\"           ## Como no puedo modificar 'texto' creo un string nuevo, inicialmente vacío\n",
    "    \n",
    "    for letra in texto:\n",
    "        ## Necesita un caso por cada transformación y también para mayúsculas/minúsculas, acentuadas, etc.\n",
    "        ## No están escritos todos los casos, pero se entiende la idea\n",
    "        if letra == \"m\":            \n",
    "            texto_encriptado += \"e\"\n",
    "        elif letra == \"u\":\n",
    "            texto_encriptado += \"l\"\n",
    "        elif letra == \"r\":\n",
    "            texto_encriptado += \"a\"\n",
    "        elif letra == \"c\":\n",
    "            texto_encriptado += \"g\"\n",
    "        elif letra == \"i\":\n",
    "            texto_encriptado += \"o\"\n",
    "        elif letra == \"e\":\n",
    "            texto_encriptado += \"m\"\n",
    "        elif letra == \"l\":\n",
    "            texto_encriptado += \"u\"\n",
    "        elif letra == \"a\":\n",
    "            texto_encriptado += \"r\"\n",
    "        elif letra == \"g\":\n",
    "            texto_encriptado += \"c\"\n",
    "        elif letra == \"o\":\n",
    "            texto_encriptado += \"i\"\n",
    "        ## Este ELSE es MUY IMPORTANTE. Lo necesitamos para copiar la letra original si no debe ser modificada\n",
    "        ## Piense por qué no serviría solo un grupo de IF's, sino que necesitamos que sean ELIF's\n",
    "        else:\n",
    "            texto_encriptado += letra\n",
    "                \n",
    "    return texto_encriptado\n",
    "\n",
    "## Programa principal\n",
    "texto = \"En la I1 resolví todo incluso la recursión\"\n",
    "texto_e = encripta_murci(texto)\n",
    "print(\"Original  :\", texto)\n",
    "print(\"Modificado:\", texto_e)\n",
    "\n",
    "## La desencriptación de 'murcielago' consiste en volver a aplicar la encriptación\n",
    "texto_d = encripta_murci(texto_e)\n",
    "print(\"Decriptado:\", texto_d)\n",
    "print(\"¿Es igual al texto original?: \", texto == texto_d)"
   ]
  }
 ],
 "metadata": {
  "kernelspec": {
   "display_name": "Python 3",
   "language": "python",
   "name": "python3"
  },
  "language_info": {
   "codemirror_mode": {
    "name": "ipython",
    "version": 3
   },
   "file_extension": ".py",
   "mimetype": "text/x-python",
   "name": "python",
   "nbconvert_exporter": "python",
   "pygments_lexer": "ipython3",
   "version": "3.7.4"
  }
 },
 "nbformat": 4,
 "nbformat_minor": 2
}
