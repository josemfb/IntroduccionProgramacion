{
 "cells": [
  {
   "cell_type": "markdown",
   "metadata": {},
   "source": [
    "# Clase 21. Tipos de datos propios (II)\n",
    "\n",
    "<p>\n",
    "<font size='5' face='Georgia, Arial'>IIC1103-07 Introducción a la Programación</font><br>\n",
    "<font size='2'>Martes 12-Noviembre-2019</font><br>\n",
    "<font size='2'>Contactos: Cristian Ruz, cruz@ing.puc.cl; Raúl Álvarez, rsalvarez@uc.cl</font>\n",
    "</p>\n"
   ]
  },
  {
   "cell_type": "code",
   "execution_count": 1,
   "metadata": {},
   "outputs": [
    {
     "name": "stdout",
     "output_type": "stream",
     "text": [
      "<class 'str'>\n",
      "<class 'int'>\n",
      "<class 'float'>\n"
     ]
    }
   ],
   "source": [
    "a = \"un texto\"\n",
    "b = 9\n",
    "c = 9.1\n",
    "print(type(a))\n",
    "print(type(b))\n",
    "print(type(c))"
   ]
  },
  {
   "cell_type": "code",
   "execution_count": 2,
   "metadata": {},
   "outputs": [
    {
     "name": "stdout",
     "output_type": "stream",
     "text": [
      "Cristian\n",
      "4.8\n",
      "<__main__.Estudiante object at 0x109be94d0>\n",
      "<__main__.Estudiante object at 0x109be9890>\n",
      "<__main__.Estudiante object at 0x109be94d0>\n"
     ]
    }
   ],
   "source": [
    "class Estudiante:\n",
    "    \n",
    "    def __init__(self, a1, a2, noms, nota, serie):\n",
    "\n",
    "        self.apellido1 = a1\n",
    "        self.apellido2 = a2\n",
    "        self.nombres = noms\n",
    "        self.notaI1 = nota\n",
    "        self.serie = serie\n",
    "        self.seccion = 7\n",
    "\n",
    "\n",
    "lista_del_curso = list()\n",
    "profesor = str(\"Cristian\")\n",
    "promedio = float(4.8)\n",
    "\n",
    "cristian = Estudiante(\"Ruz\", \"Ruz\", \"Cristian\", 7.0, \"Agents of SHIELD\")\n",
    "print(profesor)\n",
    "print(promedio)\n",
    "print(cristian)\n",
    "\n",
    "## Llamamos al inicializaor de la clase Estudiante.\n",
    "## es decir, estamos llamado al método __init__ de la clase Estudiante\n",
    "cristian = Estudiante(\"Ruz\", \"Ruz\", \"Cristian\", 7.0, \"Agents of SHIELD\")\n",
    "martin = Estudiante(\"Peñaloza\", \"García\", \"Martín José\", 4.1, \"GOT\")\n",
    "antonia = Estudiante(\"Contreras\", \"Klock\", \"Antonia María\", 3.3, \"Rick and Morty\")\n",
    "print(martin)\n",
    "print(antonia)"
   ]
  },
  {
   "cell_type": "code",
   "execution_count": 3,
   "metadata": {},
   "outputs": [
    {
     "name": "stdout",
     "output_type": "stream",
     "text": [
      "Agents of SHIELD\n",
      "García\n",
      "3.3\n"
     ]
    }
   ],
   "source": [
    "print(cristian.serie)\n",
    "print(martin.apellido2)\n",
    "print(antonia.notaI1)"
   ]
  },
  {
   "cell_type": "code",
   "execution_count": 9,
   "metadata": {},
   "outputs": [
    {
     "name": "stdout",
     "output_type": "stream",
     "text": [
      "Cristian tiene un 7.0 y le gusta ver Agents of SHIELD mide 187 cms, y le gusta practicar voleibol\n",
      "Martín José tiene un 4.1 y le gusta ver GOT mide 185 cms, y le gusta practicar dormir\n",
      "Antonia María tiene un 3.3 y le gusta ver Rick and Morty mide 177 cms, y le gusta practicar natacion\n",
      "=======================\n",
      "Cristian tiene un 7.0 y le gusta ver Agents of SHIELD mide 187 cms, y le gusta practicar llegar a la hora a la clase\n",
      "José Martín tiene un 4.1 y le gusta ver GOT mide 185 cms, y le gusta practicar dormir\n",
      "Antonia María tiene un 6.9 y le gusta ver Rick and Morty mide 177 cms, y le gusta practicar natacion\n",
      "=======================\n",
      "El promedio es 6.0\n",
      "=======================\n",
      "Soy un estudiante y me llamo Cristian\n",
      "Soy un estudiante y me llamo Antonia María\n",
      "Soy un estudiante y me llamo José Martín\n",
      "=======================\n",
      "Soy un estudiante y me llamo Cristian\n",
      "Soy un estudiante y me llamo Antonia María\n",
      "Soy un estudiante y me llamo José Martín\n"
     ]
    }
   ],
   "source": [
    "import random\n",
    "#print(lista_alumnos)\n",
    "\n",
    "class Estudiante:\n",
    "    \n",
    "    def __init__(self, a1, a2, noms, nota, serie):\n",
    "\n",
    "        self.serie = serie\n",
    "        self.nombres = noms\n",
    "        self.apellido2 = a2\n",
    "        self.deporte = random.choice([\"futbol\",\"tenis\",\"basquetbol\",\"voleibol\",\"curling\",\"ajedrez\",\"dormir\",\"natacion\"])\n",
    "        self.notaI1 = nota\n",
    "        self.altura = random.randint(150, 190)\n",
    "        self.seccion = 7\n",
    "        self.apellido1 = a1\n",
    "\n",
    "    def __str__(self):\n",
    "        #return \"Hola\"\n",
    "        return \"Soy un estudiante y me llamo \" + self.nombres\n",
    "        \n",
    "## Llamamos al inicializaor de la clase Estudiante.\n",
    "## es decir, estamos llamado al método __init__ de la clase Estudiante\n",
    "cristian = Estudiante(\"Ruz\", \"Ruz\", \"Cristian\", 7.0, \"Agents of SHIELD\")\n",
    "martin = Estudiante(\"Peñaloza\", \"García\", \"Martín José\", 4.1, \"GOT\")\n",
    "antonia = Estudiante(\"Contreras\", \"Klock\", \"Antonia María\", 3.3, \"Rick and Morty\")\n",
    "\n",
    "algunos = [cristian, martin, antonia]\n",
    "for e in algunos:\n",
    "    print(e.nombres,\"tiene un\",e.notaI1,\"y le gusta ver\",e.serie,\"mide\",e.altura,\"cms, y le gusta practicar\", e.deporte)\n",
    "    \n",
    "cristian.deporte = \"llegar a la hora a la clase\"\n",
    "antonia.notaI1 = 6.9\n",
    "martin.nombres = \"José Martín\"\n",
    "print(\"=======================\")\n",
    "for e in [cristian, martin, antonia]:\n",
    "    print(e.nombres,\"tiene un\",e.notaI1,\"y le gusta ver\",e.serie,\"mide\",e.altura,\"cms, y le gusta practicar\", e.deporte)\n",
    "\n",
    "print(\"=======================\")\n",
    "promedio = (cristian.notaI1 + martin.notaI1 + antonia.notaI1) / 3\n",
    "print(\"El promedio es\", promedio)\n",
    "\n",
    "print(\"=======================\")\n",
    "print(cristian)\n",
    "print(antonia)\n",
    "print(martin)\n",
    "print(\"=======================\")\n",
    "print(str(cristian))\n",
    "print(str(antonia))\n",
    "print(str(martin))\n",
    "\n",
    "\n"
   ]
  },
  {
   "cell_type": "code",
   "execution_count": 17,
   "metadata": {},
   "outputs": [
    {
     "name": "stdout",
     "output_type": "stream",
     "text": [
      "Soy un estudiante y me llamo Cristian y mi nota es 7.0\n",
      "Soy un estudiante y me llamo Martín José y mi nota es 4.1\n",
      "Soy un estudiante y me llamo Antonia María y mi nota es 3.3\n",
      "============\n",
      "Soy un estudiante y me llamo Cristian y mi nota es 4.5\n",
      "============\n",
      "Soy un estudiante y me llamo Cristian y mi nota es 5.8\n",
      "============\n",
      "Soy un estudiante y me llamo Antonia María y mi nota es 6.3\n",
      "============\n",
      "Soy un estudiante y me llamo Antonia María y mi nota es 7.0\n"
     ]
    }
   ],
   "source": [
    "import random\n",
    "#print(lista_alumnos)\n",
    "\n",
    "class Estudiante:\n",
    "    \n",
    "    def __init__(self, a1, a2, noms, nota, serie):\n",
    "        self.serie = serie\n",
    "        self.nombres = noms\n",
    "        self.apellido2 = a2\n",
    "        self.deporte = random.choice([\"futbol\",\"tenis\",\"basquetbol\",\"voleibol\",\"curling\",\"ajedrez\",\"dormir\",\"natacion\"])\n",
    "        self.notaI1 = nota\n",
    "        self.altura = random.randint(150, 190)\n",
    "        self.seccion = 7\n",
    "        self.apellido1 = a1\n",
    "\n",
    "    def __str__(self):\n",
    "        #return \"Hola\"\n",
    "        return \"Soy un estudiante y me llamo \" + self.nombres + \" y mi nota es \" + str(self.notaI1)\n",
    "    \n",
    "    def subir_nota(self, cuanto):\n",
    "        self.notaI1 += cuanto\n",
    "        if self.notaI1 > 7.0:\n",
    "            self.notaI1 = 7.0\n",
    "        \n",
    "## Llamamos al inicializaor de la clase Estudiante.\n",
    "## es decir, estamos llamado al método __init__ de la clase Estudiante\n",
    "cristian = Estudiante(\"Ruz\", \"Ruz\", \"Cristian\", 7.0, \"Agents of SHIELD\")\n",
    "martin = Estudiante(\"Peñaloza\", \"García\", \"Martín José\", 4.1, \"GOT\")\n",
    "antonia = Estudiante(\"Contreras\", \"Klock\", \"Antonia María\", 3.3, \"Rick and Morty\")\n",
    "\n",
    "algunos = [cristian, martin, antonia]\n",
    "for e in algunos:\n",
    "    print(e)\n",
    "\n",
    "cristian.notaI1 -= 2.5\n",
    "print(\"============\")\n",
    "print(cristian)\n",
    "print(\"============\")\n",
    "cristian.subir_nota(1.3)\n",
    "print(cristian)\n",
    "print(\"============\")\n",
    "antonia.subir_nota(3.0)\n",
    "print(antonia)\n",
    "print(\"============\")\n",
    "antonia.subir_nota(3.0)\n",
    "print(antonia)"
   ]
  },
  {
   "cell_type": "code",
   "execution_count": null,
   "metadata": {},
   "outputs": [],
   "source": []
  }
 ],
 "metadata": {
  "kernelspec": {
   "display_name": "Python 3",
   "language": "python",
   "name": "python3"
  },
  "language_info": {
   "codemirror_mode": {
    "name": "ipython",
    "version": 3
   },
   "file_extension": ".py",
   "mimetype": "text/x-python",
   "name": "python",
   "nbconvert_exporter": "python",
   "pygments_lexer": "ipython3",
   "version": "3.7.4"
  }
 },
 "nbformat": 4,
 "nbformat_minor": 2
}
