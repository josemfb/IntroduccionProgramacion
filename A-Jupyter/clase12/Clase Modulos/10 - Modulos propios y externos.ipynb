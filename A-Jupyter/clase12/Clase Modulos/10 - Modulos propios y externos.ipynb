{
 "cells": [
  {
   "cell_type": "code",
   "execution_count": null,
   "metadata": {
    "slideshow": {
     "slide_type": "skip"
    }
   },
   "outputs": [],
   "source": [
    "%%HTML\n",
    "<style>\n",
    "\n",
    ".rendered_html {\n",
    "  font-size:0.7em;\n",
    "}\n",
    ".rendered_html table, .rendered_html th, .rendered_html tr, .rendered_html td {\n",
    "     font-size: 100%;\n",
    "}\n",
    "\n",
    "</style>\n",
    "\n",
    "# https://github.com/damianavila/RISE/issues/255"
   ]
  },
  {
   "cell_type": "markdown",
   "metadata": {
    "slideshow": {
     "slide_type": "slide"
    }
   },
   "source": [
    "# Clase 10\n",
    "___\n",
    "## Módulos propios y externos"
   ]
  },
  {
   "cell_type": "markdown",
   "metadata": {
    "slideshow": {
     "slide_type": "slide"
    }
   },
   "source": [
    "En las clases anteriores hemos aprendido a crear nuestras propias funciones y a utilizar las de otros módulos nativos de `Python`\n"
   ]
  },
  {
   "cell_type": "markdown",
   "metadata": {
    "slideshow": {
     "slide_type": "fragment"
    }
   },
   "source": [
    "Pero quizás les surgieron las siguientes preguntas:\n",
    "    - ¿Cómo puedo crear mi propio módulo? 🤔\n",
    "    - ¿Cómo puedo utilizar módulos creados por otros? 🤔🤔"
   ]
  },
  {
   "cell_type": "markdown",
   "metadata": {
    "slideshow": {
     "slide_type": "slide"
    }
   },
   "source": [
    "# Módulos Propios"
   ]
  },
  {
   "cell_type": "markdown",
   "metadata": {
    "slideshow": {
     "slide_type": "subslide"
    }
   },
   "source": [
    "En `Python`, además de poder crear nuestras propias funciones, podemos crear nuestros propios módulos.\n",
    "\n",
    "La estructura del código de un módulo es la siguiente:"
   ]
  },
  {
   "cell_type": "code",
   "execution_count": null,
   "metadata": {
    "slideshow": {
     "slide_type": "fragment"
    }
   },
   "outputs": [],
   "source": [
    "## Variables del módulo\n",
    "PI = 3.1415925635\n",
    "EULER = 2.71828182845\n",
    "\n",
    "## Funciones del módulo\n",
    "def suma(a,b):\n",
    "    return a + b\n",
    "\n",
    "def resta(a,b):\n",
    "    return a - b\n",
    "\n",
    "## Sector \"main\" del archivo\n",
    "if __name__ == \"__main__\":\n",
    "    resultado = suma(2,3)\n",
    "    print(\"El resultado es:\", resultado)"
   ]
  },
  {
   "cell_type": "markdown",
   "metadata": {
    "slideshow": {
     "slide_type": "subslide"
    }
   },
   "source": [
    "En realidad son dos secciones principales en un módulo: Lo que está en el `main` y lo que no.\n",
    "    \n",
    "Todo lo que **NO** está en el main, puede ser invocado al ser importado por otro archivo.\n",
    "\n",
    "Todo lo que **SI** está en el main, se llama solamente al ejecutar el archivo directo con `Python`. Por ejemplo, escibiendo en la consola `python nombre_modulo.py`"
   ]
  },
  {
   "cell_type": "markdown",
   "metadata": {
    "slideshow": {
     "slide_type": "subslide"
    }
   },
   "source": [
    "Utilizando el código anterior y guardándolo en el archivo `modulo_matematico.py` podemos probar nuestro módulo."
   ]
  },
  {
   "cell_type": "code",
   "execution_count": 29,
   "metadata": {
    "slideshow": {
     "slide_type": "fragment"
    }
   },
   "outputs": [
    {
     "name": "stdout",
     "output_type": "stream",
     "text": [
      "7\n"
     ]
    }
   ],
   "source": [
    "from modulo_matematico import suma\n",
    "\n",
    "print(suma(3,4))"
   ]
  },
  {
   "cell_type": "code",
   "execution_count": 30,
   "metadata": {
    "slideshow": {
     "slide_type": "fragment"
    }
   },
   "outputs": [
    {
     "name": "stdout",
     "output_type": "stream",
     "text": [
      "8\n",
      "3.1415925635\n"
     ]
    }
   ],
   "source": [
    "import modulo_matematico as mm\n",
    "\n",
    "print(mm.resta(10,2))\n",
    "print(mm.PI)"
   ]
  },
  {
   "cell_type": "markdown",
   "metadata": {
    "slideshow": {
     "slide_type": "subslide"
    }
   },
   "source": [
    "Que ocurriría si agrego un `print(\"No estoy en el main\")` al módulo, en el sector fuera del `main`."
   ]
  },
  {
   "cell_type": "code",
   "execution_count": 1,
   "metadata": {
    "slideshow": {
     "slide_type": "fragment"
    }
   },
   "outputs": [
    {
     "name": "stdout",
     "output_type": "stream",
     "text": [
      "No estoy en el main\n",
      "7\n"
     ]
    }
   ],
   "source": [
    "from modulo_matematico import suma\n",
    "\n",
    "print(suma(3,4))"
   ]
  },
  {
   "cell_type": "code",
   "execution_count": 1,
   "metadata": {
    "slideshow": {
     "slide_type": "fragment"
    }
   },
   "outputs": [
    {
     "name": "stdout",
     "output_type": "stream",
     "text": [
      "No estoy en el main\n",
      "8\n",
      "3.1415925635\n"
     ]
    }
   ],
   "source": [
    "import modulo_matematico as mm\n",
    "\n",
    "print(mm.resta(10,2))\n",
    "print(mm.PI)"
   ]
  },
  {
   "cell_type": "markdown",
   "metadata": {
    "slideshow": {
     "slide_type": "subslide"
    }
   },
   "source": [
    "Cada vez que agrego código fuera del `main`, al ser importado nuestro módulo, este se ejecuta.\n",
    "\n",
    "Hay que tener cuidado con el código que agregamos fuera del `main`. Este debería componerse solo de funciones y variables."
   ]
  },
  {
   "cell_type": "markdown",
   "metadata": {
    "slideshow": {
     "slide_type": "fragment"
    }
   },
   "source": [
    "Crear nuestros propios módulos nos permite tener el código más ordenado y agrupado.\n",
    "\n",
    "Es la forma en la que funcionan las librerías de `Python`"
   ]
  },
  {
   "cell_type": "markdown",
   "metadata": {
    "slideshow": {
     "slide_type": "slide"
    }
   },
   "source": [
    "# Módulos Externos (Librerías 📚)"
   ]
  },
  {
   "cell_type": "markdown",
   "metadata": {
    "slideshow": {
     "slide_type": "subslide"
    }
   },
   "source": [
    "Como lo hablamos hace un par de clases atrás, lo que buscamos los programadores es tratar de \"No reinventar la rueda\".\n",
    "\n",
    "Lo que hace la comunidad de programadores es crear sus propios módulos que resuelven problemas comunes y los publican.\n",
    "\n",
    "Estos módulos públicos se llaman librerías 📚."
   ]
  },
  {
   "cell_type": "markdown",
   "metadata": {
    "slideshow": {
     "slide_type": "subslide"
    }
   },
   "source": [
    "Entonces nos surge la duda ¿Cómo instalo o uso una librería? 🤔"
   ]
  },
  {
   "cell_type": "markdown",
   "metadata": {
    "slideshow": {
     "slide_type": "fragment"
    }
   },
   "source": [
    "Respuesta: Para que quieren saber eso jaja salu2."
   ]
  },
  {
   "cell_type": "markdown",
   "metadata": {
    "slideshow": {
     "slide_type": "subslide"
    }
   },
   "source": [
    "Entonces nos surge la duda ¿Cómo instalo o uso una librería? 🤔\n",
    "\n",
    "Respuesta: Ustedes ya instalaron una librería, pero no lo sabían. Se instalan con el comando `pip`. "
   ]
  },
  {
   "cell_type": "markdown",
   "metadata": {
    "slideshow": {
     "slide_type": "fragment"
    }
   },
   "source": [
    "Por ejemplo ejecutando `pip install jupyter` instalaron el paquete `jupyter`."
   ]
  },
  {
   "cell_type": "markdown",
   "metadata": {
    "slideshow": {
     "slide_type": "subslide"
    }
   },
   "source": [
    "## `pip`\n",
    "\n",
    "Es el administrador de librerías y paquetes oficial de `Python`.\n",
    "\n",
    "Nos permite instalar , actualizar y desinstalar librerías y paquetes de `Python`.\n",
    "\n",
    "La forma más común de utilizarlo es escribir en la consola `pip install nombre_del_paquete`"
   ]
  },
  {
   "cell_type": "markdown",
   "metadata": {
    "slideshow": {
     "slide_type": "subslide"
    }
   },
   "source": [
    "Probemos instalando la librería `colored`. La pueden encontrar su documentación en la página https://pypi.org/project/colored/\n",
    "\n",
    "Para instalarla, hay que ejecutar `pip install colored` en la cosola o terminal del computador\n",
    "\n",
    "Esta librería nos permite agregarle color a las cosas que imprimimos en la consola"
   ]
  },
  {
   "cell_type": "code",
   "execution_count": 37,
   "metadata": {
    "slideshow": {
     "slide_type": "subslide"
    }
   },
   "outputs": [
    {
     "name": "stdout",
     "output_type": "stream",
     "text": [
      "\u001b[48;5;4m\u001b[38;5;3m¡Hola mundo a colores!\n"
     ]
    }
   ],
   "source": [
    "from colored import fg, bg\n",
    "color = bg('blue') + fg('yellow')\n",
    "print (color + '¡Hola mundo a colores!')"
   ]
  },
  {
   "cell_type": "markdown",
   "metadata": {
    "slideshow": {
     "slide_type": "subslide"
    }
   },
   "source": [
    "Por finalizar, si quieren saber más sobre `pip`, en la [página oficial de pip](https://pypi.org/project/pip/) pueden leer toda la documentación."
   ]
  }
 ],
 "metadata": {
  "celltoolbar": "Slideshow",
  "kernelspec": {
   "display_name": "Python 3",
   "language": "python",
   "name": "python3"
  },
  "language_info": {
   "codemirror_mode": {
    "name": "ipython",
    "version": 3
   },
   "file_extension": ".py",
   "mimetype": "text/x-python",
   "name": "python",
   "nbconvert_exporter": "python",
   "pygments_lexer": "ipython3",
   "version": "3.7.4"
  }
 },
 "nbformat": 4,
 "nbformat_minor": 2
}
