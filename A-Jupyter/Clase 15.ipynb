{
 "cells": [
  {
   "cell_type": "markdown",
   "metadata": {},
   "source": [
    "# Clase 15. Strings (II)\n",
    "\n",
    "<p>\n",
    "<font size='5' face='Georgia, Arial'>IIC1103-07 Introducción a la Programación</font><br>\n",
    "<font size='2'>Martes 01-Octubre-2019</font><br>\n",
    "<font size='2'>Contactos: Cristian Ruz, cruz@ing.puc.cl; Raúl Álvarez, rsalvarez@uc.cl</font>\n",
    "</p>\n"
   ]
  },
  {
   "cell_type": "code",
   "execution_count": 5,
   "metadata": {},
   "outputs": [
    {
     "name": "stdout",
     "output_type": "stream",
     "text": [
      "Original:  El profesor llegó tarde a la clase\n",
      "Resultado: Mu paifmsia uumcó tradm r ur gursm\n"
     ]
    }
   ],
   "source": [
    "clave  = \"MURCIELAGOmurcielagoE\"\n",
    "salida = \"ELAGOMURCIelagomurciR\"\n",
    "\n",
    "texto = \"El profesor llegó tarde a la clase\"\n",
    "\n",
    "resultado = \"\"\n",
    "for letra in texto:\n",
    "    if letra in clave:\n",
    "        for i in range(len(clave)):\n",
    "            if letra == clave[i]:\n",
    "                posicion = i\n",
    "                break\n",
    "        letra_salida = salida[posicion]\n",
    "        resultado = resultado + letra_salida\n",
    "    else:\n",
    "        resultado = resultado + letra\n",
    "\n",
    "print(\"Original: \", texto)\n",
    "print(\"Resultado:\", resultado)"
   ]
  },
  {
   "cell_type": "code",
   "execution_count": 10,
   "metadata": {},
   "outputs": [
    {
     "name": "stdout",
     "output_type": "stream",
     "text": [
      "Original:  El profesor llegó tarde a la clase\n",
      "Resultado: Mu paifmsia uumcó tradm r ur gursm\n"
     ]
    }
   ],
   "source": [
    "# Función que conviertas las letras de \"entrada\" desde 'clave1' a 'clave2'\n",
    "def encriptar(entrada, clave1, clave2):\n",
    "    resultado = \"\"\n",
    "    for letra in entrada:\n",
    "        if letra in clave1:\n",
    "            for i in range(len(clave1)):\n",
    "                if letra == clave1[i]:\n",
    "                    posicion = i\n",
    "                    break\n",
    "            letra_salida = clave2[posicion]\n",
    "            resultado = resultado + letra_salida\n",
    "        else:\n",
    "            resultado = resultado + letra\n",
    "    return resultado\n",
    "\n",
    "texto = \"El profesor llegó tarde a la clase\"\n",
    "clave  = \"MURCIELAGOmurcielagoE\"\n",
    "salida = \"ELAGOMURCIelagomurciR\"\n",
    "\n",
    "resultado = encriptar(texto, clave, salida)\n",
    "\n",
    "print(\"Original: \", texto)\n",
    "print(\"Resultado:\", resultado)"
   ]
  },
  {
   "cell_type": "code",
   "execution_count": 11,
   "metadata": {},
   "outputs": [
    {
     "name": "stdout",
     "output_type": "stream",
     "text": [
      "Original:  El profesor llegó tarde a la clase\n",
      "Resultado: 3l pr0f3s0r ll3gó 74rd3 4 l4 cl4s3\n"
     ]
    }
   ],
   "source": [
    "clave1 = \"AEIOTaeiot\"\n",
    "clave2 = \"4310743107\"\n",
    "resultado = encriptar(texto, clave1, clave2)\n",
    "print(\"Original: \", texto)\n",
    "print(\"Resultado:\", resultado)"
   ]
  },
  {
   "cell_type": "code",
   "execution_count": 12,
   "metadata": {},
   "outputs": [
    {
     "name": "stdout",
     "output_type": "stream",
     "text": [
      "Original:  El profesor llegó tarde a la clase\n",
      "Resultado: Nl profesor llegó tarde a la clase\n"
     ]
    }
   ],
   "source": [
    "clave1 = \"ABCDEFGHISTUY\"\n",
    "clave2 = \"JKLMNOPQRVWXZ\"\n",
    "resultado = encriptar(texto, clave1, clave2)\n",
    "print(\"Original: \", texto)\n",
    "print(\"Resultado:\", resultado)"
   ]
  },
  {
   "cell_type": "code",
   "execution_count": 20,
   "metadata": {},
   "outputs": [
    {
     "name": "stdout",
     "output_type": "stream",
     "text": [
      "Original:  El profesor llegó tarde a la clase\n",
      "Resultado: Nl proONVor llNPó WJrMN J lJ LlJVN\n"
     ]
    }
   ],
   "source": [
    "# Función que conviertas las letras de \"entrada\" desde 'clave1' a 'clave2'\n",
    "def encriptar(entrada, clave1, clave2):\n",
    "    resultado = \"\"\n",
    "    for letra in entrada:\n",
    "        if letra.lower() in clave1.lower():\n",
    "            for i in range(len(clave1)):\n",
    "                if letra.lower() == clave1[i].lower():\n",
    "                    posicion = i\n",
    "                    break\n",
    "            letra_salida = clave2[posicion]\n",
    "            resultado = resultado + letra_salida\n",
    "        else:\n",
    "            resultado = resultado + letra\n",
    "    return resultado\n",
    "\n",
    "texto = \"El profesor llegó tarde a la clase\"\n",
    "clave1 = \"ABCDEFGHISTUY\"\n",
    "clave2 = \"JKLMNOPQRVWXZ\"\n",
    "resultado = encriptar(texto, clave1, clave2)\n",
    "print(\"Original: \", texto)\n",
    "print(\"Resultado:\", resultado)"
   ]
  },
  {
   "cell_type": "code",
   "execution_count": 16,
   "metadata": {},
   "outputs": [
    {
     "name": "stdout",
     "output_type": "stream",
     "text": [
      "esto esta en mayusculas\n",
      "ESTO ESTA EN MAYUSCULAS\n"
     ]
    }
   ],
   "source": [
    "texto = \"Esto ESTA EN MAYUSculas\"\n",
    "print(texto.lower())\n",
    "print(texto.upper())"
   ]
  },
  {
   "cell_type": "code",
   "execution_count": 25,
   "metadata": {},
   "outputs": [
    {
     "name": "stdout",
     "output_type": "stream",
     "text": [
      "True\n",
      "False\n",
      "False\n",
      "False\n"
     ]
    }
   ],
   "source": [
    "texto1 = \"Ventiuno\"\n",
    "texto2 = \"21\"\n",
    "texto3 = \"Noventa y seis\"\n",
    "texto4 = \"Noventa y séis\"\n",
    "print(texto1.isalpha())\n",
    "print(texto2.isalpha())\n",
    "print(texto3.isalpha())\n",
    "print(texto4.isalpha())"
   ]
  },
  {
   "cell_type": "code",
   "execution_count": 26,
   "metadata": {},
   "outputs": [
    {
     "name": "stdout",
     "output_type": "stream",
     "text": [
      "False\n",
      "True\n"
     ]
    }
   ],
   "source": [
    "texto1 = \"Ventiuno\"\n",
    "texto2 = \"21\"\n",
    "print(texto1.isdigit())\n",
    "print(texto2.isdigit())\n"
   ]
  },
  {
   "cell_type": "code",
   "execution_count": 28,
   "metadata": {},
   "outputs": [
    {
     "name": "stdout",
     "output_type": "stream",
     "text": [
      "Ingrese un número: 3 4\n"
     ]
    },
    {
     "ename": "ValueError",
     "evalue": "invalid literal for int() with base 10: '3 4'",
     "output_type": "error",
     "traceback": [
      "\u001b[0;31m---------------------------------------------------------------------------\u001b[0m",
      "\u001b[0;31mValueError\u001b[0m                                Traceback (most recent call last)",
      "\u001b[0;32m<ipython-input-28-f06c75ecc4ef>\u001b[0m in \u001b[0;36m<module>\u001b[0;34m\u001b[0m\n\u001b[0;32m----> 1\u001b[0;31m \u001b[0mr\u001b[0m \u001b[0;34m=\u001b[0m \u001b[0mint\u001b[0m\u001b[0;34m(\u001b[0m\u001b[0minput\u001b[0m\u001b[0;34m(\u001b[0m\u001b[0;34m\"Ingrese un número: \"\u001b[0m\u001b[0;34m)\u001b[0m\u001b[0;34m)\u001b[0m\u001b[0;34m\u001b[0m\u001b[0;34m\u001b[0m\u001b[0m\n\u001b[0m\u001b[1;32m      2\u001b[0m \u001b[0mprint\u001b[0m\u001b[0;34m(\u001b[0m\u001b[0;34m\"Ingresaste\"\u001b[0m\u001b[0;34m,\u001b[0m\u001b[0mr\u001b[0m\u001b[0;34m)\u001b[0m\u001b[0;34m\u001b[0m\u001b[0;34m\u001b[0m\u001b[0m\n",
      "\u001b[0;31mValueError\u001b[0m: invalid literal for int() with base 10: '3 4'"
     ]
    }
   ],
   "source": [
    "r = int(input(\"Ingrese un número: \"))\n",
    "print(\"Ingresaste\",r)"
   ]
  },
  {
   "cell_type": "code",
   "execution_count": 29,
   "metadata": {},
   "outputs": [
    {
     "name": "stdout",
     "output_type": "stream",
     "text": [
      "Ingrese un número: 34 4\n",
      "Ingrese un número: er\n",
      "Ingrese un número: ey4e5y\n",
      "Ingrese un número: 56y78\n",
      "Ingrese un número: 5678\n",
      "Ingresaste 5678\n"
     ]
    }
   ],
   "source": [
    "r = input(\"Ingrese un número: \")\n",
    "\n",
    "while r.isdigit() == False:              ## También podría ser while not r.isdigit()\n",
    "    r = input(\"Ingrese un número: \")\n",
    "    \n",
    "numero = int(r)\n",
    "print(\"Ingresaste\",numero)"
   ]
  },
  {
   "cell_type": "code",
   "execution_count": 31,
   "metadata": {},
   "outputs": [],
   "source": [
    "## Escriba una función de nombre \"hay_sequia\" que reciba un string y un entero d\n",
    "## Debe retornar True si es que hay al menos 'd' dias seguidos sin lluvia\n",
    "\n",
    "def hay_sequia(texto, d):\n",
    "    contador_sequia = 0\n",
    "    for dia in texto:\n",
    "        if dia == \"L\":\n",
    "            contador_sequia = 0\n",
    "        elif dia == \".\":\n",
    "            contador_sequia += 1\n",
    "        if contador_sequia >= d:\n",
    "            return True\n",
    "    return False"
   ]
  },
  {
   "cell_type": "code",
   "execution_count": 33,
   "metadata": {},
   "outputs": [
    {
     "name": "stdout",
     "output_type": "stream",
     "text": [
      "True\n",
      "False\n"
     ]
    }
   ],
   "source": [
    "ultimas_lluvias = \"LLL...LL.......L.L.\"\n",
    "print(hay_sequia(ultimas_lluvias, 5))\n",
    "print(hay_sequia(ultimas_lluvias, 12))\n"
   ]
  },
  {
   "cell_type": "code",
   "execution_count": null,
   "metadata": {},
   "outputs": [],
   "source": []
  }
 ],
 "metadata": {
  "kernelspec": {
   "display_name": "Python 3",
   "language": "python",
   "name": "python3"
  },
  "language_info": {
   "codemirror_mode": {
    "name": "ipython",
    "version": 3
   },
   "file_extension": ".py",
   "mimetype": "text/x-python",
   "name": "python",
   "nbconvert_exporter": "python",
   "pygments_lexer": "ipython3",
   "version": "3.7.4"
  }
 },
 "nbformat": 4,
 "nbformat_minor": 2
}
