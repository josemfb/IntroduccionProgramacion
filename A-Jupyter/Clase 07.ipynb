{
 "cells": [
  {
   "cell_type": "markdown",
   "metadata": {},
   "source": [
    "# Clase 07. Control de flujo cíclico\n",
    "\n",
    "<p>\n",
    "<font size='5' face='Georgia, Arial'>IIC1103-07 Introducción a la Programación</font><br>\n",
    "<font size='2'>Jueves 29-Agosto-2019</font><br>\n",
    "<font size='2'>Contactos: Cristian Ruz, cruz@ing.puc.cl; Raúl Álvarez, rsalvarez@uc.cl</font>\n",
    "</p>\n"
   ]
  },
  {
   "cell_type": "markdown",
   "metadata": {},
   "source": [
    "### Ejemplo del marcador de fútbol (o de algo que tenga goles)\n",
    "\n",
    "Hasta la clase anterior habíamos construido un simulador de un marcador de fútbol, cuyos algoritmo es:\n",
    "\n",
    "1. Establecer el marcador inicial en 0\n",
    "2. Preguntar al usuario quien ha marcado un gol\n",
    "    1. Actualizar el marcador de acuerdo a lo que indicó el usuario\n",
    "        1. Si el gol es del local, actualizar el marcador del local\n",
    "        2. Si el gol es de la visita, actualizar el marcador de la visita\n",
    "        3. Si no corresponde a ninguno de los anteriores, no actualizar\n",
    "    2. Mostrar el marcador actualizado\n",
    "3. Determinar quién ganó\n",
    "    1. Si el local tiene más goles, indicar que ganó el local\n",
    "    2. Si la visita tiene más goles, indicar que ganó la visita\n",
    "    3. Si no es ninguno de los casos anteriores, entonces es empate\n",
    "    \n",
    "Y su implementación en Python está a continuación:"
   ]
  },
  {
   "cell_type": "code",
   "execution_count": 34,
   "metadata": {},
   "outputs": [
    {
     "name": "stdout",
     "output_type": "stream",
     "text": [
      "¿Qué equipo anotó el gol? [1: local, 2: visita, otro: fin partido]245\n",
      "Gol del equipo:  245\n",
      "Local 0 - 0 Visita\n",
      "¡Empate!\n"
     ]
    }
   ],
   "source": [
    "# Establecer el marcador inicial en 0 para local y para visita\n",
    "local = 0        # goles del local\n",
    "visita = 0       # goles de la visita\n",
    "\n",
    "# Preguntar al usuario quién ha marcado un gol\n",
    "gol = int(input(\"¿Qué equipo anotó el gol? [1: local, 2: visita, otro: fin partido]\"))\n",
    "print(\"Gol del equipo: \", gol)\n",
    "\n",
    "# Actualizar el marcador de acuerdo a lo que indicó el usuario\n",
    "if gol == 1:\n",
    "    local = local + 1      #gol local\n",
    "elif gol == 2:\n",
    "    visita = visita + 1   # gol visita\n",
    "\n",
    "# Mostrar el marcador actualizado    \n",
    "print(\"Local\", local, \"-\", visita, \"Visita\")\n",
    "\n",
    "# Determinar quién ganó\n",
    "if local > visita:\n",
    "    print(\"¡Ganó el local!\")\n",
    "elif local < visita:\n",
    "    print(\"¡Ganó la visita!\")\n",
    "else:\n",
    "    print(\"¡Empate!\")"
   ]
  },
  {
   "cell_type": "code",
   "execution_count": 35,
   "metadata": {},
   "outputs": [
    {
     "name": "stdout",
     "output_type": "stream",
     "text": [
      "¿Qué equipo anotó el gol? [1: local, 2: visita, otro: fin partido]1\n",
      "Gol del equipo:  1\n",
      "Local 1 - 0 Visita\n",
      "¡Ganó el local!\n"
     ]
    }
   ],
   "source": [
    "# Establecer el marcador inicial en 0 para local y para visita\n",
    "local = 0        # goles del local\n",
    "visita = 0       # goles de la visita\n",
    "\n",
    "# Preguntar al usuario quién ha marcado un gol\n",
    "gol = int(input(\"¿Qué equipo anotó el gol? [1: local, 2: visita, otro: fin partido]\"))\n",
    "print(\"Gol del equipo: \", gol)\n",
    "\n",
    "# Actualizar el marcador de acuerdo a lo que indicó el usuario\n",
    "if gol == 1:\n",
    "    local = local + 1      #gol local\n",
    "elif gol == 2:\n",
    "    visita = visita + 1   # gol visita\n",
    "\n",
    "# Mostrar el marcador actualizado    \n",
    "print(\"Local\", local, \"-\", visita, \"Visita\")\n",
    "\n",
    "# Determinar quién ganó\n",
    "if local > visita:\n",
    "    print(\"¡Ganó el local!\")\n",
    "elif local < visita:\n",
    "    print(\"¡Ganó la visita!\")\n",
    "else:\n",
    "    print(\"¡Empate!\")"
   ]
  },
  {
   "cell_type": "markdown",
   "metadata": {},
   "source": [
    "Sin embargo, este programa solo permite que haya, a lo más, un gol, y luego termina el partido, lo que dista mucho de ser una simulación útil."
   ]
  },
  {
   "cell_type": "code",
   "execution_count": 4,
   "metadata": {},
   "outputs": [
    {
     "name": "stdout",
     "output_type": "stream",
     "text": [
      "¿Qué equipo anotó el gol? [1: local, 2: visita, otro: fin partido]1\n",
      "Gol del equipo:  1\n",
      "Local 1 - 0 Visita\n",
      "¿Qué equipo anotó el gol? [1: local, 2: visita, otro: fin partido]1\n",
      "Gol del equipo:  1\n",
      "Local 2 - 0 Visita\n",
      "¿Qué equipo anotó el gol? [1: local, 2: visita, otro: fin partido]1\n",
      "Gol del equipo:  1\n",
      "Local 3 - 0 Visita\n",
      "¿Qué equipo anotó el gol? [1: local, 2: visita, otro: fin partido]1\n",
      "Gol del equipo:  1\n",
      "Local 4 - 0 Visita\n",
      "¿Qué equipo anotó el gol? [1: local, 2: visita, otro: fin partido]2\n",
      "Gol del equipo:  2\n",
      "Local 4 - 1 Visita\n",
      "¿Qué equipo anotó el gol? [1: local, 2: visita, otro: fin partido]2\n",
      "Gol del equipo:  2\n",
      "Local 4 - 2 Visita\n",
      "¿Qué equipo anotó el gol? [1: local, 2: visita, otro: fin partido]2\n",
      "Gol del equipo:  2\n",
      "Local 4 - 3 Visita\n",
      "¿Qué equipo anotó el gol? [1: local, 2: visita, otro: fin partido]2\n",
      "Gol del equipo:  2\n",
      "Local 4 - 4 Visita\n",
      "¿Qué equipo anotó el gol? [1: local, 2: visita, otro: fin partido]2\n",
      "Gol del equipo:  2\n",
      "Local 4 - 5 Visita\n",
      "¿Qué equipo anotó el gol? [1: local, 2: visita, otro: fin partido]2\n",
      "Gol del equipo:  2\n",
      "Local 4 - 6 Visita\n",
      "¿Qué equipo anotó el gol? [1: local, 2: visita, otro: fin partido]3\n",
      "Gol del equipo:  3\n",
      "Local 4 - 6 Visita\n",
      "¡Ganó la visita!\n"
     ]
    }
   ],
   "source": [
    "local = 0 # goles del local\n",
    "visita = 0 # goles de la visita\n",
    "\n",
    "gol = 1\n",
    "while gol == 1 or gol == 2:\n",
    "\n",
    "    gol = int(input(\"¿Qué equipo anotó el gol? [1: local, 2: visita, otro: fin partido]\"))\n",
    "    print(\"Gol del equipo: \", gol)\n",
    "\n",
    "    # Actualiza marcador\n",
    "    if gol == 1:\n",
    "        local = local + 1      #gol local\n",
    "    elif gol == 2:\n",
    "        visita = visita + 1   # gol visita\n",
    "\n",
    "    # Imprime marcador\n",
    "    print(\"Local\", local, \"-\", visita, \"Visita\")\n",
    "    \n",
    "    \n",
    "    \n",
    "# Ahora veo quien gana\n",
    "if local > visita:\n",
    "    print(\"¡Ganó el local!\")\n",
    "elif local < visita:\n",
    "    print(\"¡Ganó la visita!\")\n",
    "else:\n",
    "    print(\"¡Empate!\")"
   ]
  },
  {
   "cell_type": "markdown",
   "metadata": {},
   "source": [
    "Nuestra solución será el uso de la instrucción de flujo cíclico `while`"
   ]
  },
  {
   "cell_type": "markdown",
   "metadata": {},
   "source": [
    "# Control de flujo cíclico: `while`\n",
    "\n",
    "La instrucción de **control de flujo cíclico** `while` permite que un programa ejecute un grupo de instrucciones de manera **repetitiva** o **cíclica**, **mientras** se cumpla una condición. Una vez que la condición deja de cumplirse, el programa continúa de manera **posterior** a la instrucción cíclica.\n",
    "\n",
    "La sintaxis general de la construcción cíclica `while` es:\n",
    "\n",
    "```\n",
    "while condicion:                    \n",
    "    bloque_de_codigo_while\n",
    "    bloque_de_codigo_while       \n",
    "    bloque_de_codigo_while       \n",
    "    bloque_de_codigo_while       \n",
    "    ...\n",
    "    bloque_de_codigo_while       \n",
    "\n",
    "bloque_de_codigo_fuera_de_while\n",
    "bloque_de_codigo_fuera_de_while\n",
    "```\n",
    "\n",
    "A cada repetición del bloque de código dentro de `while` le llamamos **ciclo**, **iteración**, o **_loop_**.\n",
    "\n",
    "Debemos considerar que:\n",
    "1. Para entrar al bloque de código dentro de `while`, la condición debe ser `True`.\n",
    "1. Cada vez que se termina una iteración, se vuelve a revisar la condición antes de ejecutar la iteración siguiente.\n",
    "1. Si la condición es inicialmente `False`, no se ejecuta ninguna iteración.\n",
    "\n",
    "Las instrucciones cíclicas permiten construir algoritmos que:\n",
    "* Cuentan.\n",
    "* Repiten instrucciones hasta que se cumple algo.\n",
    "* Ejecutan instrucciones sobre un conjunto de valores que puede ser fijo o indeterminado.\n",
    "* Solicitan *input* al usuario **hasta** que éste lo ingresa de manera correcta.\n"
   ]
  },
  {
   "cell_type": "markdown",
   "metadata": {},
   "source": [
    "## Ejemplos `while`\n",
    "\n",
    "Un uso típico de los ciclos, es para ejecuta una instrucción una cantidad fija de veces. ¿Cuántas veces se escribe el valor de `i` en el siguiente código?"
   ]
  },
  {
   "cell_type": "code",
   "execution_count": 1,
   "metadata": {},
   "outputs": [
    {
     "name": "stdout",
     "output_type": "stream",
     "text": [
      "1\n",
      "2\n",
      "3\n",
      "4\n",
      "5\n",
      "6\n",
      "7\n",
      "8\n",
      "9\n",
      "10\n"
     ]
    }
   ],
   "source": [
    "i = 0\n",
    "while i < 10:    # loop que se ejecuta 10 veces\n",
    "    i = i + 1\n",
    "    print(i)"
   ]
  },
  {
   "cell_type": "markdown",
   "metadata": {},
   "source": [
    "Podemos ver que en este caso se imprimen todos los valores de `i` desde `1` hasta `10`. En cada iteración, primero se incrementa el valor de `i` y luego se escribe ese valor; por lo tanto, el primer valor que se escribe es `1` (y no `0`, que es el valor inicial de `i`). El ciclo termina cuando `i` tiene el valor `10` ya que deja de cumplirse la condición `i < 10`. Notemos que sí se imprime el valor `10`. Una vez que `i` alcanza el valor `10`, primero debe terminar de ejecutarse la iteración actual (`print(i)`) y luego se verifica la condición que hace que el ciclo termine."
   ]
  },
  {
   "cell_type": "markdown",
   "metadata": {},
   "source": [
    "El siguiente código **no termina** ya que la condición es siempre `True`. Para evitar que el programa genere mucho _output_ (esto puede hacer que el `jupyter-notebook` se haga muy pesado de abrir), recomendamos detener la ejecución del código (botón *stop*) y luego ejecutar en el menú _Cell_ -> _Current output_ -> *Clear*."
   ]
  },
  {
   "cell_type": "code",
   "execution_count": null,
   "metadata": {},
   "outputs": [],
   "source": [
    "i = 0\n",
    "while True:       # loop que se ejecuta infinita veces. La condición SIEMPRE es True\n",
    "    i = i + 1\n",
    "    print(i)"
   ]
  },
  {
   "cell_type": "markdown",
   "metadata": {},
   "source": [
    "También podemos caer en ciclos infinitos si olvidamos actualizar el valor de alguna variable (en este caso `i`) que haga que la condición se haga falsa."
   ]
  },
  {
   "cell_type": "code",
   "execution_count": null,
   "metadata": {},
   "outputs": [],
   "source": [
    "i=0\n",
    "while i < 10:       # loop que no termina. No se actualiza el valor de i\n",
    "    print(i)\n"
   ]
  },
  {
   "cell_type": "markdown",
   "metadata": {},
   "source": [
    "El siguiente código no termina porque no actualizamos el valor de la variable `condicion`."
   ]
  },
  {
   "cell_type": "code",
   "execution_count": 9,
   "metadata": {},
   "outputs": [
    {
     "name": "stdout",
     "output_type": "stream",
     "text": [
      "Ingresa numero entre 0 y 9: 45\n",
      "No hay mas numeros :(\n"
     ]
    }
   ],
   "source": [
    "a = int(input(\"Ingresa numero entre 0 y 9: \"))      # Pruebe ingresando un número mayor a 9\n",
    "condicion = (0<=a) and (a<=9)\n",
    "while condicion:\n",
    "    print(\"Gracias por ingresar\",a)\n",
    "print(\"No hay mas numeros :(\")\n"
   ]
  },
  {
   "cell_type": "code",
   "execution_count": null,
   "metadata": {},
   "outputs": [],
   "source": [
    "a = int(input(\"Ingresa numero entre 0 y 9: \"))      # Pruebe ingresando un número entre 0 y 9\n",
    "condicion = (0<=a) and (a<=9)\n",
    "while condicion:\n",
    "    print(\"Gracias por ingresar\",a)\n",
    "print(\"No hay mas numeros :(\")\n"
   ]
  },
  {
   "cell_type": "markdown",
   "metadata": {},
   "source": [
    "No basta con incrementar o modificar el valor de `a` de manera que quede fuera del rango `0` a `9`. Cambiar el valor de `a` no hace que el valor de `condicion`, que fue definido antes del entrar al ciclo, cambie."
   ]
  },
  {
   "cell_type": "code",
   "execution_count": null,
   "metadata": {},
   "outputs": [],
   "source": [
    "a = int(input(\"Ingresa numero entre 0 y 9: \"))      # Pruebe ingresando un número entre 0 y 9\n",
    "condicion = (0<=a) and (a<=9)\n",
    "\n",
    "while condicion:\n",
    "    print(\"Gracias por ingresar\",a)\n",
    "    a = a + 1\n",
    "    \n",
    "print(\"No hay mas numeros :(\")"
   ]
  },
  {
   "cell_type": "markdown",
   "metadata": {},
   "source": [
    "Lo que realmente necesitamos es actualizar el valor de `a` y además utilizar ese valor para actualizar el valor de la variable `condicion`. El programa terminará cuando el valor de `condicion` sea `False`."
   ]
  },
  {
   "cell_type": "code",
   "execution_count": 12,
   "metadata": {},
   "outputs": [
    {
     "name": "stdout",
     "output_type": "stream",
     "text": [
      "Ingresa numero entre 0 y 9: 7\n",
      "Gracias por ingresar 7\n",
      "Ingresa numero entre 0 y 9: 1\n",
      "Gracias por ingresar 1\n",
      "Ingresa numero entre 0 y 9: 7\n",
      "Gracias por ingresar 7\n",
      "Ingresa numero entre 0 y 9: 7\n",
      "Gracias por ingresar 7\n",
      "Ingresa numero entre 0 y 9: 7\n",
      "Gracias por ingresar 7\n",
      "Ingresa numero entre 0 y 9: 9\n",
      "Gracias por ingresar 9\n",
      "Ingresa numero entre 0 y 9: 2\n",
      "Gracias por ingresar 2\n",
      "Ingresa numero entre 0 y 9: 4\n",
      "Gracias por ingresar 4\n",
      "Ingresa numero entre 0 y 9: 6\n",
      "Gracias por ingresar 6\n",
      "Ingresa numero entre 0 y 9: 7\n",
      "Gracias por ingresar 7\n",
      "Ingresa numero entre 0 y 9: 8\n",
      "Gracias por ingresar 8\n",
      "Ingresa numero entre 0 y 9: 9\n",
      "Gracias por ingresar 9\n",
      "Ingresa numero entre 0 y 9: 0\n",
      "Gracias por ingresar 0\n",
      "Ingresa numero entre 0 y 9: 10\n",
      "No hay mas numeros :(\n"
     ]
    }
   ],
   "source": [
    "a = int(input(\"Ingresa numero entre 0 y 9: \"))\n",
    "\n",
    "condicion = (0<=a) and (a<=9)\n",
    "while condicion:\n",
    "    print(\"Gracias por ingresar\",a)\n",
    "    a = int(input(\"Ingresa numero entre 0 y 9: \"))\n",
    "    condicion = (0<=a) and (a<=9)\n",
    "\n",
    "\n",
    "print(\"No hay mas numeros :(\")"
   ]
  },
  {
   "cell_type": "code",
   "execution_count": 4,
   "metadata": {},
   "outputs": [
    {
     "name": "stdout",
     "output_type": "stream",
     "text": [
      "Ingresa numero entre 0 y 9: 5\n",
      "Gracias por ingresar 5\n",
      "Ingresa numero entre 0 y 9: 8\n",
      "Gracias por ingresar 8\n",
      "Ingresa numero entre 0 y 9: 3\n",
      "Gracias por ingresar 3\n",
      "Ingresa numero entre 0 y 9: 5\n",
      "Gracias por ingresar 5\n",
      "Ingresa numero entre 0 y 9: 0\n",
      "Gracias por ingresar 0\n",
      "Ingresa numero entre 0 y 9: 9\n",
      "Gracias por ingresar 9\n",
      "Ingresa numero entre 0 y 9: 23\n",
      "No hay mas numeros :(\n"
     ]
    }
   ],
   "source": [
    "# También podríamos ahorrarnos la variable 'condicion', y escribir la expresió directamente en el while\n",
    "a = int(input(\"Ingresa numero entre 0 y 9: \"))\n",
    "while (0<=a) and (a<=9):\n",
    "    print(\"Gracias por ingresar\",a)\n",
    "    a = int(input(\"Ingresa numero entre 0 y 9: \"))\n",
    "\n",
    "print(\"No hay mas numeros :(\")\n"
   ]
  },
  {
   "cell_type": "markdown",
   "metadata": {},
   "source": [
    "### Ejercicio 1\n",
    "\n",
    "Escriba un código (5 líneas) que pida un número $n$ al usuario, e imprima todos los números entre $1$ y $n$."
   ]
  },
  {
   "cell_type": "code",
   "execution_count": 13,
   "metadata": {},
   "outputs": [
    {
     "name": "stdout",
     "output_type": "stream",
     "text": [
      "Ingrese un numero entero: 18\n",
      "1\n",
      "2\n",
      "3\n",
      "4\n",
      "5\n",
      "6\n",
      "7\n",
      "8\n",
      "9\n",
      "10\n",
      "11\n",
      "12\n",
      "13\n",
      "14\n",
      "15\n",
      "16\n",
      "17\n",
      "18\n"
     ]
    }
   ],
   "source": [
    "n = int(input(\"Ingrese un numero entero: \"))\n",
    "cuantos = 0\n",
    "while cuantos < n:\n",
    "    cuantos = cuantos + 1\n",
    "    print(cuantos)\n"
   ]
  },
  {
   "cell_type": "markdown",
   "metadata": {},
   "source": [
    "### Ejercicio 2\n",
    "\n",
    "Escriba un código que pida un número $n$ al usuario, e imprima todos los números **PARES** entre $1$ y $n$."
   ]
  },
  {
   "cell_type": "code",
   "execution_count": 14,
   "metadata": {},
   "outputs": [
    {
     "name": "stdout",
     "output_type": "stream",
     "text": [
      "Ingrese un numero entero: 18\n",
      "2\n",
      "4\n",
      "6\n",
      "8\n",
      "10\n",
      "12\n",
      "14\n",
      "16\n",
      "18\n"
     ]
    }
   ],
   "source": [
    "n = int(input(\"Ingrese un numero entero: \"))\n",
    "cuantos = 0\n",
    "while cuantos%2 == 0 and cuantos < n:\n",
    "    cuantos = cuantos + 2\n",
    "    print(cuantos)"
   ]
  },
  {
   "cell_type": "markdown",
   "metadata": {},
   "source": [
    "La solución anterior funciona y es correcta. Sin embargo, la condición `cuantos%2==0` (*`cuantos` es par*) es **innecesaria**. La única condición de término que realmente nos interesa es que `cuantos` no sobrepase el valor `n`. La condición de verificar que `cuantos` es par se cumplirá siempre, mientras empecemos en `0` y sigamos incrementando en `2`."
   ]
  },
  {
   "cell_type": "code",
   "execution_count": 15,
   "metadata": {},
   "outputs": [
    {
     "name": "stdout",
     "output_type": "stream",
     "text": [
      "Ingrese un numero entero: 18\n",
      "2\n",
      "4\n",
      "6\n",
      "8\n",
      "10\n",
      "12\n",
      "14\n",
      "16\n",
      "18\n"
     ]
    }
   ],
   "source": [
    "# Este programa hace lo mismo que el anterior, pero con una condición de 'while' más sencilla.\n",
    "# Siempre es bueno ver si podemos mejorar nuestras soluciones y llegar a un programa más fácil de entender.\n",
    "n = int(input(\"Ingrese un numero entero: \"))\n",
    "cuantos = 0\n",
    "while cuantos < n:\n",
    "    cuantos = cuantos + 2\n",
    "    print(cuantos)"
   ]
  },
  {
   "cell_type": "markdown",
   "metadata": {},
   "source": [
    "Otra manera de resolverlo es verificar uno a uno a cada número, e imprimir **solamente** los pares. Esto lo podemos hacer con un `if` dentro del ciclo."
   ]
  },
  {
   "cell_type": "code",
   "execution_count": 17,
   "metadata": {},
   "outputs": [
    {
     "name": "stdout",
     "output_type": "stream",
     "text": [
      "Ingrese un numero entero: 18\n",
      "2\n",
      "4\n",
      "6\n",
      "8\n",
      "10\n",
      "12\n",
      "14\n",
      "16\n",
      "18\n"
     ]
    }
   ],
   "source": [
    "n = int(input(\"Ingrese un numero entero: \"))\n",
    "cuantos = 1\n",
    "while cuantos <= n:\n",
    "    if (cuantos % 2) == 0:    \n",
    "        print(cuantos)        # Recuerden indentar esta linea\n",
    "    cuantos = cuantos + 1"
   ]
  },
  {
   "cell_type": "markdown",
   "metadata": {},
   "source": [
    "Otra idea, un poco más compleja, pero igualmente correcta, es revisar los valores de `cuantos` de uno en uno, e imprimir el valor `2*cuantos`. Así nos aseguramos que lo escribimos es **siempre un número par**."
   ]
  },
  {
   "cell_type": "code",
   "execution_count": 6,
   "metadata": {},
   "outputs": [
    {
     "name": "stdout",
     "output_type": "stream",
     "text": [
      "Ingrese un numero entero: 18\n",
      "2\n",
      "4\n",
      "6\n",
      "8\n",
      "10\n",
      "12\n",
      "14\n",
      "16\n",
      "18\n",
      "20\n",
      "22\n",
      "24\n",
      "26\n",
      "28\n",
      "30\n",
      "32\n",
      "34\n",
      "36\n"
     ]
    }
   ],
   "source": [
    "n = int(input(\"Ingrese un numero entero: \"))\n",
    "cuantos = 1                 #Empieza con un numero par\n",
    "while cuantos <= n:\n",
    "    print(2*cuantos)          #Imprimo todos\n",
    "    cuantos = cuantos + 1"
   ]
  },
  {
   "cell_type": "markdown",
   "metadata": {},
   "source": [
    "Sin embargo esta solución escribe el **doble** de números de lo pedido. El problema aquí es que estamos verificando la condición de comparando `cuantos` con `n`, cuando lo que queremos es que el valor `2*cuantos` no sea mayor a `n`. Debemos reescribir la condición como `2*cuantos <= n` o bien como `cuantos <= n/2`."
   ]
  },
  {
   "cell_type": "code",
   "execution_count": 7,
   "metadata": {},
   "outputs": [
    {
     "name": "stdout",
     "output_type": "stream",
     "text": [
      "Ingrese un numero entero: 18\n",
      "2\n",
      "4\n",
      "6\n",
      "8\n",
      "10\n",
      "12\n",
      "14\n",
      "16\n",
      "18\n"
     ]
    }
   ],
   "source": [
    "n = int(input(\"Ingrese un numero entero: \"))\n",
    "cuantos = 1                   # Empieza con un numero par\n",
    "while 2*cuantos <= n:         # Verifico que lo que voy a escribir no se mayor a n\n",
    "    print(2*cuantos)          # Imprimo todos\n",
    "    cuantos = cuantos + 1     # Incremento 'cuantos' de a uno"
   ]
  },
  {
   "cell_type": "markdown",
   "metadata": {},
   "source": [
    "### Ejercicio 3\n",
    "\n",
    "Escriba un código que pide un número $n$ al usuario, e indique si el número es **primo**. El programa debe terminar si el usuario ingresa `1`.\n",
    "\n",
    "Debemos recordar que un número $n$ es primo si y solo es divisble **únicamente** por $1$ y por $n$. Queremos escribir un algoritmo que permita determinar si un entero es primo o no.\n",
    "\n",
    "El siguiente código es una primera aproximación."
   ]
  },
  {
   "cell_type": "code",
   "execution_count": 19,
   "metadata": {},
   "outputs": [
    {
     "name": "stdout",
     "output_type": "stream",
     "text": [
      "Ingrese un numero entero:346\n",
      "346 es primo\n"
     ]
    }
   ],
   "source": [
    "#Primera idea (INCORRECTA)\n",
    "n = int(input(\"Ingrese un numero entero:\"))\n",
    "if n<=1:\n",
    "    print(n,\"no es primo ni compuesto\")\n",
    "else:\n",
    "    esPrimo = True  #Supongamos que n es primo\n",
    "    if esPrimo:\n",
    "        print(n, \"es primo\")\n",
    "    else:\n",
    "        print(n, \"es compuesto\")\n",
    "        "
   ]
  },
  {
   "cell_type": "markdown",
   "metadata": {},
   "source": [
    "El código anterior responde correctamente en el caso del 1. Para el resto de los números **siempre** responde que es primo, ya que en ningún momento modificamos el valor de tipo `bool` `esPrimo`.\n",
    "\n",
    "La segunda versión intenta definir la condición para determinar si el número es primo o no. Este código define la condición como `esPrimo = ((n%1)==0 and (n%n)==0)` para expresar *divisible por 1 y por sí mismo*."
   ]
  },
  {
   "cell_type": "code",
   "execution_count": 8,
   "metadata": {},
   "outputs": [
    {
     "name": "stdout",
     "output_type": "stream",
     "text": [
      "Ingrese un numero entero:45\n",
      "45 es primo\n"
     ]
    }
   ],
   "source": [
    "#Segunda idea (INCORRECTA)\n",
    "n = int(input(\"Ingrese un numero entero:\"))\n",
    "if n<=1:\n",
    "    print(n,\"no es primo ni compuesto\")\n",
    "else:\n",
    "    esPrimo = False  #Supongamos que n es primo\n",
    "    if (n%1)==0 and (n%n)==0:\n",
    "        esPrimo = True\n",
    "    if esPrimo:\n",
    "        print(n, \"es primo\")\n",
    "    else:\n",
    "        print(n, \"es compuesto\")"
   ]
  },
  {
   "cell_type": "markdown",
   "metadata": {},
   "source": [
    "Esta solución tampoco es suficiente. Es más, esta solución indica que todos los números mayores a 1 son primos. La condición que quisimos expresar: \"*divisible por 1 y por sí mismo*\" está bien expresada como `(n%1)==0 and (n%n)==0`; sin embargo esta condición es verdadera para todos los números mayores a 1: todos ellos son divisible por 1 y por sí mismo.\n",
    "\n",
    "Lo que queremos expresar no es \"*números divisibles por 1 y por sí mismos*\", sino \"*numeros divisibles **únicamente** por 1 y por sí mismos*\". Para poder determinar eso no basta con revisar la división de `n` por 1 y por `n` (que, de todas formas, es siempre exacta), sino que necesitamos verificar que `n` **no sea divisible por alguno** de los números entre 1 y `n`. Necesitamos entonces hacer un ciclo que pruebe la división de `n` con todos los números posibles desde 2 hasta `n-1`."
   ]
  },
  {
   "cell_type": "code",
   "execution_count": 9,
   "metadata": {},
   "outputs": [
    {
     "name": "stdout",
     "output_type": "stream",
     "text": [
      "Ingrese un numero entero: 179426549\n",
      "179426549 es primo\n"
     ]
    }
   ],
   "source": [
    "#Tercera idea (la vencida)\n",
    "n = int(input(\"Ingrese un numero entero: \"))\n",
    "if n<=1:\n",
    "    print(n,\"no es primo ni compuesto\")\n",
    "else:\n",
    "    esPrimo = True          #Supongamos que n es primo (¿por qué no puedo empezar con esPrimo=False?)\n",
    "    \n",
    "i=2                         #Número inicial a probar\n",
    "while i<n:\n",
    "    if (n%i)==0:            #Si es divisible por i\n",
    "        esPrimo = False     #ya no es primo\n",
    "    i = i+1                 #Paso al siguiente número\n",
    "\n",
    "if esPrimo:                 #Si algún número dividió a 'n' de manera exacta, entonces 'n' ya no es primo\n",
    "    print(n, \"es primo\")\n",
    "else:\n",
    "    print(n, \"es compuesto\")"
   ]
  }
 ],
 "metadata": {
  "kernelspec": {
   "display_name": "Python 3",
   "language": "python",
   "name": "python3"
  },
  "language_info": {
   "codemirror_mode": {
    "name": "ipython",
    "version": 3
   },
   "file_extension": ".py",
   "mimetype": "text/x-python",
   "name": "python",
   "nbconvert_exporter": "python",
   "pygments_lexer": "ipython3",
   "version": "3.7.4"
  }
 },
 "nbformat": 4,
 "nbformat_minor": 2
}
