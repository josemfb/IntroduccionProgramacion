{
 "cells": [
  {
   "cell_type": "markdown",
   "metadata": {},
   "source": [
    "# Clase 16. Listas (I)\n",
    "\n",
    "<p>\n",
    "<font size='5' face='Georgia, Arial'>IIC1103-07 Introducción a la Programación</font><br>\n",
    "<font size='2'>Jueves 03-Octubre-2019</font><br>\n",
    "<font size='2'>Contactos: Cristian Ruz, cruz@ing.puc.cl; Raúl Álvarez, rsalvarez@uc.cl</font>\n",
    "</p>\n"
   ]
  },
  {
   "cell_type": "code",
   "execution_count": 4,
   "metadata": {},
   "outputs": [
    {
     "name": "stdout",
     "output_type": "stream",
     "text": [
      "[]\n"
     ]
    }
   ],
   "source": [
    "una_lista = []\n",
    "print(una_lista)"
   ]
  },
  {
   "cell_type": "code",
   "execution_count": 6,
   "metadata": {},
   "outputs": [
    {
     "name": "stdout",
     "output_type": "stream",
     "text": [
      "['a', 4, 56, 7.3, False, '520', 'K202']\n"
     ]
    }
   ],
   "source": [
    "una_lista = [\"a\", 4, 56, 7.3, False, \"520\", \"K202\"]\n",
    "print(una_lista)"
   ]
  },
  {
   "cell_type": "code",
   "execution_count": 7,
   "metadata": {},
   "outputs": [
    {
     "name": "stdout",
     "output_type": "stream",
     "text": [
      "56\n"
     ]
    }
   ],
   "source": [
    "print(una_lista[2])"
   ]
  },
  {
   "cell_type": "code",
   "execution_count": 8,
   "metadata": {},
   "outputs": [
    {
     "name": "stdout",
     "output_type": "stream",
     "text": [
      "520\n"
     ]
    }
   ],
   "source": [
    "print(una_lista[5])"
   ]
  },
  {
   "cell_type": "code",
   "execution_count": 9,
   "metadata": {},
   "outputs": [
    {
     "name": "stdout",
     "output_type": "stream",
     "text": [
      "[56, 7.3, False]\n"
     ]
    }
   ],
   "source": [
    "print(una_lista[2:5])"
   ]
  },
  {
   "cell_type": "code",
   "execution_count": 10,
   "metadata": {},
   "outputs": [
    {
     "name": "stdout",
     "output_type": "stream",
     "text": [
      "[4, False]\n"
     ]
    }
   ],
   "source": [
    "print(una_lista[1:6:3])"
   ]
  },
  {
   "cell_type": "code",
   "execution_count": 11,
   "metadata": {},
   "outputs": [
    {
     "name": "stdout",
     "output_type": "stream",
     "text": [
      "['K202', '520', False, 7.3, 56, 4, 'a']\n"
     ]
    }
   ],
   "source": [
    "print(una_lista[::-1])"
   ]
  },
  {
   "cell_type": "code",
   "execution_count": 12,
   "metadata": {},
   "outputs": [
    {
     "name": "stdout",
     "output_type": "stream",
     "text": [
      "['a', 4, 56, 7.3, False, '520', 'K202']\n",
      "['a', 4, 56, True, False, '520', 'K202']\n"
     ]
    }
   ],
   "source": [
    "print(una_lista)\n",
    "una_lista[3] = True\n",
    "print(una_lista)"
   ]
  },
  {
   "cell_type": "code",
   "execution_count": 13,
   "metadata": {},
   "outputs": [
    {
     "name": "stdout",
     "output_type": "stream",
     "text": [
      "['a', 4, 56, True, False, '520', 'K202']\n",
      "['a', 4, 42, True, False, '520', 'K202']\n"
     ]
    }
   ],
   "source": [
    "print(una_lista)\n",
    "una_lista[2] -= 14\n",
    "print(una_lista)"
   ]
  },
  {
   "cell_type": "code",
   "execution_count": 15,
   "metadata": {},
   "outputs": [
    {
     "name": "stdout",
     "output_type": "stream",
     "text": [
      "['a', 4, 42, True, False, '520', 'K202']\n",
      "La lista tiene 7 elementos\n"
     ]
    }
   ],
   "source": [
    "print(una_lista)\n",
    "print(\"La lista tiene\",len(una_lista),\"elementos\")"
   ]
  },
  {
   "cell_type": "code",
   "execution_count": 17,
   "metadata": {},
   "outputs": [
    {
     "name": "stdout",
     "output_type": "stream",
     "text": [
      "['a', 4, 56, 7.3, False, '520', 'K202']\n",
      "['K203', 'Jorge', 7.0]\n",
      "['a', 4, 56, 7.3, False, '520', 'K202', 'K203', 'Jorge', 7.0]\n",
      "['K203', 'Jorge', 7.0, 'K203', 'Jorge', 7.0, 'K203', 'Jorge', 7.0]\n"
     ]
    }
   ],
   "source": [
    "una_lista = [\"a\", 4, 56, 7.3, False, \"520\", \"K202\"]\n",
    "otra_lista = ['K203', \"Jorge\", 7.0]\n",
    "tercera_lista = una_lista + otra_lista\n",
    "cuarta_lista = otra_lista * 3\n",
    "print(una_lista)\n",
    "print(otra_lista)\n",
    "print(tercera_lista)\n",
    "print(cuarta_lista)"
   ]
  },
  {
   "cell_type": "code",
   "execution_count": 18,
   "metadata": {},
   "outputs": [
    {
     "name": "stdout",
     "output_type": "stream",
     "text": [
      "a\n",
      "4\n",
      "56\n",
      "7.3\n",
      "False\n",
      "520\n",
      "K202\n"
     ]
    }
   ],
   "source": [
    "for elem in una_lista:\n",
    "    print(elem)"
   ]
  },
  {
   "cell_type": "code",
   "execution_count": 24,
   "metadata": {},
   "outputs": [
    {
     "name": "stdout",
     "output_type": "stream",
     "text": [
      "['a', 4, 56, 7.3, False, '520', 'K202']\n"
     ]
    },
    {
     "ename": "TypeError",
     "evalue": "can only concatenate list (not \"str\") to list",
     "output_type": "error",
     "traceback": [
      "\u001b[0;31m---------------------------------------------------------------------------\u001b[0m",
      "\u001b[0;31mTypeError\u001b[0m                                 Traceback (most recent call last)",
      "\u001b[0;32m<ipython-input-24-f9867f11cd16>\u001b[0m in \u001b[0;36m<module>\u001b[0;34m\u001b[0m\n\u001b[1;32m      1\u001b[0m \u001b[0muna_lista\u001b[0m \u001b[0;34m=\u001b[0m \u001b[0;34m[\u001b[0m\u001b[0;34m\"a\"\u001b[0m\u001b[0;34m,\u001b[0m \u001b[0;36m4\u001b[0m\u001b[0;34m,\u001b[0m \u001b[0;36m56\u001b[0m\u001b[0;34m,\u001b[0m \u001b[0;36m7.3\u001b[0m\u001b[0;34m,\u001b[0m \u001b[0;32mFalse\u001b[0m\u001b[0;34m,\u001b[0m \u001b[0;34m\"520\"\u001b[0m\u001b[0;34m,\u001b[0m \u001b[0;34m\"K202\"\u001b[0m\u001b[0;34m]\u001b[0m\u001b[0;34m\u001b[0m\u001b[0;34m\u001b[0m\u001b[0m\n\u001b[1;32m      2\u001b[0m \u001b[0mprint\u001b[0m\u001b[0;34m(\u001b[0m\u001b[0muna_lista\u001b[0m\u001b[0;34m)\u001b[0m\u001b[0;34m\u001b[0m\u001b[0;34m\u001b[0m\u001b[0m\n\u001b[0;32m----> 3\u001b[0;31m \u001b[0muna_lista\u001b[0m \u001b[0;34m=\u001b[0m \u001b[0muna_lista\u001b[0m \u001b[0;34m+\u001b[0m \u001b[0;34m\"Octubre\"\u001b[0m\u001b[0;34m\u001b[0m\u001b[0;34m\u001b[0m\u001b[0m\n\u001b[0m",
      "\u001b[0;31mTypeError\u001b[0m: can only concatenate list (not \"str\") to list"
     ]
    }
   ],
   "source": [
    "una_lista = [\"a\", 4, 56, 7.3, False, \"520\", \"K202\"]\n",
    "print(una_lista)\n",
    "una_lista = una_lista + \"Octubre\""
   ]
  },
  {
   "cell_type": "code",
   "execution_count": 27,
   "metadata": {},
   "outputs": [
    {
     "name": "stdout",
     "output_type": "stream",
     "text": [
      "['a', 4, 56, 7.3, False, '520', 'K202']\n",
      "['a', 4, 56, 7.3, False, '520', 'K202', 'Octubre']\n"
     ]
    }
   ],
   "source": [
    "una_lista = [\"a\", 4, 56, 7.3, False, \"520\", \"K202\"]\n",
    "print(una_lista)\n",
    "una_lista = una_lista + [\"Octubre\"]\n",
    "print(una_lista)"
   ]
  },
  {
   "cell_type": "code",
   "execution_count": 28,
   "metadata": {},
   "outputs": [
    {
     "name": "stdout",
     "output_type": "stream",
     "text": [
      "['a', 4, 56, 7.3, False, '520', 'K202', 'Octubre']\n",
      "['a', 4, 56, 7.3, False, '520', 'K202', 'Octubre', 2019]\n"
     ]
    }
   ],
   "source": [
    "print(una_lista)\n",
    "una_lista = una_lista + [2019]\n",
    "print(una_lista)"
   ]
  },
  {
   "cell_type": "code",
   "execution_count": 37,
   "metadata": {},
   "outputs": [
    {
     "name": "stdout",
     "output_type": "stream",
     "text": [
      "['a', 4, 56, 7.3, False, '520', 'K202']\n",
      "['a', 4, 56, 7.3, False, '520', 'K202', 'Octubre']\n",
      "Largo de ['a', 4, 56, 7.3, False, '520', 'K202', 'Octubre'] : 8\n"
     ]
    }
   ],
   "source": [
    "una_lista = [\"a\", 4, 56, 7.3, False, \"520\", \"K202\"]\n",
    "print(una_lista)\n",
    "una_lista.append(\"Octubre\")\n",
    "print(una_lista)\n",
    "print(\"Largo de\", una_lista, \":\", len(una_lista))"
   ]
  },
  {
   "cell_type": "code",
   "execution_count": 32,
   "metadata": {},
   "outputs": [
    {
     "name": "stdout",
     "output_type": "stream",
     "text": [
      "['a', 4, 56, 7.3, False, '520', 'K202']\n",
      "None\n"
     ]
    }
   ],
   "source": [
    "### Error clásico 1\n",
    "una_lista = [\"a\", 4, 56, 7.3, False, \"520\", \"K202\"]\n",
    "print(una_lista)\n",
    "una_lista = una_lista.append(\"Octubre\")\n",
    "print(una_lista)"
   ]
  },
  {
   "cell_type": "code",
   "execution_count": 35,
   "metadata": {},
   "outputs": [
    {
     "name": "stdout",
     "output_type": "stream",
     "text": [
      "['a', 4, 56, 7.3, False, '520', 'K202']\n"
     ]
    },
    {
     "ename": "TypeError",
     "evalue": "append() takes exactly one argument (2 given)",
     "output_type": "error",
     "traceback": [
      "\u001b[0;31m---------------------------------------------------------------------------\u001b[0m",
      "\u001b[0;31mTypeError\u001b[0m                                 Traceback (most recent call last)",
      "\u001b[0;32m<ipython-input-35-91dcfe30b1c8>\u001b[0m in \u001b[0;36m<module>\u001b[0;34m\u001b[0m\n\u001b[1;32m      2\u001b[0m \u001b[0muna_lista\u001b[0m \u001b[0;34m=\u001b[0m \u001b[0;34m[\u001b[0m\u001b[0;34m\"a\"\u001b[0m\u001b[0;34m,\u001b[0m \u001b[0;36m4\u001b[0m\u001b[0;34m,\u001b[0m \u001b[0;36m56\u001b[0m\u001b[0;34m,\u001b[0m \u001b[0;36m7.3\u001b[0m\u001b[0;34m,\u001b[0m \u001b[0;32mFalse\u001b[0m\u001b[0;34m,\u001b[0m \u001b[0;34m\"520\"\u001b[0m\u001b[0;34m,\u001b[0m \u001b[0;34m\"K202\"\u001b[0m\u001b[0;34m]\u001b[0m\u001b[0;34m\u001b[0m\u001b[0;34m\u001b[0m\u001b[0m\n\u001b[1;32m      3\u001b[0m \u001b[0mprint\u001b[0m\u001b[0;34m(\u001b[0m\u001b[0muna_lista\u001b[0m\u001b[0;34m)\u001b[0m\u001b[0;34m\u001b[0m\u001b[0;34m\u001b[0m\u001b[0m\n\u001b[0;32m----> 4\u001b[0;31m \u001b[0muna_lista\u001b[0m\u001b[0;34m.\u001b[0m\u001b[0mappend\u001b[0m\u001b[0;34m(\u001b[0m\u001b[0;34m\"Octubre\"\u001b[0m\u001b[0;34m,\u001b[0m \u001b[0;34m\"Diciembre\"\u001b[0m\u001b[0;34m)\u001b[0m\u001b[0;34m\u001b[0m\u001b[0;34m\u001b[0m\u001b[0m\n\u001b[0m\u001b[1;32m      5\u001b[0m \u001b[0mprint\u001b[0m\u001b[0;34m(\u001b[0m\u001b[0muna_lista\u001b[0m\u001b[0;34m)\u001b[0m\u001b[0;34m\u001b[0m\u001b[0;34m\u001b[0m\u001b[0m\n",
      "\u001b[0;31mTypeError\u001b[0m: append() takes exactly one argument (2 given)"
     ]
    }
   ],
   "source": [
    "### Error clásico 2\n",
    "una_lista = [\"a\", 4, 56, 7.3, False, \"520\", \"K202\"]\n",
    "print(una_lista)\n",
    "una_lista.append(\"Octubre\", \"Diciembre\")\n",
    "print(una_lista)\n"
   ]
  },
  {
   "cell_type": "code",
   "execution_count": 38,
   "metadata": {},
   "outputs": [
    {
     "name": "stdout",
     "output_type": "stream",
     "text": [
      "['a', 4, 56, 7.3, False, '520', 'K202']\n",
      "['a', 4, 56, 7.3, False, '520', 'K202', ['Octubre', 'Diciembre']]\n",
      "Largo de ['a', 4, 56, 7.3, False, '520', 'K202', ['Octubre', 'Diciembre']] : 8\n"
     ]
    }
   ],
   "source": [
    "### Error clásico 3\n",
    "una_lista = [\"a\", 4, 56, 7.3, False, \"520\", \"K202\"]\n",
    "print(una_lista)\n",
    "una_lista.append([\"Octubre\", \"Diciembre\"])\n",
    "print(una_lista)\n",
    "print(\"Largo de\", una_lista, \":\", len(una_lista))"
   ]
  },
  {
   "cell_type": "code",
   "execution_count": 42,
   "metadata": {},
   "outputs": [
    {
     "name": "stdout",
     "output_type": "stream",
     "text": [
      "['a', 4, 56, 7.3, False, '520', 'K202']\n",
      "['a', 4, 56, 7.3, False, '520', 'K202', 'O', 'c', 't', 'u', 'b', 'r', 'e']\n",
      "Largo de ['a', 4, 56, 7.3, False, '520', 'K202', 'O', 'c', 't', 'u', 'b', 'r', 'e'] : 14\n"
     ]
    }
   ],
   "source": [
    "### Error clásico 4\n",
    "una_lista = [\"a\", 4, 56, 7.3, False, \"520\", \"K202\"]\n",
    "print(una_lista)\n",
    "una_lista.extend(\"Octubre\")\n",
    "print(una_lista)\n",
    "print(\"Largo de\", una_lista, \":\", len(una_lista))"
   ]
  },
  {
   "cell_type": "code",
   "execution_count": 43,
   "metadata": {},
   "outputs": [
    {
     "name": "stdout",
     "output_type": "stream",
     "text": [
      "['a', 4, 56, 7.3, False, '520', 'K202']\n",
      "['a', 4, 56, 7.3, False, '520', 'K202', 'Octubre']\n",
      "Largo de ['a', 4, 56, 7.3, False, '520', 'K202', 'Octubre'] : 8\n"
     ]
    }
   ],
   "source": [
    "una_lista = [\"a\", 4, 56, 7.3, False, \"520\", \"K202\"]\n",
    "print(una_lista)\n",
    "una_lista.extend([\"Octubre\"])\n",
    "print(una_lista)\n",
    "print(\"Largo de\", una_lista, \":\", len(una_lista))"
   ]
  },
  {
   "cell_type": "code",
   "execution_count": 39,
   "metadata": {},
   "outputs": [
    {
     "name": "stdout",
     "output_type": "stream",
     "text": [
      "['a', 4, 56, 7.3, False, '520', 'K202']\n",
      "['a', 4, 56, 7.3, False, '520', 'K202', 'Octubre', 'Diciembre']\n",
      "Largo de ['a', 4, 56, 7.3, False, '520', 'K202', 'Octubre', 'Diciembre'] : 9\n"
     ]
    }
   ],
   "source": [
    "una_lista = [\"a\", 4, 56, 7.3, False, \"520\", \"K202\"]\n",
    "print(una_lista)\n",
    "una_lista.extend([\"Octubre\", \"Diciembre\"])\n",
    "print(una_lista)\n",
    "print(\"Largo de\", una_lista, \":\", len(una_lista))"
   ]
  },
  {
   "cell_type": "code",
   "execution_count": 41,
   "metadata": {},
   "outputs": [
    {
     "name": "stdout",
     "output_type": "stream",
     "text": [
      "['Prison Break', '', '', 'Mindhunter', 'GOT', '', '-', 'GOT', 'One Piece', '', 'Malcolm', '', '', 'H x H', 'Prison Break', 'Timetsu', 'GOT', 'GOT', 'El Barco', '', 'Dragon Ball', 'Breaking Bad', 'Unsolved', 'Orange is the new black', 'ST', \"Grey's Anatomy\", 'Boku No Hero', '', 'Brooklyn 99', \"Grey's Anatomy\", 'Limitless', 'Lie to me', 'Jojo', 'Breaking Bad', 'JJBA', '', 'No veo', 'GOT', 'No tengo :)', 'The Resident', '', 'One piece', 'Prison Break', 'Black Mirror', 'House of Cards', 'Once upon a time', 'Dr. House', 'Under the Dome', 'Friends', 'GOT', 'GOT', 'Elite', '', 'Doctor Who', '', 'No sé', 'Luke Cage (T1)', 'Flash', '', 'Malcolm', 'Malcolm', '', 'Prison Break', 'Rick and Morty', 'Breaking Bad', 'Station 19', 'Vis a Vis', '', 'Firends', '', '', '', '', '', '', '', '', '', '', 'Rick and Morty', '', '', 'GOT', '', '', '', 'Breaking Bad', '', '', '', '', '', '', '', 'Vikings', '', 'Black Mirror', '', 'Two', 'The Take']\n",
      "100\n"
     ]
    }
   ],
   "source": [
    "series = [\"Prison Break\",\"\",\"\",\"Mindhunter\",\"GOT\",\"\",\"-\",\"GOT\",\"One Piece\",\"\",\"Malcolm\",\"\",\"\",\"H x H\",\"Prison Break\",\"Timetsu\",\"GOT\",\"GOT\",\"El Barco\",\"\",\"Dragon Ball\",\"Breaking Bad\",\"Unsolved\",\"Orange is the new black\",\"ST\",\"Grey's Anatomy\",\"Boku No Hero\",\"\",\"Brooklyn 99\",\"Grey's Anatomy\",\"Limitless\",\"Lie to me\",\"Jojo\",\"Breaking Bad\",\"JJBA\",\"\",\"No veo\",\"GOT\",\"No tengo :)\",\"The Resident\",\"\",\"One piece\",\"Prison Break\",\"Black Mirror\",\"House of Cards\",\"Once upon a time\",\"Dr. House\",\"Under the Dome\",\"Friends\",\"GOT\",\"GOT\",\"Elite\",\"\",\"Doctor Who\",\"\",\"No sé\",\"Luke Cage (T1)\",\"Flash\",\"\",\"Malcolm\",\"Malcolm\",\"\",\"Prison Break\",\"Rick and Morty\",\"Breaking Bad\",\"Station 19\",\"Vis a Vis\",\"\",\"Firends\",\"\",\"\",\"\",\"\",\"\",\"\",\"\",\"\",\"\",\"\",\"Rick and Morty\",\"\",\"\",\"GOT\",\"\",\"\",\"\",\"Breaking Bad\",\"\",\"\",\"\",\"\",\"\",\"\",\"\",\"Vikings\",\"\",\"Black Mirror\",\"\",\"Two\",\"The Take\"]\n",
    "print(series)\n",
    "print(len(series))"
   ]
  },
  {
   "cell_type": "code",
   "execution_count": 45,
   "metadata": {},
   "outputs": [
    {
     "name": "stdout",
     "output_type": "stream",
     "text": [
      "['Prison Break', 'Mindhunter', 'GOT', '-', 'GOT', 'One Piece', 'Malcolm', 'H x H', 'Prison Break', 'Timetsu', 'GOT', 'GOT', 'El Barco', 'Dragon Ball', 'Breaking Bad', 'Unsolved', 'Orange is the new black', 'ST', \"Grey's Anatomy\", 'Boku No Hero', 'Brooklyn 99', \"Grey's Anatomy\", 'Limitless', 'Lie to me', 'Jojo', 'Breaking Bad', 'JJBA', 'No veo', 'GOT', 'No tengo :)', 'The Resident', 'One piece', 'Prison Break', 'Black Mirror', 'House of Cards', 'Once upon a time', 'Dr. House', 'Under the Dome', 'Friends', 'GOT', 'GOT', 'Elite', 'Doctor Who', 'No sé', 'Luke Cage (T1)', 'Flash', 'Malcolm', 'Malcolm', 'Prison Break', 'Rick and Morty', 'Breaking Bad', 'Station 19', 'Vis a Vis', 'Firends', 'Rick and Morty', 'GOT', 'Breaking Bad', 'Vikings', 'Black Mirror', 'Two', 'The Take']\n",
      "61\n"
     ]
    }
   ],
   "source": [
    "### Eliminar a los que no contestaron\n",
    "series_sin_vacios = []\n",
    "for serie in series:\n",
    "    if serie != \"\":\n",
    "        series_sin_vacios.append(serie)\n",
    "        \n",
    "print(series_sin_vacios)\n",
    "print(len(series_sin_vacios))"
   ]
  },
  {
   "cell_type": "code",
   "execution_count": 46,
   "metadata": {},
   "outputs": [
    {
     "name": "stdout",
     "output_type": "stream",
     "text": [
      "['Prison Break', '', '', 'Mindhunter', 'GOT', '', '-', 'GOT', 'One Piece', '', 'Malcolm', '', '', 'H x H', 'Prison Break', 'Timetsu', 'GOT', 'GOT', 'El Barco', '', 'Dragon Ball', 'Breaking Bad', 'Unsolved', 'Orange is the new black', 'ST', \"Grey's Anatomy\", 'Boku No Hero', '', 'Brooklyn 99', \"Grey's Anatomy\", 'Limitless', 'Lie to me', 'Jojo', 'Breaking Bad', 'JJBA', '', 'No veo', 'GOT', 'No tengo :)', 'The Resident', '', 'One piece', 'Prison Break', 'Black Mirror', 'House of Cards', 'Once upon a time', 'Dr. House', 'Under the Dome', 'Friends', 'GOT', 'GOT', 'Elite', '', 'Doctor Who', '', 'No sé', 'Luke Cage (T1)', 'Flash', '', 'Malcolm', 'Malcolm', '', 'Prison Break', 'Rick and Morty', 'Breaking Bad', 'Station 19', 'Vis a Vis', '', 'Firends', '', '', '', '', '', '', '', '', '', '', 'Rick and Morty', '', '', 'GOT', '', '', '', 'Breaking Bad', '', '', '', '', '', '', '', 'Vikings', '', 'Black Mirror', '', 'Two', 'The Take']\n",
      "100\n",
      "['Prison Break', 'Mindhunter', 'GOT', '-', 'GOT', 'One Piece', 'Malcolm', 'H x H', 'Prison Break', 'Timetsu', 'GOT', 'GOT', 'El Barco', 'Dragon Ball', 'Breaking Bad', 'Unsolved', 'Orange is the new black', 'ST', \"Grey's Anatomy\", 'Boku No Hero', 'Brooklyn 99', \"Grey's Anatomy\", 'Limitless', 'Lie to me', 'Jojo', 'Breaking Bad', 'JJBA', 'No veo', 'GOT', 'No tengo :)', 'The Resident', 'One piece', 'Prison Break', 'Black Mirror', 'House of Cards', 'Once upon a time', 'Dr. House', 'Under the Dome', 'Friends', 'GOT', 'GOT', 'Elite', 'Doctor Who', 'No sé', 'Luke Cage (T1)', 'Flash', 'Malcolm', 'Malcolm', 'Prison Break', 'Rick and Morty', 'Breaking Bad', 'Station 19', 'Vis a Vis', 'Firends', 'Rick and Morty', 'GOT', 'Breaking Bad', 'Vikings', 'Black Mirror', 'Two', 'The Take']\n",
      "61\n"
     ]
    }
   ],
   "source": [
    "### Funcion que elimina a que no contestaron\n",
    "def eliminar_vacios(lista):\n",
    "    resultado = []\n",
    "    for elem in lista:\n",
    "        if elem != \"\":\n",
    "            resultado.append(elem)\n",
    "    return resultado\n",
    "\n",
    "print(series)\n",
    "print(len(series))\n",
    "series_sin_vacios = eliminar_vacios(series)\n",
    "print(series_sin_vacios)\n",
    "print(len(series_sin_vacios))"
   ]
  },
  {
   "cell_type": "code",
   "execution_count": 50,
   "metadata": {},
   "outputs": [
    {
     "name": "stdout",
     "output_type": "stream",
     "text": [
      "['Prison Break', '', '', 'Mindhunter', 'GOT', '', '-', 'GOT', 'One Piece', '', 'Malcolm', '', '', 'H x H', 'Prison Break', 'Timetsu', 'GOT', 'GOT', 'El Barco', '', 'Dragon Ball', 'Breaking Bad', 'Unsolved', 'Orange is the new black', 'ST', \"Grey's Anatomy\", 'Boku No Hero', '', 'Brooklyn 99', \"Grey's Anatomy\", 'Limitless', 'Lie to me', 'Jojo', 'Breaking Bad', 'JJBA', '', 'No veo', 'GOT', 'No tengo :)', 'The Resident', '', 'One piece', 'Prison Break', 'Black Mirror', 'House of Cards', 'Once upon a time', 'Dr. House', 'Under the Dome', 'Friends', 'GOT', 'GOT', 'Elite', '', 'Doctor Who', '', 'No sé', 'Luke Cage (T1)', 'Flash', '', 'Malcolm', 'Malcolm', '', 'Prison Break', 'Rick and Morty', 'Breaking Bad', 'Station 19', 'Vis a Vis', '', 'Firends', '', '', '', '', '', '', '', '', '', '', 'Rick and Morty', '', '', 'GOT', '', '', '', 'Breaking Bad', '', '', '', '', '', '', '', 'Vikings', '', 'Black Mirror', '', 'Two', 'The Take']\n",
      "100\n",
      "['Prison Break', 'Mindhunter', 'GOT', '-', 'GOT', 'One Piece', 'Malcolm', 'H x H', 'Prison Break', 'Timetsu', 'GOT', 'GOT', 'El Barco', 'Dragon Ball', 'Breaking Bad', 'Unsolved', 'Orange is the new black', 'ST', \"Grey's Anatomy\", 'Boku No Hero', 'Brooklyn 99', \"Grey's Anatomy\", 'Limitless', 'Lie to me', 'Jojo', 'Breaking Bad', 'JJBA', 'No veo', 'GOT', 'No tengo :)', 'The Resident', 'One piece', 'Prison Break', 'Black Mirror', 'House of Cards', 'Once upon a time', 'Dr. House', 'Under the Dome', 'Friends', 'GOT', 'GOT', 'Elite', 'Doctor Who', 'No sé', 'Luke Cage (T1)', 'Flash', 'Malcolm', 'Malcolm', 'Prison Break', 'Rick and Morty', 'Breaking Bad', 'Station 19', 'Vis a Vis', 'Firends', 'Rick and Morty', 'GOT', 'Breaking Bad', 'Vikings', 'Black Mirror', 'Two', 'The Take']\n",
      "61\n"
     ]
    }
   ],
   "source": [
    "### Funcion que elimina a que no contestaron\n",
    "def eliminar_vacios_recursivo(lista):\n",
    "    if lista == []:\n",
    "        return []\n",
    "    primer_elemento = lista[0]\n",
    "    if primer_elemento != \"\":\n",
    "        return [primer_elemento] + eliminar_vacios_recursivo(lista[1:])\n",
    "    else:\n",
    "        return eliminar_vacios_recursivo(lista[1:])\n",
    "\n",
    "print(series)\n",
    "print(len(series))\n",
    "series_sin_vacios = eliminar_vacios_recursivo(series)\n",
    "print(series_sin_vacios)\n",
    "print(len(series_sin_vacios))"
   ]
  },
  {
   "cell_type": "code",
   "execution_count": 51,
   "metadata": {},
   "outputs": [
    {
     "name": "stdout",
     "output_type": "stream",
     "text": [
      "['Prison Break', 'Mindhunter', 'GOT', '-', 'GOT', 'One Piece', 'Malcolm', 'H x H', 'Prison Break', 'Timetsu', 'GOT', 'GOT', 'El Barco', 'Dragon Ball', 'Breaking Bad', 'Unsolved', 'Orange is the new black', 'ST', \"Grey's Anatomy\", 'Boku No Hero', 'Brooklyn 99', \"Grey's Anatomy\", 'Limitless', 'Lie to me', 'Jojo', 'Breaking Bad', 'JJBA', 'No veo', 'GOT', 'No tengo :)', 'The Resident', 'One piece', 'Prison Break', 'Black Mirror', 'House of Cards', 'Once upon a time', 'Dr. House', 'Under the Dome', 'Friends', 'GOT', 'GOT', 'Elite', 'Doctor Who', 'No sé', 'Luke Cage (T1)', 'Flash', 'Malcolm', 'Malcolm', 'Prison Break', 'Rick and Morty', 'Breaking Bad', 'Station 19', 'Vis a Vis', 'Firends', 'Rick and Morty', 'GOT', 'Breaking Bad', 'Vikings', 'Black Mirror', 'Two', 'The Take']\n",
      "61\n",
      "['Prison Break', 'Mindhunter', 'GOT', '-', 'One Piece', 'Malcolm', 'H x H', 'Timetsu', 'El Barco', 'Dragon Ball', 'Breaking Bad', 'Unsolved', 'Orange is the new black', 'ST', \"Grey's Anatomy\", 'Boku No Hero', 'Brooklyn 99', 'Limitless', 'Lie to me', 'Jojo', 'JJBA', 'No veo', 'No tengo :)', 'The Resident', 'One piece', 'Black Mirror', 'House of Cards', 'Once upon a time', 'Dr. House', 'Under the Dome', 'Friends', 'Elite', 'Doctor Who', 'No sé', 'Luke Cage (T1)', 'Flash', 'Rick and Morty', 'Station 19', 'Vis a Vis', 'Firends', 'Vikings', 'Two', 'The Take']\n",
      "43\n"
     ]
    }
   ],
   "source": [
    "## Función que RETORNA los elementos únicos de una lista\n",
    "def sin_repetidas(lista):\n",
    "    resultado = []\n",
    "    for elemento in lista:\n",
    "        if not (elemento in resultado):\n",
    "            ## lo agrego\n",
    "            resultado.append(elemento)\n",
    "\n",
    "    return resultado\n",
    "\n",
    "print(series_sin_vacios)\n",
    "print(len(series_sin_vacios))\n",
    "series_no_repetidas = sin_repetidas(series_sin_vacios)\n",
    "print(series_no_repetidas)\n",
    "print(len(series_no_repetidas))\n",
    "\n",
    "\n",
    "## ¿Cuál es la serie más popular en la sección 7?\n",
    "\n"
   ]
  },
  {
   "cell_type": "code",
   "execution_count": 52,
   "metadata": {},
   "outputs": [
    {
     "name": "stdout",
     "output_type": "stream",
     "text": [
      "['Prison Break', 'Mindhunter', 'GOT', '-', 'GOT', 'One Piece', 'Malcolm', 'H x H', 'Prison Break', 'Timetsu', 'GOT', 'GOT', 'El Barco', 'Dragon Ball', 'Breaking Bad', 'Unsolved', 'Orange is the new black', 'ST', \"Grey's Anatomy\", 'Boku No Hero', 'Brooklyn 99', \"Grey's Anatomy\", 'Limitless', 'Lie to me', 'Jojo', 'Breaking Bad', 'JJBA', 'No veo', 'GOT', 'No tengo :)', 'The Resident', 'One piece', 'Prison Break', 'Black Mirror', 'House of Cards', 'Once upon a time', 'Dr. House', 'Under the Dome', 'Friends', 'GOT', 'GOT', 'Elite', 'Doctor Who', 'No sé', 'Luke Cage (T1)', 'Flash', 'Malcolm', 'Malcolm', 'Prison Break', 'Rick and Morty', 'Breaking Bad', 'Station 19', 'Vis a Vis', 'Firends', 'Rick and Morty', 'GOT', 'Breaking Bad', 'Vikings', 'Black Mirror', 'Two', 'The Take']\n",
      "61\n",
      "['Prison Break', 'Mindhunter', 'GOT', '-', 'One Piece', 'Malcolm', 'H x H', 'Timetsu', 'El Barco', 'Dragon Ball', 'Breaking Bad', 'Unsolved', 'Orange is the new black', 'ST', \"Grey's Anatomy\", 'Boku No Hero', 'Brooklyn 99', 'Limitless', 'Lie to me', 'Jojo', 'JJBA', 'No veo', 'No tengo :)', 'The Resident', 'One piece', 'Black Mirror', 'House of Cards', 'Once upon a time', 'Dr. House', 'Under the Dome', 'Friends', 'Elite', 'Doctor Who', 'No sé', 'Luke Cage (T1)', 'Flash', 'Rick and Morty', 'Station 19', 'Vis a Vis', 'Firends', 'Vikings', 'Two', 'The Take']\n",
      "43\n",
      "[4, 1, 8, 1, 1, 3, 1, 1, 1, 1, 4, 1, 1, 1, 2, 1, 1, 1, 1, 1, 1, 1, 1, 1, 1, 2, 1, 1, 1, 1, 1, 1, 1, 1, 1, 1, 2, 1, 1, 1, 1, 1, 1]\n",
      "43\n"
     ]
    }
   ],
   "source": [
    "## Función que RETORNA los elementos únicos de una lista\n",
    "def sin_repetidas(lista):\n",
    "    resultado = []\n",
    "    for elemento in lista:\n",
    "        if not (elemento in resultado):\n",
    "            ## lo agrego\n",
    "            resultado.append(elemento)\n",
    "\n",
    "    return resultado\n",
    "\n",
    "## Función que RETORNA el número de veces que aparece 'serie' en 'lista'\n",
    "def contar_repeticiones(lista, serie):\n",
    "    resultado = 0\n",
    "    for elemento in lista:\n",
    "        if elemento == serie:\n",
    "            resultado += 1\n",
    "    return resultado\n",
    "\n",
    "## Funcion que retorna una lista contando cuantas veces se repite cada serie\n",
    "def repeticiones_por_serie(lista_series, lista_series_unicas):\n",
    "    resultado = []\n",
    "    for serie in lista_series_unicas:\n",
    "        repeticiones = contar_repeticiones(lista_series, serie)\n",
    "        resultado.append(repeticiones)\n",
    "    return resultado\n",
    "\n",
    "print(series_sin_vacios)\n",
    "print(len(series_sin_vacios))\n",
    "series_no_repetidas = sin_repetidas(series_sin_vacios)\n",
    "print(series_no_repetidas)\n",
    "print(len(series_no_repetidas))\n",
    "repeticiones = repeticiones_por_serie(series_sin_vacios, series_no_repetidas)\n",
    "print(repeticiones)\n",
    "print(len(repeticiones))\n",
    "\n",
    "## ¿Cuál es la serie más popular en la sección 7?\n"
   ]
  },
  {
   "cell_type": "code",
   "execution_count": null,
   "metadata": {},
   "outputs": [],
   "source": []
  }
 ],
 "metadata": {
  "kernelspec": {
   "display_name": "Python 3",
   "language": "python",
   "name": "python3"
  },
  "language_info": {
   "codemirror_mode": {
    "name": "ipython",
    "version": 3
   },
   "file_extension": ".py",
   "mimetype": "text/x-python",
   "name": "python",
   "nbconvert_exporter": "python",
   "pygments_lexer": "ipython3",
   "version": "3.7.4"
  }
 },
 "nbformat": 4,
 "nbformat_minor": 2
}
