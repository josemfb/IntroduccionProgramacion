{
 "cells": [
  {
   "cell_type": "markdown",
   "metadata": {},
   "source": [
    "# Clase 20. Tipos de datos propios (I)\n",
    "\n",
    "<p>\n",
    "<font size='5' face='Georgia, Arial'>IIC1103-07 Introducción a la Programación</font><br>\n",
    "<font size='2'>Jueves 17-Octubre-2019</font><br>\n",
    "<font size='2'>Contactos: Cristian Ruz, cruz@ing.puc.cl; Raúl Álvarez, rsalvarez@uc.cl</font>\n",
    "</p>\n"
   ]
  },
  {
   "cell_type": "code",
   "execution_count": 1,
   "metadata": {},
   "outputs": [
    {
     "name": "stdout",
     "output_type": "stream",
     "text": [
      "['AGÜERO', 'LÓPEZ', 'VICENTE JOAQUÍN', 2.0, 'Mindhunter']\n",
      "['AGUILAR', 'PEÑALOZA', 'VIVIANNE PAZ', 6.1, 'Vikings']\n",
      "['ALFARO', 'TEJERINA', 'GUILLERMO ALEJANDRO', 3.7, 'Vikings']\n",
      "['ÁLVAREZ', 'COFRÉ', 'MANUEL JOSÉ', 5.8, 'Unsolved']\n",
      "['ANTONUCCI', 'SOLE', 'GIANFRANCO', 5.3, 'GOT']\n",
      "['APABLAZA', 'SALEME', 'ROCÍO FERNANDA', 3.4, 'Black Mirror']\n",
      "['ARAVENA', 'PINTO', 'VALERIA SOLEDAD', 4.8, \"Grey's Anatomy\"]\n",
      "['ARAYA', 'MARCHANT', 'MAXIMILIANO HERNÁN', 3.4, 'No tengo :)']\n",
      "['ARCE', 'MEDINA', 'PATRICIO NICOLÁS', 6.1, 'One piece']\n",
      "['ARRAU', 'DELLAROSSA', 'RODRIGO IGNACIO', 5.7, 'Friends']\n",
      "['ATRIA', 'PÉNDOLA', 'MANUEL JOSÉ', 1.4, 'Lie to me']\n",
      "['BARRÍA', 'URRUTIA', 'VALENTINA ANDREA', 2.0, 'Dragon Ball']\n",
      "['BASCUÑÁN', 'CARLEVARINO', 'IGNACIO', 4.7, 'No veo']\n",
      "['BERRÍOS', 'LARA', 'CRISTÓBAL IGNACIO', 6.7, 'Breaking Bad']\n",
      "['BÖHM', 'GHIRINGHELLI', 'ALEXANDER THOMAS', 5.0, 'Breaking Bad']\n",
      "['BUZETA', 'LIZAMA', 'NICOLÁS', 4.0, \"Grey's Anatomy\"]\n",
      "['CABALLERO', 'PALACIOS', 'BENJAMÍN ANTONIO', 1.6, 'Vikings']\n",
      "['CABRERA', 'RAVANAL', 'MARÍA PÍA', 3.5, 'Firends']\n",
      "['CÁCERES', 'OPORTO', 'LUCAS ANDRE', 4.1, 'H x H']\n",
      "['CAMPOS', 'FERNÁNDEZ', 'FRANCISCO JAVIER', 4.3, 'Vis a Vis']\n",
      "['CARI', 'LEAL', 'MAURICIO ANDRÉS', 2.5, 'Black Mirror']\n",
      "['CASTILLO', 'OSORIO', 'ANDRES IGNACIO', 3.9, 'Breaking Bad']\n",
      "['CASTRO', 'DUCH', 'MATEO', 3.2, '-']\n",
      "['CIFUENTES', 'SALAS', 'CATALINA SOFÍA', 5.8, 'GOT']\n",
      "['CONTRERAS', 'KLOCK', 'ANTONIA MARÍA', 3.3, 'Prison Break']\n",
      "['CONTRERAS', 'SAAVEDRA', 'SEBASTIÁN', 4.8, 'Prison Break']\n",
      "['CRISTI', 'MONASTERIO', 'PIERO ANTONIO', 4.4, \"Grey's Anatomy\"]\n",
      "['CUBILLOS', 'ALFARO', 'MARÍA VERÓNICA', 1.4, 'Black Mirror']\n",
      "['DEANE', 'TAKAHASHI', 'RIA SAYORI', 5.7, 'Elite']\n",
      "['DOMÍNGUEZ', 'MONTES', 'ROSARIO', 2.7, 'Two']\n",
      "['EBENSPERGER', 'BUSCHMANN', 'TOMÁS EDUARDO', 4.7, \"Grey's Anatomy\"]\n",
      "['ESCOBAR', 'BLANC', 'BENJAMÍN FELIPE', 3.4, 'GOT']\n",
      "['FERNÁNDEZ', 'ABARZÚA', 'LORENZO JAVIER', 5.6, 'Boku No Hero']\n",
      "['FERNÁNDEZ DÁVILA', 'QIN', 'RICARDO PERCY', 2.7, '-']\n",
      "['FERRA', 'SEPÚLVEDA', 'SEBASTIÁN NICOLÁS', 2.2, 'Breaking Bad']\n",
      "['FIGUEROA', 'ESPINA', 'SEBASTIÁN ANDRÉS', 2.4, 'Unsolved']\n",
      "['FUENTEALBA', 'HENRÍQUEZ', 'MARTÍN PATRICIO', 4.7, 'GOT']\n",
      "['FUICA', 'BERGER', 'ANTONIA VERÓNICA', 2.4, 'GOT']\n",
      "['GARCÍA', 'MUÑOZ', 'MARIATERESA DE JESÚS', 4.7, '-']\n",
      "['GÓMEZ', 'SÁNCHEZ', 'CRISTIAN IGNACIO', 5.1, 'GOT']\n",
      "['GONDONNEAU', 'ASTABURUAGA', 'MAX', 1.7, 'No veo']\n",
      "['GONZÁLEZ', 'DÍAZ', 'AGUSTÍN ANDRÉS', 6.4, 'Firends']\n",
      "['HELLEMA', 'MEDINA', 'JAN BERNHARD', 2.6, 'GOT']\n",
      "['HUALA', 'CARSTENS', 'MAURICIO ANDRÉS', 3.9, 'Boku No Hero']\n",
      "['ILLANES', 'VINDZANOVA', 'MARTÍN ALEXIS', 5.6, 'Prison Break']\n",
      "['JARA', 'NOVOA', 'MATÍAS JOSÉ', 5.9, 'Vikings']\n",
      "['LAGOS', 'MEJÍAS', 'DANIEL ANTONIO', 3.8, 'GOT']\n",
      "['LARRAÍN', 'QUEZADA', 'HERNÁN CLAUDIO', 1.1, 'Flash']\n",
      "['LIRA', 'ESCOBAR', 'PILAR IGNACIA', 4.3, 'Prison Break']\n",
      "['LIRA', 'LETELIER', 'RAIMUNDO JOSÉ', 5.8, 'Friends']\n",
      "['LÓPEZ', 'BALDAZZI', 'PABLO TOMMASO', 2.2, 'JJBA']\n",
      "['LUDERS', 'PILASI', 'DOMINGA', 5.5, 'Dr. House']\n",
      "['LYNCH', 'PALACIOS', 'BENJAMÍN ERNESTO', 6.3, 'Two']\n",
      "['MALDONADO', 'RIVERA', 'NICOLAS SEBASTIAN', 3.7, 'The Resident']\n",
      "['MANGIAMARCHI', 'ISUANI', 'MARTINA DE LA CRUZ', 4.4, 'Flash']\n",
      "['MANRÍQUEZ', 'ARAYA', 'IGNACIO JAVIER', 5.3, 'Malcolm']\n",
      "['MANSUY', 'TORRES', 'IGNACIO', 1.9, 'Prison Break']\n",
      "['MARCHANT', 'GATICA', 'JOSÉ IGNACIO', 1.8, 'Prison Break']\n",
      "['MARDONES', 'ZURITA', 'AMARA DENISSE', 1.6, 'GOT']\n",
      "['MARINKOVIC', 'ROJAS', 'BASTIÁN IGNACIO', 6.1, 'GOT']\n",
      "['MENÉNDEZ', 'DÍAZ', 'IGNACIO ANDRÉS', 4.0, 'Friends']\n",
      "['MIGONE', 'WIDOYCOVICH', 'VICENTE', 3.0, 'Prison Break']\n",
      "['MOUAT', 'RIERA', 'JORGE JOAQUÍN', 5.7, 'Malcolm']\n",
      "['NAHUELCURA', 'PONCE', 'SIMÓN ANDRÉS', 4.3, 'Rick and Morty']\n",
      "['NIETO', 'RAMOS', 'CRISTIAN JOAQUÍN', 5.7, '31 minutos']\n",
      "['OLSEN', 'DEL OTERO', 'RENATA SOFÍA', 5.5, 'Once upon a time']\n",
      "['ÓRDENES', 'HEINS', 'TANIA BELÉN', 1.4, 'Unsolved']\n",
      "['ÓRDENES', 'VEGA', 'FRANCISCO MANUEL ARTURO', 5.4, 'ST']\n",
      "['OTTE', 'EASTON', 'MATILDE', 3.4, '31 minutos']\n",
      "['PACHECO', 'CLAEYS', 'CAMILO ANDRÉS', 1.9, 'Prison Break']\n",
      "['PALMA', 'ROMERO', 'JORGE ALONSO', 3.7, 'Prison Break']\n",
      "['PEÑALOZA', 'GARCÍA', 'MARTÍN JOSÉ', 4.1, 'Station 19']\n",
      "['PÉREZ', 'BUSTOS', 'MARTÍN SANTIAGO', 2.0, '-']\n",
      "['PIZARRO', 'PIZARRO', 'AYLIN TIARE', 2.8, 'Mindhunter']\n",
      "['PIZARRO', 'STARKE', 'ANDRÉS IGNACIO', 3.7, 'Brooklyn 99']\n",
      "['PREUSS', 'URIBE', 'CRISTOBAL MICHAEL', 2.9, 'Breaking Bad']\n",
      "['QUINGER', 'ÁLVAREZ', 'BRUNO', 2.3, 'Unsolved']\n",
      "['RAHAL', 'JELDES', 'VICENTE ELÍAS', 4.8, 'Prison Break']\n",
      "['RAMIREZ', 'GARÍN', 'DIEGO ALONSO', 5.0, 'Brooklyn 99']\n",
      "['RÍOS', 'GARCÍA', 'PEDRO', 1.5, 'Malcolm']\n",
      "['ROA', 'SOLÍS', 'RAÚL ALEJANDRO', 4.2, 'Luke Cage (T1)']\n",
      "['RODRÍGUEZ', 'BALART', 'ANDRÉS JOSÉ TORIBIO', 2.5, 'Flash']\n",
      "['RODRÍGUEZ', 'VANIER', 'VICENTE FERNANDO', 3.0, 'GOT']\n",
      "['ROJAS', 'GUAJARDO', 'CAMILA BELÉN', 5.0, 'Prison Break']\n",
      "['SALCEDO', 'MUÑOZ', 'LUCAS IGNACIO', 2.9, 'GOT']\n",
      "['SAN MARTÍN', 'PEREIRA', 'SEBASTIÁN ALEJANDRO', 5.3, 'Breaking Bad']\n",
      "['SEPÚLVEDA', 'CARVAJAL', 'MANUEL ENRIQUE', 1.3, 'One Piece']\n",
      "['SEPÚLVEDA', 'MONTENEGRO', 'RAIMUNDO JAVIER', 2.1, 'Breaking Bad']\n",
      "['SEPÚLVEDA', 'RIVAS', 'FABIÁN ESTEBAN', 6.9, 'Breaking Bad']\n",
      "['SERRANO', 'VAN DER SCHRAFT', 'VALENTINA IGNACIA', 6.5, 'GOT']\n",
      "['SILVA', 'LAVÍN', 'PATRICIO JOSÉ', 6.8, 'Prison Break']\n",
      "['SILVA', 'YAÑEZ', 'PATRICIA VALESCA', 6.0, 'No sé']\n",
      "['STUCK', 'LLONA', 'TOMÁS IGNACIO', 5.3, 'GOT']\n",
      "['TAKAHASHI', 'PEÑALOZA', 'JAVIER IGNACIO ISSEY', 1.6, 'No veo']\n",
      "['URETA', 'DE LA FUENTE', 'VALENTINA ISIDORA', 1.2, 'Malcolm']\n",
      "['URIARTE', 'BRAVO', 'JUAN JOSÉ FRANCISCO', 5.1, 'GOT']\n",
      "['URRUTIA', 'VEGA', 'AGUSTÍN FRANCISCO', 1.7, 'GOT']\n",
      "['VALDIVIA', 'COX', 'DIEGO JOSÉ', 1.3, 'GOT']\n",
      "['VAN DE WYNGARD', 'SALDÍAS', 'RENATO JUAN', 6.8, 'Malcolm']\n",
      "['VARELA', 'VARELA', 'LAURA FABIANA', 4.9, 'Breaking Bad']\n",
      "['VÁSQUEZ', 'REYES', 'TAMAR AYLEEN', 3.4, 'Malcolm']\n",
      "['VERA', 'PINCHEIRA', 'JOAQUÍN ALONSO', 1.9, 'Mindhunter']\n",
      "['VILLAGRA', 'CABRERA', 'SEBASTIÁN IGNACIO', 5.9, 'GOT']\n",
      "['VILLAGRA', 'VIAL', 'JORGE MANUEL', 1.0, 'GOT']\n",
      "['VILLALOBOS', 'MARDONEZ', 'JAVIERA VILLALOBOS', 5.7, 'Under the Dome']\n",
      "['VON PLESSING', 'PIERRY', 'THOMAS EDMUND', 6.9, 'Boku No Hero']\n",
      "['WANG', 'CABRERA', 'IGNACIO ALBERTO', 6.4, 'Mindhunter']\n",
      "['WHITING', 'GUTIÉRREZ', 'MAX ALBERTO', 5.7, 'Rick and Morty']\n",
      "['YÁÑEZ', 'HIDALGO', 'RICARDO IGNACIO', 4.2, 'Doctor Who']\n",
      "['ZAÑARTU', 'TORRES', 'GABRIELA ANTONIA', 3.0, 'No tengo :)']\n"
     ]
    }
   ],
   "source": [
    "import random\n",
    "\n",
    "lista_alumnos = []\n",
    "\n",
    "todos = [ \"AGÜERO;LÓPEZ;VICENTE JOAQUÍN\",\"AGUILAR;PEÑALOZA;VIVIANNE PAZ\",\"ALFARO;TEJERINA;GUILLERMO ALEJANDRO\",\"ÁLVAREZ;COFRÉ;MANUEL JOSÉ\",\"ANTONUCCI;SOLE;GIANFRANCO\",\"APABLAZA;SALEME;ROCÍO FERNANDA\",\"ARAVENA;PINTO;VALERIA SOLEDAD\",\"ARAYA;MARCHANT;MAXIMILIANO HERNÁN\",\"ARCE;MEDINA;PATRICIO NICOLÁS\",\"ARRAU;DELLAROSSA;RODRIGO IGNACIO\",\"ATRIA;PÉNDOLA;MANUEL JOSÉ\",\"BARRÍA;URRUTIA;VALENTINA ANDREA\",\"BASCUÑÁN;CARLEVARINO;IGNACIO\",\"BERRÍOS;LARA;CRISTÓBAL IGNACIO\",\"BÖHM;GHIRINGHELLI;ALEXANDER THOMAS\",\"BUZETA;LIZAMA;NICOLÁS\",\"CABALLERO;PALACIOS;BENJAMÍN ANTONIO\",\"CABRERA;RAVANAL;MARÍA PÍA\",\"CÁCERES;OPORTO;LUCAS ANDRE\",\"CAMPOS;FERNÁNDEZ;FRANCISCO JAVIER\",\"CARI;LEAL;MAURICIO ANDRÉS\",\"CASTILLO;OSORIO;ANDRES IGNACIO\",\"CASTRO;DUCH;MATEO\",\"CIFUENTES;SALAS;CATALINA SOFÍA\",\"CONTRERAS;KLOCK;ANTONIA MARÍA\",\"CONTRERAS;SAAVEDRA;SEBASTIÁN\",\"CRISTI;MONASTERIO;PIERO ANTONIO\",\"CUBILLOS;ALFARO;MARÍA VERÓNICA\",\"DEANE;TAKAHASHI;RIA SAYORI\",\"DOMÍNGUEZ;MONTES;ROSARIO\",\"EBENSPERGER;BUSCHMANN;TOMÁS EDUARDO\",\"ESCOBAR;BLANC;BENJAMÍN FELIPE\",\"FERNÁNDEZ;ABARZÚA;LORENZO JAVIER\",\"FERNÁNDEZ DÁVILA;QIN;RICARDO PERCY\",\"FERRA;SEPÚLVEDA;SEBASTIÁN NICOLÁS\",\"FIGUEROA;ESPINA;SEBASTIÁN ANDRÉS\",\"FUENTEALBA;HENRÍQUEZ;MARTÍN PATRICIO\",\"FUICA;BERGER;ANTONIA VERÓNICA\",\"GARCÍA;MUÑOZ;MARIATERESA DE JESÚS\",\"GÓMEZ;SÁNCHEZ;CRISTIAN IGNACIO\",\"GONDONNEAU;ASTABURUAGA;MAX\",\"GONZÁLEZ;DÍAZ;AGUSTÍN ANDRÉS\",\"HELLEMA;MEDINA;JAN BERNHARD\",\"HUALA;CARSTENS;MAURICIO ANDRÉS\",\"ILLANES;VINDZANOVA;MARTÍN ALEXIS\",\"JARA;NOVOA;MATÍAS JOSÉ\",\"LAGOS;MEJÍAS;DANIEL ANTONIO\",\"LARRAÍN;QUEZADA;HERNÁN CLAUDIO\",\"LIRA;ESCOBAR;PILAR IGNACIA\",\"LIRA;LETELIER;RAIMUNDO JOSÉ\",\"LÓPEZ;BALDAZZI;PABLO TOMMASO\",\"LUDERS;PILASI;DOMINGA\",\"LYNCH;PALACIOS;BENJAMÍN ERNESTO\",\"MALDONADO;RIVERA;NICOLAS SEBASTIAN\",\"MANGIAMARCHI;ISUANI;MARTINA DE LA CRUZ\",\"MANRÍQUEZ;ARAYA;IGNACIO JAVIER\",\"MANSUY;TORRES;IGNACIO\",\"MARCHANT;GATICA;JOSÉ IGNACIO\",\"MARDONES;ZURITA;AMARA DENISSE\",\"MARINKOVIC;ROJAS;BASTIÁN IGNACIO\",\"MENÉNDEZ;DÍAZ;IGNACIO ANDRÉS\",\"MIGONE;WIDOYCOVICH;VICENTE\",\"MOUAT;RIERA;JORGE JOAQUÍN\",\"NAHUELCURA;PONCE;SIMÓN ANDRÉS\",\"NIETO;RAMOS;CRISTIAN JOAQUÍN\",\"OLSEN;DEL OTERO;RENATA SOFÍA\",\"ÓRDENES;HEINS;TANIA BELÉN\",\"ÓRDENES;VEGA;FRANCISCO MANUEL ARTURO\",\"OTTE;EASTON;MATILDE\",\"PACHECO;CLAEYS;CAMILO ANDRÉS\",\"PALMA;ROMERO;JORGE ALONSO\",\"PEÑALOZA;GARCÍA;MARTÍN JOSÉ\",\"PÉREZ;BUSTOS;MARTÍN SANTIAGO\",\"PIZARRO;PIZARRO;AYLIN TIARE\",\"PIZARRO;STARKE;ANDRÉS IGNACIO\",\"PREUSS;URIBE;CRISTOBAL MICHAEL\",\"QUINGER;ÁLVAREZ;BRUNO\",\"RAHAL;JELDES;VICENTE ELÍAS\",\"RAMIREZ;GARÍN;DIEGO ALONSO\",\"RÍOS;GARCÍA;PEDRO\",\"ROA;SOLÍS;RAÚL ALEJANDRO\",\"RODRÍGUEZ;BALART;ANDRÉS JOSÉ TORIBIO\",\"RODRÍGUEZ;VANIER;VICENTE FERNANDO\",\"ROJAS;GUAJARDO;CAMILA BELÉN\",\"SALCEDO;MUÑOZ;LUCAS IGNACIO\",\"SAN MARTÍN;PEREIRA;SEBASTIÁN ALEJANDRO\",\"SEPÚLVEDA;CARVAJAL;MANUEL ENRIQUE\",\"SEPÚLVEDA;MONTENEGRO;RAIMUNDO JAVIER\",\"SEPÚLVEDA;RIVAS;FABIÁN ESTEBAN\",\"SERRANO;VAN DER SCHRAFT;VALENTINA IGNACIA\",\"SILVA;LAVÍN;PATRICIO JOSÉ\",\"SILVA;YAÑEZ;PATRICIA VALESCA\",\"STUCK;LLONA;TOMÁS IGNACIO\",\"TAKAHASHI;PEÑALOZA;JAVIER IGNACIO ISSEY\",\"URETA;DE LA FUENTE;VALENTINA ISIDORA\",\"URIARTE;BRAVO;JUAN JOSÉ FRANCISCO\",\"URRUTIA;VEGA;AGUSTÍN FRANCISCO\",\"VALDIVIA;COX;DIEGO JOSÉ\",\"VAN DE WYNGARD;SALDÍAS;RENATO JUAN\",\"VARELA;VARELA;LAURA FABIANA\",\"VÁSQUEZ;REYES;TAMAR AYLEEN\",\"VERA;PINCHEIRA;JOAQUÍN ALONSO\",\"VILLAGRA;CABRERA;SEBASTIÁN IGNACIO\",\"VILLAGRA;VIAL;JORGE MANUEL\",\"VILLALOBOS;MARDONEZ;JAVIERA VILLALOBOS\",\"VON PLESSING;PIERRY;THOMAS EDMUND\",\"WANG;CABRERA;IGNACIO ALBERTO\",\"WHITING;GUTIÉRREZ;MAX ALBERTO\",\"YÁÑEZ;HIDALGO;RICARDO IGNACIO\",\"ZAÑARTU;TORRES;GABRIELA ANTONIA\" ]\n",
    "series = ['Prison Break', 'Mindhunter', 'GOT', '31 minutos', '-', 'GOT', 'One Piece', 'Malcolm', 'H x H', 'Prison Break', 'Timetsu', 'GOT', 'GOT', 'El Barco', 'Dragon Ball', 'Breaking Bad', 'Unsolved', 'Orange is the new black', 'ST', \"Grey's Anatomy\", 'Boku No Hero', 'Brooklyn 99', \"Grey's Anatomy\", 'Limitless', 'Lie to me', 'Jojo', 'Breaking Bad', 'JJBA', 'No veo', 'GOT', 'No tengo :)', 'The Resident', 'One piece', 'Prison Break', 'Black Mirror', 'House of Cards', 'Once upon a time', 'Dr. House', 'Under the Dome', 'Friends', 'GOT', 'GOT', 'Elite', 'Doctor Who', 'No sé', 'Luke Cage (T1)', 'Flash', 'Malcolm', 'Malcolm', 'Prison Break', 'Rick and Morty', 'Breaking Bad', 'Station 19', 'Vis a Vis', 'Firends', 'Rick and Morty', 'GOT', 'Breaking Bad', 'Vikings', 'Black Mirror', 'Two', 'The Take']\n",
    "\n",
    "for estudiante in todos:\n",
    "    nuevo_estudiante = estudiante.split(\";\")\n",
    "\n",
    "    notaI1 = random.randint(10,70) / 10\n",
    "    nuevo_estudiante.append(notaI1)\n",
    "\n",
    "    serie = random.choice(series)\n",
    "    nuevo_estudiante.append(serie)\n",
    "    \n",
    "    lista_alumnos.append(nuevo_estudiante)\n",
    "    \n",
    "for estudiante in lista_alumnos:\n",
    "    print(estudiante)"
   ]
  },
  {
   "cell_type": "markdown",
   "metadata": {},
   "source": [
    "Cada elemento de la lista es una lista (llamémosle *sublista*), y cada sublista tiene una estructura definida. El primer elemento es un *string* (apellido), el segundo es otro *string* (apellido), el tercero es otro *string* nombres, el cuarto es un *float* (notaI1), y el último es otro *string*."
   ]
  },
  {
   "cell_type": "markdown",
   "metadata": {},
   "source": [
    "Escribamos un código que nos permita obtener todos los alumnos que les guste una serie."
   ]
  },
  {
   "cell_type": "code",
   "execution_count": 2,
   "metadata": {},
   "outputs": [
    {
     "name": "stdout",
     "output_type": "stream",
     "text": [
      "Ingrese una serie: GOT\n",
      "La serie GOT le gusta a 19 :\n",
      "\tGIANFRANCO ANTONUCCI SOLE\n",
      "\tCATALINA SOFÍA CIFUENTES SALAS\n",
      "\tBENJAMÍN FELIPE ESCOBAR BLANC\n",
      "\tMARTÍN PATRICIO FUENTEALBA HENRÍQUEZ\n",
      "\tANTONIA VERÓNICA FUICA BERGER\n",
      "\tCRISTIAN IGNACIO GÓMEZ SÁNCHEZ\n",
      "\tJAN BERNHARD HELLEMA MEDINA\n",
      "\tDANIEL ANTONIO LAGOS MEJÍAS\n",
      "\tAMARA DENISSE MARDONES ZURITA\n",
      "\tBASTIÁN IGNACIO MARINKOVIC ROJAS\n",
      "\tVICENTE FERNANDO RODRÍGUEZ VANIER\n",
      "\tLUCAS IGNACIO SALCEDO MUÑOZ\n",
      "\tVALENTINA IGNACIA SERRANO VAN DER SCHRAFT\n",
      "\tTOMÁS IGNACIO STUCK LLONA\n",
      "\tJUAN JOSÉ FRANCISCO URIARTE BRAVO\n",
      "\tAGUSTÍN FRANCISCO URRUTIA VEGA\n",
      "\tDIEGO JOSÉ VALDIVIA COX\n",
      "\tSEBASTIÁN IGNACIO VILLAGRA CABRERA\n",
      "\tJORGE MANUEL VILLAGRA VIAL\n"
     ]
    }
   ],
   "source": [
    "serie = input(\"Ingrese una serie: \")\n",
    "lista_resultado = []\n",
    "for estudiante in lista_alumnos:\n",
    "    if serie == estudiante[4]:\n",
    "        lista_resultado.append(estudiante)\n",
    "\n",
    "print(\"La serie\", serie, \"le gusta a\", len(lista_resultado),\":\")\n",
    "for estudiante in lista_resultado:\n",
    "    print(\"\\t\"+estudiante[2],estudiante[0],estudiante[1])\n"
   ]
  },
  {
   "cell_type": "code",
   "execution_count": 3,
   "metadata": {},
   "outputs": [
    {
     "name": "stdout",
     "output_type": "stream",
     "text": [
      "El promedio de la sección es: 3.969999999999998\n"
     ]
    }
   ],
   "source": [
    "## Calcular el promedio:\n",
    "suma = 0\n",
    "for estudiante in lista_alumnos:\n",
    "    suma += estudiante[3]\n",
    "promedio = suma / len(lista_alumnos)\n",
    "print(\"El promedio de la sección es:\", promedio)"
   ]
  },
  {
   "cell_type": "code",
   "execution_count": 4,
   "metadata": {},
   "outputs": [
    {
     "name": "stdout",
     "output_type": "stream",
     "text": [
      "El promedio de la sección es: 3.969999999999998\n",
      "Hay 37 estudiantes a un punto de la media:\n",
      "\tGUILLERMO ALEJANDRO ALFARO TEJERINA que tiene un 3.7\n",
      "\tROCÍO FERNANDA APABLAZA SALEME que tiene un 3.4\n",
      "\tVALERIA SOLEDAD ARAVENA PINTO que tiene un 4.8\n",
      "\tMAXIMILIANO HERNÁN ARAYA MARCHANT que tiene un 3.4\n",
      "\tIGNACIO BASCUÑÁN CARLEVARINO que tiene un 4.7\n",
      "\tNICOLÁS BUZETA LIZAMA que tiene un 4.0\n",
      "\tMARÍA PÍA CABRERA RAVANAL que tiene un 3.5\n",
      "\tLUCAS ANDRE CÁCERES OPORTO que tiene un 4.1\n",
      "\tFRANCISCO JAVIER CAMPOS FERNÁNDEZ que tiene un 4.3\n",
      "\tANDRES IGNACIO CASTILLO OSORIO que tiene un 3.9\n",
      "\tMATEO CASTRO DUCH que tiene un 3.2\n",
      "\tANTONIA MARÍA CONTRERAS KLOCK que tiene un 3.3\n",
      "\tSEBASTIÁN CONTRERAS SAAVEDRA que tiene un 4.8\n",
      "\tPIERO ANTONIO CRISTI MONASTERIO que tiene un 4.4\n",
      "\tTOMÁS EDUARDO EBENSPERGER BUSCHMANN que tiene un 4.7\n",
      "\tBENJAMÍN FELIPE ESCOBAR BLANC que tiene un 3.4\n",
      "\tMARTÍN PATRICIO FUENTEALBA HENRÍQUEZ que tiene un 4.7\n",
      "\tMARIATERESA DE JESÚS GARCÍA MUÑOZ que tiene un 4.7\n",
      "\tMAURICIO ANDRÉS HUALA CARSTENS que tiene un 3.9\n",
      "\tDANIEL ANTONIO LAGOS MEJÍAS que tiene un 3.8\n",
      "\tPILAR IGNACIA LIRA ESCOBAR que tiene un 4.3\n",
      "\tNICOLAS SEBASTIAN MALDONADO RIVERA que tiene un 3.7\n",
      "\tMARTINA DE LA CRUZ MANGIAMARCHI ISUANI que tiene un 4.4\n",
      "\tIGNACIO ANDRÉS MENÉNDEZ DÍAZ que tiene un 4.0\n",
      "\tVICENTE MIGONE WIDOYCOVICH que tiene un 3.0\n",
      "\tSIMÓN ANDRÉS NAHUELCURA PONCE que tiene un 4.3\n",
      "\tMATILDE OTTE EASTON que tiene un 3.4\n",
      "\tJORGE ALONSO PALMA ROMERO que tiene un 3.7\n",
      "\tMARTÍN JOSÉ PEÑALOZA GARCÍA que tiene un 4.1\n",
      "\tANDRÉS IGNACIO PIZARRO STARKE que tiene un 3.7\n",
      "\tVICENTE ELÍAS RAHAL JELDES que tiene un 4.8\n",
      "\tRAÚL ALEJANDRO ROA SOLÍS que tiene un 4.2\n",
      "\tVICENTE FERNANDO RODRÍGUEZ VANIER que tiene un 3.0\n",
      "\tLAURA FABIANA VARELA VARELA que tiene un 4.9\n",
      "\tTAMAR AYLEEN VÁSQUEZ REYES que tiene un 3.4\n",
      "\tRICARDO IGNACIO YÁÑEZ HIDALGO que tiene un 4.2\n",
      "\tGABRIELA ANTONIA ZAÑARTU TORRES que tiene un 3.0\n"
     ]
    }
   ],
   "source": [
    "## Mostrar los que están a punto de la media\n",
    "\n",
    "## Calcular el promedio:\n",
    "suma = 0\n",
    "for estudiante in lista_alumnos:\n",
    "    suma += estudiante[3]\n",
    "promedio = suma / len(lista_alumnos)\n",
    "print(\"El promedio de la sección es:\", promedio)\n",
    "\n",
    "lista_resultado = []\n",
    "for estudiante in lista_alumnos:\n",
    "    if estudiante[3] >= promedio - 1.0 and estudiante[3] <= promedio + 1.0:\n",
    "        lista_resultado.append(estudiante)\n",
    "\n",
    "print(\"Hay\", len(lista_resultado), \"estudiantes a un punto de la media:\")\n",
    "for estudiante in lista_resultado:\n",
    "    print(\"\\t\"+estudiante[2], estudiante[0], estudiante[1], \"que tiene un\", estudiante[3])\n"
   ]
  },
  {
   "cell_type": "code",
   "execution_count": 5,
   "metadata": {},
   "outputs": [
    {
     "name": "stdout",
     "output_type": "stream",
     "text": [
      "<class 'str'>\n",
      "<class 'int'>\n",
      "<class 'float'>\n"
     ]
    }
   ],
   "source": [
    "a = \"un texto\"\n",
    "b = 9\n",
    "c = 9.1\n",
    "print(type(a))\n",
    "print(type(b))\n",
    "print(type(c))"
   ]
  },
  {
   "cell_type": "code",
   "execution_count": 10,
   "metadata": {},
   "outputs": [
    {
     "name": "stdout",
     "output_type": "stream",
     "text": [
      "Cristian\n",
      "4.8\n",
      "<__main__.Estudiante object at 0x1056c9d10>\n",
      "<__main__.Estudiante object at 0x1056ae110>\n",
      "<__main__.Estudiante object at 0x1056c9d10>\n"
     ]
    }
   ],
   "source": [
    "class Estudiante:\n",
    "    \n",
    "    def __init__(self, a1, a2, noms, nota, serie):\n",
    "\n",
    "        self.apellido1 = a1\n",
    "        self.apellido2 = a2\n",
    "        self.nombres = noms\n",
    "        self.notaI1 = nota\n",
    "        self.serie = serie\n",
    "\n",
    "\n",
    "lista_del_curso = list()\n",
    "profesor = str(\"Cristian\")\n",
    "promedio = float(4.8)\n",
    "\n",
    "cristian = Estudiante(\"Ruz\", \"Ruz\", \"Cristian\", 7.0, \"Agents of SHIELD\")\n",
    "print(profesor)\n",
    "print(promedio)\n",
    "print(cristian)\n",
    "\n",
    "## Llamamos al inicializaor de la clase Estudiante.\n",
    "## es decir, estamos llamado al método __init__ de la clase Estudiante\n",
    "cristian = Estudiante(\"Ruz\", \"Ruz\", \"Cristian\", 7.0, \"Agents of SHIELD\")\n",
    "martin = Estudiante(\"Peñaloza\", \"García\", \"Martín José\", 4.1, \"GOT\")\n",
    "antonia = Estudiante(\"Contreras\", \"Klock\", \"Antonia María\", 3.3, \"Rick and Morty\")\n",
    "print(martin)\n",
    "print(antonia)"
   ]
  },
  {
   "cell_type": "code",
   "execution_count": 11,
   "metadata": {},
   "outputs": [
    {
     "name": "stdout",
     "output_type": "stream",
     "text": [
      "Agents of SHIELD\n",
      "García\n",
      "3.3\n"
     ]
    }
   ],
   "source": [
    "print(cristian.serie)\n",
    "print(martin.apellido2)\n",
    "print(antonia.notaI1)"
   ]
  },
  {
   "cell_type": "code",
   "execution_count": 31,
   "metadata": {},
   "outputs": [
    {
     "name": "stdout",
     "output_type": "stream",
     "text": [
      "Cristian tiene un 7.0 y le gusta ver Agents of SHIELD mide 157 cms, y le gusta practicar tenis\n",
      "Martín José tiene un 4.1 y le gusta ver GOT mide 155 cms, y le gusta practicar curling\n",
      "Antonia María tiene un 3.3 y le gusta ver Rick and Morty mide 160 cms, y le gusta practicar voleibol\n",
      "=======================\n",
      "Cristian tiene un 7.0 y le gusta ver Agents of SHIELD mide 157 cms, y le gusta practicar llegar tarde a la clase\n",
      "José Martín tiene un 4.1 y le gusta ver GOT mide 155 cms, y le gusta practicar curling\n",
      "Antonia María tiene un 6.8 y le gusta ver Rick and Morty mide 160 cms, y le gusta practicar voleibol\n",
      "=======================\n"
     ]
    },
    {
     "ename": "AttributeError",
     "evalue": "'Estudiante' object has no attribute 'nota1'",
     "output_type": "error",
     "traceback": [
      "\u001b[0;31m---------------------------------------------------------------------------\u001b[0m",
      "\u001b[0;31mAttributeError\u001b[0m                            Traceback (most recent call last)",
      "\u001b[0;32m<ipython-input-31-b31845b4274c>\u001b[0m in \u001b[0;36m<module>\u001b[0;34m\u001b[0m\n\u001b[1;32m     35\u001b[0m \u001b[0;34m\u001b[0m\u001b[0m\n\u001b[1;32m     36\u001b[0m \u001b[0mprint\u001b[0m\u001b[0;34m(\u001b[0m\u001b[0;34m\"=======================\"\u001b[0m\u001b[0;34m)\u001b[0m\u001b[0;34m\u001b[0m\u001b[0;34m\u001b[0m\u001b[0m\n\u001b[0;32m---> 37\u001b[0;31m \u001b[0mpromedio\u001b[0m \u001b[0;34m=\u001b[0m \u001b[0;34m(\u001b[0m\u001b[0mcristian\u001b[0m\u001b[0;34m.\u001b[0m\u001b[0mnotaI1\u001b[0m \u001b[0;34m+\u001b[0m \u001b[0mmartin\u001b[0m\u001b[0;34m.\u001b[0m\u001b[0mnota1\u001b[0m \u001b[0;34m+\u001b[0m \u001b[0mantonia\u001b[0m\u001b[0;34m.\u001b[0m\u001b[0mnotaI1\u001b[0m\u001b[0;34m)\u001b[0m \u001b[0;34m/\u001b[0m \u001b[0;36m3\u001b[0m\u001b[0;34m\u001b[0m\u001b[0;34m\u001b[0m\u001b[0m\n\u001b[0m\u001b[1;32m     38\u001b[0m \u001b[0mprint\u001b[0m\u001b[0;34m(\u001b[0m\u001b[0;34m\"El promedio es\"\u001b[0m\u001b[0;34m,\u001b[0m \u001b[0mpromedio\u001b[0m\u001b[0;34m)\u001b[0m\u001b[0;34m\u001b[0m\u001b[0;34m\u001b[0m\u001b[0m\n\u001b[1;32m     39\u001b[0m \u001b[0;34m\u001b[0m\u001b[0m\n",
      "\u001b[0;31mAttributeError\u001b[0m: 'Estudiante' object has no attribute 'nota1'"
     ]
    }
   ],
   "source": [
    "import random\n",
    "#print(lista_alumnos)\n",
    "\n",
    "class Estudiante:\n",
    "    \n",
    "    def __init__(self, a1, a2, noms, nota, serie):\n",
    "\n",
    "        self.serie = serie\n",
    "        self.nombres = noms\n",
    "        self.apellido2 = a2\n",
    "        self.deporte = random.choice([\"futbol\",\"tenis\",\"basquetbol\",\"voleibol\",\"curling\",\"ajedrez\",\"dormir\",\"natacion\"])\n",
    "        self.notaI1 = nota\n",
    "        self.altura = random.randint(150, 190)\n",
    "        self.apellido1 = a1\n",
    "\n",
    "    def __str__(self):\n",
    "        return \"Soy un estudiante y me llamo \" + self.nombres\n",
    "        \n",
    "## Llamamos al inicializaor de la clase Estudiante.\n",
    "## es decir, estamos llamado al método __init__ de la clase Estudiante\n",
    "cristian = Estudiante(\"Ruz\", \"Ruz\", \"Cristian\", 7.0, \"Agents of SHIELD\")\n",
    "martin = Estudiante(\"Peñaloza\", \"García\", \"Martín José\", 4.1, \"GOT\")\n",
    "antonia = Estudiante(\"Contreras\", \"Klock\", \"Antonia María\", 3.3, \"Rick and Morty\")\n",
    "\n",
    "algunos = [cristian, martin, antonia]\n",
    "for e in algunos:\n",
    "    print(e.nombres,\"tiene un\",e.notaI1,\"y le gusta ver\",e.serie,\"mide\",e.altura,\"cms, y le gusta practicar\", e.deporte)\n",
    "    \n",
    "cristian.deporte = \"llegar tarde a la clase\"\n",
    "antonia.notaI1 = 6.8\n",
    "martin.nombres = \"José Martín\"\n",
    "print(\"=======================\")\n",
    "for e in [cristian, martin, antonia]:\n",
    "    print(e.nombres,\"tiene un\",e.notaI1,\"y le gusta ver\",e.serie,\"mide\",e.altura,\"cms, y le gusta practicar\", e.deporte)\n",
    "\n",
    "print(\"=======================\")\n",
    "promedio = (cristian.notaI1 + martin.nota1 + antonia.notaI1) / 3\n",
    "print(\"El promedio es\", promedio)\n",
    "\n",
    "print(\"=======================\")\n",
    "print(cristian)\n",
    "print(antonia)\n",
    "print(martin)\n",
    "print(\"=======================\")\n",
    "print(str(cristian))\n",
    "print(str(antonia))\n",
    "print(str(martin))\n",
    "\n",
    "\n"
   ]
  },
  {
   "cell_type": "code",
   "execution_count": 35,
   "metadata": {},
   "outputs": [
    {
     "name": "stdout",
     "output_type": "stream",
     "text": [
      "<class 'type'>\n",
      "<class 'type'>\n",
      "<class 'type'>\n",
      "<class '__main__.Estudiante'>\n"
     ]
    }
   ],
   "source": [
    "print(type(AttributeError))\n",
    "print(type(int))\n",
    "print(type(Estudiante))\n",
    "print(type(cristian))"
   ]
  },
  {
   "cell_type": "code",
   "execution_count": null,
   "metadata": {},
   "outputs": [],
   "source": []
  }
 ],
 "metadata": {
  "kernelspec": {
   "display_name": "Python 3",
   "language": "python",
   "name": "python3"
  },
  "language_info": {
   "codemirror_mode": {
    "name": "ipython",
    "version": 3
   },
   "file_extension": ".py",
   "mimetype": "text/x-python",
   "name": "python",
   "nbconvert_exporter": "python",
   "pygments_lexer": "ipython3",
   "version": "3.7.4"
  }
 },
 "nbformat": 4,
 "nbformat_minor": 2
}
