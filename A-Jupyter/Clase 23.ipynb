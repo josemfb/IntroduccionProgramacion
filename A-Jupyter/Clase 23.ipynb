{
 "cells": [
  {
   "cell_type": "markdown",
   "metadata": {},
   "source": [
    "# Clase 23. Archivos\n",
    "\n",
    "<p>\n",
    "<font size='5' face='Georgia, Arial'>IIC1103-07 Introducción a la Programación</font><br>\n",
    "<font size='2'>Martes 03-Noviembre-2019</font><br>\n",
    "<font size='2'>Contactos: Cristian Ruz, cruz@ing.puc.cl; Raúl Álvarez, rsalvarez@uc.cl</font>\n",
    "</p>\n"
   ]
  },
  {
   "cell_type": "markdown",
   "metadata": {},
   "source": [
    "Hasta ahora, cuando hemos entregado datos para ser procesador por nuestros programas, utilizamos `input()`. Esta función espera un ingreso manual de datos por parte del usuario (o un poco más automatizado como lo hace *hackerrank*). sin embargo, las aplicaciones actuales, tanto para procesamiento científico, para ciencia de datos, análisis estadístico o experimentos, utilizan archivos para intercambiar información.\n",
    "\n",
    "En esta sección veremos algunos ejemplos para trabajar con archivos desde Python."
   ]
  },
  {
   "cell_type": "markdown",
   "metadata": {},
   "source": [
    "## Abrir y cerrar archivos\n",
    "\n",
    "El primer paso para trabajar con archivos es abrirlos. La función `open` permite abrir un archivo y obtener una referencia a él. La función recibe un *string* con una **ruta** al archivo que queremos abrir. Una ruta es la secuencia de directorios que debemos abrir hasta llegar al nombre de archivo. Si no indicamos una ruta y sólo agregamos el nombre del archivo, el intérprete de Python lo buscará en el directorio actual.\n"
   ]
  },
  {
   "cell_type": "code",
   "execution_count": 3,
   "metadata": {},
   "outputs": [
    {
     "name": "stdout",
     "output_type": "stream",
     "text": [
      "<class '_io.TextIOWrapper'>\n"
     ]
    }
   ],
   "source": [
    "## Abre un archivo, y lo cierre inmediatamente.\n",
    "## Este archivo se llama 'Einstein.txt', y se encuentra dentro del directorio 'files'\n",
    "archivo = open(\"files/Einstein.txt\")\n",
    "\n",
    "## trabajar con el archivo\n",
    "print(type(archivo))\n",
    "\n",
    "archivo.close()"
   ]
  },
  {
   "cell_type": "markdown",
   "metadata": {},
   "source": [
    "Este ejemplo abre un archivo y luego lo cierra mediante el método `close()`. La función `open()` retorna un objeto (de clase `_io.TextIOWrapper`) que permite trabajar con el contenido del archivo. Una vez que se ha terminado de trabajar con él, debemos cerrar el archivo. En ese momento se guarda cualquier cambio que hayamos hecho en él."
   ]
  },
  {
   "cell_type": "markdown",
   "metadata": {},
   "source": [
    "### Modos de apertura\n",
    "\n",
    "Al abrir un archivo, podemos especificar qué queremos hacer con él. El segundo argumento de `open` es el **modo de apertura**, y es un _string_ que puede ser:\n",
    "* `r`, indica que queremos abrir el archivo **sólo para lectura** (*read*). Si no se especifica nada, el modo es `r`.\n",
    "* `w`, indica que queremos abrir el archivo **sólo para escritura** (*write*).\n",
    "* `a`, indica que queremos abrir el archivo para **escribir al final** (*append*).\n",
    "\n",
    "La diferencia fundamental entre los modos `w` y `a` es que `w` trata el archivo como un archivo nuevo. Si el archivo no existía, lo crea. Si el archivo ya existía, borra su contenido y empieza a escribir desde el inicio. En cambio el modo `a` permite abrir un archivo con contenido y escribir al final de él.\n",
    "\n"
   ]
  },
  {
   "cell_type": "code",
   "execution_count": 4,
   "metadata": {},
   "outputs": [],
   "source": [
    "## Este código va a crear un archivo de nombre \"prueba.txt\" en directorio actual.\n",
    "## Como resultado, quedará un archivo con este nombre y de contenido vacío (0 bytes)\n",
    "archivo = open(\"prueba.txt\", \"w\")\n",
    "\n",
    "archivo.close()"
   ]
  },
  {
   "cell_type": "markdown",
   "metadata": {},
   "source": [
    "### Lectura de datos\n",
    "\n",
    "Cuando abrimos un archivo para leer su contenido (modo `r`), obtenemos un objeto que permite acceder al archivo abierto. Entre los métodos útiles para leer el contenido del archivo están:\n",
    "* `read()` lee todo el contenido de una sola vez y lo retorna en una variable\n",
    "* `readline()` lee una línea y la retorna como un `str`\n",
    "* `readlines()` lee todo el contenido de una sola y lo retorna como una lista de `str` donde cada elemento de la lista es una línea del archivo\n",
    "\n",
    "**La más fácil:** Pero si queremos ir procesando una línea del archivo a la vez, también podemos usar la construcción `for linea in archivo` donde, en cada iteración, `linea` es un `str` con la línea siguiente del archivo.\n",
    "\n",
    "A continuación un ejemplo de cada método."
   ]
  },
  {
   "cell_type": "code",
   "execution_count": 1,
   "metadata": {},
   "outputs": [
    {
     "name": "stdout",
     "output_type": "stream",
     "text": [
      "El amor es un mejor profesor que el deber.\n",
      "Información no es conocimiento.\n",
      "Nunca pierdas la sagrada curiosidad.\n",
      "Si no puedes explicarlo de forma simple, no lo entiendes lo suficientemente bien.\n",
      "Todos deben ser respetados como individuos, pero no idolatrados.\n",
      "\n",
      "Nunca hagas algo contra tu conciencia incluso si la situación lo demanda.\n",
      "Locura: hacer lo mismo una y otra vez, esperando diferentes resultados.\n",
      "Un hombre debe buscar lo que es, no lo que piensa que es.\n",
      "Una persona que nunca ha cometido un error nunca ha intentado algo nuevo.\n",
      "Aprende del ayer, vive del hoy, espera del mañana.\n",
      "\n",
      "Todo debe ser tan simple como es, pero no más sencillo.\n",
      "La lógica te lleva del punto A al B. La imaginación te llevará donde sea.\n",
      "\n"
     ]
    }
   ],
   "source": [
    "## archivo.read() lee todo el contenido de una sola vez en un `str`. \n",
    "## La mayoría de las veces vamos a querer leer el contenido de una línea a la vez\n",
    "## porque querremos hacer algo con cada línea, así que no usaremos tanto este método \n",
    "\n",
    "archivo = open(\"files/Einstein.txt\", \"r\")\n",
    "archivo_completo = archivo.read()\n",
    "print(archivo_completo)\n",
    "archivo.close()"
   ]
  },
  {
   "cell_type": "code",
   "execution_count": 6,
   "metadata": {},
   "outputs": [
    {
     "name": "stdout",
     "output_type": "stream",
     "text": [
      "Línea 1: [El amor es un mejor profesor que el deber.\n",
      "]\n",
      "Línea 1: [El amor es un mejor profesor que el deber.]\n",
      "Línea 2: [Información no es conocimiento.]\n",
      "Línea 3: [Nunca pierdas la sagrada curiosidad.]\n",
      "Línea 4: [Si no puedes explicarlo de forma simple, no lo entiendes lo suficientemente bien.]\n",
      "Línea 5: [Todos deben ser respetados como individuos, pero no idolatrados.]\n",
      "Línea 6: []\n",
      "Línea 7: [Nunca hagas algo contra tu conciencia incluso si la situación lo demanda.]\n",
      "Línea 8: [Locura: hacer lo mismo una y otra vez, esperando diferentes resultados.]\n",
      "Línea 9: [Un hombre debe buscar lo que es, no lo que piensa que es.]\n",
      "Línea 10: [Una persona que nunca ha cometido un error nunca ha intentado algo nuevo.]\n",
      "Línea 11: [Aprende del ayer, vive del hoy, espera del mañana.]\n",
      "Línea 12: []\n",
      "Línea 13: [Todo debe ser tan simple como es, pero no más sencillo.]\n",
      "Línea 14: [La lógica te lleva del punto A al B. La imaginación te llevará donde sea.]\n"
     ]
    }
   ],
   "source": [
    "## archivo.readline() lee una linea en cada ocasión.\n",
    "## Cada línea retornada contiene un caracter de fin de línea: '\\n' al final.\n",
    "## Si queremos eliminar podemos usar linea.strip('\\n') después de cada lectura.\n",
    "## Retorna el string vacio \"\" si es que no queda nada más que leer.\n",
    "\n",
    "archivo = open(\"files/Einstein.txt\", \"r\")\n",
    "\n",
    "# Lee una línea. Notar que queda un cambio de línea ('\\n') al final\n",
    "primera_linea = archivo.readline()\n",
    "print(\"Línea 1: [\" + primera_linea + \"]\")\n",
    "\n",
    "# Podemos descartar el cambio de línea con strip()\n",
    "primera_linea = primera_linea.strip()\n",
    "print(\"Línea 1: [\" + primera_linea + \"]\")\n",
    "\n",
    "# Cada llamado retorna un linea más. Podemos eliminar el cambio de línea de inmediato\n",
    "segunda_linea = archivo.readline().strip()\n",
    "print(\"Línea 2: [\" + segunda_linea + \"]\")\n",
    "\n",
    "## Podemos leer hasta que 'readline' retorne \"\"\n",
    "numero = 3\n",
    "linea = archivo.readline()\n",
    "while linea != \"\":\n",
    "    linea = linea.strip()\n",
    "    print(\"Línea \" + str(numero) + \": [\" + linea + \"]\")\n",
    "    numero += 1\n",
    "    linea = archivo.readline()\n",
    "    \n",
    "\n",
    "\n",
    "archivo.close()"
   ]
  },
  {
   "cell_type": "code",
   "execution_count": 7,
   "metadata": {},
   "outputs": [
    {
     "name": "stdout",
     "output_type": "stream",
     "text": [
      "Líneas leídas: 14\n",
      "1: [El amor es un mejor profesor que el deber.]\n",
      "2: [Información no es conocimiento.]\n",
      "3: [Nunca pierdas la sagrada curiosidad.]\n",
      "4: [Si no puedes explicarlo de forma simple, no lo entiendes lo suficientemente bien.]\n",
      "5: [Todos deben ser respetados como individuos, pero no idolatrados.]\n",
      "6: []\n",
      "7: [Nunca hagas algo contra tu conciencia incluso si la situación lo demanda.]\n",
      "8: [Locura: hacer lo mismo una y otra vez, esperando diferentes resultados.]\n",
      "9: [Un hombre debe buscar lo que es, no lo que piensa que es.]\n",
      "10: [Una persona que nunca ha cometido un error nunca ha intentado algo nuevo.]\n",
      "11: [Aprende del ayer, vive del hoy, espera del mañana.]\n",
      "12: []\n",
      "13: [Todo debe ser tan simple como es, pero no más sencillo.]\n",
      "14: [La lógica te lleva del punto A al B. La imaginación te llevará donde sea.]\n"
     ]
    }
   ],
   "source": [
    "## archivo.readlines() retorna una lista con una línea en cada elemento\n",
    "## Cada línea incluye el cambio de línea '\\n'\n",
    "archivo = open(\"files/Einstein.txt\", \"r\")\n",
    "lineas = archivo.readlines()\n",
    "print(\"Líneas leídas:\", len(lineas))\n",
    "numero = 1\n",
    "for linea in lineas:\n",
    "    print(str(numero) + \": [\" + linea.strip() +\"]\")\n",
    "    numero += 1\n",
    "\n",
    "archivo.close()"
   ]
  },
  {
   "cell_type": "code",
   "execution_count": 10,
   "metadata": {},
   "outputs": [
    {
     "name": "stdout",
     "output_type": "stream",
     "text": [
      "1: [El amor es un mejor profesor que el deber.]\n",
      "2: [Información no es conocimiento.]\n",
      "3: [Nunca pierdas la sagrada curiosidad.]\n",
      "4: [Si no puedes explicarlo de forma simple, no lo entiendes lo suficientemente bien.]\n",
      "5: [Todos deben ser respetados como individuos, pero no idolatrados.]\n",
      "6: []\n",
      "7: [Nunca hagas algo contra tu conciencia incluso si la situación lo demanda.]\n",
      "8: [Locura: hacer lo mismo una y otra vez, esperando diferentes resultados.]\n",
      "9: [Un hombre debe buscar lo que es, no lo que piensa que es.]\n",
      "10: [Una persona que nunca ha cometido un error nunca ha intentado algo nuevo.]\n",
      "11: [Aprende del ayer, vive del hoy, espera del mañana.]\n",
      "12: []\n",
      "13: [Todo debe ser tan simple como es, pero no más sencillo.]\n",
      "14: [La lógica te lleva del punto A al B. La imaginación te llevará donde sea.]\n"
     ]
    }
   ],
   "source": [
    "## Finalmente, la manera más fácil de procesar cada línea.\n",
    "## Podemos usar la construcción for linea in archivo, para pasar por cada línea:\n",
    "\n",
    "archivo = open(\"files/Einstein.txt\", \"r\")\n",
    "numero = 1\n",
    "for linea in archivo:\n",
    "    print(str(numero) + \": [\" + linea.strip() +\"]\")\n",
    "    numero += 1\n",
    "archivo.close()"
   ]
  },
  {
   "cell_type": "markdown",
   "metadata": {},
   "source": [
    "### Escritura de datos\n",
    "\n",
    "Si queremos escribir o agregar datos a un archivo, debemos abrir el archivo con el modo `\"w\"` si queremos partir de un archivo vacío, o bien con `\"a\"` si queremos escribir al final de un archivo existente.\n",
    "\n",
    "Para escribir dentro de un archivo podemos utilizar un parámetro adicional para la función `print`."
   ]
  },
  {
   "cell_type": "code",
   "execution_count": 13,
   "metadata": {},
   "outputs": [],
   "source": [
    "## print puede escribir en un archivo abierto para escritura (o para append), si es que le pasamos \n",
    "archivo = open(\"prueba.txt\", \"w\")\n",
    "print(\"Esta es una línea de prueba\", file=archivo)\n",
    "print(file=archivo)\n",
    "print(\"Acabamos de dejar una línea vacía\", file=archivo)\n",
    "nota_eximicion = 5.5\n",
    "print(\"Y esta línea contiene\", nota_eximicion, \"que es la nota de eximición.\", file=archivo)\n",
    "archivo.close()\n",
    "\n"
   ]
  },
  {
   "cell_type": "code",
   "execution_count": 14,
   "metadata": {},
   "outputs": [
    {
     "name": "stdout",
     "output_type": "stream",
     "text": [
      "Esta es una línea de prueba\n",
      "\n",
      "Acabamos de dejar una línea vacía\n",
      "Y esta línea contiene  5.5 que es la nota de eximición.\n"
     ]
    }
   ],
   "source": [
    "## Después de ejecutar el código de la celda anterior, podemos ejecutar éste para mostrar\n",
    "## el contenido de \"prueba.txt\"\n",
    "archivo = open(\"prueba.txt\", \"r\")\n",
    "for linea in archivo:\n",
    "    print(linea.strip())\n",
    "archivo.close()"
   ]
  },
  {
   "cell_type": "markdown",
   "metadata": {},
   "source": [
    "Y si hacemos lo mismo con el modo `\"a\"`, estaremos agregando el contenido nuevo al final del archivo."
   ]
  },
  {
   "cell_type": "code",
   "execution_count": 16,
   "metadata": {},
   "outputs": [
    {
     "name": "stdout",
     "output_type": "stream",
     "text": [
      "Esta es una línea de prueba\n",
      "\n",
      "Acabamos de dejar una línea vacía\n",
      "Y esta línea contiene  5.5 que es la nota de eximición.\n",
      "Esta es una línea de prueba\n",
      "\n",
      "Acabamos de dejar una línea vacía\n",
      "Y esta línea contiene 5.5 que es la nota de eximición.\n",
      "Esta es una línea de prueba\n",
      "\n",
      "Acabamos de dejar una línea vacía\n",
      "Y esta línea contiene 5.5 que es la nota de eximición.\n"
     ]
    }
   ],
   "source": [
    "## print puede escribir en un archivo abierto para escritura (o para append), si es que le pasamos \n",
    "archivo = open(\"prueba.txt\", \"a\")\n",
    "print(\"Esta es una línea de prueba\", file=archivo)\n",
    "print(file=archivo)\n",
    "print(\"Acabamos de dejar una línea vacía\", file=archivo)\n",
    "nota_eximicion = 5.5\n",
    "print(\"Y esta línea contiene\", nota_eximicion, \"que es la nota de eximición.\", file=archivo)\n",
    "archivo.close()\n",
    "\n",
    "\n",
    "## Después de ejecutar el código de la celda anterior, podemos ejecutar éste para mostrar\n",
    "## el contenido de \"prueba.txt\"\n",
    "archivo = open(\"prueba.txt\", \"r\")\n",
    "for linea in archivo:\n",
    "    print(linea.strip())\n",
    "archivo.close()"
   ]
  },
  {
   "cell_type": "code",
   "execution_count": null,
   "metadata": {},
   "outputs": [],
   "source": []
  }
 ],
 "metadata": {
  "kernelspec": {
   "display_name": "Python 3",
   "language": "python",
   "name": "python3"
  },
  "language_info": {
   "codemirror_mode": {
    "name": "ipython",
    "version": 3
   },
   "file_extension": ".py",
   "mimetype": "text/x-python",
   "name": "python",
   "nbconvert_exporter": "python",
   "pygments_lexer": "ipython3",
   "version": "3.7.4"
  }
 },
 "nbformat": 4,
 "nbformat_minor": 2
}
