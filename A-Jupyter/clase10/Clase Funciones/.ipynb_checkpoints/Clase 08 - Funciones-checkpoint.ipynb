{
 "cells": [
  {
   "cell_type": "code",
   "execution_count": null,
   "metadata": {
    "slideshow": {
     "slide_type": "skip"
    }
   },
   "outputs": [],
   "source": [
    "%%HTML\n",
    "<style>\n",
    "\n",
    ".rendered_html {\n",
    "  font-size:0.7em;\n",
    "}\n",
    ".rendered_html table, .rendered_html th, .rendered_html tr, .rendered_html td {\n",
    "     font-size: 100%;\n",
    "}\n",
    "\n",
    "</style>\n",
    "\n",
    "# https://github.com/damianavila/RISE/issues/255"
   ]
  },
  {
   "cell_type": "markdown",
   "metadata": {
    "slideshow": {
     "slide_type": "slide"
    }
   },
   "source": [
    "# Clase 8\n",
    "___\n",
    "## Funciones"
   ]
  },
  {
   "cell_type": "markdown",
   "metadata": {
    "slideshow": {
     "slide_type": "slide"
    }
   },
   "source": [
    "# En la clase pasada\n",
    "\n",
    "#### - [Built-in functions](https://docs.python.org/3.5/library/functions.html)\n",
    "#### - Módulos\n",
    "* Math, random\n",
    "* Aliasing"
   ]
  },
  {
   "cell_type": "markdown",
   "metadata": {
    "slideshow": {
     "slide_type": "slide"
    }
   },
   "source": [
    "# Funciones definidas por el programador"
   ]
  },
  {
   "cell_type": "code",
   "execution_count": null,
   "metadata": {
    "slideshow": {
     "slide_type": "-"
    }
   },
   "outputs": [],
   "source": [
    "### Sintaxis definición\n",
    "def nombre_funcion(parametro_1,..., parametro_n):\n",
    "    bloque_de_codigo_de_la_funcion\n",
    "    return valor_de_retorno\n",
    "\n",
    "### Sintaxis llamada\n",
    "salida = nombre_funcion(entrada_1, ..., entrada_n)"
   ]
  },
  {
   "cell_type": "markdown",
   "metadata": {
    "slideshow": {
     "slide_type": "fragment"
    }
   },
   "source": [
    "* Las funciones pueden recibir cero o más parámetros y retornar cero o más valores.\n",
    "* Cuando se alcanza el primer ```return```, la función termina."
   ]
  },
  {
   "cell_type": "markdown",
   "metadata": {
    "slideshow": {
     "slide_type": "slide"
    }
   },
   "source": [
    "### Valor de retorno: `return`\n",
    "\n",
    "Todas las funciones **retornan algo**, por definición. Lo que retornan está indicado por la *keyword*: `return`."
   ]
  },
  {
   "cell_type": "markdown",
   "metadata": {
    "slideshow": {
     "slide_type": "subslide"
    }
   },
   "source": [
    "### ¿Y si escribo varios `return`? 🤔"
   ]
  },
  {
   "cell_type": "markdown",
   "metadata": {
    "slideshow": {
     "slide_type": "fragment"
    }
   },
   "source": [
    "Cuando una función llega a una sentencia `return`, entonces retorna ese valor y **termina de ejecutar** la función. \n",
    "El `return` es también la vía de salida de la subrutina de la función. Similar al `break` en los ciclos."
   ]
  },
  {
   "cell_type": "code",
   "execution_count": 97,
   "metadata": {
    "slideshow": {
     "slide_type": "subslide"
    }
   },
   "outputs": [
    {
     "name": "stdout",
     "output_type": "stream",
     "text": [
      "Antes de return 1\n",
      "Antes de return 2\n",
      "retorno = 2\n"
     ]
    }
   ],
   "source": [
    "# Esta función SIEMPRE retorna 1. \n",
    "# Las líneas que vienen después de 'return 1' no tienen posibilidad de ejecutarse.\n",
    "def dos_retornos():\n",
    "    print(\"Antes de return 1\")\n",
    "    return 1\n",
    "    print(\"Antes de return 2\")\n",
    "    return 2\n",
    "\n",
    "retorno = dos_retornos()\n",
    "print(\"retorno =\", retorno)"
   ]
  },
  {
   "cell_type": "markdown",
   "metadata": {
    "slideshow": {
     "slide_type": "subslide"
    }
   },
   "source": [
    "### ¿Y si no escribo `return`? 🤔"
   ]
  },
  {
   "cell_type": "markdown",
   "metadata": {
    "slideshow": {
     "slide_type": "fragment"
    }
   },
   "source": [
    "Si no hay un valor de retorno explícito, entonces la función termina cuando se alcanza su última instrucción, y en ese momento la función, implícitamente, retorna el valor especial `None`."
   ]
  },
  {
   "cell_type": "code",
   "execution_count": 98,
   "metadata": {
    "scrolled": true
   },
   "outputs": [
    {
     "name": "stdout",
     "output_type": "stream",
     "text": [
      "No retorno, o si?\n",
      "None\n"
     ]
    }
   ],
   "source": [
    "retorno_de_print = print(\"No retorno, o si?\")\n",
    "print(retorno_de_print)"
   ]
  },
  {
   "cell_type": "code",
   "execution_count": 60,
   "metadata": {
    "slideshow": {
     "slide_type": "subslide"
    }
   },
   "outputs": [
    {
     "name": "stdout",
     "output_type": "stream",
     "text": [
      "funcion fue llamada con argumentos: 1 2 3\n",
      "print de retorno de funcion(1, 2, 3): None\n"
     ]
    }
   ],
   "source": [
    "def funcion(arg1, arg2, arg3):\n",
    "    # subrutina\n",
    "    print(\"funcion fue llamada con argumentos:\", arg1, arg2, arg3) \n",
    "\n",
    "retorno = funcion(1, 2, 3)\n",
    "\n",
    "print(\"print de retorno de funcion(1, 2, 3):\", retorno)"
   ]
  },
  {
   "cell_type": "markdown",
   "metadata": {
    "slideshow": {
     "slide_type": "subslide"
    }
   },
   "source": [
    "### ¿Y eso está bien? 🤔🤔🤔🤔"
   ]
  },
  {
   "cell_type": "markdown",
   "metadata": {
    "slideshow": {
     "slide_type": "fragment"
    }
   },
   "source": [
    "¡Sí! Una función no tiene que retornar algo necesariamente. Por ejemplo, el método `print()`."
   ]
  },
  {
   "cell_type": "markdown",
   "metadata": {
    "slideshow": {
     "slide_type": "subslide"
    }
   },
   "source": [
    "## Recordemos \n",
    "\n",
    "¿Cómo obtener los dígitos de un número?"
   ]
  },
  {
   "cell_type": "code",
   "execution_count": 61,
   "metadata": {
    "slideshow": {
     "slide_type": "fragment"
    }
   },
   "outputs": [
    {
     "name": "stdout",
     "output_type": "stream",
     "text": [
      "n: 123\n",
      "3\n",
      "2\n",
      "1\n"
     ]
    }
   ],
   "source": [
    "n = int(input('n: '))\n",
    "\n",
    "while n != 0:\n",
    "    digito = n%10\n",
    "    n //= 10\n",
    "    \n",
    "    print(digito)\n",
    "    "
   ]
  },
  {
   "cell_type": "markdown",
   "metadata": {
    "slideshow": {
     "slide_type": "subslide"
    }
   },
   "source": [
    "# Ejemplo:\n",
    "### Definición y uso de funciones"
   ]
  },
  {
   "cell_type": "code",
   "execution_count": 67,
   "metadata": {
    "slideshow": {
     "slide_type": "-"
    }
   },
   "outputs": [
    {
     "name": "stdout",
     "output_type": "stream",
     "text": [
      "hola Vicente la suma de los dígitos de 1234 es 10\n"
     ]
    }
   ],
   "source": [
    "def sumar_digitos(n):\n",
    "    suma = 0\n",
    "    while n != 0:\n",
    "        digito = n%10\n",
    "        suma += digito\n",
    "        n //= 10 # n = n//10\n",
    "    return suma\n",
    "\n",
    "\n",
    "def mostrar_mensaje(n, nombre):\n",
    "    a = sumar_digitos(n)\n",
    "    print('hola', nombre, 'la suma de los dígitos de', n, 'es', a)\n",
    "    \n",
    "\n",
    "numero = 1234\n",
    "mostrar_mensaje(numero, 'Vicente')"
   ]
  },
  {
   "cell_type": "markdown",
   "metadata": {
    "slideshow": {
     "slide_type": "subslide"
    }
   },
   "source": [
    "## ¿Por qué definir nuestras propias funciones?"
   ]
  },
  {
   "cell_type": "markdown",
   "metadata": {
    "slideshow": {
     "slide_type": "subslide"
    }
   },
   "source": [
    "# Ejemplo 1\n",
    "\n",
    "#### Escribe un programa que reciba un número $n$ y un dígito $d$ e indique la cantidad de apariciones de $d$ en $n$. Ejemplo: Si $n=256$ y $d=5$, el resultado es 1. "
   ]
  },
  {
   "cell_type": "code",
   "execution_count": 68,
   "metadata": {},
   "outputs": [
    {
     "name": "stdout",
     "output_type": "stream",
     "text": [
      "256\n",
      "5\n",
      "d: 5 aparece 1 veces en n: 256\n"
     ]
    }
   ],
   "source": [
    "n = int(input())\n",
    "d = int(input())\n",
    "copia_n = n\n",
    "\n",
    "contador_d = 0\n",
    "while n != 0:\n",
    "    digito = n%10\n",
    "    if digito == d:\n",
    "        contador_d += 1\n",
    "    n //= 10\n",
    "print('d:',d, 'aparece', contador_d, 'veces en n:', copia_n)"
   ]
  },
  {
   "cell_type": "markdown",
   "metadata": {
    "slideshow": {
     "slide_type": "subslide"
    }
   },
   "source": [
    "#### Escribe un programa que reciba dos números enteros y entregue el máximo de apariciones del dígito 0 en los números"
   ]
  },
  {
   "cell_type": "code",
   "execution_count": 69,
   "metadata": {
    "slideshow": {
     "slide_type": "-"
    }
   },
   "outputs": [
    {
     "name": "stdout",
     "output_type": "stream",
     "text": [
      "x1: 20\n",
      "x2: 300\n",
      "2\n"
     ]
    }
   ],
   "source": [
    "x_1 = int(input('x1: '))\n",
    "x_2 = int(input('x2: '))\n",
    "\n",
    "cantidad_ceros_1 = 0\n",
    "while x_1 != 0:\n",
    "    digito = x_1 % 10\n",
    "    if digito == 0:\n",
    "        cantidad_ceros_1 += 1\n",
    "    x_1 //= 10\n",
    "    \n",
    "cantidad_ceros_2 = 0\n",
    "while x_2 != 0:\n",
    "    digito = x_2 % 10\n",
    "    if digito == 0:\n",
    "        cantidad_ceros_2 += 1\n",
    "    x_2 //= 10\n",
    "\n",
    "if cantidad_ceros_1 >= cantidad_ceros_2:\n",
    "    print(cantidad_ceros_1)\n",
    "else:\n",
    "    print(cantidad_ceros_2)"
   ]
  },
  {
   "cell_type": "markdown",
   "metadata": {
    "slideshow": {
     "slide_type": "subslide"
    }
   },
   "source": [
    "## Ejemplo 2\n",
    "### Coeficiente binomial\n",
    "$$C(n,k) = \\frac{n!}{k!(n-k)!}$$"
   ]
  },
  {
   "cell_type": "markdown",
   "metadata": {
    "slideshow": {
     "slide_type": "fragment"
    }
   },
   "source": [
    "Recordar que $$x! = 1 \\cdot 2 \\cdot ... \\cdot (x-1) \\cdot x = \\prod_{i=1}^{x}i$$"
   ]
  },
  {
   "cell_type": "code",
   "execution_count": 70,
   "metadata": {
    "slideshow": {
     "slide_type": "subslide"
    }
   },
   "outputs": [
    {
     "name": "stdout",
     "output_type": "stream",
     "text": [
      "n:5\n",
      "k:3\n",
      "C( 5 , 3 ) = 10.0\n"
     ]
    }
   ],
   "source": [
    "#Forma sin funciones\n",
    "n = int(input('n:'))\n",
    "k = int(input('k:'))\n",
    "\n",
    "# Factorial de n\n",
    "f_n = 1\n",
    "for i in range(1, n + 1):\n",
    "    f_n *= i\n",
    "\n",
    "#Factorial de k\n",
    "f_k = 1\n",
    "for i in range(1, k + 1):\n",
    "    f_k *= i\n",
    "\n",
    "#Factorial de n - k\n",
    "f_n_k = 1\n",
    "for i in range(1, n - k + 1):\n",
    "    f_n_k *= i\n",
    "    \n",
    "co = f_n / (f_k * f_n_k)\n",
    "print('C(', n, ',', k, ') =', co)"
   ]
  },
  {
   "cell_type": "code",
   "execution_count": 99,
   "metadata": {
    "slideshow": {
     "slide_type": "subslide"
    }
   },
   "outputs": [
    {
     "name": "stdout",
     "output_type": "stream",
     "text": [
      "n:5\n",
      "k:3\n",
      "C( 5 , 3 ) = 10.0\n"
     ]
    }
   ],
   "source": [
    "#Forma con funciones\n",
    "\n",
    "def factorial(n):\n",
    "    f = 1\n",
    "    for i in range(1, n + 1):\n",
    "        f *= i   \n",
    "    return f\n",
    "\n",
    "def coeficiente_binomial(n, k):\n",
    "    return factorial(n) / (factorial(k) * factorial(n - k))\n",
    "\n",
    "n = int(input('n:'))\n",
    "k = int(input('k:'))\n",
    "\n",
    "print('C(', n, ',', k, ') =', coeficiente_binomial(n, k))"
   ]
  },
  {
   "cell_type": "markdown",
   "metadata": {
    "slideshow": {
     "slide_type": "slide"
    }
   },
   "source": [
    "# Actividades "
   ]
  },
  {
   "cell_type": "markdown",
   "metadata": {
    "slideshow": {
     "slide_type": "subslide"
    }
   },
   "source": [
    "### 1. Máximo\n",
    "Escribir una función que reciba dos números y retorne el máximo entre ellos"
   ]
  },
  {
   "cell_type": "code",
   "execution_count": 73,
   "metadata": {},
   "outputs": [
    {
     "name": "stdout",
     "output_type": "stream",
     "text": [
      "10\n",
      "11\n",
      "El máximo es: 11\n"
     ]
    }
   ],
   "source": [
    "# Código máximo\n",
    "\n",
    "def maximo(a, b):\n",
    "    if a > b:\n",
    "        return a\n",
    "    elif a < b:\n",
    "        return b\n",
    "    else:\n",
    "        return a\n",
    "    \n",
    "x = int(input())\n",
    "y = int(input())\n",
    "\n",
    "z = maximo(x,y)\n",
    "print('El máximo es:', z)"
   ]
  },
  {
   "cell_type": "markdown",
   "metadata": {
    "slideshow": {
     "slide_type": "subslide"
    }
   },
   "source": [
    "### 2. Primo\n",
    "Escribir una función que reciba un número y retorna True si es primo y False en caso contrario"
   ]
  },
  {
   "cell_type": "code",
   "execution_count": 101,
   "metadata": {},
   "outputs": [
    {
     "name": "stdout",
     "output_type": "stream",
     "text": [
      "True True True True\n"
     ]
    }
   ],
   "source": [
    "# Código primo\n",
    "\n",
    "def primo(n):\n",
    "    for i in range(2, int(n**(0.5))):\n",
    "        if n%i == 0:\n",
    "            return False\n",
    "    return True\n",
    "\n",
    "print(primo(13), primo(2), primo(3), primo(664579))"
   ]
  },
  {
   "cell_type": "markdown",
   "metadata": {
    "slideshow": {
     "slide_type": "slide"
    }
   },
   "source": [
    "# Scope"
   ]
  },
  {
   "cell_type": "markdown",
   "metadata": {
    "slideshow": {
     "slide_type": "subslide"
    }
   },
   "source": [
    "No todas las variables son accesibles desde todas las partes de nuestro programa. Dónde una variable es accesible depende de cómo está definida."
   ]
  },
  {
   "cell_type": "markdown",
   "metadata": {
    "slideshow": {
     "slide_type": "fragment"
    }
   },
   "source": [
    "Llamamos ***scope*** a la parte del programa donde la variable es accesible."
   ]
  },
  {
   "cell_type": "markdown",
   "metadata": {
    "slideshow": {
     "slide_type": "subslide"
    }
   },
   "source": [
    "#### 🌍 Variables globales:\n",
    "* Definidas en el cuerpo principal del archivo\n",
    "* Son visibles a través de todo el archivo"
   ]
  },
  {
   "cell_type": "markdown",
   "metadata": {
    "slideshow": {
     "slide_type": "fragment"
    }
   },
   "source": [
    "#### 🏠 Variables locales:\n",
    "* Las variables definidas dentro de una función son locales a esa función\n",
    "* Existen solo mientras la función se esté ejecutando\n",
    "* Los parámetros de una función actúan como variables locales"
   ]
  },
  {
   "cell_type": "code",
   "execution_count": 102,
   "metadata": {
    "slideshow": {
     "slide_type": "slide"
    }
   },
   "outputs": [
    {
     "name": "stdout",
     "output_type": "stream",
     "text": [
      "7\n",
      "3\n",
      "0\n",
      "1\n"
     ]
    },
    {
     "ename": "NameError",
     "evalue": "name 'c' is not defined",
     "output_type": "error",
     "traceback": [
      "\u001b[1;31m---------------------------------------------------------------------------\u001b[0m",
      "\u001b[1;31mNameError\u001b[0m                                 Traceback (most recent call last)",
      "\u001b[1;32m<ipython-input-102-797d44f7a916>\u001b[0m in \u001b[0;36m<module>\u001b[1;34m\u001b[0m\n\u001b[0;32m     19\u001b[0m \u001b[1;33m\u001b[0m\u001b[0m\n\u001b[0;32m     20\u001b[0m \u001b[1;31m# c y d ya no existen -- las siguientes instrucciones generarán un error\u001b[0m\u001b[1;33m\u001b[0m\u001b[1;33m\u001b[0m\u001b[1;33m\u001b[0m\u001b[0m\n\u001b[1;32m---> 21\u001b[1;33m \u001b[0mprint\u001b[0m\u001b[1;33m(\u001b[0m\u001b[0mc\u001b[0m\u001b[1;33m)\u001b[0m\u001b[1;33m\u001b[0m\u001b[1;33m\u001b[0m\u001b[0m\n\u001b[0m\u001b[0;32m     22\u001b[0m \u001b[0mprint\u001b[0m\u001b[1;33m(\u001b[0m\u001b[0md\u001b[0m\u001b[1;33m)\u001b[0m\u001b[1;33m\u001b[0m\u001b[1;33m\u001b[0m\u001b[0m\n",
      "\u001b[1;31mNameError\u001b[0m: name 'c' is not defined"
     ]
    }
   ],
   "source": [
    "# Esta variable es global\n",
    "a = 0\n",
    "\n",
    "if a == 0:\n",
    "    # Esta también es una variable global\n",
    "    b = 1\n",
    "def mi_funcion(c):\n",
    "    # Esta es una variable local\n",
    "    d = 3\n",
    "    print(c)\n",
    "    print(d)\n",
    "\n",
    "# Llamamos a la función, entregando el valor 7 como primer y único parámetro\n",
    "mi_funcion(7)\n",
    "\n",
    "# a y b todavía existen\n",
    "print(a)\n",
    "print(b)\n",
    "\n",
    "# c y d ya no existen -- las siguientes instrucciones generarán un error\n",
    "print(c)\n",
    "print(d)"
   ]
  },
  {
   "cell_type": "markdown",
   "metadata": {
    "slideshow": {
     "slide_type": "subslide"
    }
   },
   "source": [
    "¿Qué pasa si accedemos a una variable global dentro de una función?"
   ]
  },
  {
   "cell_type": "code",
   "execution_count": 104,
   "metadata": {},
   "outputs": [
    {
     "name": "stdout",
     "output_type": "stream",
     "text": [
      "7\n",
      "8\n"
     ]
    }
   ],
   "source": [
    "a = 5\n",
    "\n",
    "def mi_funcion(a,b,c):\n",
    "    print(a)\n",
    "    return b\n",
    "    \n",
    "a = mi_funcion(7,8,9)\n",
    "print(a)"
   ]
  },
  {
   "cell_type": "markdown",
   "metadata": {
    "slideshow": {
     "slide_type": "subslide"
    }
   },
   "source": [
    "¿Qué sucede con el siguiente programa?"
   ]
  },
  {
   "cell_type": "code",
   "execution_count": 107,
   "metadata": {},
   "outputs": [
    {
     "name": "stdout",
     "output_type": "stream",
     "text": [
      "3\n",
      "Valor final de a 0\n"
     ]
    }
   ],
   "source": [
    "a = 0\n",
    "\n",
    "def mi_funcion():\n",
    "    a = 3\n",
    "    print(a)\n",
    "    \n",
    "mi_funcion()\n",
    "print('Valor final de a',a)"
   ]
  },
  {
   "cell_type": "markdown",
   "metadata": {
    "slideshow": {
     "slide_type": "slide"
    }
   },
   "source": [
    "# Valores por defecto\n",
    "\n",
    "Cuando definimos una función, es posible asignar valores por defecto a los parámetros. De esta manera si el usuario no ingresa ningún valor para ese parámetro, el valor que tendrá dentro de la función será el que asignamos por defecto."
   ]
  },
  {
   "cell_type": "markdown",
   "metadata": {
    "slideshow": {
     "slide_type": "fragment"
    }
   },
   "source": [
    "#### Sintaxis"
   ]
  },
  {
   "cell_type": "code",
   "execution_count": null,
   "metadata": {
    "slideshow": {
     "slide_type": "-"
    }
   },
   "outputs": [],
   "source": [
    "def funcion(parametro=valor_por_defecto):"
   ]
  },
  {
   "cell_type": "markdown",
   "metadata": {
    "slideshow": {
     "slide_type": "fragment"
    }
   },
   "source": [
    "#### Ejemplo:"
   ]
  },
  {
   "cell_type": "code",
   "execution_count": 111,
   "metadata": {
    "slideshow": {
     "slide_type": "-"
    }
   },
   "outputs": [
    {
     "name": "stdout",
     "output_type": "stream",
     "text": [
      "Hola Daniela\n",
      "Hola Vicente\n",
      "1espacio2espacio3\n"
     ]
    }
   ],
   "source": [
    "def saludar(nombre='Vicente'):\n",
    "    print('Hola', nombre)\n",
    "    \n",
    "saludar('Daniela')"
   ]
  },
  {
   "cell_type": "markdown",
   "metadata": {
    "slideshow": {
     "slide_type": "subslide"
    }
   },
   "source": [
    " ### ¿Hemos usado alguna función que utilice parámetros por defecto? 🤔"
   ]
  },
  {
   "cell_type": "markdown",
   "metadata": {
    "slideshow": {
     "slide_type": "slide"
    }
   },
   "source": [
    "# Actividades"
   ]
  },
  {
   "cell_type": "markdown",
   "metadata": {
    "slideshow": {
     "slide_type": "subslide"
    }
   },
   "source": [
    "### 1. Verificador número de alumno\n",
    "\n",
    "El número de alumno tiene un dígito verificador. Para todo número de alumno, el último dígito corresponde al verificador y puede calcularse a partir de los primeros n-1 dígitos.\n",
    "\n",
    "Escribir una función que reciba los primeros n-1 dígitos de un número de alumno y retorne el dígito verificador.\n",
    "\n",
    "El algoritmo para calcular es dígito verificador es el siguiente:\n",
    "1. Multiplicar cada dígito por 2,3,...,8,2,3... de atrás hacia adelante\n",
    "    Por ejemplo, si los dígitos ingresados son 1163350, la multiplicación sería:\n",
    "    $$0 * 2 = 0$$\n",
    "    $$5 * 3 = 15$$\n",
    "    $$3 * 4 = 12$$\n",
    "    $$3 * 5 = 15$$\n",
    "    $$6 * 6 = 36$$\n",
    "    $$1 * 7 = 7$$\n",
    "    $$1 * 8 = 8$$\n",
    "\n",
    "2. Sumar las multiplicaciones parciales\n",
    "\n",
    "    0 + 15 + 12 + 15 + 36 + 7 + 8 = 93\n",
    "    \n",
    "3. Calcular el resto de la división por 11\n",
    "\n",
    "    93 % 11 = 5\n",
    "\n",
    "4. El dígito verificador es 11 menos el resultado anterior. Si la resta es 10, se cambia por una 'j' y, si es 11, se reemplaza por 0.\n",
    "\n",
    "    11 - 5 = 6"
   ]
  },
  {
   "cell_type": "code",
   "execution_count": null,
   "metadata": {
    "slideshow": {
     "slide_type": "subslide"
    }
   },
   "outputs": [],
   "source": [
    "# Código dígito verificador\n",
    "\n",
    "def verificador(n):\n",
    "    suma = 0\n",
    "    multiplicador = 2\n",
    "    while n != 0:\n",
    "        digito = n % 10\n",
    "        multiplicacion_parcial = digito * multiplicador # Paso 1\n",
    "        suma += multiplicacion_parcial # Paso 2\n",
    "        n //= 10\n",
    "        multiplicador += 1\n",
    "        \n",
    "    resto = suma % 11 # Paso 3\n",
    "    \n",
    "    digito_verificador = 11 - resto # Paso 4\n",
    "    if digito_verificador == 10:\n",
    "        digito_verificador = 'j'\n",
    "    elif digito_verificador == 11:\n",
    "        digito_verificador = 0\n",
    "        \n",
    "    return digito_verificador\n",
    "\n",
    "x = int(input()) \n",
    "print(verificador(x))"
   ]
  },
  {
   "cell_type": "markdown",
   "metadata": {
    "slideshow": {
     "slide_type": "subslide"
    }
   },
   "source": [
    "### 2. Componiendo funciones\n",
    "\n",
    "Define las siguientes funciones: \n",
    "1. $f:x\\rightarrow x^2$\n",
    "2. $g: x \\rightarrow x-2$\n",
    "\n",
    "Donde $f(2)=4$ y $g(9)=7$.\n",
    "\n",
    "Define la función compuesta $h=f\\circ g$. Recuerda que $f\\circ g$ se define como $f(g(x))$. Por ejemplo, $h(4)=4$, ya que $g(4)=2$, $f(2)=4$ y $h(4)=f(g(4))=f(2)=4$."
   ]
  },
  {
   "cell_type": "code",
   "execution_count": 118,
   "metadata": {
    "slideshow": {
     "slide_type": "subslide"
    }
   },
   "outputs": [
    {
     "name": "stdout",
     "output_type": "stream",
     "text": [
      "None\n"
     ]
    }
   ],
   "source": [
    "# Código componiendo funciones\n",
    "\n",
    "# def f\n",
    "def f(x):\n",
    "    return x**2\n",
    "# def g\n",
    "def g(x):\n",
    "    return x - 2\n",
    "\n",
    "# def h\n",
    "\n",
    "def h(x):\n",
    "    return f(g(x))\n",
    "\n",
    "print(h())"
   ]
  },
  {
   "cell_type": "markdown",
   "metadata": {
    "slideshow": {
     "slide_type": "subslide"
    }
   },
   "source": [
    "### 3. Misterios\n",
    "¿Qué hacen la funciones *misterio*?"
   ]
  },
  {
   "cell_type": "code",
   "execution_count": 122,
   "metadata": {},
   "outputs": [
    {
     "name": "stdout",
     "output_type": "stream",
     "text": [
      "60\n"
     ]
    }
   ],
   "source": [
    "def misterio(a,b):\n",
    "    a1 = a \n",
    "    b1 = b \n",
    "    while a1 != b1:\n",
    "        if a1 < b1:\n",
    "            a1 += a\n",
    "        else:\n",
    "            b1 += b\n",
    "    return a1\n",
    "print(misterio(12,15))"
   ]
  },
  {
   "cell_type": "code",
   "execution_count": 125,
   "metadata": {
    "slideshow": {
     "slide_type": "subslide"
    }
   },
   "outputs": [
    {
     "name": "stdout",
     "output_type": "stream",
     "text": [
      "6\n"
     ]
    }
   ],
   "source": [
    "print(misterio(1,6))"
   ]
  },
  {
   "cell_type": "markdown",
   "metadata": {
    "slideshow": {
     "slide_type": "fragment"
    }
   },
   "source": [
    "* ¿Cuál es el retorno de `misterio(12,24)`?\n",
    "* ¿Cuál es la relación entre a, b y el retorno de `misterio(a,b)`?\n",
    "* Da un ejemplo para el cual `misterio(a,b)` retorne 6."
   ]
  },
  {
   "cell_type": "code",
   "execution_count": 134,
   "metadata": {
    "slideshow": {
     "slide_type": "subslide"
    }
   },
   "outputs": [
    {
     "name": "stdout",
     "output_type": "stream",
     "text": [
      "2\n"
     ]
    }
   ],
   "source": [
    "def misterio2(a):\n",
    "    b = 0\n",
    "    for i in range(1,a+1):\n",
    "        if a%i == 0:\n",
    "            b += 1\n",
    "    return b\n",
    "\n",
    "print(misterio2(83))"
   ]
  },
  {
   "cell_type": "markdown",
   "metadata": {
    "slideshow": {
     "slide_type": "fragment"
    }
   },
   "source": [
    "* ¿Cuál es el retorno de `misterio2(5)`?\n",
    "* ¿Cuál es el retorno de `misterio2` con input un número primo?"
   ]
  },
  {
   "cell_type": "code",
   "execution_count": 136,
   "metadata": {
    "slideshow": {
     "slide_type": "subslide"
    }
   },
   "outputs": [
    {
     "name": "stdout",
     "output_type": "stream",
     "text": [
      "25\n"
     ]
    }
   ],
   "source": [
    "def misterio3(a,b):\n",
    "    if misterio2(a) > misterio2(b):\n",
    "        return a\n",
    "    else:\n",
    "        return b\n",
    "\n",
    "print(misterio3(83,25))"
   ]
  }
 ],
 "metadata": {
  "anaconda-cloud": {},
  "celltoolbar": "Slideshow",
  "kernelspec": {
   "display_name": "Python 3",
   "language": "python",
   "name": "python3"
  },
  "language_info": {
   "codemirror_mode": {
    "name": "ipython",
    "version": 3
   },
   "file_extension": ".py",
   "mimetype": "text/x-python",
   "name": "python",
   "nbconvert_exporter": "python",
   "pygments_lexer": "ipython3",
   "version": "3.7.4"
  },
  "livereveal": {
   "scroll": true
  }
 },
 "nbformat": 4,
 "nbformat_minor": 1
}
