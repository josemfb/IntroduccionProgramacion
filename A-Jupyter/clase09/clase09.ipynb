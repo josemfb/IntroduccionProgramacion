{
 "cells": [
  {
   "cell_type": "markdown",
   "metadata": {
    "slideshow": {
     "slide_type": "slide"
    }
   },
   "source": [
    " # Clase 9 \n",
    "\n",
    "## Funciones"
   ]
  },
  {
   "cell_type": "markdown",
   "metadata": {
    "slideshow": {
     "slide_type": "slide"
    }
   },
   "source": [
    "## Repaso\n",
    "\n",
    "- **while**\n",
    "- **for**"
   ]
  },
  {
   "cell_type": "code",
   "execution_count": null,
   "metadata": {
    "slideshow": {
     "slide_type": "subslide"
    }
   },
   "outputs": [],
   "source": [
    "i = 0\n",
    "while i < 5:\n",
    "    print(i)\n",
    "    i += 1"
   ]
  },
  {
   "cell_type": "code",
   "execution_count": null,
   "metadata": {
    "slideshow": {
     "slide_type": "subslide"
    }
   },
   "outputs": [],
   "source": [
    "for i in range(5, 10):\n",
    "    print(i)"
   ]
  },
  {
   "cell_type": "markdown",
   "metadata": {
    "slideshow": {
     "slide_type": "subslide"
    }
   },
   "source": [
    "## En que caso se usa for y en cual while?"
   ]
  },
  {
   "cell_type": "code",
   "execution_count": null,
   "metadata": {
    "slideshow": {
     "slide_type": "subslide"
    }
   },
   "outputs": [],
   "source": [
    "# Programa que le pida input al usuario hasta que ingrese un número entre 0 y 9\n",
    "n = int(input(\"Ingrese un numero: \"))\n",
    "while True:\n",
    "    n = int(input(\"Ingrese un numero: \"))"
   ]
  },
  {
   "cell_type": "markdown",
   "metadata": {
    "slideshow": {
     "slide_type": "subslide"
    }
   },
   "source": [
    "## Podemos hacer lo mismo con for?\n",
    "## Por qué?"
   ]
  },
  {
   "cell_type": "code",
   "execution_count": null,
   "metadata": {
    "slideshow": {
     "slide_type": "subslide"
    }
   },
   "outputs": [],
   "source": [
    "# Calcular número primo\n",
    "n = int(input(\"Ingrese un numero: \"))\n",
    "\n",
    "es_primo = True\n",
    "for i in range(2, n):\n",
    "    if n % i == 0:\n",
    "        es_primo = False\n",
    "\n",
    "if es_primo:\n",
    "    print(\"Es primo\")\n",
    "else:\n",
    "    print(\"No es primo\")"
   ]
  },
  {
   "cell_type": "markdown",
   "metadata": {
    "slideshow": {
     "slide_type": "slide"
    }
   },
   "source": [
    "# Podemos hacerlo todo?"
   ]
  },
  {
   "cell_type": "markdown",
   "metadata": {
    "slideshow": {
     "slide_type": "subslide"
    }
   },
   "source": [
    "### **Gráficos**: <img src=\"graph.png\" style=\"margin: 0 auto\">"
   ]
  },
  {
   "cell_type": "markdown",
   "metadata": {
    "slideshow": {
     "slide_type": "subslide"
    }
   },
   "source": [
    "### Integrales: <img src=\"integrals.jpg\" style=\"margin: 0 auto;max-height: 400px\">"
   ]
  },
  {
   "cell_type": "markdown",
   "metadata": {
    "slideshow": {
     "slide_type": "subslide"
    }
   },
   "source": [
    "### Números Aleatorios:  <img src=\"random.png\" style=\"margin: 0 auto;max-height: 400px\">"
   ]
  },
  {
   "cell_type": "markdown",
   "metadata": {
    "slideshow": {
     "slide_type": "subslide"
    }
   },
   "source": [
    "### Esto último si lo podemos hacer."
   ]
  },
  {
   "cell_type": "code",
   "execution_count": null,
   "metadata": {
    "slideshow": {
     "slide_type": "subslide"
    }
   },
   "outputs": [],
   "source": [
    "import random\n",
    "n = random.randint(1, 6)\n",
    "j = random.randint(1, 6)\n",
    "while not n + j == 10:\n",
    "    n = random.randint(1, 6)\n",
    "    j = random.randint(1, 6)\n",
    "    print(n, j)"
   ]
  },
  {
   "cell_type": "markdown",
   "metadata": {
    "slideshow": {
     "slide_type": "subslide"
    }
   },
   "source": [
    "### Tambien existe algo similar para operaciones matemáticas."
   ]
  },
  {
   "cell_type": "code",
   "execution_count": null,
   "metadata": {
    "slideshow": {
     "slide_type": "subslide"
    }
   },
   "outputs": [],
   "source": [
    "import math\n",
    "n = int(input(\"Ingrese un número: \"))\n",
    "print(\"Su raíz cuadrada es\", math.sqrt(n))"
   ]
  },
  {
   "cell_type": "markdown",
   "metadata": {
    "slideshow": {
     "slide_type": "subslide"
    }
   },
   "source": [
    "# Que es todo esto?"
   ]
  },
  {
   "cell_type": "markdown",
   "metadata": {
    "slideshow": {
     "slide_type": "slide"
    }
   },
   "source": [
    "### Funciones: <img src=\"function.png\" style=\"margin: 0 auto\">"
   ]
  },
  {
   "cell_type": "markdown",
   "metadata": {
    "slideshow": {
     "slide_type": "subslide"
    }
   },
   "source": [
    "## Para finalizar, un ejercicio.\n",
    "\n",
    "### Combinatoria: <img src=\"combinatoria.jpg\" style=\"margin: 0 auto;height: 400px; width: auto\">"
   ]
  },
  {
   "cell_type": "code",
   "execution_count": null,
   "metadata": {
    "slideshow": {
     "slide_type": "subslide"
    }
   },
   "outputs": [],
   "source": [
    "# Como partimos?\n",
    "n = int(input(\"Ingrese N: \"))\n",
    "x = int(input(\"Ingrese X: \"))\n",
    "\n",
    "fact_1 = 1\n",
    "for i in range(1, n + 1):\n",
    "    fact_1 = fact_1 * i\n",
    "\n",
    "fact_2 = 1\n",
    "for i in range(1, x + 1):\n",
    "    fact_2 = fact_2 * i\n",
    "\n",
    "fact_3 = 1\n",
    "for i in range(1, n - x +1):\n",
    "    fact_3 = fact_3 * i\n",
    "    \n",
    "combinatoria = fact_1 / (fact_2 * fact_3)\n",
    "print(combinatoria)"
   ]
  },
  {
   "cell_type": "code",
   "execution_count": null,
   "metadata": {},
   "outputs": [],
   "source": [
    "def factorial(n):\n",
    "    fact_1 = 1\n",
    "    for i in range(1, n + 1):\n",
    "        fact_1 = fact_1 * i\n",
    "    return fact_1\n",
    "\n",
    "def combinatoria(n, x):\n",
    "    return factorial(n) / (factorial(x) * factorial(n - x))\n",
    "\n",
    "n = int(input(\"Ingrese un número: \"))\n",
    "x = int(input(\"Ingrese un número: \"))\n",
    "print(combinatoria(n, x))"
   ]
  }
 ],
 "metadata": {
  "celltoolbar": "Slideshow",
  "kernelspec": {
   "display_name": "Python 3",
   "language": "python",
   "name": "python3"
  },
  "language_info": {
   "codemirror_mode": {
    "name": "ipython",
    "version": 3
   },
   "file_extension": ".py",
   "mimetype": "text/x-python",
   "name": "python",
   "nbconvert_exporter": "python",
   "pygments_lexer": "ipython3",
   "version": "3.7.3"
  }
 },
 "nbformat": 4,
 "nbformat_minor": 2
}
