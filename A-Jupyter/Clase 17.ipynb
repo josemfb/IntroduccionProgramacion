{
 "cells": [
  {
   "cell_type": "markdown",
   "metadata": {},
   "source": [
    "# Clase 17. Listas (II)\n",
    "\n",
    "<p>\n",
    "<font size='5' face='Georgia, Arial'>IIC1103-07 Introducción a la Programación</font><br>\n",
    "<font size='2'>Martes 08-Octubre-2019</font><br>\n",
    "<font size='2'>Contactos: Cristian Ruz, cruz@ing.puc.cl; Raúl Álvarez, rsalvarez@uc.cl</font>\n",
    "</p>\n"
   ]
  },
  {
   "cell_type": "code",
   "execution_count": 1,
   "metadata": {},
   "outputs": [
    {
     "name": "stdout",
     "output_type": "stream",
     "text": [
      "['Prison Break', '', '', 'Mindhunter', 'GOT', '', '-', 'GOT', 'One Piece', '', 'Malcolm', '', '', 'H x H', 'Prison Break', 'Timetsu', 'GOT', 'GOT', 'El Barco', '', 'Dragon Ball', 'Breaking Bad', 'Unsolved', 'Orange is the new black', 'ST', \"Grey's Anatomy\", 'Boku No Hero', '', 'Brooklyn 99', \"Grey's Anatomy\", 'Limitless', 'Lie to me', 'Jojo', 'Breaking Bad', 'JJBA', '', 'No veo', 'GOT', 'No tengo :)', 'The Resident', '', 'One piece', 'Prison Break', 'Black Mirror', 'House of Cards', 'Once upon a time', 'Dr. House', 'Under the Dome', 'Friends', 'GOT', 'GOT', 'Elite', '', 'Doctor Who', '', 'No sé', 'Luke Cage (T1)', 'Flash', '', 'Malcolm', 'Malcolm', '', 'Prison Break', 'Rick and Morty', 'Breaking Bad', 'Station 19', 'Vis a Vis', '', 'Firends', '', '', '', '', '', '', '', '', '', '', 'Rick and Morty', '', '', 'GOT', '', '', '', 'Breaking Bad', '', '', '', '', '', '', '', 'Vikings', '', 'Black Mirror', '', 'Two', 'The Take']\n",
      "100\n"
     ]
    }
   ],
   "source": [
    "series = [\"Prison Break\",\"\",\"\",\"Mindhunter\",\"GOT\",\"\",\"-\",\"GOT\",\"One Piece\",\"\",\"Malcolm\",\"\",\"\",\"H x H\",\"Prison Break\",\"Timetsu\",\"GOT\",\"GOT\",\"El Barco\",\"\",\"Dragon Ball\",\"Breaking Bad\",\"Unsolved\",\"Orange is the new black\",\"ST\",\"Grey's Anatomy\",\"Boku No Hero\",\"\",\"Brooklyn 99\",\"Grey's Anatomy\",\"Limitless\",\"Lie to me\",\"Jojo\",\"Breaking Bad\",\"JJBA\",\"\",\"No veo\",\"GOT\",\"No tengo :)\",\"The Resident\",\"\",\"One piece\",\"Prison Break\",\"Black Mirror\",\"House of Cards\",\"Once upon a time\",\"Dr. House\",\"Under the Dome\",\"Friends\",\"GOT\",\"GOT\",\"Elite\",\"\",\"Doctor Who\",\"\",\"No sé\",\"Luke Cage (T1)\",\"Flash\",\"\",\"Malcolm\",\"Malcolm\",\"\",\"Prison Break\",\"Rick and Morty\",\"Breaking Bad\",\"Station 19\",\"Vis a Vis\",\"\",\"Firends\",\"\",\"\",\"\",\"\",\"\",\"\",\"\",\"\",\"\",\"\",\"Rick and Morty\",\"\",\"\",\"GOT\",\"\",\"\",\"\",\"Breaking Bad\",\"\",\"\",\"\",\"\",\"\",\"\",\"\",\"Vikings\",\"\",\"Black Mirror\",\"\",\"Two\",\"The Take\"]\n",
    "print(series)\n",
    "print(len(series))\n"
   ]
  },
  {
   "cell_type": "code",
   "execution_count": 2,
   "metadata": {},
   "outputs": [
    {
     "name": "stdout",
     "output_type": "stream",
     "text": [
      "['Prison Break', '', '', 'Mindhunter', 'GOT', '', '-', 'GOT', 'One Piece', '', 'Malcolm', '', '', 'H x H', 'Prison Break', 'Timetsu', 'GOT', 'GOT', 'El Barco', '', 'Dragon Ball', 'Breaking Bad', 'Unsolved', 'Orange is the new black', 'ST', \"Grey's Anatomy\", 'Boku No Hero', '', 'Brooklyn 99', \"Grey's Anatomy\", 'Limitless', 'Lie to me', 'Jojo', 'Breaking Bad', 'JJBA', '', 'No veo', 'GOT', 'No tengo :)', 'The Resident', '', 'One piece', 'Prison Break', 'Black Mirror', 'House of Cards', 'Once upon a time', 'Dr. House', 'Under the Dome', 'Friends', 'GOT', 'GOT', 'Elite', '', 'Doctor Who', '', 'No sé', 'Luke Cage (T1)', 'Flash', '', 'Malcolm', 'Malcolm', '', 'Prison Break', 'Rick and Morty', 'Breaking Bad', 'Station 19', 'Vis a Vis', '', 'Firends', '', '', '', '', '', '', '', '', '', '', 'Rick and Morty', '', '', 'GOT', '', '', '', 'Breaking Bad', '', '', '', '', '', '', '', 'Vikings', '', 'Black Mirror', '', 'Two', 'The Take', 'Two and a half men']\n",
      "101\n"
     ]
    }
   ],
   "source": [
    "series.append(\"Two and a half men\")\n",
    "print(series)\n",
    "print(len(series))"
   ]
  },
  {
   "cell_type": "code",
   "execution_count": 3,
   "metadata": {},
   "outputs": [
    {
     "name": "stdout",
     "output_type": "stream",
     "text": [
      "['Prison Break', '', '', 'Mindhunter', 'GOT', '31 minutos', '', '-', 'GOT', 'One Piece', '', 'Malcolm', '', '', 'H x H', 'Prison Break', 'Timetsu', 'GOT', 'GOT', 'El Barco', '', 'Dragon Ball', 'Breaking Bad', 'Unsolved', 'Orange is the new black', 'ST', \"Grey's Anatomy\", 'Boku No Hero', '', 'Brooklyn 99', \"Grey's Anatomy\", 'Limitless', 'Lie to me', 'Jojo', 'Breaking Bad', 'JJBA', '', 'No veo', 'GOT', 'No tengo :)', 'The Resident', '', 'One piece', 'Prison Break', 'Black Mirror', 'House of Cards', 'Once upon a time', 'Dr. House', 'Under the Dome', 'Friends', 'GOT', 'GOT', 'Elite', '', 'Doctor Who', '', 'No sé', 'Luke Cage (T1)', 'Flash', '', 'Malcolm', 'Malcolm', '', 'Prison Break', 'Rick and Morty', 'Breaking Bad', 'Station 19', 'Vis a Vis', '', 'Firends', '', '', '', '', '', '', '', '', '', '', 'Rick and Morty', '', '', 'GOT', '', '', '', 'Breaking Bad', '', '', '', '', '', '', '', 'Vikings', '', 'Black Mirror', '', 'Two', 'The Take', 'Two and a half men']\n",
      "102\n"
     ]
    }
   ],
   "source": [
    "series.insert(5,\"31 minutos\")\n",
    "print(series)\n",
    "print(len(series))"
   ]
  },
  {
   "cell_type": "code",
   "execution_count": 4,
   "metadata": {},
   "outputs": [
    {
     "name": "stdout",
     "output_type": "stream",
     "text": [
      "Two and a half men\n",
      "['Prison Break', '', '', 'Mindhunter', 'GOT', '31 minutos', '', '-', 'GOT', 'One Piece', '', 'Malcolm', '', '', 'H x H', 'Prison Break', 'Timetsu', 'GOT', 'GOT', 'El Barco', '', 'Dragon Ball', 'Breaking Bad', 'Unsolved', 'Orange is the new black', 'ST', \"Grey's Anatomy\", 'Boku No Hero', '', 'Brooklyn 99', \"Grey's Anatomy\", 'Limitless', 'Lie to me', 'Jojo', 'Breaking Bad', 'JJBA', '', 'No veo', 'GOT', 'No tengo :)', 'The Resident', '', 'One piece', 'Prison Break', 'Black Mirror', 'House of Cards', 'Once upon a time', 'Dr. House', 'Under the Dome', 'Friends', 'GOT', 'GOT', 'Elite', '', 'Doctor Who', '', 'No sé', 'Luke Cage (T1)', 'Flash', '', 'Malcolm', 'Malcolm', '', 'Prison Break', 'Rick and Morty', 'Breaking Bad', 'Station 19', 'Vis a Vis', '', 'Firends', '', '', '', '', '', '', '', '', '', '', 'Rick and Morty', '', '', 'GOT', '', '', '', 'Breaking Bad', '', '', '', '', '', '', '', 'Vikings', '', 'Black Mirror', '', 'Two', 'The Take']\n",
      "101\n"
     ]
    }
   ],
   "source": [
    "ultima = series.pop()\n",
    "print(ultima)\n",
    "print(series)\n",
    "print(len(series))"
   ]
  },
  {
   "cell_type": "code",
   "execution_count": 6,
   "metadata": {},
   "outputs": [
    {
     "name": "stdout",
     "output_type": "stream",
     "text": [
      "['Two and a half men', 'Prison Break', '', '', 'Mindhunter', 'GOT', '31 minutos', '', '-', 'GOT', 'One Piece', '', 'Malcolm', '', '', 'H x H', 'Prison Break', 'Timetsu', 'GOT', 'GOT', 'El Barco', '', 'Dragon Ball', 'Breaking Bad', 'Unsolved', 'Orange is the new black', 'ST', \"Grey's Anatomy\", 'Boku No Hero', '', 'Brooklyn 99', \"Grey's Anatomy\", 'Limitless', 'Lie to me', 'Jojo', 'Breaking Bad', 'JJBA', '', 'No veo', 'GOT', 'No tengo :)', 'The Resident', '', 'One piece', 'Prison Break', 'Black Mirror', 'House of Cards', 'Once upon a time', 'Dr. House', 'Under the Dome', 'Friends', 'GOT', 'GOT', 'Elite', '', 'Doctor Who', '', 'No sé', 'Luke Cage (T1)', 'Flash', '', 'Malcolm', 'Malcolm', '', 'Prison Break', 'Rick and Morty', 'Breaking Bad', 'Station 19', 'Vis a Vis', '', 'Firends', '', '', '', '', '', '', '', '', '', '', 'Rick and Morty', '', '', 'GOT', '', '', '', 'Breaking Bad', '', '', '', '', '', '', '', 'Vikings', '', 'Black Mirror', '', 'Two', 'The Take']\n",
      "102\n"
     ]
    }
   ],
   "source": [
    "series.insert(0, \"Two and a half men\")\n",
    "print(series)\n",
    "print(len(series))"
   ]
  },
  {
   "cell_type": "code",
   "execution_count": 8,
   "metadata": {},
   "outputs": [
    {
     "name": "stdout",
     "output_type": "stream",
     "text": [
      "['Prison Break', '', '', 'Mindhunter', 'GOT', '31 minutos', '', '-', 'GOT', 'One Piece', '', 'Malcolm', '', '', 'H x H', 'Prison Break', 'Timetsu', 'GOT', 'GOT', 'El Barco', '', 'Dragon Ball', 'Breaking Bad', 'Unsolved', 'Orange is the new black', 'ST', \"Grey's Anatomy\", 'Boku No Hero', '', 'Brooklyn 99', \"Grey's Anatomy\", 'Limitless', 'Lie to me', 'Jojo', 'Breaking Bad', 'JJBA', '', 'No veo', 'GOT', 'No tengo :)', 'The Resident', '', 'One piece', 'Prison Break', 'Black Mirror', 'House of Cards', 'Once upon a time', 'Dr. House', 'Under the Dome', 'Friends', 'GOT', 'GOT', 'Elite', '', 'Doctor Who', '', 'No sé', 'Luke Cage (T1)', 'Flash', '', 'Malcolm', 'Malcolm', '', 'Prison Break', 'Rick and Morty', 'Breaking Bad', 'Station 19', 'Vis a Vis', '', 'Firends', '', '', '', '', '', '', '', '', '', '', 'Rick and Morty', '', '', 'GOT', '', '', '', 'Breaking Bad', '', '', '', '', '', '', '', 'Vikings', '', 'Black Mirror', '', 'Two', 'The Take']\n",
      "101\n"
     ]
    }
   ],
   "source": [
    "primera = series.pop(0)\n",
    "print(series)\n",
    "print(len(series))\n"
   ]
  },
  {
   "cell_type": "code",
   "execution_count": 9,
   "metadata": {},
   "outputs": [
    {
     "name": "stdout",
     "output_type": "stream",
     "text": [
      "['Prison Break', 'Mindhunter', 'GOT', '31 minutos', '-', 'GOT', 'One Piece', 'Malcolm', 'H x H', 'Prison Break', 'Timetsu', 'GOT', 'GOT', 'El Barco', 'Dragon Ball', 'Breaking Bad', 'Unsolved', 'Orange is the new black', 'ST', \"Grey's Anatomy\", 'Boku No Hero', 'Brooklyn 99', \"Grey's Anatomy\", 'Limitless', 'Lie to me', 'Jojo', 'Breaking Bad', 'JJBA', 'No veo', 'GOT', 'No tengo :)', 'The Resident', 'One piece', 'Prison Break', 'Black Mirror', 'House of Cards', 'Once upon a time', 'Dr. House', 'Under the Dome', 'Friends', 'GOT', 'GOT', 'Elite', 'Doctor Who', 'No sé', 'Luke Cage (T1)', 'Flash', 'Malcolm', 'Malcolm', 'Prison Break', 'Rick and Morty', 'Breaking Bad', 'Station 19', 'Vis a Vis', 'Firends', 'Rick and Morty', 'GOT', 'Breaking Bad', 'Vikings', 'Black Mirror', 'Two', 'The Take']\n",
      "101\n",
      "62\n"
     ]
    }
   ],
   "source": [
    "### Funcion que elimina a que no contestaron\n",
    "def eliminar_vacios(lista):\n",
    "    resultado = []\n",
    "    for elem in lista:\n",
    "        if elem != \"\":\n",
    "            resultado.append(elem)\n",
    "    return resultado\n",
    "\n",
    "series_sin_vacios = eliminar_vacios(series)\n",
    "print(series_sin_vacios)\n",
    "print(len(series))\n",
    "print(len(series_sin_vacios))"
   ]
  },
  {
   "cell_type": "code",
   "execution_count": 11,
   "metadata": {},
   "outputs": [
    {
     "name": "stdout",
     "output_type": "stream",
     "text": [
      "['Prison Break', 'Mindhunter', 'GOT', '31 minutos', '-', 'One Piece', 'Malcolm', 'H x H', 'Timetsu', 'El Barco', 'Dragon Ball', 'Breaking Bad', 'Unsolved', 'Orange is the new black', 'ST', \"Grey's Anatomy\", 'Boku No Hero', 'Brooklyn 99', 'Limitless', 'Lie to me', 'Jojo', 'JJBA', 'No veo', 'No tengo :)', 'The Resident', 'One piece', 'Black Mirror', 'House of Cards', 'Once upon a time', 'Dr. House', 'Under the Dome', 'Friends', 'Elite', 'Doctor Who', 'No sé', 'Luke Cage (T1)', 'Flash', 'Rick and Morty', 'Station 19', 'Vis a Vis', 'Firends', 'Vikings', 'Two', 'The Take']\n",
      "44\n"
     ]
    }
   ],
   "source": [
    "## Función que elimina los repetidos de una lista\n",
    "def sin_repetidas(lista):\n",
    "    resultado = []\n",
    "    for elemento in lista:\n",
    "        if not (elemento in resultado):\n",
    "            resultado.append(elemento)\n",
    "    return resultado\n",
    "\n",
    "series_unicas = sin_repetidas(series_sin_vacios)\n",
    "print(series_unicas)\n",
    "print(len(series_unicas))"
   ]
  },
  {
   "cell_type": "code",
   "execution_count": 18,
   "metadata": {},
   "outputs": [
    {
     "name": "stdout",
     "output_type": "stream",
     "text": [
      "['Prison Break', 'Mindhunter', 'GOT', '31 minutos', '-', 'One Piece', 'Malcolm', 'H x H', 'Timetsu', 'El Barco', 'Dragon Ball', 'Breaking Bad', 'Unsolved', 'Orange is the new black', 'ST', \"Grey's Anatomy\", 'Boku No Hero', 'Brooklyn 99', 'Limitless', 'Lie to me', 'Jojo', 'JJBA', 'No veo', 'No tengo :)', 'The Resident', 'One piece', 'Black Mirror', 'House of Cards', 'Once upon a time', 'Dr. House', 'Under the Dome', 'Friends', 'Elite', 'Doctor Who', 'No sé', 'Luke Cage (T1)', 'Flash', 'Rick and Morty', 'Station 19', 'Vis a Vis', 'Firends', 'Vikings', 'Two', 'The Take']\n",
      "[4, 1, 8, 1, 1, 1, 3, 1, 1, 1, 1, 4, 1, 1, 1, 2, 1, 1, 1, 1, 1, 1, 1, 1, 1, 1, 2, 1, 1, 1, 1, 1, 1, 1, 1, 1, 1, 2, 1, 1, 1, 1, 1, 1]\n"
     ]
    }
   ],
   "source": [
    "def cantidad_repeticiones(lista_unicas, lista_con_repeticiones):\n",
    "    lista_repeticiones = []\n",
    "    for elemento_a_buscar in lista_unicas:\n",
    "        repeticiones = 0\n",
    "        for elemento in lista_con_repeticiones:\n",
    "            if elemento == elemento_a_buscar:\n",
    "                repeticiones += 1\n",
    "        lista_repeticiones.append(repeticiones)\n",
    "    return lista_repeticiones\n",
    "\n",
    "frecuencias = cantidad_repeticiones(series_unicas, series_sin_vacios)\n",
    "print(series_unicas)\n",
    "print(frecuencias)"
   ]
  },
  {
   "cell_type": "code",
   "execution_count": 20,
   "metadata": {},
   "outputs": [
    {
     "name": "stdout",
     "output_type": "stream",
     "text": [
      "8\n",
      "8 está en la posición 2\n",
      "GOT\n"
     ]
    }
   ],
   "source": [
    "valor_mas_alto = max(frecuencias)\n",
    "print(valor_mas_alto)\n",
    "\n",
    "#Busca la posicion donde está el valor más alto\n",
    "posicion_buscada = -1\n",
    "for i in range(len(frecuencias)):\n",
    "    if frecuencias[i] == valor_mas_alto:\n",
    "        posicion_buscada = i\n",
    "print(valor_mas_alto,\"está en la posición\",posicion_buscada)\n",
    "\n",
    "#Imprimir la serie de esa posicion\n",
    "print(series_unicas[posicion_buscada])"
   ]
  },
  {
   "cell_type": "code",
   "execution_count": 26,
   "metadata": {},
   "outputs": [
    {
     "name": "stdout",
     "output_type": "stream",
     "text": [
      "['Prison Break', 'Mindhunter', 'GOT', '31 minutos', '-', 'One Piece', 'Malcolm', 'H x H', 'Timetsu', 'El Barco', 'Dragon Ball', 'Breaking Bad', 'Unsolved', 'Orange is the new black', 'ST', \"Grey's Anatomy\", 'Boku No Hero', 'Brooklyn 99', 'Limitless', 'Lie to me', 'Jojo', 'JJBA', 'No veo', 'No tengo :)', 'The Resident', 'One piece', 'Black Mirror', 'House of Cards', 'Once upon a time', 'Dr. House', 'Under the Dome', 'Friends', 'Elite', 'Doctor Who', 'No sé', 'Luke Cage (T1)', 'Flash', 'Rick and Morty', 'Station 19', 'Vis a Vis', 'Firends', 'Vikings', 'Two', 'The Take']\n",
      "['Prison Break', 4, 'Mindhunter', 1, 'GOT', 8, '31 minutos', 1, '-', 1, 'One Piece', 1, 'Malcolm', 3, 'H x H', 1, 'Timetsu', 1, 'El Barco', 1, 'Dragon Ball', 1, 'Breaking Bad', 4, 'Unsolved', 1, 'Orange is the new black', 1, 'ST', 1, \"Grey's Anatomy\", 2, 'Boku No Hero', 1, 'Brooklyn 99', 1, 'Limitless', 1, 'Lie to me', 1, 'Jojo', 1, 'JJBA', 1, 'No veo', 1, 'No tengo :)', 1, 'The Resident', 1, 'One piece', 1, 'Black Mirror', 2, 'House of Cards', 1, 'Once upon a time', 1, 'Dr. House', 1, 'Under the Dome', 1, 'Friends', 1, 'Elite', 1, 'Doctor Who', 1, 'No sé', 1, 'Luke Cage (T1)', 1, 'Flash', 1, 'Rick and Morty', 2, 'Station 19', 1, 'Vis a Vis', 1, 'Firends', 1, 'Vikings', 1, 'Two', 1, 'The Take', 1]\n"
     ]
    }
   ],
   "source": [
    "def cantidad_repeticiones(lista_unicas, lista_con_repeticiones):\n",
    "    lista_repeticiones = []\n",
    "    for elemento_a_buscar in lista_unicas:\n",
    "        repeticiones = 0\n",
    "        for elemento in lista_con_repeticiones:\n",
    "            if elemento == elemento_a_buscar:\n",
    "                repeticiones += 1\n",
    "        lista_repeticiones.append(elemento_a_buscar)\n",
    "        lista_repeticiones.append(repeticiones)\n",
    "    return lista_repeticiones\n",
    "\n",
    "frecuencias = cantidad_repeticiones(series_unicas, series_sin_vacios)\n",
    "print(series_unicas)\n",
    "print(frecuencias)"
   ]
  },
  {
   "cell_type": "code",
   "execution_count": 29,
   "metadata": {},
   "outputs": [
    {
     "name": "stdout",
     "output_type": "stream",
     "text": [
      "Posicion mas repetida: 5\n",
      "Series más popular: GOT\n"
     ]
    }
   ],
   "source": [
    "mas_repetido = 0\n",
    "posicion_mas_repetido = 0\n",
    "\n",
    "for i in range(1,len(frecuencias),2):\n",
    "    #print(\"Mirando valor: \", i, frecuencias[i])\n",
    "    if frecuencias[i] >= mas_repetido:\n",
    "        mas_repetido = frecuencias[i]\n",
    "        posicion_mas_repetido = i\n",
    "\n",
    "print(\"Posicion mas repetida:\", posicion_mas_repetido)\n",
    "print(\"Series más popular:\", frecuencias[posicion_mas_repetido-1])"
   ]
  },
  {
   "cell_type": "code",
   "execution_count": 30,
   "metadata": {},
   "outputs": [
    {
     "name": "stdout",
     "output_type": "stream",
     "text": [
      "['Prison Break', 'Mindhunter', 'GOT', '31 minutos', '-', 'One Piece', 'Malcolm', 'H x H', 'Timetsu', 'El Barco', 'Dragon Ball', 'Breaking Bad', 'Unsolved', 'Orange is the new black', 'ST', \"Grey's Anatomy\", 'Boku No Hero', 'Brooklyn 99', 'Limitless', 'Lie to me', 'Jojo', 'JJBA', 'No veo', 'No tengo :)', 'The Resident', 'One piece', 'Black Mirror', 'House of Cards', 'Once upon a time', 'Dr. House', 'Under the Dome', 'Friends', 'Elite', 'Doctor Who', 'No sé', 'Luke Cage (T1)', 'Flash', 'Rick and Morty', 'Station 19', 'Vis a Vis', 'Firends', 'Vikings', 'Two', 'The Take']\n",
      "[['Prison Break', 4], ['Mindhunter', 1], ['GOT', 8], ['31 minutos', 1], ['-', 1], ['One Piece', 1], ['Malcolm', 3], ['H x H', 1], ['Timetsu', 1], ['El Barco', 1], ['Dragon Ball', 1], ['Breaking Bad', 4], ['Unsolved', 1], ['Orange is the new black', 1], ['ST', 1], [\"Grey's Anatomy\", 2], ['Boku No Hero', 1], ['Brooklyn 99', 1], ['Limitless', 1], ['Lie to me', 1], ['Jojo', 1], ['JJBA', 1], ['No veo', 1], ['No tengo :)', 1], ['The Resident', 1], ['One piece', 1], ['Black Mirror', 2], ['House of Cards', 1], ['Once upon a time', 1], ['Dr. House', 1], ['Under the Dome', 1], ['Friends', 1], ['Elite', 1], ['Doctor Who', 1], ['No sé', 1], ['Luke Cage (T1)', 1], ['Flash', 1], ['Rick and Morty', 2], ['Station 19', 1], ['Vis a Vis', 1], ['Firends', 1], ['Vikings', 1], ['Two', 1], ['The Take', 1]]\n"
     ]
    }
   ],
   "source": [
    "def cantidad_repeticiones(lista_unicas, lista_con_repeticiones):\n",
    "    lista_repeticiones = []\n",
    "    for elemento_a_buscar in lista_unicas:\n",
    "        repeticiones = 0\n",
    "        for elemento in lista_con_repeticiones:\n",
    "            if elemento == elemento_a_buscar:\n",
    "                repeticiones += 1\n",
    "        lista_repeticiones.append([elemento_a_buscar,repeticiones])\n",
    "    return lista_repeticiones\n",
    "\n",
    "frecuencias = cantidad_repeticiones(series_unicas, series_sin_vacios)\n",
    "print(series_unicas)\n",
    "print(frecuencias)"
   ]
  },
  {
   "cell_type": "code",
   "execution_count": 31,
   "metadata": {},
   "outputs": [
    {
     "name": "stdout",
     "output_type": "stream",
     "text": [
      "Serie más popular: GOT que tuvo 8 preferencias. Vayan a verla.\n"
     ]
    }
   ],
   "source": [
    "mas_repetido = 0\n",
    "elemento_buscado = \"\"\n",
    "\n",
    "for elemento in frecuencias:\n",
    "    if elemento[1] >= mas_repetido:\n",
    "        mas_repetido = elemento[1]\n",
    "        elemento_buscado = elemento\n",
    "\n",
    "print(\"Serie más popular:\", elemento_buscado[0], \"que tuvo\", elemento_buscado[1], \"preferencias. Vayan a verla.\")\n"
   ]
  },
  {
   "cell_type": "code",
   "execution_count": 38,
   "metadata": {},
   "outputs": [
    {
     "name": "stdout",
     "output_type": "stream",
     "text": [
      "[['.', '.', '.'], ['.', '.', '.'], ['.', '.', '.']]\n"
     ]
    }
   ],
   "source": [
    "gato = [ [\".\", \".\", \".\"], [\".\", \".\", \".\"], [\".\", \".\", \".\"] ]\n",
    "print(gato)\n",
    "\n",
    "def imprimir_gato(g):\n",
    "    for elemento in g:\n",
    "        print(elemento[0], elemento[1], elemento[2])"
   ]
  },
  {
   "cell_type": "code",
   "execution_count": 39,
   "metadata": {},
   "outputs": [
    {
     "name": "stdout",
     "output_type": "stream",
     "text": [
      ". . .\n",
      ". . .\n",
      ". . .\n"
     ]
    }
   ],
   "source": [
    "imprimir_gato(gato)"
   ]
  },
  {
   "cell_type": "code",
   "execution_count": 40,
   "metadata": {},
   "outputs": [
    {
     "name": "stdout",
     "output_type": "stream",
     "text": [
      ". . .\n",
      ". . .\n",
      ". . X\n"
     ]
    }
   ],
   "source": [
    "gato[2][2] = \"X\"\n",
    "imprimir_gato(gato)"
   ]
  },
  {
   "cell_type": "code",
   "execution_count": 41,
   "metadata": {},
   "outputs": [
    {
     "name": "stdout",
     "output_type": "stream",
     "text": [
      "O . .\n",
      ". . .\n",
      ". . X\n"
     ]
    }
   ],
   "source": [
    "gato[0][0] = \"O\"\n",
    "imprimir_gato(gato)"
   ]
  },
  {
   "cell_type": "code",
   "execution_count": 45,
   "metadata": {},
   "outputs": [
    {
     "name": "stdout",
     "output_type": "stream",
     "text": [
      "Ingrese fila: 2\n",
      "Ingrese columna: 2\n",
      ". . .\n",
      ". . .\n",
      ". . X\n",
      "Ingrese fila: 0\n",
      "Ingrese columna: 0\n",
      "O . .\n",
      ". . .\n",
      ". . X\n",
      "Ingrese fila: 1\n",
      "Ingrese columna: 2\n",
      "O . .\n",
      ". . X\n",
      ". . X\n",
      "Ingrese fila: 0\n",
      "Ingrese columna: 2\n",
      "O . O\n",
      ". . X\n",
      ". . X\n",
      "Ingrese fila: 1\n",
      "Ingrese columna: 1\n",
      "O . O\n",
      ". X X\n",
      ". . X\n",
      "Ingrese fila: 0\n",
      "Ingrese columna: 1\n",
      "O O O\n",
      ". X X\n",
      ". . X\n",
      "Ingrese fila: 1\n",
      "Ingrese columna: 0\n",
      "O O O\n",
      "X X X\n",
      ". . X\n",
      "Ingrese fila: 1\n",
      "Ingrese columna: 1\n",
      "O O O\n",
      "X O X\n",
      ". . X\n",
      "Ingrese fila: 0\n",
      "Ingrese columna: 0\n",
      "X O O\n",
      "X O X\n",
      ". . X\n",
      "Terminó\n"
     ]
    }
   ],
   "source": [
    "jugador = 0\n",
    "terminado = False\n",
    "gato = [ [\".\", \".\", \".\"], [\".\", \".\", \".\"], [\".\", \".\", \".\"] ]\n",
    "jugadas = 0\n",
    "\n",
    "while not terminado:\n",
    "    fila = int(input(\"Ingrese fila: \"))\n",
    "    columna = int(input(\"Ingrese columna: \"))\n",
    "    if jugador == 0:\n",
    "        gato[fila][columna] = \"X\"\n",
    "    else:\n",
    "        gato[fila][columna] = \"O\"\n",
    "    imprimir_gato(gato)\n",
    "    jugador = 1 - jugador\n",
    "    jugadas += 1\n",
    "    if jugadas >= 9:\n",
    "        terminado = True\n",
    "print(\"Terminó\")\n",
    "\n",
    "\n",
    "    "
   ]
  },
  {
   "cell_type": "code",
   "execution_count": 47,
   "metadata": {},
   "outputs": [
    {
     "name": "stdout",
     "output_type": "stream",
     "text": [
      "Ingrese jugada como fila,columna: 1,1\n",
      ". . .\n",
      ". X .\n",
      ". . .\n",
      "Ingrese jugada como fila,columna: 2,1\n",
      ". . .\n",
      ". X .\n",
      ". O .\n",
      "Ingrese jugada como fila,columna: 0,0\n",
      "X . .\n",
      ". X .\n",
      ". O .\n",
      "Ingrese jugada como fila,columna: 1,2\n",
      "X . .\n",
      ". X O\n",
      ". O .\n",
      "Ingrese jugada como fila,columna: 0,1\n",
      "X X .\n",
      ". X O\n",
      ". O .\n",
      "Ingrese jugada como fila,columna: 1,2\n",
      "X X .\n",
      ". X O\n",
      ". O .\n",
      "Ingrese jugada como fila,columna: 2,1\n",
      "X X .\n",
      ". X O\n",
      ". X .\n",
      "Ingrese jugada como fila,columna: 1,0\n",
      "X X .\n",
      "O X O\n",
      ". X .\n",
      "Ingrese jugada como fila,columna: 1,0\n",
      "X X .\n",
      "X X O\n",
      ". X .\n",
      "Terminó\n"
     ]
    }
   ],
   "source": [
    "jugador = 0\n",
    "terminado = False\n",
    "gato = [ [\".\", \".\", \".\"], [\".\", \".\", \".\"], [\".\", \".\", \".\"] ]\n",
    "jugadas = 0\n",
    "\n",
    "while not terminado:\n",
    "    jugada = input(\"Ingrese jugada como fila,columna: \")\n",
    "    lista_jugada = jugada.split(\",\")\n",
    "    fila = int(lista_jugada[0])\n",
    "    columna = int(lista_jugada[1])\n",
    "    if jugador == 0:\n",
    "        gato[fila][columna] = \"X\"\n",
    "    else:\n",
    "        gato[fila][columna] = \"O\"\n",
    "    imprimir_gato(gato)\n",
    "    jugador = 1 - jugador\n",
    "    jugadas += 1\n",
    "    if jugadas >= 9:\n",
    "        terminado = True\n",
    "print(\"Terminó\")"
   ]
  },
  {
   "cell_type": "code",
   "execution_count": 51,
   "metadata": {},
   "outputs": [
    {
     "name": "stdout",
     "output_type": "stream",
     "text": [
      "['Aca;', 'hay', 'varias', 'palabras;', 'todas;', 'separadas;', ';', 'por', 'punto;', 'y;', 'coma']\n",
      "['Aca', ' hay varias palabras', ' todas', ' separadas', ' ', ' por punto', ' y', ' coma']\n",
      "['1', '2']\n",
      "1\n",
      "2\n"
     ]
    }
   ],
   "source": [
    "texto = \"Aca; hay varias palabras; todas; separadas; ; por punto; y; coma\"\n",
    "separados = texto.split()\n",
    "print(separados)\n",
    "separados = texto.split(\";\")\n",
    "print(separados)\n",
    "texto = \"1,2\"\n",
    "print(texto.split(\",\"))\n",
    "print(texto.split(\",\")[0])\n",
    "print(texto.split(\",\")[1])"
   ]
  },
  {
   "cell_type": "code",
   "execution_count": 52,
   "metadata": {},
   "outputs": [
    {
     "name": "stdout",
     "output_type": "stream",
     "text": [
      "['1', '3,4,5,6', '4', '7']\n"
     ]
    }
   ],
   "source": [
    "texto = \"1,23,4,5,6,24,27\"\n",
    "print(texto.split(\",2\"))"
   ]
  },
  {
   "cell_type": "code",
   "execution_count": null,
   "metadata": {},
   "outputs": [],
   "source": []
  }
 ],
 "metadata": {
  "kernelspec": {
   "display_name": "Python 3",
   "language": "python",
   "name": "python3"
  },
  "language_info": {
   "codemirror_mode": {
    "name": "ipython",
    "version": 3
   },
   "file_extension": ".py",
   "mimetype": "text/x-python",
   "name": "python",
   "nbconvert_exporter": "python",
   "pygments_lexer": "ipython3",
   "version": "3.7.4"
  }
 },
 "nbformat": 4,
 "nbformat_minor": 2
}
