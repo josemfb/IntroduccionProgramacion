{
 "cells": [
  {
   "cell_type": "markdown",
   "metadata": {},
   "source": [
    "# Clase 03. Python. Tipos de datos y expresiones.\n",
    "\n",
    "<p>\n",
    "<font size='5' face='Georgia, Arial'>IIC1103-07 Introducción a la Programación</font><br>\n",
    "<font size='2'>Martes 13-Agosto-2019</font><br>\n",
    "<font size='2'>Contactos: Cristian Ruz, cruz@ing.puc.cl; Raúl Álvarez, rsalvarez@uc.cl</font>\n",
    "</p>\n"
   ]
  },
  {
   "cell_type": "markdown",
   "metadata": {},
   "source": [
    "## Problemas algorítmicos\n",
    "\n",
    "Los siguientes ejemplos muestran el uso de un algoritmo, y su respectiva implementación en el lenguaje de programación Python."
   ]
  },
  {
   "cell_type": "markdown",
   "metadata": {},
   "source": [
    "#### Problema 1. Imprimir un mensaje\n",
    "\n",
    "Cree un programa que escriba en pantalla el mensaje “Alerta de emergencia. Mensaje de prueba sin costo”."
   ]
  },
  {
   "cell_type": "markdown",
   "metadata": {},
   "source": [
    "Algoritmo:\n",
    "1. Escribir en pantalla el texto: “Alerta de emergencia. Mensaje de prueba sin costo”"
   ]
  },
  {
   "cell_type": "code",
   "execution_count": 1,
   "metadata": {},
   "outputs": [
    {
     "name": "stdout",
     "output_type": "stream",
     "text": [
      "Alerta de emergencia. Mensaje de prueba sin costo\n"
     ]
    }
   ],
   "source": [
    "print(\"Alerta de emergencia. Mensaje de prueba sin costo\")"
   ]
  },
  {
   "cell_type": "markdown",
   "metadata": {},
   "source": [
    "#### Problema 2. Pedir datos e imprimir un mensaje.\n",
    "\n",
    "Cree un programa que pregunte al usuario el nombre y lo salude."
   ]
  },
  {
   "cell_type": "markdown",
   "metadata": {},
   "source": [
    "Algoritmo:\n",
    "1. Preguntar el nombre de la persona\n",
    "2. Recordar el nombre de la persona\n",
    "3. Escribir el saludo usando el nombre de la persona"
   ]
  },
  {
   "cell_type": "code",
   "execution_count": 2,
   "metadata": {},
   "outputs": [
    {
     "name": "stdout",
     "output_type": "stream",
     "text": [
      "Buenos días, buenas tardes, ¿cuál es su nombre? Cristian, y soy el profe\n",
      "Hola,Cristian, y soy el profe, acompáñeme a la comisaría.\n"
     ]
    }
   ],
   "source": [
    "nombre = input(\"Buenos días, buenas tardes, ¿cuál es su nombre? \")\n",
    "print(\"Hola,\" + nombre + \", acompáñeme a la comisaría.\")"
   ]
  },
  {
   "cell_type": "markdown",
   "metadata": {},
   "source": [
    "#### Problema 3. Calcular un valor e imprimir un mensaje.\n",
    "\n",
    "Cree un programa que calcule mi velocidad en km/h, si demoro 48 minutos en correr 10 kilómetros."
   ]
  },
  {
   "cell_type": "markdown",
   "metadata": {},
   "source": [
    "Algoritmo:\n",
    "1. Convertir los minutos a horas.\n",
    "2. Dividir los kilómetros por las horas.\n",
    "3. Escribir el resultado de la división."
   ]
  },
  {
   "cell_type": "code",
   "execution_count": 3,
   "metadata": {},
   "outputs": [
    {
     "name": "stdout",
     "output_type": "stream",
     "text": [
      "Estás corriendo a 12.5 km/h\n"
     ]
    }
   ],
   "source": [
    "horas = 48/60\n",
    "velocidad = 10 / horas\n",
    "print(\"Estás corriendo a \" + str(velocidad) + \" km/h\")"
   ]
  },
  {
   "cell_type": "markdown",
   "metadata": {},
   "source": [
    "Notemos que este programa **no tiene datos de entrada**, sino que **siempre** calcula el mismo valor (10/(48/60)). Si quisiéramos un algoritmo que calcule la velocidad en km/h, *dadas una cantidad de minutos y de kilómetros*, habría que agrega un paso adicional en que se le pidan estos datos al usuario (y en el programa agregar dos instrucciones `input()`)."
   ]
  },
  {
   "cell_type": "markdown",
   "metadata": {},
   "source": [
    "#### Problema 4. Tomando una decisión en base a una condición.\n",
    "\n",
    "Cree un programa que me ayude a saber si debo subirme al metro o no para llegar a San Joaquín."
   ]
  },
  {
   "cell_type": "markdown",
   "metadata": {},
   "source": [
    "Algoritmo:\n",
    "1. Preguntar el color de la ruta actual\n",
    "2. Evaluar el color de la ruta actual\n",
    "    1. Si la ruta actual es roja, entonces debo subirme\n",
    "    2. Si la ruta es verde, entonces no debo subirme\n",
    "    3. Si no hay ningún color, entonces puedo subirme"
   ]
  },
  {
   "cell_type": "code",
   "execution_count": 4,
   "metadata": {},
   "outputs": [
    {
     "name": "stdout",
     "output_type": "stream",
     "text": [
      "¿De qué color es la ruta?verde\n",
      "No te subas. No para en San Joaquín.\n"
     ]
    }
   ],
   "source": [
    "color = input(\"¿De qué color es la ruta?\")\n",
    "if color.lower() == \"rojo\":\n",
    "    print(\"¡Súbete!, pero deja bajar antes de subir.\")\n",
    "elif color.lower() == \"verde\":\n",
    "    print(\"No te subas. No para en San Joaquín.\")\n",
    "else:\n",
    "    print(\"¡Súbete!, pero deja bajar antes de subir.\")"
   ]
  },
  {
   "cell_type": "markdown",
   "metadata": {},
   "source": [
    "Talvez se pregunten por ese `.lower()`. No es muy importante por ahora. Solo convierte todo lo que ingresa el usuario a minúsculas, para hacer más fácil la comparación con las palabras `\"rojo\"` y `\"verde\"`."
   ]
  },
  {
   "cell_type": "markdown",
   "metadata": {},
   "source": [
    "#### Problema 5. Repitiendo una acción mientras (no) se cumpla una condición.\n",
    "\n",
    "Voy en el metro hacia Baquedano. Cree un programa que me avise si debo bajarme del metro."
   ]
  },
  {
   "cell_type": "markdown",
   "metadata": {},
   "source": [
    "Algoritmo:\n",
    "1. Preguntar la estación actual\n",
    "2. Mientras no sea Baquedano:\n",
    "    1. No debo bajarme\n",
    "    2. Volver a preguntar la estación\n",
    "3. Si es Baquedano, indicar que debo bajar."
   ]
  },
  {
   "cell_type": "code",
   "execution_count": 5,
   "metadata": {},
   "outputs": [
    {
     "name": "stdout",
     "output_type": "stream",
     "text": [
      "¿En qué estación estás?Camino Agrícola\n",
      "Aún no has llegado. ¡No te bajes!\n",
      "¿En qué estación estás?Carlos Valdovinos\n",
      "Aún no has llegado. ¡No te bajes!\n",
      "¿En qué estación estás?Irarrázaval\n",
      "Aún no has llegado. ¡No te bajes!\n",
      "¿En qué estación estás?Santa Isabel\n",
      "Aún no has llegado. ¡No te bajes!\n",
      "¿En qué estación estás?Baquedano\n",
      "Has llegado a Baquedano. ¡Bájate!\n"
     ]
    }
   ],
   "source": [
    "estacion = input(\"¿En qué estación estás?\")\n",
    "while estacion.lower() != \"baquedano\":                  # Mientras la estación no sea Baquedano, repite esto:\n",
    "    print(\"Aún no has llegado. ¡No te bajes!\")\n",
    "    estacion = input(\"¿En qué estación estás?\")         # Vuelvo a preguntar por la estación\n",
    "print(\"Has llegado a Baquedano. ¡Bájate!\")"
   ]
  },
  {
   "cell_type": "markdown",
   "metadata": {},
   "source": [
    "## Tipos de datos\n",
    "\n",
    "Los programas funcionan manipulando datos. Pero existen distintos tipos de datos. Cuando hablamos de un **tipo de datos**, nos referimos a un conjunto de valores que comparten una cierta característica, como ser números, ser texto, ser un valor lógico, etc.\n",
    "\n",
    "Python permiten diferenciar entre diversos tipos de datos. Un tipo de dato permite almacenar distintos tipos de valores. En principio trabajaremos con cuatro tipos de datos básicos:\n",
    "\n",
    "* Tipos numéricos\n",
    "  * `int`. Para representar **números enteros**. Por ejemplo: `3`, `7`, `-10`, `0`, `65536`\n",
    "  * `float`: Para representar **números con punto decimal** ó **punto flotante**. Por ejemplo: `3.0`, `7.1`, `-45.1003`, `3.14159`\n",
    "* Tipos de texto\n",
    "  * `str`: Para representar **texto**. Puede escribirse como `\"texto con comillas dobles\"`, o `'simples'`\n",
    "* Tipos lógicos\n",
    "  * `bool`: Para representar valores lógicos (_booleanos_). Solo pueden ser `True` ó `False`.\n"
   ]
  },
  {
   "cell_type": "markdown",
   "metadata": {},
   "source": [
    "Si solo escribimos un valor en el `Jupyter-Notebook` o en una consola de Python (como la que obtienen al escribir `python` en una consola o terminal), se entrega como resultado este valor.\n",
    "\n",
    "Los siguientes son ejemplos que valores que representan datos válidos en Python."
   ]
  },
  {
   "cell_type": "code",
   "execution_count": 6,
   "metadata": {},
   "outputs": [
    {
     "data": {
      "text/plain": [
       "5"
      ]
     },
     "execution_count": 6,
     "metadata": {},
     "output_type": "execute_result"
    }
   ],
   "source": [
    "# Esto imprime el valor entero (int) 5\n",
    "5"
   ]
  },
  {
   "cell_type": "code",
   "execution_count": 7,
   "metadata": {},
   "outputs": [
    {
     "data": {
      "text/plain": [
       "1.567"
      ]
     },
     "execution_count": 7,
     "metadata": {},
     "output_type": "execute_result"
    }
   ],
   "source": [
    "# Esto imprime el valor de punto flotante (float) 1.567\n",
    "1.567"
   ]
  },
  {
   "cell_type": "code",
   "execution_count": 8,
   "metadata": {},
   "outputs": [
    {
     "data": {
      "text/plain": [
       "'Hola, este es un string muuuuuuuuuuuy largo'"
      ]
     },
     "execution_count": 8,
     "metadata": {},
     "output_type": "execute_result"
    }
   ],
   "source": [
    "# Esto imprime un texto (str) ó string, delimitado por comillas dobles\n",
    "\"Hola, este es un string muuuuuuuuuuuy largo\""
   ]
  },
  {
   "cell_type": "code",
   "execution_count": 9,
   "metadata": {},
   "outputs": [
    {
     "data": {
      "text/plain": [
       "True"
      ]
     },
     "execution_count": 9,
     "metadata": {},
     "output_type": "execute_result"
    }
   ],
   "source": [
    "# Esto imprime el valor lógico o booleano (bool) True, que representa el valor lógico 'verdadero'\n",
    "True"
   ]
  },
  {
   "cell_type": "code",
   "execution_count": 10,
   "metadata": {},
   "outputs": [
    {
     "ename": "NameError",
     "evalue": "name 'true' is not defined",
     "output_type": "error",
     "traceback": [
      "\u001b[0;31m---------------------------------------------------------------------------\u001b[0m",
      "\u001b[0;31mNameError\u001b[0m                                 Traceback (most recent call last)",
      "\u001b[0;32m<ipython-input-10-b98545581ef7>\u001b[0m in \u001b[0;36m<module>\u001b[0;34m\u001b[0m\n\u001b[1;32m      1\u001b[0m \u001b[0;31m# Esto va a generar un mensaje de error y la ejecución se va a detener,\u001b[0m\u001b[0;34m\u001b[0m\u001b[0;34m\u001b[0m\u001b[0;34m\u001b[0m\u001b[0m\n\u001b[1;32m      2\u001b[0m \u001b[0;31m# porque 'true' no es un valor de tipo boolean (debí haber escrito 'True')\u001b[0m\u001b[0;34m\u001b[0m\u001b[0;34m\u001b[0m\u001b[0;34m\u001b[0m\u001b[0m\n\u001b[0;32m----> 3\u001b[0;31m \u001b[0mtrue\u001b[0m\u001b[0;34m\u001b[0m\u001b[0;34m\u001b[0m\u001b[0m\n\u001b[0m",
      "\u001b[0;31mNameError\u001b[0m: name 'true' is not defined"
     ]
    }
   ],
   "source": [
    "# Esto va a generar un mensaje de error y la ejecución se va a detener,\n",
    "# porque 'true' no es un valor de tipo boolean (debí haber escrito 'True')\n",
    "true"
   ]
  },
  {
   "cell_type": "markdown",
   "metadata": {},
   "source": [
    "Atención a los errores que entrega Python. Suelen darnos una pista de dónde hay un problema con nuestro código. En este caso nos indica un `NameError`, que ocurre cuando el intérprete de Python ha encontrado el nombre de una variable que nunca había visto antes, y que por lo tanto no tiene un valor asignado. Esto nos pasó porque, para Python, `True` es un valor de tipo `bool`, pero `true` es otra cosa, un nombre de variable. Esto lo indica con el mensaje: `name 'XXX' is not defined`.\n",
    "\n",
    "Al escribir el código de un programa debemos ser **muy precisos en la escritura** y **seguir todas las reglas** que nos impone el lenguaje. De lo contrario nos encontraremos con estos mensajes de error. La buena noticia es que el intérprete de Python nos suele indicar dónde descubre el error, y eso suele ser una buena pista para corregirlo."
   ]
  },
  {
   "cell_type": "markdown",
   "metadata": {},
   "source": [
    "### Comentarios\n",
    "\n",
    "En el texto de un programa es muy recomendable agregar texto que nos ayude a entender qué está pasando. Recordemos que Python es un lenguaje que es comprensible por un humano, pero estamos tan acostumbrados a nuestro lenguaje natural, que muchas veces es útil agregar texto en lenguaje natural que nos ayude a comprender rápidamente la idea de lo que estamos escribiendo: esto es un ***comentario**. En programación es muy cierta la frase *el código se escribe una vez, y se lee muchas veces*.\n",
    "\n",
    "Python tiene una sintaxis definida para agregar comentarios. Los comentarios son ignorados totalmente por el intérprete de Python y sólo sirven para un lector humano."
   ]
  },
  {
   "cell_type": "code",
   "execution_count": 11,
   "metadata": {},
   "outputs": [
    {
     "data": {
      "text/plain": [
       "True"
      ]
     },
     "execution_count": 11,
     "metadata": {},
     "output_type": "execute_result"
    }
   ],
   "source": [
    "# Esto imprime el valor lógico o booleano (boolean) True, que representa el valor lógico 'verdadero'\n",
    "True #a continuación del valor podemos escribir comentarios que tampoco son parte del valor\n",
    "# y al final también, pues los comentarios siempre son ignorados por Python"
   ]
  },
  {
   "cell_type": "code",
   "execution_count": 12,
   "metadata": {},
   "outputs": [],
   "source": [
    "# Cuando el intérprete de Python encuentra un símbolo # (que no sea parte de un 'str'),\n",
    "# considera que todo el resto de la línea es un comentario."
   ]
  },
  {
   "cell_type": "markdown",
   "metadata": {},
   "source": [
    "## Operaciones sobre tipos numéricos\n",
    "\n",
    "Los tipos numéricos permiten todas las operaciones clásicas aritméticas binarias (operan sobre dos valores): `+`, `-`, `*`, `/`, `//` (división entera), `**` (exponenciación), y `%` (módulo: resto de la división). Todas ellas reciben dos valores numéricos y entregan como resultado otro valor numérico."
   ]
  },
  {
   "cell_type": "code",
   "execution_count": 13,
   "metadata": {},
   "outputs": [
    {
     "data": {
      "text/plain": [
       "1.75"
      ]
     },
     "execution_count": 13,
     "metadata": {},
     "output_type": "execute_result"
    }
   ],
   "source": [
    "3.5 / 2                     # Esta es la división clásica. El resultado es un 'float'"
   ]
  },
  {
   "cell_type": "code",
   "execution_count": 14,
   "metadata": {},
   "outputs": [
    {
     "data": {
      "text/plain": [
       "1.0"
      ]
     },
     "execution_count": 14,
     "metadata": {},
     "output_type": "execute_result"
    }
   ],
   "source": [
    "3.5 // 2                    # Esta es la división entera. Se ELIMINA la parte decimal de la división clásica."
   ]
  },
  {
   "cell_type": "code",
   "execution_count": 15,
   "metadata": {},
   "outputs": [
    {
     "data": {
      "text/plain": [
       "1.9886363636363635"
      ]
     },
     "execution_count": 15,
     "metadata": {},
     "output_type": "execute_result"
    }
   ],
   "source": [
    "3.5 / 1.76"
   ]
  },
  {
   "cell_type": "code",
   "execution_count": 16,
   "metadata": {},
   "outputs": [
    {
     "data": {
      "text/plain": [
       "1.0"
      ]
     },
     "execution_count": 16,
     "metadata": {},
     "output_type": "execute_result"
    }
   ],
   "source": [
    "3.5 // 1.76                 # La división entera NO APROXIMA NI REDONDEA, sino que TRUNCA."
   ]
  },
  {
   "cell_type": "code",
   "execution_count": 17,
   "metadata": {},
   "outputs": [
    {
     "data": {
      "text/plain": [
       "2.3"
      ]
     },
     "execution_count": 17,
     "metadata": {},
     "output_type": "execute_result"
    }
   ],
   "source": [
    "1.2 + 1.1"
   ]
  },
  {
   "cell_type": "code",
   "execution_count": 18,
   "metadata": {},
   "outputs": [
    {
     "data": {
      "text/plain": [
       "0.19999999999999996"
      ]
     },
     "execution_count": 18,
     "metadata": {},
     "output_type": "execute_result"
    }
   ],
   "source": [
    "1.2 - 1.0                   # ¿Qué pasa aquí?"
   ]
  },
  {
   "cell_type": "code",
   "execution_count": 19,
   "metadata": {},
   "outputs": [
    {
     "data": {
      "text/plain": [
       "0.2"
      ]
     },
     "execution_count": 19,
     "metadata": {},
     "output_type": "execute_result"
    }
   ],
   "source": [
    "0.1 + 0.1                   # Esto tiene sentido"
   ]
  },
  {
   "cell_type": "code",
   "execution_count": 20,
   "metadata": {},
   "outputs": [
    {
     "data": {
      "text/plain": [
       "0.30000000000000004"
      ]
     },
     "execution_count": 20,
     "metadata": {},
     "output_type": "execute_result"
    }
   ],
   "source": [
    "0.1 + 0.1 + 0.1             # ¿Pero esto? ¿está malo mi intérprete de Python?"
   ]
  },
  {
   "cell_type": "code",
   "execution_count": 21,
   "metadata": {},
   "outputs": [
    {
     "data": {
      "text/plain": [
       "0.4"
      ]
     },
     "execution_count": 21,
     "metadata": {},
     "output_type": "execute_result"
    }
   ],
   "source": [
    "0.1 + 0.1 + 0.1 + 0.1      # Parece que aquí volvió a la normalidad"
   ]
  },
  {
   "cell_type": "code",
   "execution_count": 22,
   "metadata": {},
   "outputs": [
    {
     "data": {
      "text/plain": [
       "0.3"
      ]
     },
     "execution_count": 22,
     "metadata": {},
     "output_type": "execute_result"
    }
   ],
   "source": [
    "3/10                       # Esto está bien. Entonces sí puedo escribir 0.3"
   ]
  },
  {
   "cell_type": "code",
   "execution_count": 23,
   "metadata": {},
   "outputs": [
    {
     "data": {
      "text/plain": [
       "5.551115123125783e-17"
      ]
     },
     "execution_count": 23,
     "metadata": {},
     "output_type": "execute_result"
    }
   ],
   "source": [
    "(0.1+0.1+0.1) - 3/10       # ¿Por qué esto no es cero? ... Al menos es un número extremadamente pequeño"
   ]
  },
  {
   "cell_type": "code",
   "execution_count": 24,
   "metadata": {},
   "outputs": [
    {
     "data": {
      "text/plain": [
       "0.0"
      ]
     },
     "execution_count": 24,
     "metadata": {},
     "output_type": "execute_result"
    }
   ],
   "source": [
    "0.3 - 3/10                 # ¿Qué diferencia hay entre esto y la expresión de arriba?"
   ]
  },
  {
   "cell_type": "markdown",
   "metadata": {},
   "source": [
    "Las operaciones unarias (operan sobre un único valor) son la identidad: `+`, y el inverso aditivo `-`."
   ]
  },
  {
   "cell_type": "code",
   "execution_count": 25,
   "metadata": {},
   "outputs": [
    {
     "data": {
      "text/plain": [
       "42"
      ]
     },
     "execution_count": 25,
     "metadata": {},
     "output_type": "execute_result"
    }
   ],
   "source": [
    "+42"
   ]
  },
  {
   "cell_type": "code",
   "execution_count": 26,
   "metadata": {},
   "outputs": [
    {
     "data": {
      "text/plain": [
       "-42"
      ]
     },
     "execution_count": 26,
     "metadata": {},
     "output_type": "execute_result"
    }
   ],
   "source": [
    "-42"
   ]
  },
  {
   "cell_type": "code",
   "execution_count": 27,
   "metadata": {},
   "outputs": [
    {
     "data": {
      "text/plain": [
       "-42"
      ]
     },
     "execution_count": 27,
     "metadata": {},
     "output_type": "execute_result"
    }
   ],
   "source": [
    "-+42"
   ]
  },
  {
   "cell_type": "code",
   "execution_count": 28,
   "metadata": {},
   "outputs": [
    {
     "data": {
      "text/plain": [
       "42"
      ]
     },
     "execution_count": 28,
     "metadata": {},
     "output_type": "execute_result"
    }
   ],
   "source": [
    "++42"
   ]
  },
  {
   "cell_type": "markdown",
   "metadata": {},
   "source": [
    "Los tipos numéricos también soportan las operaciones clásicas binarias de comparación: `<`, `>`, `<=`, `>=`, `==` (igual a), y `!=` (distinto de). Todas ellas reciben dos valores numéricos, y entregan como resultado un `bool`."
   ]
  },
  {
   "cell_type": "code",
   "execution_count": 29,
   "metadata": {},
   "outputs": [
    {
     "data": {
      "text/plain": [
       "True"
      ]
     },
     "execution_count": 29,
     "metadata": {},
     "output_type": "execute_result"
    }
   ],
   "source": [
    "42 > 40"
   ]
  },
  {
   "cell_type": "code",
   "execution_count": 30,
   "metadata": {},
   "outputs": [
    {
     "data": {
      "text/plain": [
       "False"
      ]
     },
     "execution_count": 30,
     "metadata": {},
     "output_type": "execute_result"
    }
   ],
   "source": [
    "47 < 50 / 2                # Las operaciones de comparación tiene menor prioridad que las aritméticas"
   ]
  },
  {
   "cell_type": "code",
   "execution_count": 31,
   "metadata": {},
   "outputs": [
    {
     "data": {
      "text/plain": [
       "True"
      ]
     },
     "execution_count": 31,
     "metadata": {},
     "output_type": "execute_result"
    }
   ],
   "source": [
    "2019 - (78 + 2000 - 100) == 41"
   ]
  },
  {
   "cell_type": "code",
   "execution_count": 32,
   "metadata": {},
   "outputs": [
    {
     "data": {
      "text/plain": [
       "False"
      ]
     },
     "execution_count": 32,
     "metadata": {},
     "output_type": "execute_result"
    }
   ],
   "source": [
    "100 != 100.0"
   ]
  },
  {
   "cell_type": "markdown",
   "metadata": {},
   "source": [
    "## Operaciones sobre valores de texto (*string*)\n",
    "Los tipos de datos `str` también soportan operaciones. \n",
    "\n",
    "Las más comunes que veremos por ahora son la **concatenación** `+` que permite obtener un _string_ que pega el contenido del segundo al final del primero, y la **repetición** `*` que permite concatener un _string_ consigo mismo una cantidad entera de veces.\n",
    "\n",
    "Ambas operaciones son binarias. La concatenación `s1 + s2` funciona si `s1` y `s2` son de tipo `str`. Por otro lado la repetición `s * n` funciona si `s` es un `str` y `n` es un `int`. El resultado tanto de una concatenación como de una repetición, es un `str`."
   ]
  },
  {
   "cell_type": "code",
   "execution_count": 33,
   "metadata": {},
   "outputs": [
    {
     "data": {
      "text/plain": [
       "'Yo soytu padre'"
      ]
     },
     "execution_count": 33,
     "metadata": {},
     "output_type": "execute_result"
    }
   ],
   "source": [
    "# La concatenación permite obtener un nuevo string que pega los contenidos del primero y el segundo\n",
    "\"Yo soy\" + \"tu padre\""
   ]
  },
  {
   "cell_type": "code",
   "execution_count": 34,
   "metadata": {},
   "outputs": [
    {
     "data": {
      "text/plain": [
       "'Yo soy tu padre'"
      ]
     },
     "execution_count": 34,
     "metadata": {},
     "output_type": "execute_result"
    }
   ],
   "source": [
    "# No quedó muy limpia la concatenación anterior. Agreguemos un espacio a uno de los strings\n",
    "\"Yo soy \" + \"tu padre\""
   ]
  },
  {
   "cell_type": "code",
   "execution_count": 35,
   "metadata": {},
   "outputs": [
    {
     "data": {
      "text/plain": [
       "'JaJaJaJaJaJaJaJaJaJaJaJaJaJaJa'"
      ]
     },
     "execution_count": 35,
     "metadata": {},
     "output_type": "execute_result"
    }
   ],
   "source": [
    "# La repetición concatena un string consigo mismo. El primer argumento debe ser un string, y el segundo un entero.\n",
    "\"Ja\"*15"
   ]
  },
  {
   "cell_type": "code",
   "execution_count": 36,
   "metadata": {},
   "outputs": [
    {
     "data": {
      "text/plain": [
       "'Noooooooooooooooooooooooooooooo'"
      ]
     },
     "execution_count": 36,
     "metadata": {},
     "output_type": "execute_result"
    }
   ],
   "source": [
    "# Podemos mezclar ambas operaciones y la prioridad funciona de la misma manera que en las operaciones numéricas\n",
    "\"N\"+\"o\"*30"
   ]
  },
  {
   "cell_type": "code",
   "execution_count": 37,
   "metadata": {},
   "outputs": [
    {
     "data": {
      "text/plain": [
       "'NoNoNoNoNoNoNoNoNoNoNoNoNoNoNoNoNoNoNoNoNoNoNoNoNoNoNoNoNoNo'"
      ]
     },
     "execution_count": 37,
     "metadata": {},
     "output_type": "execute_result"
    }
   ],
   "source": [
    "# Al igual que los paréntesis\n",
    "(\"N\"+\"o\")*30"
   ]
  },
  {
   "cell_type": "markdown",
   "metadata": {},
   "source": [
    "## Operaciones sobre valores lógicos (*boolean*)\n",
    "Los tipos de datos `bool` también soportan operaciones. \n",
    "\n",
    "Las operaciones entre tipos `bool` se conoce como operaciones lógicas. Python soporta la operación unaria de **negación**: `not`, y las operaciones binarias de **conjunción**, `and` y de **disyunción**, `or`. En todos los casos, el resultado es otro valor de tipo `bool`."
   ]
  },
  {
   "cell_type": "code",
   "execution_count": 38,
   "metadata": {},
   "outputs": [
    {
     "data": {
      "text/plain": [
       "False"
      ]
     },
     "execution_count": 38,
     "metadata": {},
     "output_type": "execute_result"
    }
   ],
   "source": [
    "not True"
   ]
  },
  {
   "cell_type": "code",
   "execution_count": 39,
   "metadata": {},
   "outputs": [
    {
     "data": {
      "text/plain": [
       "True"
      ]
     },
     "execution_count": 39,
     "metadata": {},
     "output_type": "execute_result"
    }
   ],
   "source": [
    "True and True"
   ]
  },
  {
   "cell_type": "code",
   "execution_count": 40,
   "metadata": {},
   "outputs": [
    {
     "data": {
      "text/plain": [
       "False"
      ]
     },
     "execution_count": 40,
     "metadata": {},
     "output_type": "execute_result"
    }
   ],
   "source": [
    "True and False"
   ]
  },
  {
   "cell_type": "code",
   "execution_count": 41,
   "metadata": {},
   "outputs": [
    {
     "data": {
      "text/plain": [
       "True"
      ]
     },
     "execution_count": 41,
     "metadata": {},
     "output_type": "execute_result"
    }
   ],
   "source": [
    "True or False"
   ]
  },
  {
   "cell_type": "code",
   "execution_count": 42,
   "metadata": {},
   "outputs": [
    {
     "data": {
      "text/plain": [
       "True"
      ]
     },
     "execution_count": 42,
     "metadata": {},
     "output_type": "execute_result"
    }
   ],
   "source": [
    "False or True"
   ]
  },
  {
   "cell_type": "code",
   "execution_count": 43,
   "metadata": {},
   "outputs": [
    {
     "data": {
      "text/plain": [
       "True"
      ]
     },
     "execution_count": 43,
     "metadata": {},
     "output_type": "execute_result"
    }
   ],
   "source": [
    "not (False or False) "
   ]
  },
  {
   "cell_type": "markdown",
   "metadata": {},
   "source": [
    "Podemos combinar todos los tipos de operaciones anteriores para escribir expresiones más complejas. En ausencia de paréntesis, la mayor priorida la tienen las operación aritméticas, luego las de comparación, y finalmente las lógicas."
   ]
  },
  {
   "cell_type": "code",
   "execution_count": 44,
   "metadata": {},
   "outputs": [
    {
     "data": {
      "text/plain": [
       "True"
      ]
     },
     "execution_count": 44,
     "metadata": {},
     "output_type": "execute_result"
    }
   ],
   "source": [
    "(40 <= 2019 - 1978) and (2019 - 2015 <= 5)"
   ]
  }
 ],
 "metadata": {
  "kernelspec": {
   "display_name": "Python 3",
   "language": "python",
   "name": "python3"
  },
  "language_info": {
   "codemirror_mode": {
    "name": "ipython",
    "version": 3
   },
   "file_extension": ".py",
   "mimetype": "text/x-python",
   "name": "python",
   "nbconvert_exporter": "python",
   "pygments_lexer": "ipython3",
   "version": "3.7.4"
  }
 },
 "nbformat": 4,
 "nbformat_minor": 2
}
