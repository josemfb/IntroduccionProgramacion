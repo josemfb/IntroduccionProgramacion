{
 "cells": [
  {
   "cell_type": "markdown",
   "metadata": {},
   "source": [
    "# Clase 18. Listas (III)\n",
    "\n",
    "<p>\n",
    "<font size='5' face='Georgia, Arial'>IIC1103-07 Introducción a la Programación</font><br>\n",
    "<font size='2'>Jueves 10-Octubre-2019</font><br>\n",
    "<font size='2'>Contactos: Cristian Ruz, cruz@ing.puc.cl; Raúl Álvarez, rsalvarez@uc.cl</font>\n",
    "</p>\n"
   ]
  },
  {
   "cell_type": "markdown",
   "metadata": {},
   "source": [
    "## Ejercicio 1"
   ]
  },
  {
   "cell_type": "markdown",
   "metadata": {},
   "source": [
    "1. Escriba una función `devuelve3(lista)`, que reciba una lista de largo >= 1, y retorna otra lista con tres elementos: el primero, el del medio, y el último. Si es de largo, par utiliza cualquier de los \"del medio\""
   ]
  },
  {
   "cell_type": "code",
   "execution_count": 3,
   "metadata": {},
   "outputs": [
    {
     "name": "stdout",
     "output_type": "stream",
     "text": [
      "[4, 5, 6]\n",
      "[4, 6, 6]\n",
      "['Cristian', 'Marcos', 8]\n"
     ]
    }
   ],
   "source": [
    "def devuelve3(lista):\n",
    "\n",
    "    primero = lista[0]\n",
    "    ultimo = lista[len(lista)-1]\n",
    "    #ultimo = lista[-1]             # También sirve con esta línea.\n",
    "    pos_medio = len(lista) // 2\n",
    "    medio = lista[pos_medio]\n",
    "    \n",
    "    return [primero, medio, ultimo]\n",
    "\n",
    "\n",
    "## Este código no es parte de la respuesta. Es sólo para probar que la función está haciendo lo correcto (testing).\n",
    "lista1 = [4,6,8,9,2,3,4,5,6,9,1,0,3,5,6]\n",
    "print(devuelve3(lista1))\n",
    "lista2 = [4,6]\n",
    "print(devuelve3(lista2))\n",
    "lista3 = [\"Cristian\", \"Valeria\", \"Jorge\", \"José Tomás\", \"Felipe\", \"Alain\", \"Marcos\", \"Vicente\", 6, 7, 15, True, 8]\n",
    "print(devuelve3(lista3))"
   ]
  },
  {
   "cell_type": "markdown",
   "metadata": {},
   "source": [
    "**NOTA**. Algunos utilizaron `lista.pop(i)` en lugar de `lista[i]` para extraer un elemento. Si bien para este caso funcionaba, usar `pop(i)` no solo entrega el elemento en la posición `i`, sino que además lo **elimina** de la lista. Esto tiene el efecto colateral que estamos modificando la lista que entregamos como argumento.\n",
    "\n",
    "Por ejemplo:"
   ]
  },
  {
   "cell_type": "code",
   "execution_count": 4,
   "metadata": {},
   "outputs": [
    {
     "name": "stdout",
     "output_type": "stream",
     "text": [
      "Lista original: [4, 6, 8, 9, 2, 3, 4, 5, 6, 9, 1, 0, 3, 5, 6]\n",
      "[4, 5, 6]\n",
      "Lista original: [4, 6, 8, 9, 2, 3, 4, 5, 6, 9, 1, 0, 3, 5, 6]\n",
      "[4, 5, 6]\n",
      "Lista original: [6, 8, 9, 2, 3, 4, 6, 9, 1, 0, 3, 5]\n"
     ]
    }
   ],
   "source": [
    "# Versión \"mala\" del ejercicio\n",
    "def devuelve3_con_pop(lista):\n",
    "\n",
    "    primero = lista.pop(0)\n",
    "    ultimo = lista.pop()\n",
    "    pos_medio = len(lista) // 2\n",
    "    medio = lista.pop(pos_medio)\n",
    "    \n",
    "    return [primero, medio, ultimo]\n",
    "\n",
    "\n",
    "## Este código no es parte de la respuesta. Es sólo para probar que la función está haciendo lo correcto (testing).\n",
    "lista1 = [4,6,8,9,2,3,4,5,6,9,1,0,3,5,6]\n",
    "print(\"Lista original:\", lista1)\n",
    "print(devuelve3(lista1))\n",
    "print(\"Lista original:\", lista1)\n",
    "print(devuelve3_con_pop(lista1))\n",
    "print(\"Lista original:\", lista1)\n"
   ]
  },
  {
   "cell_type": "markdown",
   "metadata": {},
   "source": [
    "Podemos ver que al utilizar `lista[i]` estamos copiando el valor que hay en esa posición, pero la lista permanece igual. Cuando hacemos `lista.pop(i)` estamos además **modificando** la lista."
   ]
  },
  {
   "cell_type": "markdown",
   "metadata": {},
   "source": [
    "## Ejercicio 2 "
   ]
  },
  {
   "cell_type": "markdown",
   "metadata": {},
   "source": [
    "2. Escriba una función `mas_largo(lista)` que recibe una lista de _strings_ y retorna una lista con dos elementos: el string más largo, y su longitud."
   ]
  },
  {
   "cell_type": "code",
   "execution_count": 5,
   "metadata": {},
   "outputs": [
    {
     "name": "stdout",
     "output_type": "stream",
     "text": [
      "['José Tomás', 10]\n",
      "['Orange is the new black', 23]\n"
     ]
    }
   ],
   "source": [
    "def mas_largo(lista):\n",
    "    m = 0\n",
    "    for elemento in lista:\n",
    "        largo = len(elemento)\n",
    "        if largo > m:\n",
    "            m = largo\n",
    "            mas_largo = elemento\n",
    "            \n",
    "    return [mas_largo, m]\n",
    "\n",
    "## Este código no es parte de la respuesta. Es sólo para probar que la función está haciendo lo correcto (testing).\n",
    "lista1 = [\"Cristian\", \"Valeria\", \"Jorge\", \"José Tomás\", \"Felipe\", \"Alain\", \"Marcos\", \"Vicente\"]\n",
    "print(mas_largo(lista1))\n",
    "lista2 = ['Prison Break', 'Mindhunter', 'GOT', '31 minutos', '-', 'GOT', 'One Piece', 'Malcolm', 'H x H', 'Prison Break', 'Timetsu', 'GOT', 'GOT', 'El Barco', 'Dragon Ball', 'Breaking Bad', 'Unsolved', 'Orange is the new black', 'ST', \"Grey's Anatomy\", 'Boku No Hero', 'Brooklyn 99', \"Grey's Anatomy\", 'Limitless', 'Lie to me', 'Jojo', 'Breaking Bad', 'JJBA', 'No veo', 'GOT', 'No tengo :)', 'The Resident', 'One piece', 'Prison Break', 'Black Mirror', 'House of Cards', 'Once upon a time', 'Dr. House', 'Under the Dome', 'Friends', 'GOT', 'GOT', 'Elite', 'Doctor Who', 'No sé', 'Luke Cage (T1)', 'Flash', 'Malcolm', 'Malcolm', 'Prison Break', 'Rick and Morty', 'Breaking Bad', 'Station 19', 'Vis a Vis', 'Firends', 'Rick and Morty', 'GOT', 'Breaking Bad', 'Vikings', 'Black Mirror', 'Two', 'The Take']\n",
    "print(mas_largo(lista2))\n"
   ]
  },
  {
   "cell_type": "markdown",
   "metadata": {},
   "source": [
    "Hay varias maneras de resolver esto. Una alternativa es recorrer la lista buscando el _string_ más largo, y recordando cuál es el más largo que hemos visto hasta ahora, y su longitud, o su posición. Pero también pudimos haber recordado sólo el _string_ y posteriormente calcular su longitud."
   ]
  },
  {
   "cell_type": "code",
   "execution_count": 8,
   "metadata": {},
   "outputs": [
    {
     "name": "stdout",
     "output_type": "stream",
     "text": [
      "['José Tomás', 10]\n",
      "['José Tomás', 10]\n",
      "['Orange is the new black', 23]\n",
      "['Orange is the new black', 23]\n"
     ]
    }
   ],
   "source": [
    "def mas_largo_alt(lista):\n",
    "    m = 0\n",
    "    mas_largo = \"\"\n",
    "    for elemento in lista:\n",
    "        largo = len(elemento)\n",
    "        if largo > len(mas_largo):\n",
    "            mas_largo = elemento\n",
    "            \n",
    "    return [mas_largo, len(mas_largo)]\n",
    "\n",
    "## Este código no es parte de la respuesta. Es sólo para probar que la función está haciendo lo correcto (testing).\n",
    "lista1 = [\"Cristian\", \"Valeria\", \"Jorge\", \"José Tomás\", \"Felipe\", \"Alain\", \"Marcos\", \"Vicente\"]\n",
    "print(mas_largo(lista1))\n",
    "print(mas_largo_alt(lista1))\n",
    "lista2 = ['Prison Break', 'Mindhunter', 'GOT', '31 minutos', '-', 'GOT', 'One Piece', 'Malcolm', 'H x H', 'Prison Break', 'Timetsu', 'GOT', 'GOT', 'El Barco', 'Dragon Ball', 'Breaking Bad', 'Unsolved', 'Orange is the new black', 'ST', \"Grey's Anatomy\", 'Boku No Hero', 'Brooklyn 99', \"Grey's Anatomy\", 'Limitless', 'Lie to me', 'Jojo', 'Breaking Bad', 'JJBA', 'No veo', 'GOT', 'No tengo :)', 'The Resident', 'One piece', 'Prison Break', 'Black Mirror', 'House of Cards', 'Once upon a time', 'Dr. House', 'Under the Dome', 'Friends', 'GOT', 'GOT', 'Elite', 'Doctor Who', 'No sé', 'Luke Cage (T1)', 'Flash', 'Malcolm', 'Malcolm', 'Prison Break', 'Rick and Morty', 'Breaking Bad', 'Station 19', 'Vis a Vis', 'Firends', 'Rick and Morty', 'GOT', 'Breaking Bad', 'Vikings', 'Black Mirror', 'Two', 'The Take']\n",
    "print(mas_largo(lista2))\n",
    "print(mas_largo_alt(lista2))\n"
   ]
  },
  {
   "cell_type": "markdown",
   "metadata": {},
   "source": [
    "## Ejercicio 3"
   ]
  },
  {
   "cell_type": "markdown",
   "metadata": {},
   "source": [
    "3. Escriba una función `wrap(texto, k)`, que reciba un _string_ `texto` y un _int_ `k`. Retorna una lista de *strings*, donde cada *string* son los siguientes `k` caracteres de `texto`."
   ]
  },
  {
   "cell_type": "code",
   "execution_count": 14,
   "metadata": {},
   "outputs": [
    {
     "name": "stdout",
     "output_type": "stream",
     "text": [
      "Este pro\n",
      "blema es\n",
      " muy fác\n",
      "il. Por \n",
      "favor, p\n",
      "ónganme \n",
      "un desaf\n",
      "ío\n",
      "\n",
      "Este problema e\n",
      "s muy fácil. Po\n",
      "r favor, póngan\n",
      "me un desafío\n",
      "\n",
      "Este problema es muy\n",
      " fácil. Por favor, p\n",
      "ónganme un desafío\n",
      "\n",
      "Texto original:  Este problema es muy fácil. Por favor, pónganme un desafío\n"
     ]
    }
   ],
   "source": [
    "def wrap(texto, k):\n",
    "    resultado = []\n",
    "    while len(texto) > 0:             ## Mientras quede texto\n",
    "        cortado = texto[:k]           ## No modificamos el texto original, pero copiamos un trozo en \"cortado\"\n",
    "        resultado.append(cortado)\n",
    "        texto = texto[k:]             ## Aquí copiamos lo que quedó en otro lugar, y le llamamos \"texto\".\n",
    "                                      ## Esta variable 'texto' es distinta a la que usamos fuera de la función.\n",
    "    return resultado\n",
    "\n",
    "\n",
    "## Este código no es parte de la respuesta. Es sólo para probar que la función está haciendo lo correcto (testing).\n",
    "texto = \"Este problema es muy fácil. Por favor, pónganme un desafío\"\n",
    "lista = wrap(texto, 8)\n",
    "for e in lista:\n",
    "    print(e)\n",
    "print()\n",
    "\n",
    "lista = wrap(texto, 15)\n",
    "for e in lista:\n",
    "    print(e)\n",
    "print()\n",
    "\n",
    "lista = wrap(texto, 20)\n",
    "for e in lista:\n",
    "    print(e)\n",
    "print()\n",
    "\n",
    "## Atención, que nunca hemos modificado el texto original.\n",
    "print(\"Texto original: \", texto)"
   ]
  },
  {
   "cell_type": "markdown",
   "metadata": {},
   "source": [
    "Funciones de este tipo sirven para ajustar texto, por ejemplo dentro de una celda de una planilla de cálculo para que continúe en la línea de más abajo."
   ]
  },
  {
   "cell_type": "code",
   "execution_count": 15,
   "metadata": {},
   "outputs": [
    {
     "name": "stdout",
     "output_type": "stream",
     "text": [
      "Este pro\n",
      "blema es\n",
      " muy fác\n",
      "il. Por \n",
      "favor, p\n",
      "ónganme \n",
      "un desaf\n",
      "ío\n",
      "\n",
      "Este problema e\n",
      "s muy fácil. Po\n",
      "r favor, póngan\n",
      "me un desafío\n",
      "\n",
      "Este problema es muy\n",
      " fácil. Por favor, p\n",
      "ónganme un desafío\n",
      "\n",
      "Texto original:  Este problema es muy fácil. Por favor, pónganme un desafío\n"
     ]
    }
   ],
   "source": [
    "## Versión alternativa\n",
    "def wrap_alt(texto, k):\n",
    "    resultado = []\n",
    "    for i in range(0, len(texto), k):\n",
    "        resultado.append(texto[i:i+k])\n",
    "    return resultado\n",
    "\n",
    "\n",
    "## Este código no es parte de la respuesta. Es sólo para probar que la función está haciendo lo correcto (testing).\n",
    "texto = \"Este problema es muy fácil. Por favor, pónganme un desafío\"\n",
    "lista = wrap_alt(texto, 8)\n",
    "for e in lista:\n",
    "    print(e)\n",
    "print()\n",
    "\n",
    "lista = wrap_alt(texto, 15)\n",
    "for e in lista:\n",
    "    print(e)\n",
    "print()\n",
    "\n",
    "lista = wrap_alt(texto, 20)\n",
    "for e in lista:\n",
    "    print(e)\n",
    "print()\n",
    "\n",
    "## Atención, que nunca hemos modificado el texto original.\n",
    "print(\"Texto original: \", texto)"
   ]
  },
  {
   "cell_type": "markdown",
   "metadata": {},
   "source": [
    "## Ejercicio 4"
   ]
  },
  {
   "cell_type": "markdown",
   "metadata": {},
   "source": [
    "4. Escriba una función `mover(f1,c1,f2,c2,mapa)`, que recibe una lista de listas `mapa`, y cuatro enteros. La función intercambia el contenido de mapa en las posiciones `(f1,c1)` y `(f2,c2)`. Luego, imprime el mapa, con una lista por línea. Suponga que los valores de `f1`, `c1`, `f2`, y `c2`, son valores válidos."
   ]
  },
  {
   "cell_type": "code",
   "execution_count": 20,
   "metadata": {},
   "outputs": [
    {
     "name": "stdout",
     "output_type": "stream",
     "text": [
      "Intercambiando (0,0) con (0,0)\n",
      "[1, 2, 3, 4]\n",
      "[5, 6, 7, 8]\n",
      "[9, 0, 1, 2]\n",
      "[3, 4, 5, 6]\n",
      "\n",
      "Intercambiando (0,0) con (0,1)\n",
      "[2, 1, 3, 4]\n",
      "[5, 6, 7, 8]\n",
      "[9, 0, 1, 2]\n",
      "[3, 4, 5, 6]\n",
      "\n",
      "Intercambiando (2,3) con (1,1)\n",
      "[2, 1, 3, 4]\n",
      "[5, 2, 7, 8]\n",
      "[9, 0, 1, 6]\n",
      "[3, 4, 5, 6]\n",
      "\n",
      "Intercambiando (3,0) con (0,3)\n",
      "[2, 1, 3, 3]\n",
      "[5, 2, 7, 8]\n",
      "[9, 0, 1, 6]\n",
      "[4, 4, 5, 6]\n",
      "\n",
      "Intercambiando (0,0) con (0,0)\n",
      "['X', 'O', 'O', 'V', 'O']\n",
      "['O', 'O', 'O', 'O', 'O']\n",
      "['O', 'O', 'O', 'C', 'O']\n",
      "['T', 'O', 'O', 'O', 'O']\n",
      "['O', 'O', 'O', 'O', 'O']\n",
      "\n",
      "Intercambiando (0,0) con (0,1)\n",
      "['O', 'X', 'O', 'V', 'O']\n",
      "['O', 'O', 'O', 'O', 'O']\n",
      "['O', 'O', 'O', 'C', 'O']\n",
      "['T', 'O', 'O', 'O', 'O']\n",
      "['O', 'O', 'O', 'O', 'O']\n",
      "\n",
      "Intercambiando (2,3) con (1,1)\n",
      "['O', 'X', 'O', 'V', 'O']\n",
      "['O', 'C', 'O', 'O', 'O']\n",
      "['O', 'O', 'O', 'O', 'O']\n",
      "['T', 'O', 'O', 'O', 'O']\n",
      "['O', 'O', 'O', 'O', 'O']\n",
      "\n",
      "Intercambiando (3,0) con (0,3)\n",
      "['O', 'X', 'O', 'T', 'O']\n",
      "['O', 'C', 'O', 'O', 'O']\n",
      "['O', 'O', 'O', 'O', 'O']\n",
      "['V', 'O', 'O', 'O', 'O']\n",
      "['O', 'O', 'O', 'O', 'O']\n",
      "\n"
     ]
    }
   ],
   "source": [
    "def mover(f1, c1, f2, c2, mapa):\n",
    "    \n",
    "    # Este print no se pedía. Lo agrego para recordar qué estamos haciendo\n",
    "    print(\"Intercambiando\", \"(\"+str(f1)+\",\"+str(c1)+\")\", \"con\", \"(\"+str(f2)+\",\"+str(c2)+\")\")\n",
    "    \n",
    "    # Intercambia dos posiciones. Para intercambiar dos valores siempre necesitamos una variable temporal\n",
    "    temporal = mapa[f1][c1]\n",
    "    mapa[f1][c1] = mapa[f2][c2]\n",
    "    mapa[f2][c2] = temporal\n",
    "    \n",
    "    # Esta parte imprime el mapa, una línea por lista\n",
    "    for linea in mapa:\n",
    "        print(linea)\n",
    "    print()\n",
    "    \n",
    "\n",
    "mapa = [ [1,2,3,4], [5,6,7,8], [9,0,1,2], [3,4,5,6] ]\n",
    "mover(0,0,0,0,mapa)   ## Esto deja el mapa igual\n",
    "mover(0,0,0,1,mapa)   ## Esto intercambia (0,0) con (0,1)\n",
    "mover(2,3,1,1,mapa)   ## Esto intercambia (2,3) con (1,1)\n",
    "mover(3,0,0,3,mapa)   ## Esto intercambia (3,0) con (0,3)\n",
    "\n",
    "## Podemos escribir listas de listas de esta manera, o en una sola línea.\n",
    "## Hacerlo en varias líneas ayuda a visualizarlo si es bidimensional\n",
    "mapa = [ [\"X\",\"O\",\"O\",\"V\",\"O\"], \n",
    "         [\"O\",\"O\",\"O\",\"O\",\"O\"],\n",
    "         [\"O\",\"O\",\"O\",\"C\",\"O\"],\n",
    "         [\"T\",\"O\",\"O\",\"O\",\"O\"],\n",
    "         [\"O\",\"O\",\"O\",\"O\",\"O\"] ]\n",
    "\n",
    "mover(0,0,0,0,mapa)   ## Esto deja el mapa igual\n",
    "mover(0,0,0,1,mapa)   ## Esto intercambia (0,0) con (0,1)\n",
    "mover(2,3,1,1,mapa)   ## Esto intercambia (2,3) con (1,1)\n",
    "mover(3,0,0,3,mapa)   ## Esto intercambia (3,0) con (0,3)\n"
   ]
  },
  {
   "cell_type": "code",
   "execution_count": null,
   "metadata": {},
   "outputs": [],
   "source": []
  }
 ],
 "metadata": {
  "kernelspec": {
   "display_name": "Python 3",
   "language": "python",
   "name": "python3"
  },
  "language_info": {
   "codemirror_mode": {
    "name": "ipython",
    "version": 3
   },
   "file_extension": ".py",
   "mimetype": "text/x-python",
   "name": "python",
   "nbconvert_exporter": "python",
   "pygments_lexer": "ipython3",
   "version": "3.7.4"
  }
 },
 "nbformat": 4,
 "nbformat_minor": 2
}
